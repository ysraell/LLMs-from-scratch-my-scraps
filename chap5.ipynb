{
 "cells": [
  {
   "cell_type": "code",
   "execution_count": 2,
   "id": "55838330-9d6a-405b-82f8-95dcabab4897",
   "metadata": {
    "execution": {
     "iopub.execute_input": "2025-03-16T19:52:32.196471Z",
     "iopub.status.busy": "2025-03-16T19:52:32.195831Z",
     "iopub.status.idle": "2025-03-16T19:52:32.756747Z",
     "shell.execute_reply": "2025-03-16T19:52:32.756264Z",
     "shell.execute_reply.started": "2025-03-16T19:52:32.196426Z"
    }
   },
   "outputs": [
    {
     "data": {
      "text/plain": [
       "GPTModel(\n",
       "  (tok_emb): Embedding(50257, 768)\n",
       "  (pos_emb): Embedding(256, 768)\n",
       "  (drop_emb): Dropout(p=0.1, inplace=False)\n",
       "  (trf_blocks): Sequential(\n",
       "    (0): TransformerBlock(\n",
       "      (att): MultiHeadAttention(\n",
       "        (W_query): Linear(in_features=768, out_features=768, bias=False)\n",
       "        (W_key): Linear(in_features=768, out_features=768, bias=False)\n",
       "        (W_value): Linear(in_features=768, out_features=768, bias=False)\n",
       "        (out_proj): Linear(in_features=768, out_features=768, bias=True)\n",
       "        (dropout): Dropout(p=0.1, inplace=False)\n",
       "      )\n",
       "      (ff): FeedForward(\n",
       "        (layers): Sequential(\n",
       "          (0): Linear(in_features=768, out_features=3072, bias=True)\n",
       "          (1): GELU(approximate='tanh')\n",
       "          (2): Linear(in_features=3072, out_features=768, bias=True)\n",
       "        )\n",
       "      )\n",
       "      (norm1): LayerNorm()\n",
       "      (norm2): LayerNorm()\n",
       "      (drop_shortcut): Dropout(p=0.1, inplace=False)\n",
       "    )\n",
       "    (1): TransformerBlock(\n",
       "      (att): MultiHeadAttention(\n",
       "        (W_query): Linear(in_features=768, out_features=768, bias=False)\n",
       "        (W_key): Linear(in_features=768, out_features=768, bias=False)\n",
       "        (W_value): Linear(in_features=768, out_features=768, bias=False)\n",
       "        (out_proj): Linear(in_features=768, out_features=768, bias=True)\n",
       "        (dropout): Dropout(p=0.1, inplace=False)\n",
       "      )\n",
       "      (ff): FeedForward(\n",
       "        (layers): Sequential(\n",
       "          (0): Linear(in_features=768, out_features=3072, bias=True)\n",
       "          (1): GELU(approximate='tanh')\n",
       "          (2): Linear(in_features=3072, out_features=768, bias=True)\n",
       "        )\n",
       "      )\n",
       "      (norm1): LayerNorm()\n",
       "      (norm2): LayerNorm()\n",
       "      (drop_shortcut): Dropout(p=0.1, inplace=False)\n",
       "    )\n",
       "    (2): TransformerBlock(\n",
       "      (att): MultiHeadAttention(\n",
       "        (W_query): Linear(in_features=768, out_features=768, bias=False)\n",
       "        (W_key): Linear(in_features=768, out_features=768, bias=False)\n",
       "        (W_value): Linear(in_features=768, out_features=768, bias=False)\n",
       "        (out_proj): Linear(in_features=768, out_features=768, bias=True)\n",
       "        (dropout): Dropout(p=0.1, inplace=False)\n",
       "      )\n",
       "      (ff): FeedForward(\n",
       "        (layers): Sequential(\n",
       "          (0): Linear(in_features=768, out_features=3072, bias=True)\n",
       "          (1): GELU(approximate='tanh')\n",
       "          (2): Linear(in_features=3072, out_features=768, bias=True)\n",
       "        )\n",
       "      )\n",
       "      (norm1): LayerNorm()\n",
       "      (norm2): LayerNorm()\n",
       "      (drop_shortcut): Dropout(p=0.1, inplace=False)\n",
       "    )\n",
       "    (3): TransformerBlock(\n",
       "      (att): MultiHeadAttention(\n",
       "        (W_query): Linear(in_features=768, out_features=768, bias=False)\n",
       "        (W_key): Linear(in_features=768, out_features=768, bias=False)\n",
       "        (W_value): Linear(in_features=768, out_features=768, bias=False)\n",
       "        (out_proj): Linear(in_features=768, out_features=768, bias=True)\n",
       "        (dropout): Dropout(p=0.1, inplace=False)\n",
       "      )\n",
       "      (ff): FeedForward(\n",
       "        (layers): Sequential(\n",
       "          (0): Linear(in_features=768, out_features=3072, bias=True)\n",
       "          (1): GELU(approximate='tanh')\n",
       "          (2): Linear(in_features=3072, out_features=768, bias=True)\n",
       "        )\n",
       "      )\n",
       "      (norm1): LayerNorm()\n",
       "      (norm2): LayerNorm()\n",
       "      (drop_shortcut): Dropout(p=0.1, inplace=False)\n",
       "    )\n",
       "    (4): TransformerBlock(\n",
       "      (att): MultiHeadAttention(\n",
       "        (W_query): Linear(in_features=768, out_features=768, bias=False)\n",
       "        (W_key): Linear(in_features=768, out_features=768, bias=False)\n",
       "        (W_value): Linear(in_features=768, out_features=768, bias=False)\n",
       "        (out_proj): Linear(in_features=768, out_features=768, bias=True)\n",
       "        (dropout): Dropout(p=0.1, inplace=False)\n",
       "      )\n",
       "      (ff): FeedForward(\n",
       "        (layers): Sequential(\n",
       "          (0): Linear(in_features=768, out_features=3072, bias=True)\n",
       "          (1): GELU(approximate='tanh')\n",
       "          (2): Linear(in_features=3072, out_features=768, bias=True)\n",
       "        )\n",
       "      )\n",
       "      (norm1): LayerNorm()\n",
       "      (norm2): LayerNorm()\n",
       "      (drop_shortcut): Dropout(p=0.1, inplace=False)\n",
       "    )\n",
       "    (5): TransformerBlock(\n",
       "      (att): MultiHeadAttention(\n",
       "        (W_query): Linear(in_features=768, out_features=768, bias=False)\n",
       "        (W_key): Linear(in_features=768, out_features=768, bias=False)\n",
       "        (W_value): Linear(in_features=768, out_features=768, bias=False)\n",
       "        (out_proj): Linear(in_features=768, out_features=768, bias=True)\n",
       "        (dropout): Dropout(p=0.1, inplace=False)\n",
       "      )\n",
       "      (ff): FeedForward(\n",
       "        (layers): Sequential(\n",
       "          (0): Linear(in_features=768, out_features=3072, bias=True)\n",
       "          (1): GELU(approximate='tanh')\n",
       "          (2): Linear(in_features=3072, out_features=768, bias=True)\n",
       "        )\n",
       "      )\n",
       "      (norm1): LayerNorm()\n",
       "      (norm2): LayerNorm()\n",
       "      (drop_shortcut): Dropout(p=0.1, inplace=False)\n",
       "    )\n",
       "    (6): TransformerBlock(\n",
       "      (att): MultiHeadAttention(\n",
       "        (W_query): Linear(in_features=768, out_features=768, bias=False)\n",
       "        (W_key): Linear(in_features=768, out_features=768, bias=False)\n",
       "        (W_value): Linear(in_features=768, out_features=768, bias=False)\n",
       "        (out_proj): Linear(in_features=768, out_features=768, bias=True)\n",
       "        (dropout): Dropout(p=0.1, inplace=False)\n",
       "      )\n",
       "      (ff): FeedForward(\n",
       "        (layers): Sequential(\n",
       "          (0): Linear(in_features=768, out_features=3072, bias=True)\n",
       "          (1): GELU(approximate='tanh')\n",
       "          (2): Linear(in_features=3072, out_features=768, bias=True)\n",
       "        )\n",
       "      )\n",
       "      (norm1): LayerNorm()\n",
       "      (norm2): LayerNorm()\n",
       "      (drop_shortcut): Dropout(p=0.1, inplace=False)\n",
       "    )\n",
       "    (7): TransformerBlock(\n",
       "      (att): MultiHeadAttention(\n",
       "        (W_query): Linear(in_features=768, out_features=768, bias=False)\n",
       "        (W_key): Linear(in_features=768, out_features=768, bias=False)\n",
       "        (W_value): Linear(in_features=768, out_features=768, bias=False)\n",
       "        (out_proj): Linear(in_features=768, out_features=768, bias=True)\n",
       "        (dropout): Dropout(p=0.1, inplace=False)\n",
       "      )\n",
       "      (ff): FeedForward(\n",
       "        (layers): Sequential(\n",
       "          (0): Linear(in_features=768, out_features=3072, bias=True)\n",
       "          (1): GELU(approximate='tanh')\n",
       "          (2): Linear(in_features=3072, out_features=768, bias=True)\n",
       "        )\n",
       "      )\n",
       "      (norm1): LayerNorm()\n",
       "      (norm2): LayerNorm()\n",
       "      (drop_shortcut): Dropout(p=0.1, inplace=False)\n",
       "    )\n",
       "    (8): TransformerBlock(\n",
       "      (att): MultiHeadAttention(\n",
       "        (W_query): Linear(in_features=768, out_features=768, bias=False)\n",
       "        (W_key): Linear(in_features=768, out_features=768, bias=False)\n",
       "        (W_value): Linear(in_features=768, out_features=768, bias=False)\n",
       "        (out_proj): Linear(in_features=768, out_features=768, bias=True)\n",
       "        (dropout): Dropout(p=0.1, inplace=False)\n",
       "      )\n",
       "      (ff): FeedForward(\n",
       "        (layers): Sequential(\n",
       "          (0): Linear(in_features=768, out_features=3072, bias=True)\n",
       "          (1): GELU(approximate='tanh')\n",
       "          (2): Linear(in_features=3072, out_features=768, bias=True)\n",
       "        )\n",
       "      )\n",
       "      (norm1): LayerNorm()\n",
       "      (norm2): LayerNorm()\n",
       "      (drop_shortcut): Dropout(p=0.1, inplace=False)\n",
       "    )\n",
       "    (9): TransformerBlock(\n",
       "      (att): MultiHeadAttention(\n",
       "        (W_query): Linear(in_features=768, out_features=768, bias=False)\n",
       "        (W_key): Linear(in_features=768, out_features=768, bias=False)\n",
       "        (W_value): Linear(in_features=768, out_features=768, bias=False)\n",
       "        (out_proj): Linear(in_features=768, out_features=768, bias=True)\n",
       "        (dropout): Dropout(p=0.1, inplace=False)\n",
       "      )\n",
       "      (ff): FeedForward(\n",
       "        (layers): Sequential(\n",
       "          (0): Linear(in_features=768, out_features=3072, bias=True)\n",
       "          (1): GELU(approximate='tanh')\n",
       "          (2): Linear(in_features=3072, out_features=768, bias=True)\n",
       "        )\n",
       "      )\n",
       "      (norm1): LayerNorm()\n",
       "      (norm2): LayerNorm()\n",
       "      (drop_shortcut): Dropout(p=0.1, inplace=False)\n",
       "    )\n",
       "    (10): TransformerBlock(\n",
       "      (att): MultiHeadAttention(\n",
       "        (W_query): Linear(in_features=768, out_features=768, bias=False)\n",
       "        (W_key): Linear(in_features=768, out_features=768, bias=False)\n",
       "        (W_value): Linear(in_features=768, out_features=768, bias=False)\n",
       "        (out_proj): Linear(in_features=768, out_features=768, bias=True)\n",
       "        (dropout): Dropout(p=0.1, inplace=False)\n",
       "      )\n",
       "      (ff): FeedForward(\n",
       "        (layers): Sequential(\n",
       "          (0): Linear(in_features=768, out_features=3072, bias=True)\n",
       "          (1): GELU(approximate='tanh')\n",
       "          (2): Linear(in_features=3072, out_features=768, bias=True)\n",
       "        )\n",
       "      )\n",
       "      (norm1): LayerNorm()\n",
       "      (norm2): LayerNorm()\n",
       "      (drop_shortcut): Dropout(p=0.1, inplace=False)\n",
       "    )\n",
       "    (11): TransformerBlock(\n",
       "      (att): MultiHeadAttention(\n",
       "        (W_query): Linear(in_features=768, out_features=768, bias=False)\n",
       "        (W_key): Linear(in_features=768, out_features=768, bias=False)\n",
       "        (W_value): Linear(in_features=768, out_features=768, bias=False)\n",
       "        (out_proj): Linear(in_features=768, out_features=768, bias=True)\n",
       "        (dropout): Dropout(p=0.1, inplace=False)\n",
       "      )\n",
       "      (ff): FeedForward(\n",
       "        (layers): Sequential(\n",
       "          (0): Linear(in_features=768, out_features=3072, bias=True)\n",
       "          (1): GELU(approximate='tanh')\n",
       "          (2): Linear(in_features=3072, out_features=768, bias=True)\n",
       "        )\n",
       "      )\n",
       "      (norm1): LayerNorm()\n",
       "      (norm2): LayerNorm()\n",
       "      (drop_shortcut): Dropout(p=0.1, inplace=False)\n",
       "    )\n",
       "  )\n",
       "  (final_norm): LayerNorm()\n",
       "  (out_head): Linear(in_features=768, out_features=50257, bias=False)\n",
       ")"
      ]
     },
     "execution_count": 2,
     "metadata": {},
     "output_type": "execute_result"
    }
   ],
   "source": [
    "from chap4 import GPTModel, generate_text_simple\n",
    "import torch\n",
    "import tiktoken\n",
    "\n",
    "GPT_CONFIG_124M = {\n",
    "    \"vocab_size\": 50257,\n",
    "    \"context_length\": 256,    #1\n",
    "    \"emb_dim\": 768,\n",
    "    \"n_heads\": 12,\n",
    "    \"n_layers\": 12, \n",
    "    \"drop_rate\": 0.1,       #2\n",
    "    \"qkv_bias\": False\n",
    "}\n",
    "model = GPTModel(GPT_CONFIG_124M)\n",
    "model.eval()"
   ]
  },
  {
   "cell_type": "code",
   "execution_count": 3,
   "id": "e3ae9b4d-6df9-454c-ad4a-ba55b6c5dcda",
   "metadata": {
    "execution": {
     "iopub.execute_input": "2025-03-16T19:52:34.528256Z",
     "iopub.status.busy": "2025-03-16T19:52:34.527716Z",
     "iopub.status.idle": "2025-03-16T19:52:35.106538Z",
     "shell.execute_reply": "2025-03-16T19:52:35.106160Z",
     "shell.execute_reply.started": "2025-03-16T19:52:34.528214Z"
    }
   },
   "outputs": [
    {
     "name": "stdout",
     "output_type": "stream",
     "text": [
      "Output text:\n",
      " Every effort moves you awfully irresistibleaithactivelyateredasticallyollower reasoning Amendmentsmother\n"
     ]
    }
   ],
   "source": [
    "def text_to_token_ids(text, tokenizer):\n",
    "    encoded = tokenizer.encode(text, allowed_special={'<|endoftext|>'})\n",
    "    encoded_tensor = torch.tensor(encoded).unsqueeze(0)    #1\n",
    "    return encoded_tensor\n",
    "\n",
    "def token_ids_to_text(token_ids, tokenizer):\n",
    "    flat = token_ids.squeeze(0)                #2\n",
    "    return tokenizer.decode(flat.tolist())\n",
    "\n",
    "start_context = \"Every effort moves you\"\n",
    "tokenizer = tiktoken.get_encoding(\"gpt2\")\n",
    "\n",
    "token_ids = generate_text_simple(\n",
    "    model=model,\n",
    "    idx=text_to_token_ids(start_context, tokenizer),\n",
    "    max_new_tokens=10,\n",
    "    context_size=GPT_CONFIG_124M[\"context_length\"]\n",
    ")\n",
    "print(\"Output text:\\n\", token_ids_to_text(token_ids, tokenizer))"
   ]
  },
  {
   "cell_type": "markdown",
   "id": "a17c9db8-fb25-46b1-a39e-6c1e595e294e",
   "metadata": {},
   "source": [
    "# Not needed for train"
   ]
  },
  {
   "cell_type": "code",
   "execution_count": null,
   "id": "5f1f7a07-976a-4e37-8f2b-a998633449a0",
   "metadata": {},
   "outputs": [],
   "source": [
    "inputs = torch.tensor([[16833, 3626, 6100],   # [\"every effort moves\",\n",
    "                       [40,    1107, 588]])   #  \"I really like\"]"
   ]
  },
  {
   "cell_type": "code",
   "execution_count": null,
   "id": "7f318333-376c-4f74-98ed-8e389b7b5636",
   "metadata": {},
   "outputs": [],
   "source": [
    "targets = torch.tensor([[3626, 6100, 345  ],  # [\" effort moves you\",\n",
    "                        [1107, 588, 11311]])  #  \" really like chocolate\"]"
   ]
  },
  {
   "cell_type": "code",
   "execution_count": null,
   "id": "e8963733-13a1-4753-89cd-52b3ed89f3fc",
   "metadata": {},
   "outputs": [],
   "source": [
    "with torch.no_grad():     #1\n",
    "    logits = model(inputs)\n",
    "probas = torch.softmax(logits, dim=-1)     #2\n",
    "print(probas.shape)"
   ]
  },
  {
   "cell_type": "code",
   "execution_count": null,
   "id": "25d40bbf-80a6-434e-a920-e789f8bc1153",
   "metadata": {},
   "outputs": [],
   "source": [
    "token_ids = torch.argmax(probas, dim=-1, keepdim=True)\n",
    "print(\"Token IDs:\\n\", token_ids)"
   ]
  },
  {
   "cell_type": "code",
   "execution_count": null,
   "id": "d255da37-7b4f-4ec2-b4bc-5d931f087f5f",
   "metadata": {},
   "outputs": [],
   "source": [
    "print(f\"Targets batch 1: {token_ids_to_text(targets[0], tokenizer)}\")\n",
    "print(f\"Outputs batch 1:\"\n",
    "      f\" {token_ids_to_text(token_ids[0].flatten(), tokenizer)}\")"
   ]
  },
  {
   "cell_type": "code",
   "execution_count": null,
   "id": "fcce73de-9e38-434d-b225-88ecd7321b2a",
   "metadata": {},
   "outputs": [],
   "source": [
    "text_idx = 0\n",
    "target_probas_1 = probas[text_idx, [0, 1, 2], targets[text_idx]]\n",
    "print(\"Text 1:\", target_probas_1)\n",
    "\n",
    "text_idx = 1\n",
    "target_probas_2 = probas[text_idx, [0, 1, 2], targets[text_idx]]\n",
    "print(\"Text 2:\", target_probas_2)"
   ]
  },
  {
   "cell_type": "code",
   "execution_count": null,
   "id": "1aca2e06-685e-42f7-9c43-e29b09483e2e",
   "metadata": {},
   "outputs": [],
   "source": [
    "targets[text_idx]"
   ]
  },
  {
   "cell_type": "code",
   "execution_count": null,
   "id": "800ff5d9-3b88-4443-a312-3d008979a76f",
   "metadata": {},
   "outputs": [],
   "source": [
    "log_probas = torch.log(torch.cat((target_probas_1, target_probas_2)))\n",
    "print(log_probas)"
   ]
  },
  {
   "cell_type": "code",
   "execution_count": null,
   "id": "1fc321b0-1dab-4496-9afe-f3851a86f4fb",
   "metadata": {},
   "outputs": [],
   "source": [
    "avg_log_probas = torch.mean(log_probas)\n",
    "print(avg_log_probas)"
   ]
  },
  {
   "cell_type": "code",
   "execution_count": null,
   "id": "9e1e0bd1-72f7-4b2b-9282-0eac672d9e0c",
   "metadata": {},
   "outputs": [],
   "source": [
    "neg_avg_log_probas = -avg_log_probas\n",
    "print(neg_avg_log_probas)"
   ]
  },
  {
   "cell_type": "code",
   "execution_count": null,
   "id": "09141506-4ffb-4a98-bf40-008e72e63998",
   "metadata": {},
   "outputs": [],
   "source": [
    "print(\"Logits shape:\", logits.shape)\n",
    "print(\"Targets shape:\", targets.shape)"
   ]
  },
  {
   "cell_type": "code",
   "execution_count": null,
   "id": "7cb2546c-044f-45ce-b792-b0251e6dd2b9",
   "metadata": {},
   "outputs": [],
   "source": [
    "logits_flat = logits.flatten(0, 1)\n",
    "targets_flat = targets.flatten()\n",
    "print(\"Flattened logits:\", logits_flat.shape)\n",
    "print(\"Flattened targets:\", targets_flat.shape)"
   ]
  },
  {
   "cell_type": "code",
   "execution_count": null,
   "id": "43390a15-6d36-469f-835a-bb46eb3dbcce",
   "metadata": {},
   "outputs": [],
   "source": [
    "loss = torch.nn.functional.cross_entropy(logits_flat, targets_flat)\n",
    "print(loss)"
   ]
  },
  {
   "cell_type": "markdown",
   "id": "4da8e151-d8f5-4d70-8a21-392b58751a27",
   "metadata": {},
   "source": [
    "# Needed for train"
   ]
  },
  {
   "cell_type": "code",
   "execution_count": 4,
   "id": "01c2a1f9-3c7c-4652-a2ae-ab1579a9fc3e",
   "metadata": {
    "execution": {
     "iopub.execute_input": "2025-03-16T19:52:39.843255Z",
     "iopub.status.busy": "2025-03-16T19:52:39.842657Z",
     "iopub.status.idle": "2025-03-16T19:52:39.852595Z",
     "shell.execute_reply": "2025-03-16T19:52:39.851138Z",
     "shell.execute_reply.started": "2025-03-16T19:52:39.843203Z"
    }
   },
   "outputs": [],
   "source": [
    "file_path = \"the-verdict.txt\"\n",
    "with open(file_path, \"r\", encoding=\"utf-8\") as file:\n",
    "    text_data = file.read()"
   ]
  },
  {
   "cell_type": "code",
   "execution_count": 4,
   "id": "8f3be21d-33c1-4ee5-99d4-cb3f1df9754b",
   "metadata": {
    "execution": {
     "iopub.execute_input": "2025-03-16T14:26:47.913328Z",
     "iopub.status.busy": "2025-03-16T14:26:47.911949Z",
     "iopub.status.idle": "2025-03-16T14:26:47.924257Z",
     "shell.execute_reply": "2025-03-16T14:26:47.923102Z",
     "shell.execute_reply.started": "2025-03-16T14:26:47.913269Z"
    }
   },
   "outputs": [],
   "source": [
    "file_path = \"The_Mathematical_Principles_of_Natural_Philosophy_1729.txt\"\n",
    "with open(file_path, \"r\", encoding=\"utf-8\") as file:\n",
    "    text_data_ext = file.read()"
   ]
  },
  {
   "cell_type": "code",
   "execution_count": 5,
   "id": "59252a41-2c25-4221-be7d-abdc4c113917",
   "metadata": {
    "execution": {
     "iopub.execute_input": "2025-03-16T19:52:43.090373Z",
     "iopub.status.busy": "2025-03-16T19:52:43.089848Z",
     "iopub.status.idle": "2025-03-16T19:52:43.104909Z",
     "shell.execute_reply": "2025-03-16T19:52:43.102922Z",
     "shell.execute_reply.started": "2025-03-16T19:52:43.090328Z"
    }
   },
   "outputs": [
    {
     "name": "stdout",
     "output_type": "stream",
     "text": [
      "Characters: 20,479\n",
      "Tokens: 5,145\n"
     ]
    }
   ],
   "source": [
    "total_characters = len(text_data)\n",
    "total_tokens = len(tokenizer.encode(text_data))\n",
    "print(\"Characters: {:,}\".format(total_characters))\n",
    "print(\"Tokens: {:,}\".format(total_tokens))"
   ]
  },
  {
   "cell_type": "code",
   "execution_count": 6,
   "id": "23f9329e-4a0d-499f-ab41-d66bc373363d",
   "metadata": {
    "execution": {
     "iopub.execute_input": "2025-03-16T14:26:48.646837Z",
     "iopub.status.busy": "2025-03-16T14:26:48.645776Z",
     "iopub.status.idle": "2025-03-16T14:26:48.703539Z",
     "shell.execute_reply": "2025-03-16T14:26:48.703138Z",
     "shell.execute_reply.started": "2025-03-16T14:26:48.646790Z"
    }
   },
   "outputs": [
    {
     "name": "stdout",
     "output_type": "stream",
     "text": [
      "Characters: 1,267,243\n",
      "Tokens: 305,119\n"
     ]
    }
   ],
   "source": [
    "total_characters = len(text_data_ext)\n",
    "total_tokens = len(tokenizer.encode(text_data_ext))\n",
    "print(\"Characters: {:,}\".format(total_characters))\n",
    "print(\"Tokens: {:,}\".format(total_tokens))"
   ]
  },
  {
   "cell_type": "code",
   "execution_count": 6,
   "id": "a6f442c0-6eeb-446b-b388-13b10d8202f0",
   "metadata": {
    "execution": {
     "iopub.execute_input": "2025-03-16T19:53:01.388659Z",
     "iopub.status.busy": "2025-03-16T19:53:01.388099Z",
     "iopub.status.idle": "2025-03-16T19:53:01.395742Z",
     "shell.execute_reply": "2025-03-16T19:53:01.394540Z",
     "shell.execute_reply.started": "2025-03-16T19:53:01.388613Z"
    }
   },
   "outputs": [],
   "source": [
    "train_ratio = 0.80\n",
    "split_idx = int(train_ratio * len(text_data))\n",
    "train_data = text_data[:split_idx]\n",
    "val_data = text_data[split_idx:]"
   ]
  },
  {
   "cell_type": "code",
   "execution_count": 7,
   "id": "c347c33e-e167-4d5c-aa86-9c7b43564234",
   "metadata": {
    "execution": {
     "iopub.execute_input": "2025-03-16T14:26:50.437694Z",
     "iopub.status.busy": "2025-03-16T14:26:50.437157Z",
     "iopub.status.idle": "2025-03-16T14:26:50.445777Z",
     "shell.execute_reply": "2025-03-16T14:26:50.444683Z",
     "shell.execute_reply.started": "2025-03-16T14:26:50.437635Z"
    }
   },
   "outputs": [],
   "source": [
    "train_ratio = 0.70\n",
    "split_idx = int(train_ratio * len(text_data_ext))\n",
    "train_data += text_data_ext[:split_idx]\n",
    "val_data += text_data_ext[split_idx:]"
   ]
  },
  {
   "cell_type": "code",
   "execution_count": 7,
   "id": "4d495787-9e79-42e2-8b03-fa0e31daf353",
   "metadata": {
    "execution": {
     "iopub.execute_input": "2025-03-16T19:53:05.991362Z",
     "iopub.status.busy": "2025-03-16T19:53:05.990782Z",
     "iopub.status.idle": "2025-03-16T19:53:06.008609Z",
     "shell.execute_reply": "2025-03-16T19:53:06.007058Z",
     "shell.execute_reply.started": "2025-03-16T19:53:05.991313Z"
    }
   },
   "outputs": [],
   "source": [
    "from chap2 import create_dataloader_v1\n",
    "\n",
    "batch_size = 2\n",
    "\n",
    "train_loader = create_dataloader_v1(\n",
    "    train_data,\n",
    "    batch_size=batch_size,\n",
    "    max_length=GPT_CONFIG_124M[\"context_length\"],\n",
    "    stride=GPT_CONFIG_124M[\"context_length\"],\n",
    "    drop_last=True,\n",
    "    shuffle=True,\n",
    "    num_workers=0\n",
    ")\n",
    "val_loader = create_dataloader_v1(\n",
    "    val_data,\n",
    "    batch_size=batch_size,\n",
    "    max_length=GPT_CONFIG_124M[\"context_length\"],\n",
    "    stride=GPT_CONFIG_124M[\"context_length\"],\n",
    "    drop_last=False,\n",
    "    shuffle=False,\n",
    "    num_workers=0\n",
    ")"
   ]
  },
  {
   "cell_type": "code",
   "execution_count": 8,
   "id": "b0a67781-674c-48ce-ad6d-81ea28b8a1b7",
   "metadata": {
    "execution": {
     "iopub.execute_input": "2025-03-16T19:53:06.384318Z",
     "iopub.status.busy": "2025-03-16T19:53:06.383769Z",
     "iopub.status.idle": "2025-03-16T19:53:06.392195Z",
     "shell.execute_reply": "2025-03-16T19:53:06.390405Z",
     "shell.execute_reply.started": "2025-03-16T19:53:06.384271Z"
    }
   },
   "outputs": [
    {
     "name": "stdout",
     "output_type": "stream",
     "text": [
      "Train loader size: 2\n",
      "Validation loader size: 2\n"
     ]
    }
   ],
   "source": [
    "print(\"Train loader size: {:,}\".format(len(val_loader)))\n",
    "\n",
    "print(\"Validation loader size: {:,}\".format(len(val_loader)))"
   ]
  },
  {
   "cell_type": "code",
   "execution_count": 9,
   "id": "00163d2d-76cd-4676-b343-67ae4c06cf5f",
   "metadata": {
    "execution": {
     "iopub.execute_input": "2025-03-16T19:53:06.714773Z",
     "iopub.status.busy": "2025-03-16T19:53:06.714266Z",
     "iopub.status.idle": "2025-03-16T19:53:06.720963Z",
     "shell.execute_reply": "2025-03-16T19:53:06.719687Z",
     "shell.execute_reply.started": "2025-03-16T19:53:06.714732Z"
    }
   },
   "outputs": [],
   "source": [
    "def calc_loss_batch(input_batch, target_batch, model, device):\n",
    "    input_batch = input_batch.to(device)         #1\n",
    "    target_batch = target_batch.to(device)      \n",
    "    logits = model(input_batch)\n",
    "    loss = torch.nn.functional.cross_entropy(\n",
    "        logits.flatten(0, 1), target_batch.flatten()\n",
    "    )\n",
    "    return loss"
   ]
  },
  {
   "cell_type": "code",
   "execution_count": 10,
   "id": "65838d7b-5fff-45c4-98b1-6c01ab190edb",
   "metadata": {
    "execution": {
     "iopub.execute_input": "2025-03-16T19:53:07.234422Z",
     "iopub.status.busy": "2025-03-16T19:53:07.233898Z",
     "iopub.status.idle": "2025-03-16T19:53:07.241987Z",
     "shell.execute_reply": "2025-03-16T19:53:07.240222Z",
     "shell.execute_reply.started": "2025-03-16T19:53:07.234379Z"
    }
   },
   "outputs": [],
   "source": [
    "def calc_loss_loader(data_loader, model, device, num_batches=None):\n",
    "    total_loss = 0.\n",
    "    if len(data_loader) == 0:\n",
    "        return float(\"nan\")\n",
    "    elif num_batches is None:\n",
    "        num_batches = len(data_loader)     #1\n",
    "    else:\n",
    "        num_batches = min(num_batches, len(data_loader))   #2\n",
    "    for i, (input_batch, target_batch) in enumerate(data_loader):\n",
    "        if i < num_batches:\n",
    "            loss = calc_loss_batch(\n",
    "                input_batch, target_batch, model, device\n",
    "            )\n",
    "            total_loss += loss.item()    #3\n",
    "        else:\n",
    "            break\n",
    "    return total_loss / num_batches    #4"
   ]
  },
  {
   "cell_type": "code",
   "execution_count": 11,
   "id": "caa1263d-36ea-4beb-b24f-1706e1df8b35",
   "metadata": {
    "execution": {
     "iopub.execute_input": "2025-03-16T19:53:07.517826Z",
     "iopub.status.busy": "2025-03-16T19:53:07.517325Z",
     "iopub.status.idle": "2025-03-16T19:53:07.525302Z",
     "shell.execute_reply": "2025-03-16T19:53:07.523715Z",
     "shell.execute_reply.started": "2025-03-16T19:53:07.517786Z"
    }
   },
   "outputs": [],
   "source": [
    "# device = torch.device(\"cuda\" if torch.cuda.is_available() else \"cpu\")\n",
    "# model.to(device)   #1\n",
    "# with torch.no_grad():                                        #2\n",
    "#     train_loss = calc_loss_loader(train_loader, model, device)    #3\n",
    "#     val_loss = calc_loss_loader(val_loader, model, device)\n",
    "# print(\"Training loss:\", train_loss)\n",
    "# print(\"Validation loss:\", val_loss)"
   ]
  },
  {
   "cell_type": "code",
   "execution_count": 12,
   "id": "412dc7d5-62f3-4c6c-9557-a1f41c340f70",
   "metadata": {
    "execution": {
     "iopub.execute_input": "2025-03-16T19:53:07.831545Z",
     "iopub.status.busy": "2025-03-16T19:53:07.830946Z",
     "iopub.status.idle": "2025-03-16T19:53:07.843110Z",
     "shell.execute_reply": "2025-03-16T19:53:07.841667Z",
     "shell.execute_reply.started": "2025-03-16T19:53:07.831497Z"
    }
   },
   "outputs": [],
   "source": [
    "def evaluate_model(model, train_loader, val_loader, device, eval_iter):\n",
    "    model.eval()  #1\n",
    "    with torch.no_grad():                              #2\n",
    "        train_loss = calc_loss_loader(\n",
    "            train_loader, model, device, num_batches=eval_iter\n",
    "        )\n",
    "        val_loss = calc_loss_loader(\n",
    "            val_loader, model, device, num_batches=eval_iter\n",
    "        )\n",
    "    model.train()\n",
    "    return train_loss, val_loss\n",
    "\n",
    "def generate_and_print_sample(model, tokenizer, device, start_context):\n",
    "    model.eval()\n",
    "    context_size = model.pos_emb.weight.shape[0]\n",
    "    encoded = text_to_token_ids(start_context, tokenizer).to(device)\n",
    "    with torch.no_grad():\n",
    "        token_ids = generate_text_simple(\n",
    "            model=model, idx=encoded,\n",
    "            max_new_tokens=50, context_size=context_size\n",
    "        )\n",
    "    decoded_text = token_ids_to_text(token_ids, tokenizer)\n",
    "    print(decoded_text.replace(\"\\n\", \" \"))      #1\n",
    "    model.train()\n",
    "\n",
    "\n",
    "def train_model_simple(model, train_loader, val_loader,\n",
    "                       optimizer, device, num_epochs,\n",
    "                       eval_freq, eval_iter, start_context, tokenizer):\n",
    "    train_losses, val_losses, track_tokens_seen = [], [], []    #1\n",
    "    tokens_seen, global_step = 0, -1\n",
    "\n",
    "    try:\n",
    "        for epoch in range(num_epochs):    #2\n",
    "            model.train()\n",
    "            for input_batch, target_batch in train_loader:\n",
    "                optimizer.zero_grad()   #3\n",
    "                loss = calc_loss_batch(\n",
    "                    input_batch, target_batch, model, device\n",
    "                )\n",
    "                loss.backward()                     #4\n",
    "                optimizer.step()                    #5\n",
    "                tokens_seen += input_batch.numel()\n",
    "                global_step += 1\n",
    "    \n",
    "                if global_step % eval_freq == 0:    #6\n",
    "                    train_loss, val_loss = evaluate_model(\n",
    "                        model, train_loader, val_loader, device, eval_iter)\n",
    "                    train_losses.append(train_loss)\n",
    "                    val_losses.append(val_loss)\n",
    "                    track_tokens_seen.append(tokens_seen)\n",
    "                    print(f\"Ep {epoch+1} (Step {global_step:06d}): \"\n",
    "                          f\"Train loss {train_loss:.3f}, \"\n",
    "                          f\"Val loss {val_loss:.3f}\"\n",
    "                    )\n",
    "    \n",
    "            generate_and_print_sample(                      #7\n",
    "                model, tokenizer, device, start_context\n",
    "            )\n",
    "    except KeyboardInterrupt:\n",
    "        print('Process interrupted.')\n",
    "    return train_losses, val_losses, track_tokens_seen"
   ]
  },
  {
   "cell_type": "code",
   "execution_count": 13,
   "id": "2c2f28a9-afbd-40ad-9cb3-2362fc4f560c",
   "metadata": {
    "execution": {
     "iopub.execute_input": "2025-03-16T19:53:08.103827Z",
     "iopub.status.busy": "2025-03-16T19:53:08.103316Z",
     "iopub.status.idle": "2025-03-16T19:53:10.223407Z",
     "shell.execute_reply": "2025-03-16T19:53:10.222972Z",
     "shell.execute_reply.started": "2025-03-16T19:53:08.103784Z"
    }
   },
   "outputs": [],
   "source": [
    "device = torch.device(\"cuda\" if torch.cuda.is_available() else \"cpu\")\n",
    "model = GPTModel(GPT_CONFIG_124M)\n",
    "model.to(device)\n",
    "optimizer = torch.optim.AdamW(\n",
    "     model.parameters(),           #1\n",
    "    lr=0.0004, weight_decay=0.1\n",
    ")"
   ]
  },
  {
   "cell_type": "code",
   "execution_count": 14,
   "id": "d50dce47-215b-46f7-8004-70b46ddcf54f",
   "metadata": {
    "execution": {
     "iopub.execute_input": "2025-03-16T19:53:10.224043Z",
     "iopub.status.busy": "2025-03-16T19:53:10.223876Z",
     "iopub.status.idle": "2025-03-16T19:56:46.627593Z",
     "shell.execute_reply": "2025-03-16T19:56:46.626997Z",
     "shell.execute_reply.started": "2025-03-16T19:53:10.224033Z"
    }
   },
   "outputs": [
    {
     "name": "stdout",
     "output_type": "stream",
     "text": [
      "Ep 1 (Step 000000): Train loss 9.629, Val loss 9.976\n",
      "Ep 1 (Step 000005): Train loss 7.950, Val loss 8.311\n",
      "Every effort moves you, the, the the, the, the,, the, the, the, the, the, the the, the the, the, the, the the, the, the, the, the the, the the the, the, the\n",
      "Ep 2 (Step 000010): Train loss 6.555, Val loss 7.242\n",
      "Ep 2 (Step 000015): Train loss 5.995, Val loss 6.876\n",
      "Every effort moves you, and, and, and, and, and, the, the, and, and, and, the, and, and, and, the, the, and, and, and, and, the, the, the, and, and\n",
      "Ep 3 (Step 000020): Train loss 5.760, Val loss 6.861\n",
      "Every effort moves you, and, the--                                             \n",
      "Ep 4 (Step 000025): Train loss 5.552, Val loss 6.892\n",
      "Ep 4 (Step 000030): Train loss 5.311, Val loss 6.926\n",
      "Every effort moves you.                                                 \n",
      "Ep 5 (Step 000035): Train loss 4.792, Val loss 6.852\n",
      "Every effort moves you to the--and of the picture of the \" of the of the \" of the \" of the--and the \" of the.             \" of the's the the--\"Oh to\n",
      "Ep 6 (Step 000040): Train loss 4.380, Val loss 6.762\n",
      "Ep 6 (Step 000045): Train loss 3.722, Val loss 6.679\n",
      "Every effort moves you know to have to have the picture.  \"Oh, I had been.   \"Oh, in the the. I was his pictures--as Jack's I had been the. I had been the \"strong--as I was\n",
      "Ep 7 (Step 000050): Train loss 3.450, Val loss 6.651\n",
      "Ep 7 (Step 000055): Train loss 2.928, Val loss 6.645\n",
      "Every effort moves you know to see his pictures--I glanced after him, so inevitably the picture--and it--the a little of the fact, and he was just of the Riv a little, as a little it, I had been the \"Be dissatisfied of his\n",
      "Ep 8 (Step 000060): Train loss 2.374, Val loss 6.619\n",
      "Every effort moves you know to work on a little, as it were, a good-century--and it was not to me to the an unusual degree to the display of Jack's Jack himself, as a--the of the picture.     \"\n",
      "Ep 9 (Step 000065): Train loss 1.971, Val loss 6.656\n",
      "Ep 9 (Step 000070): Train loss 1.519, Val loss 6.698\n",
      "Every effort moves you in the inevitable gar--as, as it were, so inevitably the background of her own picture--had lent herself in an unusual degree to the display of Jack's head to have been--it was one of Jack's \"strongest,\" as his\n",
      "Ep 10 (Step 000075): Train loss 1.280, Val loss 6.768\n",
      "Every effort moves you?\"     I glanced after him, struck by his last word.          \", and threw back his head to me. \"It's his ridiculous modesty, the bull--that I found\n",
      "Ep 11 (Step 000080): Train loss 0.875, Val loss 6.830\n",
      "Ep 11 (Step 000085): Train loss 0.637, Val loss 6.918\n",
      "Every effort moves you?\"  \"Yes--quite insensible to the irony. Gisburn. Gisburn's an awful simpleton, you know, and threw back his head to look up at the sketch of the donkey. \"There were days when I\n",
      "Ep 12 (Step 000090): Train loss 0.493, Val loss 7.009\n",
      "Ep 12 (Step 000095): Train loss 0.406, Val loss 7.147\n",
      "Every effort moves you?\"     I glanced after him, struck by his last word.                                 \n",
      "Ep 13 (Step 000100): Train loss 0.278, Val loss 7.234\n",
      "Every effort moves you?\"  \"Yes--quite insensible to the irony.  \"Oh, he never thought of anything else.  \"Oh, and back his head to look up at the sketch of the donkey. \"There were days when I\n",
      "Ep 14 (Step 000105): Train loss 0.247, Val loss 7.270\n",
      "Ep 14 (Step 000110): Train loss 0.213, Val loss 7.309\n",
      "Every effort moves you?\"     I glanced after him, struck by his last word.        He laughed again, and threw back his head to look up at the sketch of the donkey. \"There were days when I\n",
      "Ep 15 (Step 000115): Train loss 0.177, Val loss 7.327\n",
      "Every effort moves you?\"  \"Yes--quite insensible to the irony. She wanted him vindicated--and by me!\"                           \n",
      "Ep 16 (Step 000120): Train loss 0.137, Val loss 7.411\n",
      "Ep 16 (Step 000125): Train loss 0.132, Val loss 7.487\n",
      "Every effort moves you?\"  \"Yes--quite insensible to the irony. She wanted him vindicated--and by me!\"  He laughed again, and threw back his head to look up at the sketch of the donkey. \"There were days when I\n",
      "Ep 17 (Step 000130): Train loss 0.123, Val loss 7.499\n",
      "Ep 17 (Step 000135): Train loss 0.082, Val loss 7.577\n",
      "Every effort moves you?\"  \"Yes--quite insensible to the irony. She wanted him vindicated--and by me!\"  He laughed again, and threw back his head to look up at the sketch of the donkey. \"There were days when I\n",
      "Ep 18 (Step 000140): Train loss 0.080, Val loss 7.593\n",
      "Every effort moves you?\"  \"Yes--quite insensible to the irony. She wanted him vindicated--and by me!\"  He laughed again, and threw back his head to look up at the sketch of the donkey. \"There were days when I\n",
      "Ep 19 (Step 000145): Train loss 0.062, Val loss 7.627\n",
      "Ep 19 (Step 000150): Train loss 0.051, Val loss 7.672\n",
      "Every effort moves you?\"  \"Yes--quite insensible to the irony. She wanted him vindicated--and by me!\"  He laughed again, and threw back his head to look up at the sketch of the donkey. \"There were days when I\n",
      "Ep 20 (Step 000155): Train loss 0.050, Val loss 7.676\n",
      "Every effort moves you?\"  \"Yes--quite insensible to the irony. She wanted him vindicated--and by me!\"  He laughed again, and threw back his head to look up at the sketch of the donkey. \"There were days when I\n"
     ]
    }
   ],
   "source": [
    "num_epochs = 20\n",
    "train_losses, val_losses, tokens_seen = train_model_simple(\n",
    "    model, train_loader, val_loader, optimizer, device,\n",
    "    num_epochs=num_epochs, eval_freq=5, eval_iter=5,\n",
    "    start_context=\"Every effort moves you\", tokenizer=tokenizer\n",
    ")"
   ]
  },
  {
   "cell_type": "code",
   "execution_count": 15,
   "id": "ead762fc-d920-49a4-827e-1c6fbe4992ff",
   "metadata": {
    "execution": {
     "iopub.execute_input": "2025-03-16T19:56:46.628306Z",
     "iopub.status.busy": "2025-03-16T19:56:46.628217Z",
     "iopub.status.idle": "2025-03-16T19:56:47.122538Z",
     "shell.execute_reply": "2025-03-16T19:56:47.122266Z",
     "shell.execute_reply.started": "2025-03-16T19:56:46.628298Z"
    }
   },
   "outputs": [
    {
     "data": {
      "image/png": "[encoded data removed]",
      "text/plain": [
       "<Figure size 500x300 with 2 Axes>"
      ]
     },
     "metadata": {},
     "output_type": "display_data"
    }
   ],
   "source": [
    "import matplotlib.pyplot as plt\n",
    "from matplotlib.ticker import MaxNLocator\n",
    "def plot_losses(epochs_seen, tokens_seen, train_losses, val_losses):\n",
    "    fig, ax1 = plt.subplots(figsize=(5, 3))\n",
    "    ax1.plot(epochs_seen, train_losses, label=\"Training loss\")\n",
    "    ax1.plot(\n",
    "        epochs_seen, val_losses, linestyle=\"-.\", label=\"Validation loss\"\n",
    "    )\n",
    "    ax1.set_xlabel(\"Epochs\")\n",
    "    ax1.set_ylabel(\"Loss\")\n",
    "    ax1.legend(loc=\"upper right\")\n",
    "    ax1.xaxis.set_major_locator(MaxNLocator(integer=True))\n",
    "    ax2 = ax1.twiny()                   #1\n",
    "    ax2.plot(tokens_seen, train_losses, alpha=0)     #2\n",
    "    ax2.set_xlabel(\"Tokens seen\")\n",
    "    fig.tight_layout()\n",
    "    plt.show()\n",
    "\n",
    "epochs_tensor = torch.linspace(0, num_epochs, len(train_losses))\n",
    "plot_losses(epochs_tensor, tokens_seen, train_losses, val_losses)"
   ]
  },
  {
   "cell_type": "code",
   "execution_count": 17,
   "id": "c448d784-0c51-4845-b29c-64dbe07547e3",
   "metadata": {
    "execution": {
     "iopub.execute_input": "2025-03-16T19:59:25.091246Z",
     "iopub.status.busy": "2025-03-16T19:59:25.090664Z",
     "iopub.status.idle": "2025-03-16T19:59:25.100532Z",
     "shell.execute_reply": "2025-03-16T19:59:25.099366Z",
     "shell.execute_reply.started": "2025-03-16T19:59:25.091198Z"
    }
   },
   "outputs": [
    {
     "data": {
      "text/plain": [
       "6.619302749633789"
      ]
     },
     "execution_count": 17,
     "metadata": {},
     "output_type": "execute_result"
    }
   ],
   "source": [
    "min(val_losses)"
   ]
  },
  {
   "cell_type": "code",
   "execution_count": 22,
   "id": "dc3dfbbf-269c-4e6a-8918-dcf09232f49b",
   "metadata": {
    "execution": {
     "iopub.execute_input": "2025-03-16T20:00:16.138780Z",
     "iopub.status.busy": "2025-03-16T20:00:16.138269Z",
     "iopub.status.idle": "2025-03-16T20:00:16.148634Z",
     "shell.execute_reply": "2025-03-16T20:00:16.147480Z",
     "shell.execute_reply.started": "2025-03-16T20:00:16.138740Z"
    }
   },
   "outputs": [
    {
     "data": {
      "text/plain": [
       "3"
      ]
     },
     "execution_count": 22,
     "metadata": {},
     "output_type": "execute_result"
    }
   ],
   "source": [
    "count_smallest_losses = int(len(val_losses)*0.10)\n",
    "count_smallest_losses"
   ]
  },
  {
   "cell_type": "code",
   "execution_count": 23,
   "id": "a8e6956e-8df0-4a64-845c-0b8bea8d59f3",
   "metadata": {
    "execution": {
     "iopub.execute_input": "2025-03-16T20:00:18.538463Z",
     "iopub.status.busy": "2025-03-16T20:00:18.537937Z",
     "iopub.status.idle": "2025-03-16T20:00:18.551352Z",
     "shell.execute_reply": "2025-03-16T20:00:18.550249Z",
     "shell.execute_reply.started": "2025-03-16T20:00:18.538423Z"
    }
   },
   "outputs": [
    {
     "data": {
      "text/plain": [
       "tensor(6.6384)"
      ]
     },
     "execution_count": 23,
     "metadata": {},
     "output_type": "execute_result"
    }
   ],
   "source": [
    "torch.tensor(sorted(val_losses)[:count_smallest_losses]).mean()"
   ]
  },
  {
   "cell_type": "code",
   "execution_count": 24,
   "id": "965f5de8-00d0-4cce-b547-17f4df77ad35",
   "metadata": {
    "execution": {
     "iopub.execute_input": "2025-03-16T20:10:28.558885Z",
     "iopub.status.busy": "2025-03-16T20:10:28.558381Z",
     "iopub.status.idle": "2025-03-16T20:10:28.979521Z",
     "shell.execute_reply": "2025-03-16T20:10:28.978985Z",
     "shell.execute_reply.started": "2025-03-16T20:10:28.558841Z"
    }
   },
   "outputs": [
    {
     "data": {
      "text/plain": [
       "GPTModel(\n",
       "  (tok_emb): Embedding(50257, 768)\n",
       "  (pos_emb): Embedding(256, 768)\n",
       "  (drop_emb): Dropout(p=0.1, inplace=False)\n",
       "  (trf_blocks): Sequential(\n",
       "    (0): TransformerBlock(\n",
       "      (att): MultiHeadAttention(\n",
       "        (W_query): Linear(in_features=768, out_features=768, bias=False)\n",
       "        (W_key): Linear(in_features=768, out_features=768, bias=False)\n",
       "        (W_value): Linear(in_features=768, out_features=768, bias=False)\n",
       "        (out_proj): Linear(in_features=768, out_features=768, bias=True)\n",
       "        (dropout): Dropout(p=0.1, inplace=False)\n",
       "      )\n",
       "      (ff): FeedForward(\n",
       "        (layers): Sequential(\n",
       "          (0): Linear(in_features=768, out_features=3072, bias=True)\n",
       "          (1): GELU(approximate='tanh')\n",
       "          (2): Linear(in_features=3072, out_features=768, bias=True)\n",
       "        )\n",
       "      )\n",
       "      (norm1): LayerNorm()\n",
       "      (norm2): LayerNorm()\n",
       "      (drop_shortcut): Dropout(p=0.1, inplace=False)\n",
       "    )\n",
       "    (1): TransformerBlock(\n",
       "      (att): MultiHeadAttention(\n",
       "        (W_query): Linear(in_features=768, out_features=768, bias=False)\n",
       "        (W_key): Linear(in_features=768, out_features=768, bias=False)\n",
       "        (W_value): Linear(in_features=768, out_features=768, bias=False)\n",
       "        (out_proj): Linear(in_features=768, out_features=768, bias=True)\n",
       "        (dropout): Dropout(p=0.1, inplace=False)\n",
       "      )\n",
       "      (ff): FeedForward(\n",
       "        (layers): Sequential(\n",
       "          (0): Linear(in_features=768, out_features=3072, bias=True)\n",
       "          (1): GELU(approximate='tanh')\n",
       "          (2): Linear(in_features=3072, out_features=768, bias=True)\n",
       "        )\n",
       "      )\n",
       "      (norm1): LayerNorm()\n",
       "      (norm2): LayerNorm()\n",
       "      (drop_shortcut): Dropout(p=0.1, inplace=False)\n",
       "    )\n",
       "    (2): TransformerBlock(\n",
       "      (att): MultiHeadAttention(\n",
       "        (W_query): Linear(in_features=768, out_features=768, bias=False)\n",
       "        (W_key): Linear(in_features=768, out_features=768, bias=False)\n",
       "        (W_value): Linear(in_features=768, out_features=768, bias=False)\n",
       "        (out_proj): Linear(in_features=768, out_features=768, bias=True)\n",
       "        (dropout): Dropout(p=0.1, inplace=False)\n",
       "      )\n",
       "      (ff): FeedForward(\n",
       "        (layers): Sequential(\n",
       "          (0): Linear(in_features=768, out_features=3072, bias=True)\n",
       "          (1): GELU(approximate='tanh')\n",
       "          (2): Linear(in_features=3072, out_features=768, bias=True)\n",
       "        )\n",
       "      )\n",
       "      (norm1): LayerNorm()\n",
       "      (norm2): LayerNorm()\n",
       "      (drop_shortcut): Dropout(p=0.1, inplace=False)\n",
       "    )\n",
       "    (3): TransformerBlock(\n",
       "      (att): MultiHeadAttention(\n",
       "        (W_query): Linear(in_features=768, out_features=768, bias=False)\n",
       "        (W_key): Linear(in_features=768, out_features=768, bias=False)\n",
       "        (W_value): Linear(in_features=768, out_features=768, bias=False)\n",
       "        (out_proj): Linear(in_features=768, out_features=768, bias=True)\n",
       "        (dropout): Dropout(p=0.1, inplace=False)\n",
       "      )\n",
       "      (ff): FeedForward(\n",
       "        (layers): Sequential(\n",
       "          (0): Linear(in_features=768, out_features=3072, bias=True)\n",
       "          (1): GELU(approximate='tanh')\n",
       "          (2): Linear(in_features=3072, out_features=768, bias=True)\n",
       "        )\n",
       "      )\n",
       "      (norm1): LayerNorm()\n",
       "      (norm2): LayerNorm()\n",
       "      (drop_shortcut): Dropout(p=0.1, inplace=False)\n",
       "    )\n",
       "    (4): TransformerBlock(\n",
       "      (att): MultiHeadAttention(\n",
       "        (W_query): Linear(in_features=768, out_features=768, bias=False)\n",
       "        (W_key): Linear(in_features=768, out_features=768, bias=False)\n",
       "        (W_value): Linear(in_features=768, out_features=768, bias=False)\n",
       "        (out_proj): Linear(in_features=768, out_features=768, bias=True)\n",
       "        (dropout): Dropout(p=0.1, inplace=False)\n",
       "      )\n",
       "      (ff): FeedForward(\n",
       "        (layers): Sequential(\n",
       "          (0): Linear(in_features=768, out_features=3072, bias=True)\n",
       "          (1): GELU(approximate='tanh')\n",
       "          (2): Linear(in_features=3072, out_features=768, bias=True)\n",
       "        )\n",
       "      )\n",
       "      (norm1): LayerNorm()\n",
       "      (norm2): LayerNorm()\n",
       "      (drop_shortcut): Dropout(p=0.1, inplace=False)\n",
       "    )\n",
       "    (5): TransformerBlock(\n",
       "      (att): MultiHeadAttention(\n",
       "        (W_query): Linear(in_features=768, out_features=768, bias=False)\n",
       "        (W_key): Linear(in_features=768, out_features=768, bias=False)\n",
       "        (W_value): Linear(in_features=768, out_features=768, bias=False)\n",
       "        (out_proj): Linear(in_features=768, out_features=768, bias=True)\n",
       "        (dropout): Dropout(p=0.1, inplace=False)\n",
       "      )\n",
       "      (ff): FeedForward(\n",
       "        (layers): Sequential(\n",
       "          (0): Linear(in_features=768, out_features=3072, bias=True)\n",
       "          (1): GELU(approximate='tanh')\n",
       "          (2): Linear(in_features=3072, out_features=768, bias=True)\n",
       "        )\n",
       "      )\n",
       "      (norm1): LayerNorm()\n",
       "      (norm2): LayerNorm()\n",
       "      (drop_shortcut): Dropout(p=0.1, inplace=False)\n",
       "    )\n",
       "    (6): TransformerBlock(\n",
       "      (att): MultiHeadAttention(\n",
       "        (W_query): Linear(in_features=768, out_features=768, bias=False)\n",
       "        (W_key): Linear(in_features=768, out_features=768, bias=False)\n",
       "        (W_value): Linear(in_features=768, out_features=768, bias=False)\n",
       "        (out_proj): Linear(in_features=768, out_features=768, bias=True)\n",
       "        (dropout): Dropout(p=0.1, inplace=False)\n",
       "      )\n",
       "      (ff): FeedForward(\n",
       "        (layers): Sequential(\n",
       "          (0): Linear(in_features=768, out_features=3072, bias=True)\n",
       "          (1): GELU(approximate='tanh')\n",
       "          (2): Linear(in_features=3072, out_features=768, bias=True)\n",
       "        )\n",
       "      )\n",
       "      (norm1): LayerNorm()\n",
       "      (norm2): LayerNorm()\n",
       "      (drop_shortcut): Dropout(p=0.1, inplace=False)\n",
       "    )\n",
       "    (7): TransformerBlock(\n",
       "      (att): MultiHeadAttention(\n",
       "        (W_query): Linear(in_features=768, out_features=768, bias=False)\n",
       "        (W_key): Linear(in_features=768, out_features=768, bias=False)\n",
       "        (W_value): Linear(in_features=768, out_features=768, bias=False)\n",
       "        (out_proj): Linear(in_features=768, out_features=768, bias=True)\n",
       "        (dropout): Dropout(p=0.1, inplace=False)\n",
       "      )\n",
       "      (ff): FeedForward(\n",
       "        (layers): Sequential(\n",
       "          (0): Linear(in_features=768, out_features=3072, bias=True)\n",
       "          (1): GELU(approximate='tanh')\n",
       "          (2): Linear(in_features=3072, out_features=768, bias=True)\n",
       "        )\n",
       "      )\n",
       "      (norm1): LayerNorm()\n",
       "      (norm2): LayerNorm()\n",
       "      (drop_shortcut): Dropout(p=0.1, inplace=False)\n",
       "    )\n",
       "    (8): TransformerBlock(\n",
       "      (att): MultiHeadAttention(\n",
       "        (W_query): Linear(in_features=768, out_features=768, bias=False)\n",
       "        (W_key): Linear(in_features=768, out_features=768, bias=False)\n",
       "        (W_value): Linear(in_features=768, out_features=768, bias=False)\n",
       "        (out_proj): Linear(in_features=768, out_features=768, bias=True)\n",
       "        (dropout): Dropout(p=0.1, inplace=False)\n",
       "      )\n",
       "      (ff): FeedForward(\n",
       "        (layers): Sequential(\n",
       "          (0): Linear(in_features=768, out_features=3072, bias=True)\n",
       "          (1): GELU(approximate='tanh')\n",
       "          (2): Linear(in_features=3072, out_features=768, bias=True)\n",
       "        )\n",
       "      )\n",
       "      (norm1): LayerNorm()\n",
       "      (norm2): LayerNorm()\n",
       "      (drop_shortcut): Dropout(p=0.1, inplace=False)\n",
       "    )\n",
       "    (9): TransformerBlock(\n",
       "      (att): MultiHeadAttention(\n",
       "        (W_query): Linear(in_features=768, out_features=768, bias=False)\n",
       "        (W_key): Linear(in_features=768, out_features=768, bias=False)\n",
       "        (W_value): Linear(in_features=768, out_features=768, bias=False)\n",
       "        (out_proj): Linear(in_features=768, out_features=768, bias=True)\n",
       "        (dropout): Dropout(p=0.1, inplace=False)\n",
       "      )\n",
       "      (ff): FeedForward(\n",
       "        (layers): Sequential(\n",
       "          (0): Linear(in_features=768, out_features=3072, bias=True)\n",
       "          (1): GELU(approximate='tanh')\n",
       "          (2): Linear(in_features=3072, out_features=768, bias=True)\n",
       "        )\n",
       "      )\n",
       "      (norm1): LayerNorm()\n",
       "      (norm2): LayerNorm()\n",
       "      (drop_shortcut): Dropout(p=0.1, inplace=False)\n",
       "    )\n",
       "    (10): TransformerBlock(\n",
       "      (att): MultiHeadAttention(\n",
       "        (W_query): Linear(in_features=768, out_features=768, bias=False)\n",
       "        (W_key): Linear(in_features=768, out_features=768, bias=False)\n",
       "        (W_value): Linear(in_features=768, out_features=768, bias=False)\n",
       "        (out_proj): Linear(in_features=768, out_features=768, bias=True)\n",
       "        (dropout): Dropout(p=0.1, inplace=False)\n",
       "      )\n",
       "      (ff): FeedForward(\n",
       "        (layers): Sequential(\n",
       "          (0): Linear(in_features=768, out_features=3072, bias=True)\n",
       "          (1): GELU(approximate='tanh')\n",
       "          (2): Linear(in_features=3072, out_features=768, bias=True)\n",
       "        )\n",
       "      )\n",
       "      (norm1): LayerNorm()\n",
       "      (norm2): LayerNorm()\n",
       "      (drop_shortcut): Dropout(p=0.1, inplace=False)\n",
       "    )\n",
       "    (11): TransformerBlock(\n",
       "      (att): MultiHeadAttention(\n",
       "        (W_query): Linear(in_features=768, out_features=768, bias=False)\n",
       "        (W_key): Linear(in_features=768, out_features=768, bias=False)\n",
       "        (W_value): Linear(in_features=768, out_features=768, bias=False)\n",
       "        (out_proj): Linear(in_features=768, out_features=768, bias=True)\n",
       "        (dropout): Dropout(p=0.1, inplace=False)\n",
       "      )\n",
       "      (ff): FeedForward(\n",
       "        (layers): Sequential(\n",
       "          (0): Linear(in_features=768, out_features=3072, bias=True)\n",
       "          (1): GELU(approximate='tanh')\n",
       "          (2): Linear(in_features=3072, out_features=768, bias=True)\n",
       "        )\n",
       "      )\n",
       "      (norm1): LayerNorm()\n",
       "      (norm2): LayerNorm()\n",
       "      (drop_shortcut): Dropout(p=0.1, inplace=False)\n",
       "    )\n",
       "  )\n",
       "  (final_norm): LayerNorm()\n",
       "  (out_head): Linear(in_features=768, out_features=50257, bias=False)\n",
       ")"
      ]
     },
     "execution_count": 24,
     "metadata": {},
     "output_type": "execute_result"
    }
   ],
   "source": [
    "model.to(\"cpu\")\n",
    "model.eval()"
   ]
  },
  {
   "cell_type": "code",
   "execution_count": 25,
   "id": "a3d2dca0-5bd9-4293-8e8f-76a6498898ed",
   "metadata": {
    "execution": {
     "iopub.execute_input": "2025-03-16T20:10:48.166853Z",
     "iopub.status.busy": "2025-03-16T20:10:48.166452Z",
     "iopub.status.idle": "2025-03-16T20:10:48.862568Z",
     "shell.execute_reply": "2025-03-16T20:10:48.862030Z",
     "shell.execute_reply.started": "2025-03-16T20:10:48.166822Z"
    }
   },
   "outputs": [
    {
     "name": "stdout",
     "output_type": "stream",
     "text": [
      "Output text:\n",
      " Every effort moves you?\"\n",
      "\n",
      "\"Yes--quite insensible to the irony. She wanted him vindicated--and by me!\"\n",
      "\n",
      "\n"
     ]
    }
   ],
   "source": [
    "tokenizer = tiktoken.get_encoding(\"gpt2\")\n",
    "token_ids = generate_text_simple(\n",
    "    model=model,\n",
    "    idx=text_to_token_ids(\"Every effort moves you\", tokenizer),\n",
    "    max_new_tokens=25,\n",
    "    context_size=GPT_CONFIG_124M[\"context_length\"]\n",
    ")\n",
    "print(\"Output text:\\n\", token_ids_to_text(token_ids, tokenizer))"
   ]
  },
  {
   "cell_type": "markdown",
   "id": "b95f26e4-312d-4e9f-b129-a9dc903aece3",
   "metadata": {},
   "source": [
    "# Scrap"
   ]
  },
  {
   "cell_type": "code",
   "execution_count": 26,
   "id": "b77a648d-40e6-400b-92be-b7a2c070e74c",
   "metadata": {
    "execution": {
     "iopub.execute_input": "2025-03-16T20:13:58.802815Z",
     "iopub.status.busy": "2025-03-16T20:13:58.802300Z",
     "iopub.status.idle": "2025-03-16T20:13:58.811848Z",
     "shell.execute_reply": "2025-03-16T20:13:58.809782Z",
     "shell.execute_reply.started": "2025-03-16T20:13:58.802773Z"
    }
   },
   "outputs": [],
   "source": [
    "vocab = { \n",
    "    \"closer\": 0,\n",
    "    \"every\": 1, \n",
    "    \"effort\": 2, \n",
    "    \"forward\": 3,\n",
    "    \"inches\": 4,\n",
    "    \"moves\": 5, \n",
    "    \"pizza\": 6,\n",
    "    \"toward\": 7,\n",
    "    \"you\": 8,\n",
    "} \n",
    "inverse_vocab = {v: k for k, v in vocab.items()}"
   ]
  },
  {
   "cell_type": "code",
   "execution_count": 27,
   "id": "d6dca177-7afc-46f6-bf3d-bb2407b2d207",
   "metadata": {
    "execution": {
     "iopub.execute_input": "2025-03-16T20:14:14.404146Z",
     "iopub.status.busy": "2025-03-16T20:14:14.403621Z",
     "iopub.status.idle": "2025-03-16T20:14:14.411368Z",
     "shell.execute_reply": "2025-03-16T20:14:14.409698Z",
     "shell.execute_reply.started": "2025-03-16T20:14:14.404104Z"
    }
   },
   "outputs": [],
   "source": [
    "next_token_logits = torch.tensor(\n",
    "    [4.51, 0.89, -1.90, 6.75, 1.63, -1.62, -1.89, 6.28, 1.79]\n",
    ")"
   ]
  },
  {
   "cell_type": "code",
   "execution_count": 28,
   "id": "618cd489-b68f-4733-9a76-99d268bdfa8c",
   "metadata": {
    "execution": {
     "iopub.execute_input": "2025-03-16T20:14:51.756927Z",
     "iopub.status.busy": "2025-03-16T20:14:51.756424Z",
     "iopub.status.idle": "2025-03-16T20:14:51.765805Z",
     "shell.execute_reply": "2025-03-16T20:14:51.764507Z",
     "shell.execute_reply.started": "2025-03-16T20:14:51.756885Z"
    }
   },
   "outputs": [
    {
     "name": "stdout",
     "output_type": "stream",
     "text": [
      "forward\n"
     ]
    }
   ],
   "source": [
    "probas = torch.softmax(next_token_logits, dim=0)\n",
    "next_token_id = torch.argmax(probas).item()\n",
    "print(inverse_vocab[next_token_id])"
   ]
  },
  {
   "cell_type": "code",
   "execution_count": 47,
   "id": "8108de44-3465-4f65-8789-5cf6d5d19419",
   "metadata": {
    "execution": {
     "iopub.execute_input": "2025-03-16T20:16:38.634938Z",
     "iopub.status.busy": "2025-03-16T20:16:38.634380Z",
     "iopub.status.idle": "2025-03-16T20:16:38.643216Z",
     "shell.execute_reply": "2025-03-16T20:16:38.642061Z",
     "shell.execute_reply.started": "2025-03-16T20:16:38.634892Z"
    }
   },
   "outputs": [
    {
     "name": "stdout",
     "output_type": "stream",
     "text": [
      "forward\n"
     ]
    }
   ],
   "source": [
    "next_token_id = torch.multinomial(probas, num_samples=1).item()\n",
    "print(inverse_vocab[next_token_id])"
   ]
  },
  {
   "cell_type": "code",
   "execution_count": 48,
   "id": "0437dabc-0a4c-4175-9451-f9df9d91a40c",
   "metadata": {
    "execution": {
     "iopub.execute_input": "2025-03-16T20:16:51.906974Z",
     "iopub.status.busy": "2025-03-16T20:16:51.906473Z",
     "iopub.status.idle": "2025-03-16T20:16:51.937931Z",
     "shell.execute_reply": "2025-03-16T20:16:51.937405Z",
     "shell.execute_reply.started": "2025-03-16T20:16:51.906935Z"
    }
   },
   "outputs": [
    {
     "name": "stdout",
     "output_type": "stream",
     "text": [
      "72 x closer\n",
      "2 x every\n",
      "0 x effort\n",
      "542 x forward\n",
      "2 x inches\n",
      "1 x moves\n",
      "0 x pizza\n",
      "378 x toward\n",
      "3 x you\n"
     ]
    }
   ],
   "source": [
    "def print_sampled_tokens(probas):\n",
    "    sample = [torch.multinomial(probas, num_samples=1).item()\n",
    "             for i in range(1_000)]\n",
    "    sampled_ids = torch.bincount(torch.tensor(sample))\n",
    "    for i, freq in enumerate(sampled_ids):\n",
    "        print(f\"{freq} x {inverse_vocab[i]}\")\n",
    "\n",
    "print_sampled_tokens(probas)"
   ]
  },
  {
   "cell_type": "code",
   "execution_count": 49,
   "id": "0dfa9eeb-d5f7-4d13-90c9-8e575fd6e469",
   "metadata": {
    "execution": {
     "iopub.execute_input": "2025-03-16T20:18:17.793337Z",
     "iopub.status.busy": "2025-03-16T20:18:17.792826Z",
     "iopub.status.idle": "2025-03-16T20:18:17.799939Z",
     "shell.execute_reply": "2025-03-16T20:18:17.798860Z",
     "shell.execute_reply.started": "2025-03-16T20:18:17.793296Z"
    }
   },
   "outputs": [],
   "source": [
    "def softmax_with_temperature(logits, temperature):\n",
    "    scaled_logits = logits / temperature\n",
    "    return torch.softmax(scaled_logits, dim=0)"
   ]
  },
  {
   "cell_type": "code",
   "execution_count": 50,
   "id": "dd09a89b-1547-4df1-aca1-f60eebad1a82",
   "metadata": {
    "execution": {
     "iopub.execute_input": "2025-03-16T20:19:03.341374Z",
     "iopub.status.busy": "2025-03-16T20:19:03.340854Z",
     "iopub.status.idle": "2025-03-16T20:19:03.440516Z",
     "shell.execute_reply": "2025-03-16T20:19:03.440034Z",
     "shell.execute_reply.started": "2025-03-16T20:19:03.341332Z"
    }
   },
   "outputs": [
    {
     "data": {
      "image/png": "[encoded data removed]",
      "text/plain": [
       "<Figure size 500x300 with 1 Axes>"
      ]
     },
     "metadata": {},
     "output_type": "display_data"
    }
   ],
   "source": [
    "temperatures = [1, 0.1, 5]                                     #1\n",
    "scaled_probas = [softmax_with_temperature(next_token_logits, T)\n",
    "                for T in temperatures]\n",
    "x = torch.arange(len(vocab))\n",
    "bar_width = 0.15\n",
    "fig, ax = plt.subplots(figsize=(5, 3))\n",
    "for i, T in enumerate(temperatures):\n",
    "    rects = ax.bar(x + i * bar_width, scaled_probas[i], \n",
    "                   bar_width, label=f'Temperature = {T}')\n",
    "ax.set_ylabel('Probability')\n",
    "ax.set_xticks(x)\n",
    "ax.set_xticklabels(vocab.keys(), rotation=90)\n",
    "ax.legend()\n",
    "plt.tight_layout()\n",
    "plt.show()"
   ]
  },
  {
   "cell_type": "code",
   "execution_count": null,
   "id": "fbc011ff-a10e-46a5-b466-e11bde4d113b",
   "metadata": {},
   "outputs": [],
   "source": []
  }
 ],
 "metadata": {
  "kernelspec": {
   "display_name": "Python 3 (ipykernel)",
   "language": "python",
   "name": "python3"
  },
  "language_info": {
   "codemirror_mode": {
    "name": "ipython",
    "version": 3
   },
   "file_extension": ".py",
   "mimetype": "text/x-python",
   "name": "python",
   "nbconvert_exporter": "python",
   "pygments_lexer": "ipython3",
   "version": "3.11.11"
  }
 },
 "nbformat": 4,
 "nbformat_minor": 5
}
