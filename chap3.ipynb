{
 "cells": [
  {
   "cell_type": "code",
   "execution_count": 5,
   "id": "c1bc3235-753c-4e3a-8704-51356958cb6b",
   "metadata": {
    "execution": {
     "iopub.execute_input": "2025-03-08T14:25:17.065433Z",
     "iopub.status.busy": "2025-03-08T14:25:17.065433Z",
     "iopub.status.idle": "2025-03-08T14:25:21.015637Z",
     "shell.execute_reply": "2025-03-08T14:25:21.015637Z",
     "shell.execute_reply.started": "2025-03-08T14:25:17.065433Z"
    }
   },
   "outputs": [],
   "source": [
    "import torch\n",
    "inputs = torch.tensor(\n",
    "  [[0.43, 0.15, 0.89], # Your     (x^1)\n",
    "   [0.55, 0.87, 0.66], # journey  (x^2)\n",
    "   [0.57, 0.85, 0.64], # starts   (x^3)\n",
    "   [0.22, 0.58, 0.33], # with     (x^4)\n",
    "   [0.77, 0.25, 0.10], # one      (x^5)\n",
    "   [0.05, 0.80, 0.55]] # step     (x^6)\n",
    ")"
   ]
  },
  {
   "cell_type": "code",
   "execution_count": 6,
   "id": "c1f4fa83-ae70-4fbc-b792-9b4b3b953227",
   "metadata": {
    "execution": {
     "iopub.execute_input": "2025-03-08T14:25:21.017655Z",
     "iopub.status.busy": "2025-03-08T14:25:21.016649Z",
     "iopub.status.idle": "2025-03-08T14:25:21.080676Z",
     "shell.execute_reply": "2025-03-08T14:25:21.079655Z",
     "shell.execute_reply.started": "2025-03-08T14:25:21.017655Z"
    }
   },
   "outputs": [
    {
     "name": "stdout",
     "output_type": "stream",
     "text": [
      "tensor([0.9544, 1.4950, 1.4754, 0.8434, 0.7070, 1.0865])\n"
     ]
    }
   ],
   "source": [
    "query = inputs[1]                            #1\n",
    "attn_scores_2 = torch.empty(inputs.shape[0])\n",
    "for i, x_i in enumerate(inputs):\n",
    "    attn_scores_2[i] = torch.dot(x_i, query)\n",
    "print(attn_scores_2)"
   ]
  },
  {
   "cell_type": "code",
   "execution_count": 7,
   "id": "611db910-061c-4498-86da-e51aa2f9cd4a",
   "metadata": {
    "execution": {
     "iopub.execute_input": "2025-03-08T14:25:21.081668Z",
     "iopub.status.busy": "2025-03-08T14:25:21.081668Z",
     "iopub.status.idle": "2025-03-08T14:25:21.091251Z",
     "shell.execute_reply": "2025-03-08T14:25:21.091251Z",
     "shell.execute_reply.started": "2025-03-08T14:25:21.081668Z"
    }
   },
   "outputs": [
    {
     "name": "stdout",
     "output_type": "stream",
     "text": [
      "tensor(0.9544)\n",
      "tensor(0.9544)\n"
     ]
    }
   ],
   "source": [
    "res = 0.\n",
    "for idx, element in enumerate(inputs[0]):\n",
    "    res += inputs[0][idx] * query[idx]\n",
    "print(res)\n",
    "print(torch.dot(inputs[0], query))"
   ]
  },
  {
   "cell_type": "code",
   "execution_count": 8,
   "id": "41c8b57b-d92c-4110-991f-674763028c94",
   "metadata": {
    "execution": {
     "iopub.execute_input": "2025-03-08T14:25:21.093262Z",
     "iopub.status.busy": "2025-03-08T14:25:21.093262Z",
     "iopub.status.idle": "2025-03-08T14:25:21.105628Z",
     "shell.execute_reply": "2025-03-08T14:25:21.104611Z",
     "shell.execute_reply.started": "2025-03-08T14:25:21.093262Z"
    }
   },
   "outputs": [
    {
     "name": "stdout",
     "output_type": "stream",
     "text": [
      "Attention scores: tensor([0.9544, 1.4950, 1.4754, 0.8434, 0.7070, 1.0865])\n",
      "Attention weights: tensor([0.1455, 0.2278, 0.2249, 0.1285, 0.1077, 0.1656])\n",
      "Sum: tensor(1.0000)\n"
     ]
    }
   ],
   "source": [
    "attn_weights_2_tmp = attn_scores_2 / attn_scores_2.sum()\n",
    "print(\"Attention scores:\", attn_scores_2)\n",
    "print(\"Attention weights:\", attn_weights_2_tmp)\n",
    "print(\"Sum:\", attn_weights_2_tmp.sum())"
   ]
  },
  {
   "cell_type": "code",
   "execution_count": 9,
   "id": "387e9676-a8d2-4c01-8d63-a5b832923214",
   "metadata": {
    "execution": {
     "iopub.execute_input": "2025-03-08T14:25:21.106629Z",
     "iopub.status.busy": "2025-03-08T14:25:21.106629Z",
     "iopub.status.idle": "2025-03-08T14:25:21.118483Z",
     "shell.execute_reply": "2025-03-08T14:25:21.117465Z",
     "shell.execute_reply.started": "2025-03-08T14:25:21.106629Z"
    }
   },
   "outputs": [
    {
     "name": "stdout",
     "output_type": "stream",
     "text": [
      "Attention weights: tensor([0.1385, 0.2379, 0.2333, 0.1240, 0.1082, 0.1581])\n",
      "Sum: tensor(1.)\n"
     ]
    }
   ],
   "source": [
    "def softmax_naive(x):\n",
    "    return torch.exp(x) / torch.exp(x).sum(dim=0)\n",
    "\n",
    "attn_weights_2_naive = softmax_naive(attn_scores_2)\n",
    "print(\"Attention weights:\", attn_weights_2_naive)\n",
    "print(\"Sum:\", attn_weights_2_naive.sum())"
   ]
  },
  {
   "cell_type": "code",
   "execution_count": 10,
   "id": "23e9fc08-8f4b-4808-8e05-f868115b752f",
   "metadata": {
    "execution": {
     "iopub.execute_input": "2025-03-08T14:25:21.120481Z",
     "iopub.status.busy": "2025-03-08T14:25:21.119486Z",
     "iopub.status.idle": "2025-03-08T14:25:21.132724Z",
     "shell.execute_reply": "2025-03-08T14:25:21.131727Z",
     "shell.execute_reply.started": "2025-03-08T14:25:21.120481Z"
    }
   },
   "outputs": [
    {
     "name": "stdout",
     "output_type": "stream",
     "text": [
      "Attention weights: tensor([0.1385, 0.2379, 0.2333, 0.1240, 0.1082, 0.1581])\n",
      "Sum: tensor(1.)\n"
     ]
    }
   ],
   "source": [
    "sm_func = torch.nn.Softmax(dim=0)\n",
    "attn_weights_2_tsm = sm_func(attn_scores_2)\n",
    "print(\"Attention weights:\", attn_weights_2_tsm)\n",
    "print(\"Sum:\", attn_weights_2_tsm.sum())"
   ]
  },
  {
   "cell_type": "code",
   "execution_count": 11,
   "id": "d11ca409-10e5-446d-afb0-6656bf85ac3c",
   "metadata": {
    "execution": {
     "iopub.execute_input": "2025-03-08T14:25:21.134726Z",
     "iopub.status.busy": "2025-03-08T14:25:21.133721Z",
     "iopub.status.idle": "2025-03-08T14:25:21.142594Z",
     "shell.execute_reply": "2025-03-08T14:25:21.141577Z",
     "shell.execute_reply.started": "2025-03-08T14:25:21.134726Z"
    }
   },
   "outputs": [
    {
     "name": "stdout",
     "output_type": "stream",
     "text": [
      "Attention weights: tensor([0.1385, 0.2379, 0.2333, 0.1240, 0.1082, 0.1581])\n",
      "Sum: tensor(1.)\n"
     ]
    }
   ],
   "source": [
    "attn_weights_2 = torch.softmax(attn_scores_2, dim=0)\n",
    "print(\"Attention weights:\", attn_weights_2)\n",
    "print(\"Sum:\", attn_weights_2.sum())"
   ]
  },
  {
   "cell_type": "code",
   "execution_count": 12,
   "id": "f65cb6ee-5ea1-4668-b41c-63a2f99ccbb6",
   "metadata": {
    "execution": {
     "iopub.execute_input": "2025-03-08T14:25:21.144595Z",
     "iopub.status.busy": "2025-03-08T14:25:21.143595Z",
     "iopub.status.idle": "2025-03-08T14:25:21.155430Z",
     "shell.execute_reply": "2025-03-08T14:25:21.154408Z",
     "shell.execute_reply.started": "2025-03-08T14:25:21.144595Z"
    }
   },
   "outputs": [
    {
     "data": {
      "text/plain": [
       "tensor([[0.4300, 0.1500, 0.8900],\n",
       "        [0.5500, 0.8700, 0.6600],\n",
       "        [0.5700, 0.8500, 0.6400],\n",
       "        [0.2200, 0.5800, 0.3300],\n",
       "        [0.7700, 0.2500, 0.1000],\n",
       "        [0.0500, 0.8000, 0.5500]])"
      ]
     },
     "execution_count": 12,
     "metadata": {},
     "output_type": "execute_result"
    }
   ],
   "source": [
    "inputs"
   ]
  },
  {
   "cell_type": "code",
   "execution_count": 13,
   "id": "529019cc-f2af-4c12-8aa4-889c40b99e71",
   "metadata": {
    "execution": {
     "iopub.execute_input": "2025-03-08T14:25:21.157432Z",
     "iopub.status.busy": "2025-03-08T14:25:21.157432Z",
     "iopub.status.idle": "2025-03-08T14:25:21.165274Z",
     "shell.execute_reply": "2025-03-08T14:25:21.164249Z",
     "shell.execute_reply.started": "2025-03-08T14:25:21.157432Z"
    }
   },
   "outputs": [
    {
     "name": "stdout",
     "output_type": "stream",
     "text": [
      "tensor([0.4419, 0.6515, 0.5683])\n"
     ]
    }
   ],
   "source": [
    "query = inputs[1]         #1\n",
    "context_vec_2 = torch.zeros(query.shape)\n",
    "for i,x_i in enumerate(inputs):\n",
    "    context_vec_2 += attn_weights_2[i]*x_i\n",
    "print(context_vec_2)"
   ]
  },
  {
   "cell_type": "code",
   "execution_count": 14,
   "id": "c7ce137d-3b61-46aa-b0a6-379708b49163",
   "metadata": {
    "execution": {
     "iopub.execute_input": "2025-03-08T14:25:21.167264Z",
     "iopub.status.busy": "2025-03-08T14:25:21.167264Z",
     "iopub.status.idle": "2025-03-08T14:25:21.180084Z",
     "shell.execute_reply": "2025-03-08T14:25:21.179072Z",
     "shell.execute_reply.started": "2025-03-08T14:25:21.167264Z"
    }
   },
   "outputs": [
    {
     "data": {
      "text/plain": [
       "tensor([0.4419, 0.6515, 0.5683])"
      ]
     },
     "execution_count": 14,
     "metadata": {},
     "output_type": "execute_result"
    }
   ],
   "source": [
    "attn_weights_2 @ inputs"
   ]
  },
  {
   "cell_type": "code",
   "execution_count": 15,
   "id": "c61d0b13-f886-45e4-915a-f5c0f464e9cf",
   "metadata": {
    "execution": {
     "iopub.execute_input": "2025-03-08T14:25:21.182094Z",
     "iopub.status.busy": "2025-03-08T14:25:21.181081Z",
     "iopub.status.idle": "2025-03-08T14:25:21.189318Z",
     "shell.execute_reply": "2025-03-08T14:25:21.188300Z",
     "shell.execute_reply.started": "2025-03-08T14:25:21.182094Z"
    }
   },
   "outputs": [
    {
     "name": "stdout",
     "output_type": "stream",
     "text": [
      "tensor([0.4419, 0.6515, 0.5683])\n"
     ]
    }
   ],
   "source": [
    "context_vec_2 = torch.zeros(query.shape)\n",
    "for i in range(inputs.shape[0]):\n",
    "    context_vec_2 += attn_weights_2[i]*inputs[i]\n",
    "print(context_vec_2)"
   ]
  },
  {
   "cell_type": "code",
   "execution_count": 16,
   "id": "69483d97-fdb4-4730-9ff8-33b7f44aa32e",
   "metadata": {
    "execution": {
     "iopub.execute_input": "2025-03-08T14:25:21.190323Z",
     "iopub.status.busy": "2025-03-08T14:25:21.190323Z",
     "iopub.status.idle": "2025-03-08T14:25:21.197110Z",
     "shell.execute_reply": "2025-03-08T14:25:21.196087Z",
     "shell.execute_reply.started": "2025-03-08T14:25:21.190323Z"
    }
   },
   "outputs": [
    {
     "data": {
      "text/plain": [
       "torch.Size([6, 3])"
      ]
     },
     "execution_count": 16,
     "metadata": {},
     "output_type": "execute_result"
    }
   ],
   "source": [
    "inputs.shape"
   ]
  },
  {
   "cell_type": "code",
   "execution_count": 17,
   "id": "ecaf0d9f-5a1a-4ebb-8335-f7c033ff0246",
   "metadata": {
    "execution": {
     "iopub.execute_input": "2025-03-08T14:25:21.198105Z",
     "iopub.status.busy": "2025-03-08T14:25:21.198105Z",
     "iopub.status.idle": "2025-03-08T14:25:21.205733Z",
     "shell.execute_reply": "2025-03-08T14:25:21.205733Z",
     "shell.execute_reply.started": "2025-03-08T14:25:21.198105Z"
    }
   },
   "outputs": [
    {
     "name": "stdout",
     "output_type": "stream",
     "text": [
      "tensor([[0.9995, 0.9544, 0.9422, 0.4753, 0.4576, 0.6310],\n",
      "        [0.9544, 1.4950, 1.4754, 0.8434, 0.7070, 1.0865],\n",
      "        [0.9422, 1.4754, 1.4570, 0.8296, 0.7154, 1.0605],\n",
      "        [0.4753, 0.8434, 0.8296, 0.4937, 0.3474, 0.6565],\n",
      "        [0.4576, 0.7070, 0.7154, 0.3474, 0.6654, 0.2935],\n",
      "        [0.6310, 1.0865, 1.0605, 0.6565, 0.2935, 0.9450]])\n"
     ]
    }
   ],
   "source": [
    "attn_scores = torch.empty(inputs.shape[0], inputs.shape[0])\n",
    "for i, x_i in enumerate(inputs):\n",
    "    for j, x_j in enumerate(inputs):\n",
    "        attn_scores[i, j] = torch.dot(x_i, x_j)\n",
    "print(attn_scores)"
   ]
  },
  {
   "cell_type": "code",
   "execution_count": 18,
   "id": "4bf3e6fc-11af-4a59-9673-2a8e2c9fac69",
   "metadata": {
    "execution": {
     "iopub.execute_input": "2025-03-08T14:25:21.207749Z",
     "iopub.status.busy": "2025-03-08T14:25:21.206747Z",
     "iopub.status.idle": "2025-03-08T14:25:21.216489Z",
     "shell.execute_reply": "2025-03-08T14:25:21.215463Z",
     "shell.execute_reply.started": "2025-03-08T14:25:21.207749Z"
    }
   },
   "outputs": [
    {
     "name": "stdout",
     "output_type": "stream",
     "text": [
      "tensor([[0.9995, 0.9544, 0.9422, 0.4753, 0.4576, 0.6310],\n",
      "        [0.9544, 1.4950, 1.4754, 0.8434, 0.7070, 1.0865],\n",
      "        [0.9422, 1.4754, 1.4570, 0.8296, 0.7154, 1.0605],\n",
      "        [0.4753, 0.8434, 0.8296, 0.4937, 0.3474, 0.6565],\n",
      "        [0.4576, 0.7070, 0.7154, 0.3474, 0.6654, 0.2935],\n",
      "        [0.6310, 1.0865, 1.0605, 0.6565, 0.2935, 0.9450]])\n"
     ]
    }
   ],
   "source": [
    "attn_scores = inputs @ inputs.T\n",
    "print(attn_scores)"
   ]
  },
  {
   "cell_type": "code",
   "execution_count": 19,
   "id": "5872ef76-ef5e-4388-9c3a-eb3b95c03569",
   "metadata": {
    "execution": {
     "iopub.execute_input": "2025-03-08T14:25:21.218492Z",
     "iopub.status.busy": "2025-03-08T14:25:21.217494Z",
     "iopub.status.idle": "2025-03-08T14:25:21.225641Z",
     "shell.execute_reply": "2025-03-08T14:25:21.224626Z",
     "shell.execute_reply.started": "2025-03-08T14:25:21.218492Z"
    }
   },
   "outputs": [
    {
     "name": "stdout",
     "output_type": "stream",
     "text": [
      "tensor([[0.2098, 0.2006, 0.1981, 0.1242, 0.1220, 0.1452],\n",
      "        [0.1385, 0.2379, 0.2333, 0.1240, 0.1082, 0.1581],\n",
      "        [0.1390, 0.2369, 0.2326, 0.1242, 0.1108, 0.1565],\n",
      "        [0.1435, 0.2074, 0.2046, 0.1462, 0.1263, 0.1720],\n",
      "        [0.1526, 0.1958, 0.1975, 0.1367, 0.1879, 0.1295],\n",
      "        [0.1385, 0.2184, 0.2128, 0.1420, 0.0988, 0.1896]])\n"
     ]
    }
   ],
   "source": [
    "attn_weights = torch.softmax(attn_scores, dim=-1)\n",
    "print(attn_weights)"
   ]
  },
  {
   "cell_type": "code",
   "execution_count": 20,
   "id": "05b0bb0b-b0d4-4e1b-9ad1-063ace6cc203",
   "metadata": {
    "execution": {
     "iopub.execute_input": "2025-03-08T14:25:21.226642Z",
     "iopub.status.busy": "2025-03-08T14:25:21.226642Z",
     "iopub.status.idle": "2025-03-08T14:25:21.234546Z",
     "shell.execute_reply": "2025-03-08T14:25:21.233542Z",
     "shell.execute_reply.started": "2025-03-08T14:25:21.226642Z"
    }
   },
   "outputs": [
    {
     "name": "stdout",
     "output_type": "stream",
     "text": [
      "Row 2 sum: tensor(1.)\n",
      "All row sums: tensor([1.0000, 1.0000, 1.0000, 1.0000, 1.0000, 1.0000])\n"
     ]
    }
   ],
   "source": [
    "row_2_sum = attn_weights[1].sum()\n",
    "print(\"Row 2 sum:\", row_2_sum)\n",
    "print(\"All row sums:\", attn_weights.sum(dim=-1))"
   ]
  },
  {
   "cell_type": "code",
   "execution_count": 21,
   "id": "cc152ac6-3315-4d7b-a1a0-c00cf99fdb15",
   "metadata": {
    "execution": {
     "iopub.execute_input": "2025-03-08T14:25:21.311550Z",
     "iopub.status.busy": "2025-03-08T14:25:21.310547Z",
     "iopub.status.idle": "2025-03-08T14:25:21.318618Z",
     "shell.execute_reply": "2025-03-08T14:25:21.317598Z",
     "shell.execute_reply.started": "2025-03-08T14:25:21.311550Z"
    }
   },
   "outputs": [
    {
     "name": "stdout",
     "output_type": "stream",
     "text": [
      "tensor([[0.4421, 0.5931, 0.5790],\n",
      "        [0.4419, 0.6515, 0.5683],\n",
      "        [0.4431, 0.6496, 0.5671],\n",
      "        [0.4304, 0.6298, 0.5510],\n",
      "        [0.4671, 0.5910, 0.5266],\n",
      "        [0.4177, 0.6503, 0.5645]])\n"
     ]
    }
   ],
   "source": [
    "all_context_vecs = attn_weights @ inputs\n",
    "print(all_context_vecs)"
   ]
  },
  {
   "cell_type": "code",
   "execution_count": 22,
   "id": "96114c1d-6a7c-4f2e-b00e-60b7876f9f01",
   "metadata": {
    "execution": {
     "iopub.execute_input": "2025-03-08T14:25:21.642853Z",
     "iopub.status.busy": "2025-03-08T14:25:21.642853Z",
     "iopub.status.idle": "2025-03-08T14:25:21.648880Z",
     "shell.execute_reply": "2025-03-08T14:25:21.647859Z",
     "shell.execute_reply.started": "2025-03-08T14:25:21.642853Z"
    }
   },
   "outputs": [
    {
     "name": "stdout",
     "output_type": "stream",
     "text": [
      "Previous 2nd context vector: tensor([0.4419, 0.6515, 0.5683])\n"
     ]
    }
   ],
   "source": [
    "print(\"Previous 2nd context vector:\", context_vec_2)"
   ]
  },
  {
   "cell_type": "code",
   "execution_count": 23,
   "id": "f0d20489-6bd4-4490-a8e7-623a7762593b",
   "metadata": {
    "execution": {
     "iopub.execute_input": "2025-03-08T14:25:22.014174Z",
     "iopub.status.busy": "2025-03-08T14:25:22.014174Z",
     "iopub.status.idle": "2025-03-08T14:25:22.019162Z",
     "shell.execute_reply": "2025-03-08T14:25:22.018121Z",
     "shell.execute_reply.started": "2025-03-08T14:25:22.014174Z"
    }
   },
   "outputs": [],
   "source": [
    "x_2 = inputs[1]     #1\n",
    "d_in = inputs.shape[1]      #2\n",
    "d_out = d_in"
   ]
  },
  {
   "cell_type": "code",
   "execution_count": 24,
   "id": "6e4e367f-f5ad-4b7c-a24c-ab2a9499a9c5",
   "metadata": {
    "execution": {
     "iopub.execute_input": "2025-03-08T14:25:24.110310Z",
     "iopub.status.busy": "2025-03-08T14:25:24.109309Z",
     "iopub.status.idle": "2025-03-08T14:25:24.119270Z",
     "shell.execute_reply": "2025-03-08T14:25:24.118255Z",
     "shell.execute_reply.started": "2025-03-08T14:25:24.110310Z"
    }
   },
   "outputs": [],
   "source": [
    "W_query = torch.nn.Parameter(torch.rand(d_in, d_out), requires_grad=False)\n",
    "W_key   = torch.nn.Parameter(torch.rand(d_in, d_out), requires_grad=False)\n",
    "W_value = torch.nn.Parameter(torch.rand(d_in, d_out), requires_grad=False)"
   ]
  },
  {
   "cell_type": "code",
   "execution_count": 25,
   "id": "197c7f20-132a-43d1-a4f9-43144e5a0462",
   "metadata": {
    "execution": {
     "iopub.execute_input": "2025-03-08T14:25:24.416367Z",
     "iopub.status.busy": "2025-03-08T14:25:24.416367Z",
     "iopub.status.idle": "2025-03-08T14:25:24.424878Z",
     "shell.execute_reply": "2025-03-08T14:25:24.424878Z",
     "shell.execute_reply.started": "2025-03-08T14:25:24.416367Z"
    }
   },
   "outputs": [
    {
     "name": "stdout",
     "output_type": "stream",
     "text": [
      "tensor([0.9570, 1.7375, 0.6252])\n"
     ]
    }
   ],
   "source": [
    "query_2 = x_2 @ W_query \n",
    "key_2 = x_2 @ W_key \n",
    "value_2 = x_2 @ W_value\n",
    "print(query_2)"
   ]
  },
  {
   "cell_type": "code",
   "execution_count": 26,
   "id": "01c511d3-6d77-4786-9c64-0eb05b9756ab",
   "metadata": {
    "execution": {
     "iopub.execute_input": "2025-03-08T14:25:25.115877Z",
     "iopub.status.busy": "2025-03-08T14:25:25.115877Z",
     "iopub.status.idle": "2025-03-08T14:25:25.123090Z",
     "shell.execute_reply": "2025-03-08T14:25:25.123090Z",
     "shell.execute_reply.started": "2025-03-08T14:25:25.115877Z"
    }
   },
   "outputs": [
    {
     "name": "stdout",
     "output_type": "stream",
     "text": [
      "keys.shape: torch.Size([6, 3])\n",
      "values.shape: torch.Size([6, 3])\n"
     ]
    }
   ],
   "source": [
    "keys = inputs @ W_key \n",
    "values = inputs @ W_value\n",
    "print(\"keys.shape:\", keys.shape)\n",
    "print(\"values.shape:\", values.shape)"
   ]
  },
  {
   "cell_type": "code",
   "execution_count": 27,
   "id": "67784c67-8543-40d6-aa63-ef8b3088fb06",
   "metadata": {
    "execution": {
     "iopub.execute_input": "2025-03-08T14:25:25.415518Z",
     "iopub.status.busy": "2025-03-08T14:25:25.415518Z",
     "iopub.status.idle": "2025-03-08T14:25:25.427097Z",
     "shell.execute_reply": "2025-03-08T14:25:25.427097Z",
     "shell.execute_reply.started": "2025-03-08T14:25:25.415518Z"
    }
   },
   "outputs": [
    {
     "name": "stdout",
     "output_type": "stream",
     "text": [
      "tensor(4.5048)\n"
     ]
    }
   ],
   "source": [
    "keys_2 = keys[1]             #1\n",
    "attn_score_22 = query_2.dot(keys_2)\n",
    "print(attn_score_22)"
   ]
  },
  {
   "cell_type": "code",
   "execution_count": 28,
   "id": "46cba8d7-c99d-466e-a8a9-cf370afefb53",
   "metadata": {
    "execution": {
     "iopub.execute_input": "2025-03-08T14:25:25.781404Z",
     "iopub.status.busy": "2025-03-08T14:25:25.781404Z",
     "iopub.status.idle": "2025-03-08T14:25:25.789006Z",
     "shell.execute_reply": "2025-03-08T14:25:25.789006Z",
     "shell.execute_reply.started": "2025-03-08T14:25:25.781404Z"
    }
   },
   "outputs": [
    {
     "name": "stdout",
     "output_type": "stream",
     "text": [
      "tensor([3.8246, 4.5048, 4.4410, 2.4036, 2.0424, 3.1900])\n"
     ]
    }
   ],
   "source": [
    "attn_scores_2 = query_2 @ keys.T       #1\n",
    "print(attn_scores_2)"
   ]
  },
  {
   "cell_type": "code",
   "execution_count": 29,
   "id": "d631877d-5b5a-41a9-8218-62d3f9dd27a1",
   "metadata": {
    "execution": {
     "iopub.execute_input": "2025-03-08T14:25:26.173653Z",
     "iopub.status.busy": "2025-03-08T14:25:26.173653Z",
     "iopub.status.idle": "2025-03-08T14:25:26.186086Z",
     "shell.execute_reply": "2025-03-08T14:25:26.186086Z",
     "shell.execute_reply.started": "2025-03-08T14:25:26.173653Z"
    }
   },
   "outputs": [
    {
     "data": {
      "text/plain": [
       "3"
      ]
     },
     "execution_count": 29,
     "metadata": {},
     "output_type": "execute_result"
    }
   ],
   "source": [
    "keys.shape[-1]"
   ]
  },
  {
   "cell_type": "code",
   "execution_count": 30,
   "id": "dc687d03-c9ea-4ee7-a3ca-c9d222dcc48d",
   "metadata": {
    "execution": {
     "iopub.execute_input": "2025-03-08T14:25:26.581258Z",
     "iopub.status.busy": "2025-03-08T14:25:26.581258Z",
     "iopub.status.idle": "2025-03-08T14:25:26.593695Z",
     "shell.execute_reply": "2025-03-08T14:25:26.593695Z",
     "shell.execute_reply.started": "2025-03-08T14:25:26.581258Z"
    }
   },
   "outputs": [
    {
     "name": "stdout",
     "output_type": "stream",
     "text": [
      "tensor([0.1852, 0.2743, 0.2644, 0.0815, 0.0662, 0.1284])\n",
      "tensor(1.)\n"
     ]
    }
   ],
   "source": [
    "d_k = keys.shape[-1]\n",
    "attn_weights_2 = torch.softmax(attn_scores_2 / d_k**0.5, dim=-1)\n",
    "print(attn_weights_2)\n",
    "print(attn_weights_2.sum())"
   ]
  },
  {
   "cell_type": "code",
   "execution_count": 31,
   "id": "2ed57c1c-1cc6-4312-9426-e07df4ba856f",
   "metadata": {
    "execution": {
     "iopub.execute_input": "2025-03-08T14:25:27.037206Z",
     "iopub.status.busy": "2025-03-08T14:25:27.037206Z",
     "iopub.status.idle": "2025-03-08T14:25:27.047988Z",
     "shell.execute_reply": "2025-03-08T14:25:27.047988Z",
     "shell.execute_reply.started": "2025-03-08T14:25:27.037206Z"
    }
   },
   "outputs": [
    {
     "name": "stdout",
     "output_type": "stream",
     "text": [
      "tensor([1.0258, 0.8922, 0.9975])\n"
     ]
    }
   ],
   "source": [
    "context_vec_2 = attn_weights_2 @ values\n",
    "print(context_vec_2)"
   ]
  },
  {
   "cell_type": "markdown",
   "id": "c5104b88-1172-4051-9d6d-6467b68b16f3",
   "metadata": {
    "execution": {
     "iopub.execute_input": "2025-03-08T14:20:06.192871Z",
     "iopub.status.busy": "2025-03-08T14:20:06.192871Z",
     "iopub.status.idle": "2025-03-08T14:20:06.197221Z",
     "shell.execute_reply": "2025-03-08T14:20:06.196209Z",
     "shell.execute_reply.started": "2025-03-08T14:20:06.192871Z"
    }
   },
   "source": [
    "# Q, K, V"
   ]
  },
  {
   "cell_type": "code",
   "execution_count": 32,
   "id": "28fdc585-b95b-415f-828b-b7b1696a81ad",
   "metadata": {
    "execution": {
     "iopub.execute_input": "2025-03-08T14:25:27.780569Z",
     "iopub.status.busy": "2025-03-08T14:25:27.780569Z",
     "iopub.status.idle": "2025-03-08T14:25:27.791065Z",
     "shell.execute_reply": "2025-03-08T14:25:27.790543Z",
     "shell.execute_reply.started": "2025-03-08T14:25:27.780569Z"
    }
   },
   "outputs": [],
   "source": [
    "import torch.nn as nn\n",
    "class SelfAttention_v1(nn.Module):\n",
    "    def __init__(self, d_in, d_out):\n",
    "        super().__init__()\n",
    "        self.W_query = nn.Parameter(torch.rand(d_in, d_out))\n",
    "        self.W_key   = nn.Parameter(torch.rand(d_in, d_out))\n",
    "        self.W_value = nn.Parameter(torch.rand(d_in, d_out))\n",
    "\n",
    "    def forward(self, x):\n",
    "        keys = x @ self.W_key\n",
    "        queries = x @ self.W_query\n",
    "        values = x @ self.W_value\n",
    "        attn_scores = queries @ keys.T # omega\n",
    "        attn_weights = torch.softmax(\n",
    "            attn_scores / keys.shape[-1]**0.5, dim=-1\n",
    "        )\n",
    "        context_vec = attn_weights @ values\n",
    "        return context_vec"
   ]
  },
  {
   "cell_type": "code",
   "execution_count": 33,
   "id": "243ecc16-c828-40de-93bf-e930d4220c29",
   "metadata": {
    "execution": {
     "iopub.execute_input": "2025-03-08T14:26:02.720221Z",
     "iopub.status.busy": "2025-03-08T14:26:02.720221Z",
     "iopub.status.idle": "2025-03-08T14:26:02.728017Z",
     "shell.execute_reply": "2025-03-08T14:26:02.728017Z",
     "shell.execute_reply.started": "2025-03-08T14:26:02.720221Z"
    }
   },
   "outputs": [
    {
     "data": {
      "text/plain": [
       "(3, 3)"
      ]
     },
     "execution_count": 33,
     "metadata": {},
     "output_type": "execute_result"
    }
   ],
   "source": [
    "d_in, d_out"
   ]
  },
  {
   "cell_type": "code",
   "execution_count": 36,
   "id": "e08d4992-6339-4b02-b02a-fd3ea76e547a",
   "metadata": {
    "execution": {
     "iopub.execute_input": "2025-03-08T14:29:06.402945Z",
     "iopub.status.busy": "2025-03-08T14:29:06.402945Z",
     "iopub.status.idle": "2025-03-08T14:29:06.413936Z",
     "shell.execute_reply": "2025-03-08T14:29:06.413936Z",
     "shell.execute_reply.started": "2025-03-08T14:29:06.402945Z"
    }
   },
   "outputs": [
    {
     "name": "stdout",
     "output_type": "stream",
     "text": [
      "tensor([[1.1916, 1.0666, 1.0965],\n",
      "        [1.2295, 1.1008, 1.1298],\n",
      "        [1.2283, 1.0997, 1.1288],\n",
      "        [1.1739, 1.0505, 1.0804],\n",
      "        [1.1696, 1.0465, 1.0765],\n",
      "        [1.1921, 1.0670, 1.0967]], grad_fn=<MmBackward0>)\n"
     ]
    }
   ],
   "source": [
    "sa_v1 = SelfAttention_v1(d_in, d_out)\n",
    "print(sa_v1(inputs))"
   ]
  },
  {
   "cell_type": "code",
   "execution_count": 37,
   "id": "4c456369-3028-4ce5-b186-82d5f6a0538f",
   "metadata": {
    "execution": {
     "iopub.execute_input": "2025-03-08T14:33:11.692399Z",
     "iopub.status.busy": "2025-03-08T14:33:11.691400Z",
     "iopub.status.idle": "2025-03-08T14:33:11.698697Z",
     "shell.execute_reply": "2025-03-08T14:33:11.697695Z",
     "shell.execute_reply.started": "2025-03-08T14:33:11.692399Z"
    }
   },
   "outputs": [],
   "source": [
    "class SelfAttention_v2(nn.Module):\n",
    "    def __init__(self, d_in, d_out, qkv_bias=False):\n",
    "        super().__init__()\n",
    "        self.W_query = nn.Linear(d_in, d_out, bias=qkv_bias)\n",
    "        self.W_key   = nn.Linear(d_in, d_out, bias=qkv_bias)\n",
    "        self.W_value = nn.Linear(d_in, d_out, bias=qkv_bias)\n",
    "\n",
    "    def forward(self, x):\n",
    "        keys = self.W_key(x)\n",
    "        queries = self.W_query(x)\n",
    "        values = self.W_value(x)\n",
    "        attn_scores = queries @ keys.T\n",
    "        attn_weights = torch.softmax(\n",
    "            attn_scores / keys.shape[-1]**0.5, dim=-1\n",
    "        )\n",
    "        context_vec = attn_weights @ values\n",
    "        return context_vec"
   ]
  },
  {
   "cell_type": "code",
   "execution_count": 38,
   "id": "cc247164-fd9a-4f08-8ef8-793549164aee",
   "metadata": {
    "execution": {
     "iopub.execute_input": "2025-03-08T14:33:24.748290Z",
     "iopub.status.busy": "2025-03-08T14:33:24.747283Z",
     "iopub.status.idle": "2025-03-08T14:33:24.758374Z",
     "shell.execute_reply": "2025-03-08T14:33:24.757355Z",
     "shell.execute_reply.started": "2025-03-08T14:33:24.748290Z"
    }
   },
   "outputs": [
    {
     "name": "stdout",
     "output_type": "stream",
     "text": [
      "tensor([[-0.3212, -0.1542,  0.3613],\n",
      "        [-0.3278, -0.1525,  0.3668],\n",
      "        [-0.3277, -0.1524,  0.3667],\n",
      "        [-0.3255, -0.1536,  0.3666],\n",
      "        [-0.3250, -0.1506,  0.3637],\n",
      "        [-0.3262, -0.1548,  0.3678]], grad_fn=<MmBackward0>)\n"
     ]
    }
   ],
   "source": [
    "sa_v2 = SelfAttention_v2(d_in, d_out)\n",
    "print(sa_v2(inputs))"
   ]
  },
  {
   "cell_type": "code",
   "execution_count": 39,
   "id": "53f20689-ccc2-4792-9a69-1014122f97c8",
   "metadata": {
    "execution": {
     "iopub.execute_input": "2025-03-08T14:53:31.544967Z",
     "iopub.status.busy": "2025-03-08T14:53:31.543969Z",
     "iopub.status.idle": "2025-03-08T14:53:31.553694Z",
     "shell.execute_reply": "2025-03-08T14:53:31.552681Z",
     "shell.execute_reply.started": "2025-03-08T14:53:31.544967Z"
    }
   },
   "outputs": [
    {
     "name": "stdout",
     "output_type": "stream",
     "text": [
      "tensor([[0.1688, 0.1651, 0.1655, 0.1653, 0.1735, 0.1616],\n",
      "        [0.1581, 0.1769, 0.1770, 0.1596, 0.1687, 0.1597],\n",
      "        [0.1580, 0.1766, 0.1768, 0.1599, 0.1689, 0.1599],\n",
      "        [0.1614, 0.1742, 0.1742, 0.1615, 0.1662, 0.1625],\n",
      "        [0.1575, 0.1683, 0.1686, 0.1678, 0.1723, 0.1655],\n",
      "        [0.1627, 0.1774, 0.1773, 0.1581, 0.1643, 0.1602]],\n",
      "       grad_fn=<SoftmaxBackward0>)\n"
     ]
    }
   ],
   "source": [
    "queries = sa_v2.W_query(inputs)     #1\n",
    "keys = sa_v2.W_key(inputs) \n",
    "attn_scores = queries @ keys.T\n",
    "attn_weights = torch.softmax(attn_scores / keys.shape[-1]**0.5, dim=-1)\n",
    "print(attn_weights)"
   ]
  },
  {
   "cell_type": "code",
   "execution_count": 44,
   "id": "eec41835-a343-4cb1-ab90-115f7f666da6",
   "metadata": {
    "execution": {
     "iopub.execute_input": "2025-03-08T14:57:12.046187Z",
     "iopub.status.busy": "2025-03-08T14:57:12.046187Z",
     "iopub.status.idle": "2025-03-08T14:57:12.052609Z",
     "shell.execute_reply": "2025-03-08T14:57:12.052609Z",
     "shell.execute_reply.started": "2025-03-08T14:57:12.046187Z"
    }
   },
   "outputs": [
    {
     "name": "stdout",
     "output_type": "stream",
     "text": [
      "tensor([[1., 0., 0., 0., 0., 0.],\n",
      "        [1., 1., 0., 0., 0., 0.],\n",
      "        [1., 1., 1., 0., 0., 0.],\n",
      "        [1., 1., 1., 1., 0., 0.],\n",
      "        [1., 1., 1., 1., 1., 0.],\n",
      "        [1., 1., 1., 1., 1., 1.]])\n",
      "tensor([[0.1688, 0.0000, 0.0000, 0.0000, 0.0000, 0.0000],\n",
      "        [0.1581, 0.1769, 0.0000, 0.0000, 0.0000, 0.0000],\n",
      "        [0.1580, 0.1766, 0.1768, 0.0000, 0.0000, 0.0000],\n",
      "        [0.1614, 0.1742, 0.1742, 0.1615, 0.0000, 0.0000],\n",
      "        [0.1575, 0.1683, 0.1686, 0.1678, 0.1723, 0.0000],\n",
      "        [0.1627, 0.1774, 0.1773, 0.1581, 0.1643, 0.1602]],\n",
      "       grad_fn=<MulBackward0>)\n"
     ]
    }
   ],
   "source": [
    "context_length = attn_scores.shape[0]\n",
    "mask_simple = torch.tril(torch.ones(context_length, context_length))\n",
    "print(mask_simple)\n",
    "masked_simple = attn_weights*mask_simple\n",
    "print(masked_simple)"
   ]
  },
  {
   "cell_type": "code",
   "execution_count": 43,
   "id": "681f7a7f-6383-4ac4-8622-b66e84f78724",
   "metadata": {
    "execution": {
     "iopub.execute_input": "2025-03-08T14:57:09.754348Z",
     "iopub.status.busy": "2025-03-08T14:57:09.753346Z",
     "iopub.status.idle": "2025-03-08T14:57:09.759978Z",
     "shell.execute_reply": "2025-03-08T14:57:09.758972Z",
     "shell.execute_reply.started": "2025-03-08T14:57:09.754348Z"
    }
   },
   "outputs": [
    {
     "name": "stdout",
     "output_type": "stream",
     "text": [
      "tensor([[0.1688, 0.0000, 0.0000, 0.0000, 0.0000, 0.0000],\n",
      "        [0.1581, 0.1769, 0.0000, 0.0000, 0.0000, 0.0000],\n",
      "        [0.1580, 0.1766, 0.1768, 0.0000, 0.0000, 0.0000],\n",
      "        [0.1614, 0.1742, 0.1742, 0.1615, 0.0000, 0.0000],\n",
      "        [0.1575, 0.1683, 0.1686, 0.1678, 0.1723, 0.0000],\n",
      "        [0.1627, 0.1774, 0.1773, 0.1581, 0.1643, 0.1602]],\n",
      "       grad_fn=<TrilBackward0>)\n"
     ]
    }
   ],
   "source": [
    "masked_simple = torch.tril(attn_weights)\n",
    "print(masked_simple)"
   ]
  },
  {
   "cell_type": "code",
   "execution_count": 45,
   "id": "67d6ca26-b513-4976-bcd4-da724788e561",
   "metadata": {
    "execution": {
     "iopub.execute_input": "2025-03-08T14:57:52.043054Z",
     "iopub.status.busy": "2025-03-08T14:57:52.043054Z",
     "iopub.status.idle": "2025-03-08T14:57:52.054457Z",
     "shell.execute_reply": "2025-03-08T14:57:52.053428Z",
     "shell.execute_reply.started": "2025-03-08T14:57:52.043054Z"
    }
   },
   "outputs": [
    {
     "name": "stdout",
     "output_type": "stream",
     "text": [
      "tensor([[1.0000, 0.0000, 0.0000, 0.0000, 0.0000, 0.0000],\n",
      "        [0.4720, 0.5280, 0.0000, 0.0000, 0.0000, 0.0000],\n",
      "        [0.3089, 0.3454, 0.3457, 0.0000, 0.0000, 0.0000],\n",
      "        [0.2404, 0.2595, 0.2595, 0.2406, 0.0000, 0.0000],\n",
      "        [0.1887, 0.2017, 0.2020, 0.2011, 0.2064, 0.0000],\n",
      "        [0.1627, 0.1774, 0.1773, 0.1581, 0.1643, 0.1602]],\n",
      "       grad_fn=<DivBackward0>)\n"
     ]
    }
   ],
   "source": [
    "row_sums = masked_simple.sum(dim=-1, keepdim=True)\n",
    "masked_simple_norm = masked_simple / row_sums\n",
    "print(masked_simple_norm)"
   ]
  },
  {
   "cell_type": "code",
   "execution_count": 46,
   "id": "08a2d563-2373-494f-bc72-ce613c2223f2",
   "metadata": {
    "execution": {
     "iopub.execute_input": "2025-03-08T15:04:55.162435Z",
     "iopub.status.busy": "2025-03-08T15:04:55.162435Z",
     "iopub.status.idle": "2025-03-08T15:04:55.175621Z",
     "shell.execute_reply": "2025-03-08T15:04:55.174612Z",
     "shell.execute_reply.started": "2025-03-08T15:04:55.162435Z"
    }
   },
   "outputs": [
    {
     "name": "stdout",
     "output_type": "stream",
     "text": [
      "tensor([[ 0.0013,    -inf,    -inf,    -inf,    -inf,    -inf],\n",
      "        [ 0.1921,  0.3865,    -inf,    -inf,    -inf,    -inf],\n",
      "        [ 0.1802,  0.3733,  0.3748,    -inf,    -inf,    -inf],\n",
      "        [ 0.1544,  0.2865,  0.2865,  0.1554,    -inf,    -inf],\n",
      "        [-0.0846,  0.0306,  0.0332,  0.0253,  0.0705,    -inf],\n",
      "        [ 0.2740,  0.4243,  0.4236,  0.2251,  0.2910,  0.2480]],\n",
      "       grad_fn=<MaskedFillBackward0>)\n"
     ]
    }
   ],
   "source": [
    "mask = torch.triu(torch.ones(context_length, context_length), diagonal=1)\n",
    "masked = attn_scores.masked_fill(mask.bool(), -torch.inf)\n",
    "print(masked)"
   ]
  },
  {
   "cell_type": "code",
   "execution_count": 47,
   "id": "2a5b9466-249e-413e-b722-2e5853a9e4bc",
   "metadata": {
    "execution": {
     "iopub.execute_input": "2025-03-08T15:05:20.674642Z",
     "iopub.status.busy": "2025-03-08T15:05:20.673640Z",
     "iopub.status.idle": "2025-03-08T15:05:20.680758Z",
     "shell.execute_reply": "2025-03-08T15:05:20.679736Z",
     "shell.execute_reply.started": "2025-03-08T15:05:20.674642Z"
    }
   },
   "outputs": [
    {
     "name": "stdout",
     "output_type": "stream",
     "text": [
      "tensor([[1.0000, 0.0000, 0.0000, 0.0000, 0.0000, 0.0000],\n",
      "        [0.4720, 0.5280, 0.0000, 0.0000, 0.0000, 0.0000],\n",
      "        [0.3089, 0.3454, 0.3457, 0.0000, 0.0000, 0.0000],\n",
      "        [0.2404, 0.2595, 0.2595, 0.2406, 0.0000, 0.0000],\n",
      "        [0.1887, 0.2017, 0.2020, 0.2011, 0.2064, 0.0000],\n",
      "        [0.1627, 0.1774, 0.1773, 0.1581, 0.1643, 0.1602]],\n",
      "       grad_fn=<SoftmaxBackward0>)\n"
     ]
    }
   ],
   "source": [
    "attn_weights = torch.softmax(masked / keys.shape[-1]**0.5, dim=1)\n",
    "print(attn_weights)"
   ]
  },
  {
   "cell_type": "code",
   "execution_count": 48,
   "id": "ce7b76be-00ba-4bc8-993f-39c3e183bca4",
   "metadata": {
    "execution": {
     "iopub.execute_input": "2025-03-08T15:07:51.553353Z",
     "iopub.status.busy": "2025-03-08T15:07:51.552352Z",
     "iopub.status.idle": "2025-03-08T15:07:51.564733Z",
     "shell.execute_reply": "2025-03-08T15:07:51.564733Z",
     "shell.execute_reply.started": "2025-03-08T15:07:51.553353Z"
    }
   },
   "outputs": [
    {
     "name": "stdout",
     "output_type": "stream",
     "text": [
      "tensor([[2., 2., 2., 2., 2., 2.],\n",
      "        [2., 2., 0., 2., 0., 2.],\n",
      "        [0., 0., 0., 2., 0., 0.],\n",
      "        [2., 2., 0., 2., 0., 0.],\n",
      "        [0., 2., 2., 0., 2., 0.],\n",
      "        [2., 2., 2., 2., 2., 2.]])\n"
     ]
    }
   ],
   "source": [
    "dropout = torch.nn.Dropout(0.5)    #1\n",
    "example = torch.ones(6, 6)      #2\n",
    "print(dropout(example))"
   ]
  },
  {
   "cell_type": "code",
   "execution_count": 52,
   "id": "c970363c-1f93-47fc-b6d4-3aebbd2da957",
   "metadata": {
    "execution": {
     "iopub.execute_input": "2025-03-08T15:10:34.766518Z",
     "iopub.status.busy": "2025-03-08T15:10:34.765523Z",
     "iopub.status.idle": "2025-03-08T15:10:34.772361Z",
     "shell.execute_reply": "2025-03-08T15:10:34.771350Z",
     "shell.execute_reply.started": "2025-03-08T15:10:34.766518Z"
    }
   },
   "outputs": [
    {
     "name": "stdout",
     "output_type": "stream",
     "text": [
      "tensor([[0.0000, 0.0000, 0.0000, 0.0000, 0.0000, 0.0000],\n",
      "        [0.9439, 1.0561, 0.0000, 0.0000, 0.0000, 0.0000],\n",
      "        [0.6179, 0.6908, 0.6914, 0.0000, 0.0000, 0.0000],\n",
      "        [0.4809, 0.0000, 0.0000, 0.0000, 0.0000, 0.0000],\n",
      "        [0.3775, 0.0000, 0.4040, 0.0000, 0.0000, 0.0000],\n",
      "        [0.3253, 0.3548, 0.3546, 0.0000, 0.3285, 0.3205]],\n",
      "       grad_fn=<MulBackward0>)\n"
     ]
    }
   ],
   "source": [
    "print(dropout(attn_weights))"
   ]
  },
  {
   "cell_type": "code",
   "execution_count": 53,
   "id": "5f85426b-9ce2-4afe-a21a-1927ef4b69bb",
   "metadata": {
    "execution": {
     "iopub.execute_input": "2025-03-08T18:37:35.772818Z",
     "iopub.status.busy": "2025-03-08T18:37:35.772818Z",
     "iopub.status.idle": "2025-03-08T18:37:35.782455Z",
     "shell.execute_reply": "2025-03-08T18:37:35.781444Z",
     "shell.execute_reply.started": "2025-03-08T18:37:35.772818Z"
    }
   },
   "outputs": [
    {
     "name": "stdout",
     "output_type": "stream",
     "text": [
      "torch.Size([2, 6, 3])\n"
     ]
    }
   ],
   "source": [
    "batch = torch.stack((inputs, inputs), dim=0)\n",
    "print(batch.shape)     "
   ]
  },
  {
   "cell_type": "code",
   "execution_count": 54,
   "id": "d4726e2f-9d25-4a49-854d-f3d71be7c0b6",
   "metadata": {
    "execution": {
     "iopub.execute_input": "2025-03-08T18:37:43.227258Z",
     "iopub.status.busy": "2025-03-08T18:37:43.226255Z",
     "iopub.status.idle": "2025-03-08T18:37:43.233290Z",
     "shell.execute_reply": "2025-03-08T18:37:43.232258Z",
     "shell.execute_reply.started": "2025-03-08T18:37:43.227258Z"
    }
   },
   "outputs": [
    {
     "data": {
      "text/plain": [
       "torch.Size([6, 3])"
      ]
     },
     "execution_count": 54,
     "metadata": {},
     "output_type": "execute_result"
    }
   ],
   "source": [
    "inputs.shape"
   ]
  },
  {
   "cell_type": "code",
   "execution_count": 55,
   "id": "a4d15b4d-8c48-4512-a3bb-fac923c34c3d",
   "metadata": {
    "execution": {
     "iopub.execute_input": "2025-03-08T18:55:25.321383Z",
     "iopub.status.busy": "2025-03-08T18:55:25.320377Z",
     "iopub.status.idle": "2025-03-08T18:55:25.335379Z",
     "shell.execute_reply": "2025-03-08T18:55:25.334376Z",
     "shell.execute_reply.started": "2025-03-08T18:55:25.321383Z"
    }
   },
   "outputs": [],
   "source": [
    "class CausalAttention(nn.Module):\n",
    "    def __init__(self, d_in, d_out, context_length,\n",
    "                dropout: float = 0.5, qkv_bias=False):\n",
    "        super().__init__()\n",
    "        self.d_out = d_out\n",
    "        self.W_query = nn.Linear(d_in, d_out, bias=qkv_bias)\n",
    "        self.W_key   = nn.Linear(d_in, d_out, bias=qkv_bias)\n",
    "        self.W_value = nn.Linear(d_in, d_out, bias=qkv_bias)\n",
    "        self.dropout = nn.Dropout(dropout)            #1\n",
    "        self.register_buffer(\n",
    "           'mask',\n",
    "           torch.triu(torch.ones(context_length, context_length),\n",
    "           diagonal=1)\n",
    "        )             #2\n",
    "\n",
    "    def forward(self, x):\n",
    "        b, num_tokens, d_in = x.shape                   #3\n",
    "        keys = self.W_key(x)\n",
    "        queries = self.W_query(x)\n",
    "        values = self.W_value(x)\n",
    "\n",
    "        attn_scores = queries @ keys.transpose(1, 2)   \n",
    "        attn_scores.masked_fill_(                    #4\n",
    "            self.mask.bool()[:num_tokens, :num_tokens], -torch.inf\n",
    "        ) \n",
    "        attn_weights = torch.softmax(\n",
    "            attn_scores / keys.shape[-1]**0.5, dim=-1\n",
    "        )\n",
    "        attn_weights = self.dropout(attn_weights)\n",
    "\n",
    "        context_vec = attn_weights @ values\n",
    "        return context_vec"
   ]
  },
  {
   "cell_type": "code",
   "execution_count": 57,
   "id": "6ec887ed-0663-4b42-a4aa-81bf71d1dac4",
   "metadata": {
    "execution": {
     "iopub.execute_input": "2025-03-08T18:55:49.881200Z",
     "iopub.status.busy": "2025-03-08T18:55:49.880211Z",
     "iopub.status.idle": "2025-03-08T18:55:49.888249Z",
     "shell.execute_reply": "2025-03-08T18:55:49.887234Z",
     "shell.execute_reply.started": "2025-03-08T18:55:49.881200Z"
    }
   },
   "outputs": [
    {
     "data": {
      "text/plain": [
       "6"
      ]
     },
     "execution_count": 57,
     "metadata": {},
     "output_type": "execute_result"
    }
   ],
   "source": [
    "context_length"
   ]
  },
  {
   "cell_type": "code",
   "execution_count": 56,
   "id": "f4ea655a-aedc-4122-9363-56564515798b",
   "metadata": {
    "execution": {
     "iopub.execute_input": "2025-03-08T18:55:29.728114Z",
     "iopub.status.busy": "2025-03-08T18:55:29.727122Z",
     "iopub.status.idle": "2025-03-08T18:55:29.754514Z",
     "shell.execute_reply": "2025-03-08T18:55:29.753496Z",
     "shell.execute_reply.started": "2025-03-08T18:55:29.728114Z"
    }
   },
   "outputs": [
    {
     "name": "stdout",
     "output_type": "stream",
     "text": [
      "context_vecs.shape: torch.Size([2, 6, 3])\n"
     ]
    }
   ],
   "source": [
    "torch.manual_seed(123)\n",
    "context_length = batch.shape[1]\n",
    "ca = CausalAttention(d_in, d_out, context_length, 0.0)\n",
    "context_vecs = ca(batch)\n",
    "print(\"context_vecs.shape:\", context_vecs.shape)"
   ]
  },
  {
   "cell_type": "code",
   "execution_count": 59,
   "id": "3e43d0e9-4b2f-4462-98ad-9c8d71e6708a",
   "metadata": {
    "execution": {
     "iopub.execute_input": "2025-03-08T19:06:17.647805Z",
     "iopub.status.busy": "2025-03-08T19:06:17.647805Z",
     "iopub.status.idle": "2025-03-08T19:06:17.653805Z",
     "shell.execute_reply": "2025-03-08T19:06:17.653805Z",
     "shell.execute_reply.started": "2025-03-08T19:06:17.647805Z"
    }
   },
   "outputs": [],
   "source": [
    "class MultiHeadAttentionWrapper(nn.Module):\n",
    "    def __init__(self, d_in, d_out, context_length,\n",
    "                 dropout: float = 0.5, num_heads = 2, qkv_bias=False):\n",
    "        super().__init__()\n",
    "        self.heads = nn.ModuleList(\n",
    "            [CausalAttention(\n",
    "                 d_in, d_out, context_length, dropout, qkv_bias\n",
    "             ) \n",
    "             for _ in range(num_heads)]\n",
    "        )\n",
    "\n",
    "    def forward(self, x):\n",
    "        return torch.cat([head(x) for head in self.heads], dim=-1)"
   ]
  },
  {
   "cell_type": "code",
   "execution_count": 60,
   "id": "e6e6c354-ed25-485a-82e6-f15b9708c421",
   "metadata": {
    "execution": {
     "iopub.execute_input": "2025-03-08T19:10:59.652332Z",
     "iopub.status.busy": "2025-03-08T19:10:59.652332Z",
     "iopub.status.idle": "2025-03-08T19:10:59.658508Z",
     "shell.execute_reply": "2025-03-08T19:10:59.657510Z",
     "shell.execute_reply.started": "2025-03-08T19:10:59.652332Z"
    }
   },
   "outputs": [
    {
     "data": {
      "text/plain": [
       "6"
      ]
     },
     "execution_count": 60,
     "metadata": {},
     "output_type": "execute_result"
    }
   ],
   "source": [
    "batch.shape[1]"
   ]
  },
  {
   "cell_type": "code",
   "execution_count": 61,
   "id": "3433e180-9a53-4a4d-9ecf-543029ebf89d",
   "metadata": {
    "execution": {
     "iopub.execute_input": "2025-03-08T19:11:12.371160Z",
     "iopub.status.busy": "2025-03-08T19:11:12.371160Z",
     "iopub.status.idle": "2025-03-08T19:11:12.381073Z",
     "shell.execute_reply": "2025-03-08T19:11:12.380048Z",
     "shell.execute_reply.started": "2025-03-08T19:11:12.371160Z"
    }
   },
   "outputs": [
    {
     "data": {
      "text/plain": [
       "6"
      ]
     },
     "execution_count": 61,
     "metadata": {},
     "output_type": "execute_result"
    }
   ],
   "source": [
    "context_length"
   ]
  },
  {
   "cell_type": "code",
   "execution_count": 62,
   "id": "d840bbfe-04bb-4eb7-b9f5-9aee31fd8e5c",
   "metadata": {
    "execution": {
     "iopub.execute_input": "2025-03-08T19:11:29.336851Z",
     "iopub.status.busy": "2025-03-08T19:11:29.336851Z",
     "iopub.status.idle": "2025-03-08T19:11:29.361126Z",
     "shell.execute_reply": "2025-03-08T19:11:29.360126Z",
     "shell.execute_reply.started": "2025-03-08T19:11:29.336851Z"
    }
   },
   "outputs": [
    {
     "name": "stdout",
     "output_type": "stream",
     "text": [
      "tensor([[[ 0.0752,  0.4566,  0.2729, -0.0322, -0.4610,  0.2847, -0.3886,\n",
      "          -0.1471,  0.4106,  0.2869,  0.2964, -0.1885],\n",
      "         [ 0.0313,  0.5977,  0.3053, -0.2642, -0.3017,  0.4047, -0.1700,\n",
      "          -0.2532,  0.3527,  0.3626,  0.2247, -0.3241],\n",
      "         [ 0.0178,  0.6413,  0.3138, -0.3371, -0.2502,  0.4369, -0.1055,\n",
      "          -0.2813,  0.3304,  0.3880,  0.2032, -0.3675],\n",
      "         [ 0.0089,  0.5729,  0.2785, -0.3210, -0.2028,  0.4068, -0.0654,\n",
      "          -0.2649,  0.2920,  0.3533,  0.1571, -0.3522],\n",
      "         [ 0.0071,  0.5566,  0.2514, -0.3377, -0.1566,  0.3424, -0.0584,\n",
      "          -0.2268,  0.2288,  0.3361,  0.1866, -0.3058],\n",
      "         [ 0.0023,  0.5363,  0.2508, -0.3262, -0.1548,  0.3678, -0.0315,\n",
      "          -0.2445,  0.2433,  0.3284,  0.1422, -0.3274]],\n",
      "\n",
      "        [[ 0.0752,  0.4566,  0.2729, -0.0322, -0.4610,  0.2847, -0.3886,\n",
      "          -0.1471,  0.4106,  0.2869,  0.2964, -0.1885],\n",
      "         [ 0.0313,  0.5977,  0.3053, -0.2642, -0.3017,  0.4047, -0.1700,\n",
      "          -0.2532,  0.3527,  0.3626,  0.2247, -0.3241],\n",
      "         [ 0.0178,  0.6413,  0.3138, -0.3371, -0.2502,  0.4369, -0.1055,\n",
      "          -0.2813,  0.3304,  0.3880,  0.2032, -0.3675],\n",
      "         [ 0.0089,  0.5729,  0.2785, -0.3210, -0.2028,  0.4068, -0.0654,\n",
      "          -0.2649,  0.2920,  0.3533,  0.1571, -0.3522],\n",
      "         [ 0.0071,  0.5566,  0.2514, -0.3377, -0.1566,  0.3424, -0.0584,\n",
      "          -0.2268,  0.2288,  0.3361,  0.1866, -0.3058],\n",
      "         [ 0.0023,  0.5363,  0.2508, -0.3262, -0.1548,  0.3678, -0.0315,\n",
      "          -0.2445,  0.2433,  0.3284,  0.1422, -0.3274]]],\n",
      "       grad_fn=<CatBackward0>)\n",
      "context_vecs.shape: torch.Size([2, 6, 12])\n"
     ]
    }
   ],
   "source": [
    "context_length = batch.shape[1] # This is the number of tokens\n",
    "d_in, d_out = 3, 3\n",
    "mha = MultiHeadAttentionWrapper(\n",
    "    d_in, d_out, context_length, 0.0, num_heads=4\n",
    ")\n",
    "context_vecs = mha(batch)\n",
    "\n",
    "print(context_vecs)\n",
    "print(\"context_vecs.shape:\", context_vecs.shape)"
   ]
  },
  {
   "cell_type": "code",
   "execution_count": 63,
   "id": "f5785dc6-cff4-4a78-bf14-7179ffc4b2af",
   "metadata": {
    "execution": {
     "iopub.execute_input": "2025-03-08T19:19:45.379485Z",
     "iopub.status.busy": "2025-03-08T19:19:45.378484Z",
     "iopub.status.idle": "2025-03-08T19:19:45.393832Z",
     "shell.execute_reply": "2025-03-08T19:19:45.392817Z",
     "shell.execute_reply.started": "2025-03-08T19:19:45.379485Z"
    }
   },
   "outputs": [],
   "source": [
    "class MultiHeadAttention(nn.Module):\n",
    "    def __init__(self, d_in, d_out, \n",
    "                 context_length, dropout, num_heads, qkv_bias=False):\n",
    "        super().__init__()\n",
    "        assert (d_out % num_heads == 0), \\\n",
    "            \"d_out must be divisible by num_heads\"\n",
    "\n",
    "        self.d_out = d_out\n",
    "        self.num_heads = num_heads\n",
    "        self.head_dim = d_out // num_heads    #1\n",
    "        self.W_query = nn.Linear(d_in, d_out, bias=qkv_bias)\n",
    "        self.W_key = nn.Linear(d_in, d_out, bias=qkv_bias)\n",
    "        self.W_value = nn.Linear(d_in, d_out, bias=qkv_bias)\n",
    "        self.out_proj = nn.Linear(d_out, d_out)    #2\n",
    "        self.dropout = nn.Dropout(dropout)\n",
    "        self.register_buffer(\n",
    "            \"mask\",\n",
    "            torch.triu(torch.ones(context_length, context_length),\n",
    "                       diagonal=1)\n",
    "        )\n",
    "\n",
    "    def forward(self, x):\n",
    "        b, num_tokens, d_in = x.shape\n",
    "        keys = self.W_key(x)         #3\n",
    "        queries = self.W_query(x)    #3\n",
    "        values = self.W_value(x)     #3\n",
    "\n",
    "        keys = keys.view(b, num_tokens, self.num_heads, self.head_dim)       #4\n",
    "        values = values.view(b, num_tokens, self.num_heads, self.head_dim)  \n",
    "        queries = queries.view(                                             \n",
    "            b, num_tokens, self.num_heads, self.head_dim                    \n",
    "        )                                                                   \n",
    "\n",
    "        keys = keys.transpose(1, 2)          #5\n",
    "        queries = queries.transpose(1, 2)    #5\n",
    "        values = values.transpose(1, 2)      #5\n",
    "\n",
    "        attn_scores = queries @ keys.transpose(2, 3)   #6\n",
    "        mask_bool = self.mask.bool()[:num_tokens, :num_tokens]    #7\n",
    "\n",
    "        attn_scores.masked_fill_(mask_bool, -torch.inf)     #8\n",
    "\n",
    "        attn_weights = torch.softmax(\n",
    "            attn_scores / keys.shape[-1]**0.5, dim=-1)\n",
    "        attn_weights = self.dropout(attn_weights)\n",
    "\n",
    "        context_vec = (attn_weights @ values).transpose(1, 2)   #9\n",
    " #10\n",
    "        context_vec = context_vec.contiguous().view(\n",
    "            b, num_tokens, self.d_out\n",
    "        )\n",
    "        context_vec = self.out_proj(context_vec)    #11\n",
    "        return context_vec"
   ]
  },
  {
   "cell_type": "code",
   "execution_count": 64,
   "id": "a407d511-ed70-41a7-85bd-8934532eb25c",
   "metadata": {
    "execution": {
     "iopub.execute_input": "2025-03-08T19:20:05.801205Z",
     "iopub.status.busy": "2025-03-08T19:20:05.800198Z",
     "iopub.status.idle": "2025-03-08T19:20:05.808651Z",
     "shell.execute_reply": "2025-03-08T19:20:05.808651Z",
     "shell.execute_reply.started": "2025-03-08T19:20:05.801205Z"
    }
   },
   "outputs": [],
   "source": [
    "a = torch.tensor([[[[0.2745, 0.6584, 0.2775, 0.8573],    #1\n",
    "                    [0.8993, 0.0390, 0.9268, 0.7388],\n",
    "                    [0.7179, 0.7058, 0.9156, 0.4340]],\n",
    "\n",
    "                   [[0.0772, 0.3565, 0.1479, 0.5331],\n",
    "                    [0.4066, 0.2318, 0.4545, 0.9737],\n",
    "                    [0.4606, 0.5159, 0.4220, 0.5786]]]])"
   ]
  },
  {
   "cell_type": "code",
   "execution_count": 65,
   "id": "5ca9a3b9-f43d-4b19-ad77-a2da29a99fe3",
   "metadata": {
    "execution": {
     "iopub.execute_input": "2025-03-08T19:20:10.220378Z",
     "iopub.status.busy": "2025-03-08T19:20:10.219387Z",
     "iopub.status.idle": "2025-03-08T19:20:10.227015Z",
     "shell.execute_reply": "2025-03-08T19:20:10.225994Z",
     "shell.execute_reply.started": "2025-03-08T19:20:10.220378Z"
    }
   },
   "outputs": [
    {
     "data": {
      "text/plain": [
       "torch.Size([1, 2, 3, 4])"
      ]
     },
     "execution_count": 65,
     "metadata": {},
     "output_type": "execute_result"
    }
   ],
   "source": [
    "a.shape"
   ]
  },
  {
   "cell_type": "code",
   "execution_count": 67,
   "id": "bef9e07a-85a9-468c-9b47-4adc705a8f68",
   "metadata": {
    "execution": {
     "iopub.execute_input": "2025-03-08T19:21:07.332944Z",
     "iopub.status.busy": "2025-03-08T19:21:07.332944Z",
     "iopub.status.idle": "2025-03-08T19:21:07.337993Z",
     "shell.execute_reply": "2025-03-08T19:21:07.336991Z",
     "shell.execute_reply.started": "2025-03-08T19:21:07.332944Z"
    }
   },
   "outputs": [],
   "source": [
    "b = a @ a.transpose(2, 3)"
   ]
  },
  {
   "cell_type": "code",
   "execution_count": 68,
   "id": "93a97ccc-5362-48e2-8073-f1a5858783e9",
   "metadata": {
    "execution": {
     "iopub.execute_input": "2025-03-08T19:21:07.577139Z",
     "iopub.status.busy": "2025-03-08T19:21:07.577139Z",
     "iopub.status.idle": "2025-03-08T19:21:07.583754Z",
     "shell.execute_reply": "2025-03-08T19:21:07.582742Z",
     "shell.execute_reply.started": "2025-03-08T19:21:07.577139Z"
    }
   },
   "outputs": [
    {
     "data": {
      "text/plain": [
       "torch.Size([1, 2, 3, 3])"
      ]
     },
     "execution_count": 68,
     "metadata": {},
     "output_type": "execute_result"
    }
   ],
   "source": [
    "b.shape"
   ]
  },
  {
   "cell_type": "code",
   "execution_count": 69,
   "id": "635f655f-2978-47a3-b25f-8a0b5f638a8b",
   "metadata": {
    "execution": {
     "iopub.execute_input": "2025-03-08T19:23:30.260836Z",
     "iopub.status.busy": "2025-03-08T19:23:30.259840Z",
     "iopub.status.idle": "2025-03-08T19:23:30.275243Z",
     "shell.execute_reply": "2025-03-08T19:23:30.274224Z",
     "shell.execute_reply.started": "2025-03-08T19:23:30.260836Z"
    }
   },
   "outputs": [
    {
     "name": "stdout",
     "output_type": "stream",
     "text": [
      "tensor([[[0.3190, 0.4858],\n",
      "         [0.2943, 0.3897],\n",
      "         [0.2856, 0.3593],\n",
      "         [0.2693, 0.3873],\n",
      "         [0.2639, 0.3928],\n",
      "         [0.2575, 0.4028]],\n",
      "\n",
      "        [[0.3190, 0.4858],\n",
      "         [0.2943, 0.3897],\n",
      "         [0.2856, 0.3593],\n",
      "         [0.2693, 0.3873],\n",
      "         [0.2639, 0.3928],\n",
      "         [0.2575, 0.4028]]], grad_fn=<ViewBackward0>)\n",
      "context_vecs.shape: torch.Size([2, 6, 2])\n"
     ]
    }
   ],
   "source": [
    "torch.manual_seed(123)\n",
    "batch_size, context_length, d_in = batch.shape\n",
    "d_out = 2\n",
    "mha = MultiHeadAttention(d_in, d_out, context_length, 0.0, num_heads=2)\n",
    "context_vecs = mha(batch)\n",
    "print(context_vecs)\n",
    "print(\"context_vecs.shape:\", context_vecs.shape)"
   ]
  },
  {
   "cell_type": "code",
   "execution_count": null,
   "id": "53bde717-bee6-4b8c-9b92-9412f0c626e5",
   "metadata": {},
   "outputs": [],
   "source": []
  }
 ],
 "metadata": {
  "kernelspec": {
   "display_name": "Python 3 (ipykernel)",
   "language": "python",
   "name": "python3"
  },
  "language_info": {
   "codemirror_mode": {
    "name": "ipython",
    "version": 3
   },
   "file_extension": ".py",
   "mimetype": "text/x-python",
   "name": "python",
   "nbconvert_exporter": "python",
   "pygments_lexer": "ipython3",
   "version": "3.11.9"
  }
 },
 "nbformat": 4,
 "nbformat_minor": 5
}
