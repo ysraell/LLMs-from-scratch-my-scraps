{
 "cells": [
  {
   "cell_type": "code",
   "execution_count": 1,
   "id": "ed8b5c46-9d1c-4fc3-8abd-6a79a64744eb",
   "metadata": {
    "execution": {
     "iopub.execute_input": "2025-03-12T12:53:53.352914Z",
     "iopub.status.busy": "2025-03-12T12:53:53.352914Z",
     "iopub.status.idle": "2025-03-12T12:53:53.362384Z",
     "shell.execute_reply": "2025-03-12T12:53:53.361362Z",
     "shell.execute_reply.started": "2025-03-12T12:53:53.352914Z"
    }
   },
   "outputs": [],
   "source": [
    "GPT_CONFIG_124M = {\n",
    "    \"vocab_size\": 50257,     # Vocabulary size\n",
    "    \"context_length\": 1024,  # Context length\n",
    "    \"emb_dim\": 768,          # Embedding dimension\n",
    "    \"n_heads\": 12,           # Number of attention heads\n",
    "    \"n_layers\": 12,          # Number of layers\n",
    "    \"drop_rate\": 0.1,        # Dropout rate\n",
    "    \"qkv_bias\": False        # Query-Key-Value bias\n",
    "}"
   ]
  },
  {
   "cell_type": "code",
   "execution_count": 2,
   "id": "292dc3a5-cf93-4f01-9886-621944785d6f",
   "metadata": {
    "execution": {
     "iopub.execute_input": "2025-03-12T12:53:53.365390Z",
     "iopub.status.busy": "2025-03-12T12:53:53.364387Z",
     "iopub.status.idle": "2025-03-12T12:53:55.921405Z",
     "shell.execute_reply": "2025-03-12T12:53:55.920384Z",
     "shell.execute_reply.started": "2025-03-12T12:53:53.365390Z"
    }
   },
   "outputs": [],
   "source": [
    "import torch\n",
    "import torch.nn as nn\n",
    "\n",
    "class DummyGPTModel(nn.Module):\n",
    "    def __init__(self, cfg):\n",
    "        super().__init__()\n",
    "        self.tok_emb = nn.Embedding(cfg[\"vocab_size\"], cfg[\"emb_dim\"])\n",
    "        self.pos_emb = nn.Embedding(cfg[\"context_length\"], cfg[\"emb_dim\"])\n",
    "        self.drop_emb = nn.Dropout(cfg[\"drop_rate\"])\n",
    "        self.trf_blocks = nn.Sequential(               #1\n",
    "            *[DummyTransformerBlock(cfg)               #1\n",
    "              for _ in range(cfg[\"n_layers\"])]         #1\n",
    "        )                                              #1\n",
    "        self.final_norm = DummyLayerNorm(cfg[\"emb_dim\"])     #2\n",
    "        self.out_head = nn.Linear(\n",
    "            cfg[\"emb_dim\"], cfg[\"vocab_size\"], bias=False\n",
    "        )\n",
    "\n",
    "    def forward(self, in_idx):\n",
    "        batch_size, seq_len = in_idx.shape\n",
    "        tok_embeds = self.tok_emb(in_idx)\n",
    "        pos_embeds = self.pos_emb(\n",
    "            torch.arange(seq_len, device=in_idx.device)\n",
    "        )\n",
    "        x = tok_embeds + pos_embeds\n",
    "        x = self.drop_emb(x)\n",
    "        x = self.trf_blocks(x)\n",
    "        x = self.final_norm(x)\n",
    "        logits = self.out_head(x)\n",
    "        return logits\n",
    "\n",
    "class DummyTransformerBlock(nn.Module):    #3\n",
    "    def __init__(self, cfg):\n",
    "        super().__init__()\n",
    "\n",
    "    def forward(self, x):     #4\n",
    "        return x\n",
    "\n",
    "class DummyLayerNorm(nn.Module):           #5\n",
    "    def __init__(self, normalized_shape, eps=1e-5):    #6\n",
    "        super().__init__()\n",
    "\n",
    "    def forward(self, x):\n",
    "        return x"
   ]
  },
  {
   "cell_type": "code",
   "execution_count": 3,
   "id": "1ed5b282-8823-4601-8725-c54381233d98",
   "metadata": {
    "execution": {
     "iopub.execute_input": "2025-03-12T12:53:55.923402Z",
     "iopub.status.busy": "2025-03-12T12:53:55.922407Z",
     "iopub.status.idle": "2025-03-12T12:53:55.930538Z",
     "shell.execute_reply": "2025-03-12T12:53:55.929508Z",
     "shell.execute_reply.started": "2025-03-12T12:53:55.923402Z"
    },
    "scrolled": true
   },
   "outputs": [
    {
     "name": "stdout",
     "output_type": "stream",
     "text": [
      "Object `draw_graph` not found.\n"
     ]
    }
   ],
   "source": [
    "draw_graph?"
   ]
  },
  {
   "cell_type": "code",
   "execution_count": 4,
   "id": "ce4f8902-b97f-42e4-8b15-accc89c648b7",
   "metadata": {
    "execution": {
     "iopub.execute_input": "2025-03-12T12:53:55.932530Z",
     "iopub.status.busy": "2025-03-12T12:53:55.931536Z",
     "iopub.status.idle": "2025-03-12T12:53:56.385725Z",
     "shell.execute_reply": "2025-03-12T12:53:56.384706Z",
     "shell.execute_reply.started": "2025-03-12T12:53:55.932530Z"
    }
   },
   "outputs": [],
   "source": [
    "model = DummyGPTModel(GPT_CONFIG_124M)"
   ]
  },
  {
   "cell_type": "code",
   "execution_count": 5,
   "id": "c5d5f107-1c72-4561-a67c-21da5222eaa2",
   "metadata": {
    "execution": {
     "iopub.execute_input": "2025-03-12T12:53:56.387732Z",
     "iopub.status.busy": "2025-03-12T12:53:56.386725Z",
     "iopub.status.idle": "2025-03-12T12:53:56.398030Z",
     "shell.execute_reply": "2025-03-12T12:53:56.397027Z",
     "shell.execute_reply.started": "2025-03-12T12:53:56.387732Z"
    }
   },
   "outputs": [
    {
     "data": {
      "text/plain": [
       "{'vocab_size': 50257,\n",
       " 'context_length': 1024,\n",
       " 'emb_dim': 768,\n",
       " 'n_heads': 12,\n",
       " 'n_layers': 12,\n",
       " 'drop_rate': 0.1,\n",
       " 'qkv_bias': False}"
      ]
     },
     "execution_count": 5,
     "metadata": {},
     "output_type": "execute_result"
    }
   ],
   "source": [
    "GPT_CONFIG_124M"
   ]
  },
  {
   "cell_type": "code",
   "execution_count": 6,
   "id": "c00afaa8-f347-4657-94ed-22e294c5e575",
   "metadata": {
    "execution": {
     "iopub.execute_input": "2025-03-12T12:53:56.402039Z",
     "iopub.status.busy": "2025-03-12T12:53:56.401050Z",
     "iopub.status.idle": "2025-03-12T12:53:56.408889Z",
     "shell.execute_reply": "2025-03-12T12:53:56.407889Z",
     "shell.execute_reply.started": "2025-03-12T12:53:56.402039Z"
    }
   },
   "outputs": [],
   "source": [
    "x = torch.randint(0, GPT_CONFIG_124M['vocab_size']-1, (1, 5))"
   ]
  },
  {
   "cell_type": "code",
   "execution_count": 7,
   "id": "c8e4b335-775c-48f7-b3d8-71c076320070",
   "metadata": {
    "execution": {
     "iopub.execute_input": "2025-03-12T12:53:56.411900Z",
     "iopub.status.busy": "2025-03-12T12:53:56.410909Z",
     "iopub.status.idle": "2025-03-12T12:53:56.420921Z",
     "shell.execute_reply": "2025-03-12T12:53:56.419901Z",
     "shell.execute_reply.started": "2025-03-12T12:53:56.411900Z"
    }
   },
   "outputs": [
    {
     "data": {
      "text/plain": [
       "tensor([[44711, 49105,  9881, 16255, 25125]])"
      ]
     },
     "execution_count": 7,
     "metadata": {},
     "output_type": "execute_result"
    }
   ],
   "source": [
    "x"
   ]
  },
  {
   "cell_type": "code",
   "execution_count": 8,
   "id": "52b8f70e-3ac7-42cb-8025-1449f41edf52",
   "metadata": {
    "execution": {
     "iopub.execute_input": "2025-03-12T12:53:56.422925Z",
     "iopub.status.busy": "2025-03-12T12:53:56.422925Z",
     "iopub.status.idle": "2025-03-12T12:53:56.510224Z",
     "shell.execute_reply": "2025-03-12T12:53:56.509215Z",
     "shell.execute_reply.started": "2025-03-12T12:53:56.422925Z"
    }
   },
   "outputs": [
    {
     "data": {
      "text/plain": [
       "tensor([[[ 1.2478,  0.0738, -1.3661,  ...,  1.0042, -1.3765, -0.7113],\n",
       "         [ 1.0963, -0.4308,  0.6802,  ...,  0.5452,  0.8847,  0.3737],\n",
       "         [ 0.1882,  1.3398,  0.6996,  ...,  0.2500,  0.0613,  0.4690],\n",
       "         [-0.1028,  0.0631, -0.6566,  ...,  1.5306, -0.3609, -0.2356],\n",
       "         [ 0.6857, -0.5533,  0.9525,  ..., -0.5391, -0.0968,  0.3085]]],\n",
       "       grad_fn=<UnsafeViewBackward0>)"
      ]
     },
     "execution_count": 8,
     "metadata": {},
     "output_type": "execute_result"
    }
   ],
   "source": [
    "model(x)"
   ]
  },
  {
   "cell_type": "code",
   "execution_count": 9,
   "id": "2a84ddb2-2860-4672-ae18-f54660daa3c1",
   "metadata": {
    "execution": {
     "iopub.execute_input": "2025-03-12T12:53:56.512220Z",
     "iopub.status.busy": "2025-03-12T12:53:56.512220Z",
     "iopub.status.idle": "2025-03-12T12:53:56.519577Z",
     "shell.execute_reply": "2025-03-12T12:53:56.518562Z",
     "shell.execute_reply.started": "2025-03-12T12:53:56.512220Z"
    }
   },
   "outputs": [
    {
     "data": {
      "text/plain": [
       "torch.Size([1, 5])"
      ]
     },
     "execution_count": 9,
     "metadata": {},
     "output_type": "execute_result"
    }
   ],
   "source": [
    "x.shape"
   ]
  },
  {
   "cell_type": "code",
   "execution_count": 10,
   "id": "6c55e2a5-940f-4129-9b58-710d2ac9ea0c",
   "metadata": {
    "execution": {
     "iopub.execute_input": "2025-03-12T12:53:56.521580Z",
     "iopub.status.busy": "2025-03-12T12:53:56.520583Z",
     "iopub.status.idle": "2025-03-12T12:53:56.838156Z",
     "shell.execute_reply": "2025-03-12T12:53:56.837140Z",
     "shell.execute_reply.started": "2025-03-12T12:53:56.521580Z"
    }
   },
   "outputs": [
    {
     "name": "stdout",
     "output_type": "stream",
     "text": [
      "tensor([[6109, 3626, 6100,  345],\n",
      "        [6109, 1110, 6622,  257]])\n"
     ]
    }
   ],
   "source": [
    "import tiktoken\n",
    "\n",
    "tokenizer = tiktoken.get_encoding(\"gpt2\")\n",
    "batch = []\n",
    "txt1 = \"Every effort moves you\"\n",
    "txt2 = \"Every day holds a\"\n",
    "\n",
    "batch.append(torch.tensor(tokenizer.encode(txt1)))\n",
    "batch.append(torch.tensor(tokenizer.encode(txt2)))\n",
    "batch = torch.stack(batch, dim=0)\n",
    "print(batch)"
   ]
  },
  {
   "cell_type": "code",
   "execution_count": 11,
   "id": "0ed633e8-7d01-40fa-83ce-36e5a28ed268",
   "metadata": {
    "execution": {
     "iopub.execute_input": "2025-03-12T12:53:56.840162Z",
     "iopub.status.busy": "2025-03-12T12:53:56.839156Z",
     "iopub.status.idle": "2025-03-12T12:53:56.847088Z",
     "shell.execute_reply": "2025-03-12T12:53:56.846058Z",
     "shell.execute_reply.started": "2025-03-12T12:53:56.840162Z"
    }
   },
   "outputs": [
    {
     "data": {
      "text/plain": [
       "torch.Size([2, 4])"
      ]
     },
     "execution_count": 11,
     "metadata": {},
     "output_type": "execute_result"
    }
   ],
   "source": [
    "batch.shape"
   ]
  },
  {
   "cell_type": "code",
   "execution_count": 12,
   "id": "21ff1ca9-bf69-4a8f-9587-cbb43e359366",
   "metadata": {
    "execution": {
     "iopub.execute_input": "2025-03-12T12:53:56.850086Z",
     "iopub.status.busy": "2025-03-12T12:53:56.849081Z",
     "iopub.status.idle": "2025-03-12T12:53:57.383422Z",
     "shell.execute_reply": "2025-03-12T12:53:57.382411Z",
     "shell.execute_reply.started": "2025-03-12T12:53:56.849081Z"
    }
   },
   "outputs": [
    {
     "name": "stdout",
     "output_type": "stream",
     "text": [
      "Output shape: torch.Size([2, 4, 50257])\n",
      "tensor([[[-0.9289,  0.2748, -0.7557,  ..., -1.6070,  0.2702, -0.5888],\n",
      "         [-0.4476,  0.1726,  0.5354,  ..., -0.3932,  1.5285,  0.8557],\n",
      "         [ 0.5680,  1.6053, -0.2155,  ...,  1.1624,  0.1380,  0.7425],\n",
      "         [ 0.0447,  2.4787, -0.8843,  ...,  1.3219, -0.0864, -0.5856]],\n",
      "\n",
      "        [[-1.5474, -0.0542, -1.0571,  ..., -1.8061, -0.4494, -0.6747],\n",
      "         [-0.8422,  0.8243, -0.1098,  ..., -0.1434,  0.2079,  1.2046],\n",
      "         [ 0.1355,  1.1858, -0.1453,  ...,  0.0869, -0.1590,  0.1552],\n",
      "         [ 0.1666, -0.8138,  0.2307,  ...,  2.5035, -0.3055, -0.3083]]],\n",
      "       grad_fn=<UnsafeViewBackward0>)\n"
     ]
    }
   ],
   "source": [
    "torch.manual_seed(123)\n",
    "model = DummyGPTModel(GPT_CONFIG_124M)\n",
    "logits = model(batch)\n",
    "\n",
    "print(\"Output shape:\", logits.shape)\n",
    "print(logits)"
   ]
  },
  {
   "cell_type": "code",
   "execution_count": 13,
   "id": "da6bfe7c-43f6-480f-a851-138e3b29adb8",
   "metadata": {
    "execution": {
     "iopub.execute_input": "2025-03-12T12:53:57.384426Z",
     "iopub.status.busy": "2025-03-12T12:53:57.384426Z",
     "iopub.status.idle": "2025-03-12T12:53:57.394813Z",
     "shell.execute_reply": "2025-03-12T12:53:57.393795Z",
     "shell.execute_reply.started": "2025-03-12T12:53:57.384426Z"
    }
   },
   "outputs": [
    {
     "name": "stdout",
     "output_type": "stream",
     "text": [
      "tensor([[0.2260, 0.3470, 0.0000, 0.2216, 0.0000, 0.0000],\n",
      "        [0.2133, 0.2394, 0.0000, 0.5198, 0.3297, 0.0000]],\n",
      "       grad_fn=<ReluBackward0>)\n"
     ]
    }
   ],
   "source": [
    "torch.manual_seed(123)\n",
    "batch_example = torch.randn(2, 5)     #1\n",
    "layer = nn.Sequential(nn.Linear(5, 6), nn.ReLU())\n",
    "out = layer(batch_example)\n",
    "print(out)"
   ]
  },
  {
   "cell_type": "code",
   "execution_count": 14,
   "id": "fe4c5ddb-eea1-433a-b4e8-590d56ecfd79",
   "metadata": {
    "execution": {
     "iopub.execute_input": "2025-03-12T12:53:57.395815Z",
     "iopub.status.busy": "2025-03-12T12:53:57.395815Z",
     "iopub.status.idle": "2025-03-12T12:53:57.403557Z",
     "shell.execute_reply": "2025-03-12T12:53:57.402552Z",
     "shell.execute_reply.started": "2025-03-12T12:53:57.395815Z"
    }
   },
   "outputs": [
    {
     "name": "stdout",
     "output_type": "stream",
     "text": [
      "Mean:\n",
      " tensor([[0.1324],\n",
      "        [0.2170]], grad_fn=<MeanBackward1>)\n",
      "Variance:\n",
      " tensor([[0.0231],\n",
      "        [0.0398]], grad_fn=<VarBackward0>)\n"
     ]
    }
   ],
   "source": [
    "mean = out.mean(dim=-1, keepdim=True)\n",
    "var = out.var(dim=-1, keepdim=True)\n",
    "print(\"Mean:\\n\", mean)\n",
    "print(\"Variance:\\n\", var)"
   ]
  },
  {
   "cell_type": "code",
   "execution_count": 15,
   "id": "92a9080b-781f-4777-bae1-813f8b8f7597",
   "metadata": {
    "execution": {
     "iopub.execute_input": "2025-03-12T12:53:57.405558Z",
     "iopub.status.busy": "2025-03-12T12:53:57.404557Z",
     "iopub.status.idle": "2025-03-12T12:53:57.414985Z",
     "shell.execute_reply": "2025-03-12T12:53:57.413967Z",
     "shell.execute_reply.started": "2025-03-12T12:53:57.405558Z"
    }
   },
   "outputs": [
    {
     "name": "stdout",
     "output_type": "stream",
     "text": [
      "Normalized layer outputs:\n",
      " tensor([[ 0.6159,  1.4126, -0.8719,  0.5872, -0.8719, -0.8719],\n",
      "        [-0.0189,  0.1121, -1.0876,  1.5173,  0.5647, -1.0876]],\n",
      "       grad_fn=<DivBackward0>)\n",
      "Mean:\n",
      " tensor([[9.9341e-09],\n",
      "        [5.9605e-08]], grad_fn=<MeanBackward1>)\n",
      "Variance:\n",
      " tensor([[1.0000],\n",
      "        [1.0000]], grad_fn=<VarBackward0>)\n"
     ]
    }
   ],
   "source": [
    "out_norm = (out - mean) / torch.sqrt(var)\n",
    "mean = out_norm.mean(dim=-1, keepdim=True)\n",
    "var = out_norm.var(dim=-1, keepdim=True)\n",
    "print(\"Normalized layer outputs:\\n\", out_norm)\n",
    "print(\"Mean:\\n\", mean)\n",
    "print(\"Variance:\\n\", var)"
   ]
  },
  {
   "cell_type": "code",
   "execution_count": 16,
   "id": "8e6264d4-1181-411c-b3d4-573479b025e0",
   "metadata": {
    "execution": {
     "iopub.execute_input": "2025-03-12T12:53:57.415996Z",
     "iopub.status.busy": "2025-03-12T12:53:57.415996Z",
     "iopub.status.idle": "2025-03-12T12:53:57.422195Z",
     "shell.execute_reply": "2025-03-12T12:53:57.421174Z",
     "shell.execute_reply.started": "2025-03-12T12:53:57.415996Z"
    }
   },
   "outputs": [],
   "source": [
    "class LayerNorm(nn.Module):\n",
    "    def __init__(self, emb_dim):\n",
    "        super().__init__()\n",
    "        self.eps = 1e-5\n",
    "        self.scale = nn.Parameter(torch.ones(emb_dim))\n",
    "        self.shift = nn.Parameter(torch.zeros(emb_dim))\n",
    "\n",
    "    def forward(self, x):\n",
    "        mean = x.mean(dim=-1, keepdim=True)\n",
    "        var = x.var(dim=-1, keepdim=True, unbiased=False)\n",
    "        norm_x = (x - mean) / torch.sqrt(var + self.eps)\n",
    "        return self.scale * norm_x + self.shift"
   ]
  },
  {
   "cell_type": "code",
   "execution_count": 17,
   "id": "81820e0b-74db-494c-852d-1488a13e5dff",
   "metadata": {
    "execution": {
     "iopub.execute_input": "2025-03-12T12:53:57.423196Z",
     "iopub.status.busy": "2025-03-12T12:53:57.423196Z",
     "iopub.status.idle": "2025-03-12T12:53:57.432318Z",
     "shell.execute_reply": "2025-03-12T12:53:57.431300Z",
     "shell.execute_reply.started": "2025-03-12T12:53:57.423196Z"
    }
   },
   "outputs": [
    {
     "name": "stdout",
     "output_type": "stream",
     "text": [
      "Mean:\n",
      " tensor([[-2.9802e-08],\n",
      "        [ 0.0000e+00]], grad_fn=<MeanBackward1>)\n",
      "Variance:\n",
      " tensor([[1.0000],\n",
      "        [1.0000]], grad_fn=<VarBackward0>)\n"
     ]
    }
   ],
   "source": [
    "ln = LayerNorm(emb_dim=5)\n",
    "out_ln = ln(batch_example)\n",
    "mean = out_ln.mean(dim=-1, keepdim=True)\n",
    "var = out_ln.var(dim=-1, unbiased=False, keepdim=True)\n",
    "print(\"Mean:\\n\", mean)\n",
    "print(\"Variance:\\n\", var)"
   ]
  },
  {
   "cell_type": "code",
   "execution_count": 18,
   "id": "9f0d0b42-1671-4d6a-828c-fdeaef9f2f6a",
   "metadata": {
    "execution": {
     "iopub.execute_input": "2025-03-12T12:53:57.434319Z",
     "iopub.status.busy": "2025-03-12T12:53:57.433322Z",
     "iopub.status.idle": "2025-03-12T12:53:57.442922Z",
     "shell.execute_reply": "2025-03-12T12:53:57.441902Z",
     "shell.execute_reply.started": "2025-03-12T12:53:57.434319Z"
    }
   },
   "outputs": [
    {
     "data": {
      "text/plain": [
       "tensor([[-0.1115,  0.1204, -0.3696, -0.2404, -1.1969],\n",
       "        [ 0.2093, -0.9724, -0.7550,  0.3239, -0.1085]])"
      ]
     },
     "execution_count": 18,
     "metadata": {},
     "output_type": "execute_result"
    }
   ],
   "source": [
    "batch_example"
   ]
  },
  {
   "cell_type": "code",
   "execution_count": 19,
   "id": "2775695d-e982-40fe-9dcb-5dd30d1d1af2",
   "metadata": {
    "execution": {
     "iopub.execute_input": "2025-03-12T12:53:57.445920Z",
     "iopub.status.busy": "2025-03-12T12:53:57.444924Z",
     "iopub.status.idle": "2025-03-12T12:53:57.452968Z",
     "shell.execute_reply": "2025-03-12T12:53:57.451943Z",
     "shell.execute_reply.started": "2025-03-12T12:53:57.445920Z"
    }
   },
   "outputs": [
    {
     "data": {
      "text/plain": [
       "tensor([[ 0.5528,  1.0693, -0.0223,  0.2656, -1.8654],\n",
       "        [ 0.9087, -1.3767, -0.9564,  1.1304,  0.2940]], grad_fn=<AddBackward0>)"
      ]
     },
     "execution_count": 19,
     "metadata": {},
     "output_type": "execute_result"
    }
   ],
   "source": [
    "out_ln"
   ]
  },
  {
   "cell_type": "code",
   "execution_count": 20,
   "id": "8aff41d6-f439-4d8b-8303-054151684cd7",
   "metadata": {
    "execution": {
     "iopub.execute_input": "2025-03-12T12:53:57.455960Z",
     "iopub.status.busy": "2025-03-12T12:53:57.454972Z",
     "iopub.status.idle": "2025-03-12T12:53:57.461547Z",
     "shell.execute_reply": "2025-03-12T12:53:57.460514Z",
     "shell.execute_reply.started": "2025-03-12T12:53:57.455960Z"
    }
   },
   "outputs": [],
   "source": [
    "gelu = nn.GELU()\n",
    "relu = nn.ReLU()"
   ]
  },
  {
   "cell_type": "code",
   "execution_count": 21,
   "id": "4d2e2ceb-743a-4e8d-b792-2a3574315352",
   "metadata": {
    "execution": {
     "iopub.execute_input": "2025-03-12T12:53:57.465552Z",
     "iopub.status.busy": "2025-03-12T12:53:57.464541Z",
     "iopub.status.idle": "2025-03-12T12:53:58.529344Z",
     "shell.execute_reply": "2025-03-12T12:53:58.528327Z",
     "shell.execute_reply.started": "2025-03-12T12:53:57.465552Z"
    }
   },
   "outputs": [
    {
     "data": {
      "image/png": "[encoded data removed]",
      "text/plain": [
       "<Figure size 800x300 with 3 Axes>"
      ]
     },
     "metadata": {},
     "output_type": "display_data"
    }
   ],
   "source": [
    "import matplotlib.pyplot as plt\n",
    "gelu, gelu_aprox, relu = nn.GELU(approximate='none'), nn.GELU(approximate='tanh'), nn.ReLU()\n",
    "\n",
    "x = torch.linspace(-6, 6, 100)     #1\n",
    "y_gelu, y_gelu_aprox, y_relu = gelu(x), gelu_aprox(x), relu(x)\n",
    "plt.figure(figsize=(8, 3))\n",
    "for i, (y, label) in enumerate(zip([y_gelu, y_gelu_aprox, y_relu], [\"GELU\", \"GELU (tanh)\", \"ReLU\"]), 1):\n",
    "    plt.subplot(1, 3, i)\n",
    "    plt.plot(x, y)\n",
    "    plt.title(f\"{label} activation function\")\n",
    "    plt.xlabel(\"x\")\n",
    "    plt.ylabel(f\"{label}(x)\")\n",
    "    plt.grid(True)\n",
    "plt.tight_layout()\n",
    "plt.show()"
   ]
  },
  {
   "cell_type": "code",
   "execution_count": 22,
   "id": "4143020c-489b-421c-bfe7-5eb43dd0ebca",
   "metadata": {
    "execution": {
     "iopub.execute_input": "2025-03-12T12:53:58.532346Z",
     "iopub.status.busy": "2025-03-12T12:53:58.531347Z",
     "iopub.status.idle": "2025-03-12T12:53:58.643079Z",
     "shell.execute_reply": "2025-03-12T12:53:58.642063Z",
     "shell.execute_reply.started": "2025-03-12T12:53:58.532346Z"
    }
   },
   "outputs": [
    {
     "data": {
      "image/png": "[encoded data removed]",
      "text/plain": [
       "<Figure size 600x300 with 1 Axes>"
      ]
     },
     "metadata": {},
     "output_type": "display_data"
    }
   ],
   "source": [
    "plt.figure(figsize=(6, 3))\n",
    "plt.plot(x, y_gelu-y_gelu_aprox)\n",
    "plt.title(\"GELU - GELU (tanh)\")\n",
    "plt.xlabel(\"x\")\n",
    "plt.ylabel(\"diff\")\n",
    "plt.grid(True)\n",
    "plt.tight_layout()\n",
    "plt.show()"
   ]
  },
  {
   "cell_type": "code",
   "execution_count": 23,
   "id": "034e3d44-5977-4e74-9b4e-cac6006d68e4",
   "metadata": {
    "execution": {
     "iopub.execute_input": "2025-03-12T12:53:58.644080Z",
     "iopub.status.busy": "2025-03-12T12:53:58.643079Z",
     "iopub.status.idle": "2025-03-12T12:53:58.895170Z",
     "shell.execute_reply": "2025-03-12T12:53:58.894153Z",
     "shell.execute_reply.started": "2025-03-12T12:53:58.644080Z"
    }
   },
   "outputs": [
    {
     "data": {
      "image/png": "[encoded data removed]",
      "text/plain": [
       "<Figure size 600x300 with 2 Axes>"
      ]
     },
     "metadata": {},
     "output_type": "display_data"
    }
   ],
   "source": [
    "x = torch.linspace(-0.753, -0.751, 100)     #1\n",
    "y_gelu, y_gelu_aprox = gelu(x), gelu_aprox(x)\n",
    "plt.figure(figsize=(6, 3))\n",
    "for i, (y, label) in enumerate(zip([y_gelu, y_gelu_aprox], [\"GELU\", \"GELU (tanh)\"]), 1):\n",
    "    plt.subplot(1, 2, i)\n",
    "    plt.plot(x, y)\n",
    "    plt.title(f\"{label} activation function\")\n",
    "    plt.xlabel(\"x\")\n",
    "    plt.ylabel(f\"{label}(x)\")\n",
    "    plt.grid(True)\n",
    "plt.tight_layout()\n",
    "plt.show()"
   ]
  },
  {
   "cell_type": "code",
   "execution_count": 24,
   "id": "64984bfb-da28-4407-98c2-0aab28f00d45",
   "metadata": {
    "execution": {
     "iopub.execute_input": "2025-03-12T12:53:58.896173Z",
     "iopub.status.busy": "2025-03-12T12:53:58.896173Z",
     "iopub.status.idle": "2025-03-12T12:53:58.902640Z",
     "shell.execute_reply": "2025-03-12T12:53:58.901647Z",
     "shell.execute_reply.started": "2025-03-12T12:53:58.896173Z"
    }
   },
   "outputs": [],
   "source": [
    "class FeedForward(nn.Module):\n",
    "    def __init__(self, cfg, multi_factor: int = 4):\n",
    "        super().__init__()\n",
    "        self.layers = nn.Sequential(\n",
    "            nn.Linear(cfg[\"emb_dim\"], multi_factor * cfg[\"emb_dim\"]),\n",
    "            nn.GELU(approximate='tanh'),\n",
    "            nn.Linear(multi_factor * cfg[\"emb_dim\"], cfg[\"emb_dim\"]),\n",
    "        )\n",
    "\n",
    "    def forward(self, x):\n",
    "        return self.layers(x)"
   ]
  },
  {
   "cell_type": "code",
   "execution_count": 25,
   "id": "913b7229-03eb-4f4e-a3da-12c31915d61b",
   "metadata": {
    "execution": {
     "iopub.execute_input": "2025-03-12T12:53:58.905642Z",
     "iopub.status.busy": "2025-03-12T12:53:58.904639Z",
     "iopub.status.idle": "2025-03-12T12:53:58.953233Z",
     "shell.execute_reply": "2025-03-12T12:53:58.952213Z",
     "shell.execute_reply.started": "2025-03-12T12:53:58.905642Z"
    }
   },
   "outputs": [
    {
     "name": "stdout",
     "output_type": "stream",
     "text": [
      "torch.Size([2, 3, 768])\n"
     ]
    }
   ],
   "source": [
    "ffn = FeedForward(GPT_CONFIG_124M)\n",
    "x = torch.rand(2, 3, 768)          #1\n",
    "out = ffn(x)\n",
    "print(out.shape)"
   ]
  },
  {
   "cell_type": "code",
   "execution_count": 26,
   "id": "3927afcf-b848-4bc7-b0df-49d7b269bc05",
   "metadata": {
    "execution": {
     "iopub.execute_input": "2025-03-12T12:53:58.956235Z",
     "iopub.status.busy": "2025-03-12T12:53:58.955240Z",
     "iopub.status.idle": "2025-03-12T12:53:58.967404Z",
     "shell.execute_reply": "2025-03-12T12:53:58.966384Z",
     "shell.execute_reply.started": "2025-03-12T12:53:58.956235Z"
    }
   },
   "outputs": [],
   "source": [
    "class ExampleDeepNeuralNetwork(nn.Module):\n",
    "    def __init__(self, layer_sizes, use_shortcut):\n",
    "        super().__init__()\n",
    "        self.use_shortcut = use_shortcut\n",
    "        self.layers = nn.ModuleList([       #1\n",
    "            nn.Sequential(nn.Linear(layer_sizes[0], layer_sizes[1]), \n",
    "                          nn.GELU(approximate='tanh')),\n",
    "            nn.Sequential(nn.Linear(layer_sizes[1], layer_sizes[2]), \n",
    "                          nn.GELU(approximate='tanh')),\n",
    "            nn.Sequential(nn.Linear(layer_sizes[2], layer_sizes[3]), \n",
    "                          nn.GELU(approximate='tanh')),\n",
    "            nn.Sequential(nn.Linear(layer_sizes[3], layer_sizes[4]), \n",
    "                          nn.GELU(approximate='tanh')),\n",
    "            nn.Sequential(nn.Linear(layer_sizes[4], layer_sizes[5]), \n",
    "                          nn.GELU(approximate='tanh'))\n",
    "        ])\n",
    "\n",
    "    def forward(self, x):\n",
    "        for layer in self.layers:\n",
    "            layer_output = layer(x)         #2\n",
    "            if self.use_shortcut and x.shape == layer_output.shape:    #3\n",
    "                x = x + layer_output\n",
    "            else:\n",
    "                x = layer_output\n",
    "        return x"
   ]
  },
  {
   "cell_type": "code",
   "execution_count": 27,
   "id": "cff25c25-bdd1-4241-8f06-0cd3258ec6eb",
   "metadata": {
    "execution": {
     "iopub.execute_input": "2025-03-12T12:53:58.969402Z",
     "iopub.status.busy": "2025-03-12T12:53:58.968408Z",
     "iopub.status.idle": "2025-03-12T12:53:58.977904Z",
     "shell.execute_reply": "2025-03-12T12:53:58.976887Z",
     "shell.execute_reply.started": "2025-03-12T12:53:58.969402Z"
    }
   },
   "outputs": [],
   "source": [
    "def print_gradients(model, x):\n",
    "    output = model(x)             #1\n",
    "    target = torch.tensor([[0.]])\n",
    "\n",
    "    loss = nn.MSELoss()\n",
    "    loss = loss(output, target)    #2\n",
    "\n",
    "    loss.backward()          #3\n",
    "\n",
    "    for name, param in model.named_parameters():\n",
    "        if 'weight' in name:\n",
    "            print(f\"{name} has gradient mean of {param.grad.abs().mean().item()}\")"
   ]
  },
  {
   "cell_type": "code",
   "execution_count": 28,
   "id": "e9b9bc37-3ff1-46a4-ade0-7cc7e82a5699",
   "metadata": {
    "execution": {
     "iopub.execute_input": "2025-03-12T12:53:58.979907Z",
     "iopub.status.busy": "2025-03-12T12:53:58.979907Z",
     "iopub.status.idle": "2025-03-12T12:53:58.990787Z",
     "shell.execute_reply": "2025-03-12T12:53:58.989768Z",
     "shell.execute_reply.started": "2025-03-12T12:53:58.979907Z"
    }
   },
   "outputs": [],
   "source": [
    "layer_sizes = [3, 3, 3, 3, 3, 1]  \n",
    "sample_input = torch.tensor([[1., 0., -1.]])\n",
    "torch.manual_seed(123)                            #1\n",
    "model_without_shortcut = ExampleDeepNeuralNetwork(\n",
    "    layer_sizes, use_shortcut=False\n",
    ")"
   ]
  },
  {
   "cell_type": "code",
   "execution_count": 29,
   "id": "318ce9ca-7cf4-48c4-ad74-d49b8a14e4bc",
   "metadata": {
    "execution": {
     "iopub.execute_input": "2025-03-12T12:53:58.993791Z",
     "iopub.status.busy": "2025-03-12T12:53:58.992790Z",
     "iopub.status.idle": "2025-03-12T12:53:59.003018Z",
     "shell.execute_reply": "2025-03-12T12:53:59.002021Z",
     "shell.execute_reply.started": "2025-03-12T12:53:58.993791Z"
    }
   },
   "outputs": [
    {
     "name": "stdout",
     "output_type": "stream",
     "text": [
      "layers.0.0.weight has gradient mean of 0.00020173590746708214\n",
      "layers.1.0.weight has gradient mean of 0.00012011162471026182\n",
      "layers.2.0.weight has gradient mean of 0.00071520428173244\n",
      "layers.3.0.weight has gradient mean of 0.0013988739810883999\n",
      "layers.4.0.weight has gradient mean of 0.00504964729771018\n"
     ]
    }
   ],
   "source": [
    "print_gradients(model_without_shortcut, sample_input)"
   ]
  },
  {
   "cell_type": "code",
   "execution_count": 30,
   "id": "2eb6d18e-194b-4abd-8125-735a0594c177",
   "metadata": {
    "execution": {
     "iopub.execute_input": "2025-03-12T12:53:59.005026Z",
     "iopub.status.busy": "2025-03-12T12:53:59.004016Z",
     "iopub.status.idle": "2025-03-12T12:53:59.017018Z",
     "shell.execute_reply": "2025-03-12T12:53:59.016018Z",
     "shell.execute_reply.started": "2025-03-12T12:53:59.005026Z"
    }
   },
   "outputs": [
    {
     "name": "stdout",
     "output_type": "stream",
     "text": [
      "layers.0.0.weight has gradient mean of 0.22169794142246246\n",
      "layers.1.0.weight has gradient mean of 0.20694102346897125\n",
      "layers.2.0.weight has gradient mean of 0.32896995544433594\n",
      "layers.3.0.weight has gradient mean of 0.2665732204914093\n",
      "layers.4.0.weight has gradient mean of 1.3258541822433472\n"
     ]
    }
   ],
   "source": [
    "torch.manual_seed(123)\n",
    "model_with_shortcut = ExampleDeepNeuralNetwork(\n",
    "    layer_sizes, use_shortcut=True\n",
    ")\n",
    "print_gradients(model_with_shortcut, sample_input)"
   ]
  },
  {
   "cell_type": "markdown",
   "id": "54e59aec-3705-4e5a-b733-7d157ed4b95d",
   "metadata": {},
   "source": [
    "# 4.5"
   ]
  },
  {
   "cell_type": "code",
   "execution_count": 31,
   "id": "c48cea08-11dc-430d-a2c6-50880540d1ac",
   "metadata": {
    "execution": {
     "iopub.execute_input": "2025-03-12T12:53:59.018017Z",
     "iopub.status.busy": "2025-03-12T12:53:59.018017Z",
     "iopub.status.idle": "2025-03-12T12:53:59.032154Z",
     "shell.execute_reply": "2025-03-12T12:53:59.031136Z",
     "shell.execute_reply.started": "2025-03-12T12:53:59.018017Z"
    }
   },
   "outputs": [],
   "source": [
    "from chap3 import MultiHeadAttention"
   ]
  },
  {
   "cell_type": "code",
   "execution_count": 32,
   "id": "3ed3dfe8-b467-4121-95d4-c88d59ed589d",
   "metadata": {
    "execution": {
     "iopub.execute_input": "2025-03-12T12:53:59.034162Z",
     "iopub.status.busy": "2025-03-12T12:53:59.033153Z",
     "iopub.status.idle": "2025-03-12T12:53:59.046395Z",
     "shell.execute_reply": "2025-03-12T12:53:59.045374Z",
     "shell.execute_reply.started": "2025-03-12T12:53:59.034162Z"
    }
   },
   "outputs": [],
   "source": [
    "class FeedForward(nn.Module):\n",
    "    def __init__(self, cfg, multi_factor: int = 4):\n",
    "        super().__init__()\n",
    "        self.layers = nn.Sequential(\n",
    "            nn.Linear(cfg[\"emb_dim\"], multi_factor * cfg[\"emb_dim\"]),\n",
    "            nn.GELU(approximate='tanh'),\n",
    "            nn.Linear(multi_factor * cfg[\"emb_dim\"], cfg[\"emb_dim\"]),\n",
    "        )\n",
    "\n",
    "    def forward(self, x):\n",
    "        return self.layers(x)\n",
    "\n",
    "class LayerNorm(nn.Module):\n",
    "    def __init__(self, emb_dim):\n",
    "        super().__init__()\n",
    "        self.eps = 1e-5\n",
    "        self.scale = nn.Parameter(torch.ones(emb_dim))\n",
    "        self.shift = nn.Parameter(torch.zeros(emb_dim))\n",
    "\n",
    "    def forward(self, x):\n",
    "        mean = x.mean(dim=-1, keepdim=True)\n",
    "        var = x.var(dim=-1, keepdim=True, unbiased=False)\n",
    "        norm_x = (x - mean) / torch.sqrt(var + self.eps)\n",
    "        return self.scale * norm_x + self.shift\n",
    "\n",
    "class TransformerBlock(nn.Module):\n",
    "    def __init__(self, cfg):\n",
    "        super().__init__()\n",
    "        self.att = MultiHeadAttention(\n",
    "            d_in=cfg[\"emb_dim\"],\n",
    "            d_out=cfg[\"emb_dim\"],\n",
    "            context_length=cfg[\"context_length\"],\n",
    "            num_heads=cfg[\"n_heads\"], \n",
    "            dropout=cfg[\"drop_rate\"],\n",
    "            qkv_bias=cfg[\"qkv_bias\"])\n",
    "        self.ff = FeedForward(cfg)\n",
    "        self.norm1 = LayerNorm(cfg[\"emb_dim\"])\n",
    "        self.norm2 = LayerNorm(cfg[\"emb_dim\"])\n",
    "        self.drop_shortcut = nn.Dropout(cfg[\"drop_rate\"])\n",
    "\n",
    "    def forward(self, x):\n",
    " #1\n",
    "        shortcut = x\n",
    "        x = self.norm1(x)\n",
    "        x = self.att(x)\n",
    "        x = self.drop_shortcut(x)\n",
    "        x = x + shortcut      #2\n",
    "\n",
    "        shortcut = x         #3\n",
    "        x = self.norm2(x)\n",
    "        x = self.ff(x)\n",
    "        x = self.drop_shortcut(x)\n",
    "        x = x + shortcut      #4\n",
    "        return x"
   ]
  },
  {
   "cell_type": "code",
   "execution_count": 33,
   "id": "74aaddb7-d40a-49d5-b176-67f406beb52f",
   "metadata": {
    "execution": {
     "iopub.execute_input": "2025-03-12T12:53:59.047395Z",
     "iopub.status.busy": "2025-03-12T12:53:59.047395Z",
     "iopub.status.idle": "2025-03-12T12:53:59.135014Z",
     "shell.execute_reply": "2025-03-12T12:53:59.133998Z",
     "shell.execute_reply.started": "2025-03-12T12:53:59.047395Z"
    }
   },
   "outputs": [
    {
     "name": "stdout",
     "output_type": "stream",
     "text": [
      "Input shape: torch.Size([2, 4, 768])\n",
      "Output shape: torch.Size([2, 4, 768])\n"
     ]
    }
   ],
   "source": [
    "torch.manual_seed(123)\n",
    "x = torch.rand(2, 4, 768)                   #1\n",
    "block = TransformerBlock(GPT_CONFIG_124M)\n",
    "output = block(x)\n",
    "\n",
    "print(\"Input shape:\", x.shape)\n",
    "print(\"Output shape:\", output.shape)"
   ]
  },
  {
   "cell_type": "code",
   "execution_count": 34,
   "id": "9c61d462-5371-420e-96db-9b471be5af8a",
   "metadata": {
    "execution": {
     "iopub.execute_input": "2025-03-12T13:22:32.998437Z",
     "iopub.status.busy": "2025-03-12T13:22:32.998437Z",
     "iopub.status.idle": "2025-03-12T13:22:33.006481Z",
     "shell.execute_reply": "2025-03-12T13:22:33.005462Z",
     "shell.execute_reply.started": "2025-03-12T13:22:32.998437Z"
    }
   },
   "outputs": [],
   "source": [
    "class GPTModel(nn.Module):\n",
    "    def __init__(self, cfg):\n",
    "        super().__init__()\n",
    "        self.tok_emb = nn.Embedding(cfg[\"vocab_size\"], cfg[\"emb_dim\"])\n",
    "        self.pos_emb = nn.Embedding(cfg[\"context_length\"], cfg[\"emb_dim\"])\n",
    "        self.drop_emb = nn.Dropout(cfg[\"drop_rate\"])\n",
    "\n",
    "        self.trf_blocks = nn.Sequential(\n",
    "            *[TransformerBlock(cfg) for _ in range(cfg[\"n_layers\"])])\n",
    "\n",
    "        self.final_norm = LayerNorm(cfg[\"emb_dim\"])\n",
    "        self.out_head = nn.Linear(\n",
    "            cfg[\"emb_dim\"], cfg[\"vocab_size\"], bias=False\n",
    "        )\n",
    "\n",
    "    def forward(self, in_idx):\n",
    "        batch_size, seq_len = in_idx.shape\n",
    "        tok_embeds = self.tok_emb(in_idx)\n",
    "        pos_embeds = self.pos_emb(\n",
    "            torch.arange(seq_len, device=in_idx.device)\n",
    "        )\n",
    "        x = tok_embeds + pos_embeds\n",
    "        x = self.drop_emb(x)\n",
    "        x = self.trf_blocks(x)\n",
    "        x = self.final_norm(x)\n",
    "        logits = self.out_head(x)\n",
    "        return logits"
   ]
  },
  {
   "cell_type": "code",
   "execution_count": 35,
   "id": "31f648ff-3f69-4920-a958-4b7c6996f5d1",
   "metadata": {
    "execution": {
     "iopub.execute_input": "2025-03-12T13:36:28.436830Z",
     "iopub.status.busy": "2025-03-12T13:36:28.435835Z",
     "iopub.status.idle": "2025-03-12T13:36:29.650194Z",
     "shell.execute_reply": "2025-03-12T13:36:29.649148Z",
     "shell.execute_reply.started": "2025-03-12T13:36:28.436830Z"
    }
   },
   "outputs": [
    {
     "name": "stdout",
     "output_type": "stream",
     "text": [
      "Input batch:\n",
      " tensor([[6109, 3626, 6100,  345],\n",
      "        [6109, 1110, 6622,  257]])\n",
      "\n",
      "Output shape: torch.Size([2, 4, 50257])\n",
      "tensor([[[ 0.1381,  0.0077, -0.1963,  ..., -0.0222, -0.1060,  0.1717],\n",
      "         [ 0.3865, -0.8408, -0.6564,  ..., -0.5163,  0.2369, -0.3357],\n",
      "         [ 0.6989, -0.1829, -0.1631,  ...,  0.1472, -0.6504, -0.0056],\n",
      "         [-0.4290,  0.1669, -0.1258,  ...,  1.1579,  0.5303, -0.5549]],\n",
      "\n",
      "        [[ 0.1094, -0.2894, -0.1467,  ..., -0.0557,  0.2911, -0.2824],\n",
      "         [ 0.0882, -0.3552, -0.3527,  ...,  1.2930,  0.0053,  0.1898],\n",
      "         [ 0.6091,  0.4702, -0.4094,  ...,  0.7688,  0.3787, -0.1974],\n",
      "         [-0.0612, -0.0737,  0.4751,  ...,  1.2463, -0.3834,  0.0609]]],\n",
      "       grad_fn=<UnsafeViewBackward0>)\n"
     ]
    }
   ],
   "source": [
    "torch.manual_seed(123)\n",
    "model = GPTModel(GPT_CONFIG_124M)\n",
    "\n",
    "out = model(batch)\n",
    "print(\"Input batch:\\n\", batch)\n",
    "print(\"\\nOutput shape:\", out.shape)\n",
    "print(out)"
   ]
  },
  {
   "cell_type": "code",
   "execution_count": 36,
   "id": "f06ae940-75bc-49e2-9ca4-ab35048c5f03",
   "metadata": {
    "execution": {
     "iopub.execute_input": "2025-03-12T13:37:48.768125Z",
     "iopub.status.busy": "2025-03-12T13:37:48.768125Z",
     "iopub.status.idle": "2025-03-12T13:37:48.777683Z",
     "shell.execute_reply": "2025-03-12T13:37:48.776666Z",
     "shell.execute_reply.started": "2025-03-12T13:37:48.768125Z"
    }
   },
   "outputs": [
    {
     "name": "stdout",
     "output_type": "stream",
     "text": [
      "Total number of parameters: 163,009,536\n"
     ]
    }
   ],
   "source": [
    "total_params = sum(p.numel() for p in model.parameters())\n",
    "print(f\"Total number of parameters: {total_params:,}\")"
   ]
  },
  {
   "cell_type": "code",
   "execution_count": 37,
   "id": "a3c9a0be-0ca4-4b1d-bcd4-3fe020c727ea",
   "metadata": {
    "execution": {
     "iopub.execute_input": "2025-03-12T13:38:44.897094Z",
     "iopub.status.busy": "2025-03-12T13:38:44.896116Z",
     "iopub.status.idle": "2025-03-12T13:38:44.902792Z",
     "shell.execute_reply": "2025-03-12T13:38:44.901782Z",
     "shell.execute_reply.started": "2025-03-12T13:38:44.897094Z"
    }
   },
   "outputs": [
    {
     "name": "stdout",
     "output_type": "stream",
     "text": [
      "Token embedding layer shape: torch.Size([50257, 768])\n",
      "Output layer shape: torch.Size([50257, 768])\n"
     ]
    }
   ],
   "source": [
    "print(\"Token embedding layer shape:\", model.tok_emb.weight.shape)\n",
    "print(\"Output layer shape:\", model.out_head.weight.shape)"
   ]
  },
  {
   "cell_type": "code",
   "execution_count": 38,
   "id": "c2a419d1-58db-4a41-be54-378d87c6bb1b",
   "metadata": {
    "execution": {
     "iopub.execute_input": "2025-03-12T13:39:21.109041Z",
     "iopub.status.busy": "2025-03-12T13:39:21.108031Z",
     "iopub.status.idle": "2025-03-12T13:39:21.116777Z",
     "shell.execute_reply": "2025-03-12T13:39:21.115763Z",
     "shell.execute_reply.started": "2025-03-12T13:39:21.109041Z"
    }
   },
   "outputs": [
    {
     "name": "stdout",
     "output_type": "stream",
     "text": [
      "Number of trainable parameters considering weight tying: 124,412,160\n"
     ]
    }
   ],
   "source": [
    "total_params_gpt2 = (\n",
    "    total_params - sum(p.numel()\n",
    "    for p in model.out_head.parameters())\n",
    ")\n",
    "print(f\"Number of trainable parameters \"\n",
    "      f\"considering weight tying: {total_params_gpt2:,}\"\n",
    ")"
   ]
  },
  {
   "cell_type": "code",
   "execution_count": 39,
   "id": "d4297cd2-74bb-4feb-b068-3e1221f0cf8d",
   "metadata": {
    "execution": {
     "iopub.execute_input": "2025-03-12T13:40:23.762464Z",
     "iopub.status.busy": "2025-03-12T13:40:23.761470Z",
     "iopub.status.idle": "2025-03-12T13:40:23.769171Z",
     "shell.execute_reply": "2025-03-12T13:40:23.767972Z",
     "shell.execute_reply.started": "2025-03-12T13:40:23.762464Z"
    }
   },
   "outputs": [
    {
     "name": "stdout",
     "output_type": "stream",
     "text": [
      "Total size of the model: 621.83 MB\n"
     ]
    }
   ],
   "source": [
    "total_size_bytes = total_params * 4       #1\n",
    "total_size_mb = total_size_bytes / (1024 * 1024)     #2\n",
    "print(f\"Total size of the model: {total_size_mb:.2f} MB\")"
   ]
  },
  {
   "cell_type": "code",
   "execution_count": 40,
   "id": "c8b11539-176e-44d4-8541-a0a5e0389993",
   "metadata": {
    "execution": {
     "iopub.execute_input": "2025-03-12T13:58:34.771314Z",
     "iopub.status.busy": "2025-03-12T13:58:34.770314Z",
     "iopub.status.idle": "2025-03-12T13:58:34.781511Z",
     "shell.execute_reply": "2025-03-12T13:58:34.780486Z",
     "shell.execute_reply.started": "2025-03-12T13:58:34.771314Z"
    }
   },
   "outputs": [],
   "source": [
    "def generate_text_simple(model, idx, max_new_tokens, context_size): \n",
    "    for _ in range(max_new_tokens):\n",
    "        idx_cond = idx[:, -context_size:]    #2\n",
    "        with torch.no_grad():\n",
    "            logits = model(idx_cond)\n",
    "\n",
    "        logits = logits[:, -1, :]                    #3\n",
    "        probas = torch.softmax(logits, dim=-1)           #4\n",
    "        idx_next = torch.argmax(probas, dim=-1, keepdim=True)    #5\n",
    "        idx = torch.cat((idx, idx_next), dim=1)     #6\n",
    "\n",
    "    return idx"
   ]
  },
  {
   "cell_type": "code",
   "execution_count": 41,
   "id": "360fb3da-ea6a-46bb-99b4-a942f2521cd7",
   "metadata": {
    "execution": {
     "iopub.execute_input": "2025-03-12T14:02:42.229844Z",
     "iopub.status.busy": "2025-03-12T14:02:42.229844Z",
     "iopub.status.idle": "2025-03-12T14:02:42.245389Z",
     "shell.execute_reply": "2025-03-12T14:02:42.245389Z",
     "shell.execute_reply.started": "2025-03-12T14:02:42.229844Z"
    }
   },
   "outputs": [
    {
     "name": "stdout",
     "output_type": "stream",
     "text": [
      "encoded: [15496, 11, 314, 716]\n",
      "encoded_tensor.shape: torch.Size([1, 4])\n"
     ]
    }
   ],
   "source": [
    "start_context = \"Hello, I am\"\n",
    "encoded = tokenizer.encode(start_context)\n",
    "print(\"encoded:\", encoded)\n",
    "encoded_tensor = torch.tensor(encoded).unsqueeze(0)    #1\n",
    "print(\"encoded_tensor.shape:\", encoded_tensor.shape)"
   ]
  },
  {
   "cell_type": "code",
   "execution_count": 42,
   "id": "518166c1-a42b-4e2e-abe5-e32c09f52c15",
   "metadata": {
    "execution": {
     "iopub.execute_input": "2025-03-12T14:03:11.887913Z",
     "iopub.status.busy": "2025-03-12T14:03:11.887913Z",
     "iopub.status.idle": "2025-03-12T14:03:12.999024Z",
     "shell.execute_reply": "2025-03-12T14:03:12.999024Z",
     "shell.execute_reply.started": "2025-03-12T14:03:11.887913Z"
    }
   },
   "outputs": [
    {
     "name": "stdout",
     "output_type": "stream",
     "text": [
      "Output: tensor([[15496,    11,   314,   716, 27018, 24086, 47843, 30961, 42348,  7267]])\n",
      "Output length: 10\n"
     ]
    }
   ],
   "source": [
    "model.eval()\n",
    "out = generate_text_simple(\n",
    "    model=model,\n",
    "    idx=encoded_tensor, \n",
    "    max_new_tokens=6, \n",
    "    context_size=GPT_CONFIG_124M[\"context_length\"]\n",
    ")\n",
    "print(\"Output:\", out)\n",
    "print(\"Output length:\", len(out[0]))"
   ]
  },
  {
   "cell_type": "code",
   "execution_count": 44,
   "id": "0954c673-c367-4ec9-b5ad-5b753af6c84b",
   "metadata": {
    "execution": {
     "iopub.execute_input": "2025-03-12T14:03:52.049454Z",
     "iopub.status.busy": "2025-03-12T14:03:52.048456Z",
     "iopub.status.idle": "2025-03-12T14:03:52.055980Z",
     "shell.execute_reply": "2025-03-12T14:03:52.054965Z",
     "shell.execute_reply.started": "2025-03-12T14:03:52.049454Z"
    }
   },
   "outputs": [
    {
     "data": {
      "text/plain": [
       "tensor([[15496,    11,   314,   716, 27018, 24086, 47843, 30961, 42348,  7267]])"
      ]
     },
     "execution_count": 44,
     "metadata": {},
     "output_type": "execute_result"
    }
   ],
   "source": [
    "out"
   ]
  },
  {
   "cell_type": "code",
   "execution_count": 45,
   "id": "b113aa17-3f8b-4216-bf2d-5b904644951f",
   "metadata": {
    "execution": {
     "iopub.execute_input": "2025-03-12T14:04:51.593759Z",
     "iopub.status.busy": "2025-03-12T14:04:51.592757Z",
     "iopub.status.idle": "2025-03-12T14:04:51.604307Z",
     "shell.execute_reply": "2025-03-12T14:04:51.604307Z",
     "shell.execute_reply.started": "2025-03-12T14:04:51.593759Z"
    }
   },
   "outputs": [
    {
     "name": "stdout",
     "output_type": "stream",
     "text": [
      "Hello, I am Featureiman Byeswickattribute argue\n"
     ]
    }
   ],
   "source": [
    "decoded_text = tokenizer.decode(out.squeeze(0).tolist())\n",
    "print(decoded_text)"
   ]
  },
  {
   "cell_type": "code",
   "execution_count": 46,
   "id": "20c1d9e2-6947-4369-b1fa-c85138d3dee4",
   "metadata": {
    "execution": {
     "iopub.execute_input": "2025-03-12T14:04:57.804924Z",
     "iopub.status.busy": "2025-03-12T14:04:57.804924Z",
     "iopub.status.idle": "2025-03-12T14:04:57.812405Z",
     "shell.execute_reply": "2025-03-12T14:04:57.811405Z",
     "shell.execute_reply.started": "2025-03-12T14:04:57.804924Z"
    }
   },
   "outputs": [
    {
     "data": {
      "text/plain": [
       "tensor([15496,    11,   314,   716, 27018, 24086, 47843, 30961, 42348,  7267])"
      ]
     },
     "execution_count": 46,
     "metadata": {},
     "output_type": "execute_result"
    }
   ],
   "source": [
    "out.squeeze(0)"
   ]
  },
  {
   "cell_type": "code",
   "execution_count": null,
   "id": "22e07637-44e8-42c8-a97c-5f0af7aa2d7f",
   "metadata": {},
   "outputs": [],
   "source": []
  }
 ],
 "metadata": {
  "kernelspec": {
   "display_name": "Python 3 (ipykernel)",
   "language": "python",
   "name": "python3"
  },
  "language_info": {
   "codemirror_mode": {
    "name": "ipython",
    "version": 3
   },
   "file_extension": ".py",
   "mimetype": "text/x-python",
   "name": "python",
   "nbconvert_exporter": "python",
   "pygments_lexer": "ipython3",
   "version": "3.11.9"
  }
 },
 "nbformat": 4,
 "nbformat_minor": 5
}
