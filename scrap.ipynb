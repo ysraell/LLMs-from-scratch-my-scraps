{
 "cells": [
  {
   "cell_type": "code",
   "execution_count": 1,
   "id": "3c8873d3-765f-4df5-9760-b9ad117e185b",
   "metadata": {
    "execution": {
     "iopub.execute_input": "2025-03-03T17:41:43.128385Z",
     "iopub.status.busy": "2025-03-03T17:41:43.128385Z",
     "iopub.status.idle": "2025-03-03T17:41:43.137168Z",
     "shell.execute_reply": "2025-03-03T17:41:43.136141Z",
     "shell.execute_reply.started": "2025-03-03T17:41:43.128385Z"
    }
   },
   "outputs": [
    {
     "name": "stdout",
     "output_type": "stream",
     "text": [
      "{1, 2, 5, 6}\n",
      "{1, 2, 5, 6}\n"
     ]
    }
   ],
   "source": [
    "set1 = {1, 2, 3, 4}\n",
    "set2 = {3, 4, 5, 6}\n",
    "\n",
    "# Using ^ operator\n",
    "diff_items = set1 ^ set2\n",
    "print(diff_items)  # Output: {1, 2, 5, 6}\n",
    "\n",
    "# Using symmetric_difference() method\n",
    "diff_items_method = set1.symmetric_difference(set2)\n",
    "print(diff_items_method)  # Output: {1, 2, 5, 6}\n"
   ]
  },
  {
   "cell_type": "code",
   "execution_count": null,
   "id": "305ffb0e-6f52-413f-aad3-5bd2c11093e1",
   "metadata": {},
   "outputs": [],
   "source": []
  }
 ],
 "metadata": {
  "kernelspec": {
   "display_name": "Python 3 (ipykernel)",
   "language": "python",
   "name": "python3"
  },
  "language_info": {
   "codemirror_mode": {
    "name": "ipython",
    "version": 3
   },
   "file_extension": ".py",
   "mimetype": "text/x-python",
   "name": "python",
   "nbconvert_exporter": "python",
   "pygments_lexer": "ipython3",
   "version": "3.11.9"
  }
 },
 "nbformat": 4,
 "nbformat_minor": 5
}
