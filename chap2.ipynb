{
 "cells": [
  {
   "cell_type": "code",
   "execution_count": 1,
   "id": "d1474a34-676b-4ca5-8af2-0975645d3a92",
   "metadata": {
    "execution": {
     "iopub.execute_input": "2025-03-04T15:22:34.002130Z",
     "iopub.status.busy": "2025-03-04T15:22:34.001139Z",
     "iopub.status.idle": "2025-03-04T15:22:34.627699Z",
     "shell.execute_reply": "2025-03-04T15:22:34.626679Z",
     "shell.execute_reply.started": "2025-03-04T15:22:34.002130Z"
    }
   },
   "outputs": [
    {
     "data": {
      "text/plain": [
       "('the-verdict.txt', <http.client.HTTPMessage at 0x29e42fb6810>)"
      ]
     },
     "execution_count": 1,
     "metadata": {},
     "output_type": "execute_result"
    }
   ],
   "source": [
    "import urllib.request\n",
    "url = (\"https://raw.githubusercontent.com/rasbt/\"\n",
    "       \"LLMs-from-scratch/main/ch02/01_main-chapter-code/\"\n",
    "       \"the-verdict.txt\")\n",
    "file_path = \"the-verdict.txt\"\n",
    "urllib.request.urlretrieve(url, file_path)"
   ]
  },
  {
   "cell_type": "code",
   "execution_count": 2,
   "id": "f48dbecf-54a5-4aab-98bf-cffaf5048954",
   "metadata": {
    "execution": {
     "iopub.execute_input": "2025-03-04T15:22:34.632706Z",
     "iopub.status.busy": "2025-03-04T15:22:34.631715Z",
     "iopub.status.idle": "2025-03-04T15:22:35.340598Z",
     "shell.execute_reply": "2025-03-04T15:22:35.339571Z",
     "shell.execute_reply.started": "2025-03-04T15:22:34.632706Z"
    }
   },
   "outputs": [
    {
     "name": "stdout",
     "output_type": "stream",
     "text": [
      "20K\tthe-verdict.txt\n",
      "1.3M\tThe_Mathematical_Principles_of_Natural_Philosophy_1729.txt\n"
     ]
    }
   ],
   "source": [
    "!du -sh the-verdict.txt\n",
    "!du -sh The_Mathematical_Principles_of_Natural_Philosophy_1729.txt"
   ]
  },
  {
   "cell_type": "code",
   "execution_count": 3,
   "id": "e716c2cc-8981-4c8a-9835-d3fcb75f8405",
   "metadata": {
    "execution": {
     "iopub.execute_input": "2025-03-04T15:22:35.341599Z",
     "iopub.status.busy": "2025-03-04T15:22:35.341599Z",
     "iopub.status.idle": "2025-03-04T15:22:35.354568Z",
     "shell.execute_reply": "2025-03-04T15:22:35.353553Z",
     "shell.execute_reply.started": "2025-03-04T15:22:35.341599Z"
    }
   },
   "outputs": [
    {
     "name": "stdout",
     "output_type": "stream",
     "text": [
      "Total number of character: 1267243\n",
      "The Mathematical Principles of Natural Philosophy (1729)\t\t\t\t\tIsaac Newton1729Exported from Wikisource on \n"
     ]
    }
   ],
   "source": [
    "book_txt = 'The_Mathematical_Principles_of_Natural_Philosophy_1729.txt'\n",
    "with open(book_txt, \"r\", encoding=\"utf-8\") as f:\n",
    "    raw_text = f.read()\n",
    "print(\"Total number of character:\", len(raw_text))\n",
    "print(raw_text[:120].replace('\\n',''))"
   ]
  },
  {
   "cell_type": "code",
   "execution_count": 4,
   "id": "f4fac4fe-c508-400b-85ba-cb71775c4149",
   "metadata": {
    "execution": {
     "iopub.execute_input": "2025-03-04T15:22:35.356566Z",
     "iopub.status.busy": "2025-03-04T15:22:35.355573Z",
     "iopub.status.idle": "2025-03-04T15:22:35.369203Z",
     "shell.execute_reply": "2025-03-04T15:22:35.368191Z",
     "shell.execute_reply.started": "2025-03-04T15:22:35.356566Z"
    }
   },
   "outputs": [
    {
     "name": "stdout",
     "output_type": "stream",
     "text": [
      "Total number of character: 1287726\n",
      "The Mathematical Principles of Natural Philosophy (1729)\t\t\t\t\tIsaac Newton1729Exported from Wikisource on \n"
     ]
    }
   ],
   "source": [
    "book_txt_2 = 'the-verdict.txt'\n",
    "with open(book_txt_2, \"r\", encoding=\"utf-8\") as f:\n",
    "    raw_text += '\\n\\n\\n\\n' + f.read()\n",
    "print(\"Total number of character:\", len(raw_text))\n",
    "print(raw_text[:120].replace('\\n',''))"
   ]
  },
  {
   "cell_type": "code",
   "execution_count": 5,
   "id": "559afcc4-c01c-48ff-8fa8-0148bb152915",
   "metadata": {
    "execution": {
     "iopub.execute_input": "2025-03-04T15:22:35.372205Z",
     "iopub.status.busy": "2025-03-04T15:22:35.371195Z",
     "iopub.status.idle": "2025-03-04T15:22:35.379093Z",
     "shell.execute_reply": "2025-03-04T15:22:35.378078Z",
     "shell.execute_reply.started": "2025-03-04T15:22:35.372205Z"
    }
   },
   "outputs": [
    {
     "name": "stdout",
     "output_type": "stream",
     "text": [
      "['Hello,', ' ', 'world.', ' ', 'This,', ' ', 'is', ' ', 'a', ' ', 'test.']\n"
     ]
    }
   ],
   "source": [
    "import re\n",
    "text = \"Hello, world. This, is a test.\"\n",
    "result = re.split(r'(\\s)', text)\n",
    "print(result)"
   ]
  },
  {
   "cell_type": "code",
   "execution_count": 6,
   "id": "94f57588-1d93-4b3e-b193-9f22baf489d5",
   "metadata": {
    "execution": {
     "iopub.execute_input": "2025-03-04T15:22:35.380097Z",
     "iopub.status.busy": "2025-03-04T15:22:35.380097Z",
     "iopub.status.idle": "2025-03-04T15:22:35.388192Z",
     "shell.execute_reply": "2025-03-04T15:22:35.386172Z",
     "shell.execute_reply.started": "2025-03-04T15:22:35.380097Z"
    }
   },
   "outputs": [
    {
     "name": "stdout",
     "output_type": "stream",
     "text": [
      "['Hello', ',', '', ' ', 'world', '.', '', ' ', 'This', ',', '', ' ', 'is', ' ', 'a', ' ', 'test', '.', '']\n"
     ]
    }
   ],
   "source": [
    "result = re.split(r'([,.]|\\s)', text)\n",
    "print(result)"
   ]
  },
  {
   "cell_type": "code",
   "execution_count": 7,
   "id": "93469a0e-ff94-4402-829a-f2fb6e72ef53",
   "metadata": {
    "execution": {
     "iopub.execute_input": "2025-03-04T15:22:35.389195Z",
     "iopub.status.busy": "2025-03-04T15:22:35.389195Z",
     "iopub.status.idle": "2025-03-04T15:22:35.395419Z",
     "shell.execute_reply": "2025-03-04T15:22:35.394400Z",
     "shell.execute_reply.started": "2025-03-04T15:22:35.389195Z"
    }
   },
   "outputs": [
    {
     "name": "stdout",
     "output_type": "stream",
     "text": [
      "['Hello', ',', 'world', '.', 'This', ',', 'is', 'a', 'test', '.']\n"
     ]
    }
   ],
   "source": [
    "result = [item for item in result if item.strip()]\n",
    "print(result)"
   ]
  },
  {
   "cell_type": "code",
   "execution_count": 8,
   "id": "f55e5cb9-e4e5-472b-a759-1872575f4eff",
   "metadata": {
    "execution": {
     "iopub.execute_input": "2025-03-04T15:22:35.430423Z",
     "iopub.status.busy": "2025-03-04T15:22:35.430423Z",
     "iopub.status.idle": "2025-03-04T15:22:35.438333Z",
     "shell.execute_reply": "2025-03-04T15:22:35.437313Z",
     "shell.execute_reply.started": "2025-03-04T15:22:35.430423Z"
    }
   },
   "outputs": [
    {
     "name": "stdout",
     "output_type": "stream",
     "text": [
      "['Hello', ',', 'world', '.', 'Is', 'this', '--', 'a', 'test', '?']\n"
     ]
    }
   ],
   "source": [
    "text = \"Hello, world. Is this-- a test?\"\n",
    "result = re.split(r'([,.:;?_!\"()\\']|--|\\s)', text)\n",
    "result = [item.strip() for item in result if item.strip()]\n",
    "print(result)"
   ]
  },
  {
   "cell_type": "code",
   "execution_count": 9,
   "id": "a8012548-5bae-426b-be15-da0b9ec8d1db",
   "metadata": {
    "execution": {
     "iopub.execute_input": "2025-03-04T15:22:35.587531Z",
     "iopub.status.busy": "2025-03-04T15:22:35.586518Z",
     "iopub.status.idle": "2025-03-04T15:22:35.593647Z",
     "shell.execute_reply": "2025-03-04T15:22:35.592622Z",
     "shell.execute_reply.started": "2025-03-04T15:22:35.587531Z"
    }
   },
   "outputs": [
    {
     "data": {
      "text/plain": [
       "'!\"#$%&\\'()*+,-./:;<=>?@[\\\\]^_`{|}~'"
      ]
     },
     "execution_count": 9,
     "metadata": {},
     "output_type": "execute_result"
    }
   ],
   "source": [
    "from string import punctuation\n",
    "punctuation"
   ]
  },
  {
   "cell_type": "code",
   "execution_count": 10,
   "id": "be6a38f0-1a3a-4b22-b236-88b075a3d47e",
   "metadata": {
    "execution": {
     "iopub.execute_input": "2025-03-04T15:22:35.780391Z",
     "iopub.status.busy": "2025-03-04T15:22:35.780391Z",
     "iopub.status.idle": "2025-03-04T15:22:35.787524Z",
     "shell.execute_reply": "2025-03-04T15:22:35.786510Z",
     "shell.execute_reply.started": "2025-03-04T15:22:35.780391Z"
    }
   },
   "outputs": [
    {
     "data": {
      "text/plain": [
       "'\\\\\"'"
      ]
     },
     "execution_count": 10,
     "metadata": {},
     "output_type": "execute_result"
    }
   ],
   "source": [
    "r\"\\\"\""
   ]
  },
  {
   "cell_type": "code",
   "execution_count": 11,
   "id": "120a8618-14ed-4d35-aa77-02f17e6122ed",
   "metadata": {
    "execution": {
     "iopub.execute_input": "2025-03-04T15:22:35.984808Z",
     "iopub.status.busy": "2025-03-04T15:22:35.983801Z",
     "iopub.status.idle": "2025-03-04T15:22:35.990544Z",
     "shell.execute_reply": "2025-03-04T15:22:35.989517Z",
     "shell.execute_reply.started": "2025-03-04T15:22:35.984808Z"
    }
   },
   "outputs": [],
   "source": [
    "ponc_re_pattern = r'([!\"#$%&\\'()*+,-./:;<=>?@\\[\\\\\\]\\^_`{|}~]|--|\\s)'"
   ]
  },
  {
   "cell_type": "code",
   "execution_count": 12,
   "id": "33e7704a-d653-439f-b46e-df1709cb1f69",
   "metadata": {
    "execution": {
     "iopub.execute_input": "2025-03-04T15:22:36.174662Z",
     "iopub.status.busy": "2025-03-04T15:22:36.173669Z",
     "iopub.status.idle": "2025-03-04T15:22:36.182190Z",
     "shell.execute_reply": "2025-03-04T15:22:36.181184Z",
     "shell.execute_reply.started": "2025-03-04T15:22:36.174662Z"
    }
   },
   "outputs": [
    {
     "data": {
      "text/plain": [
       "['Hello',\n",
       " ',',\n",
       " '',\n",
       " ' ',\n",
       " 'world',\n",
       " '.',\n",
       " '',\n",
       " ' ',\n",
       " 'Is',\n",
       " ' ',\n",
       " 'this',\n",
       " '-',\n",
       " '',\n",
       " '-',\n",
       " '',\n",
       " ' ',\n",
       " 'a',\n",
       " ' ',\n",
       " 'test',\n",
       " '?',\n",
       " '']"
      ]
     },
     "execution_count": 12,
     "metadata": {},
     "output_type": "execute_result"
    }
   ],
   "source": [
    "result = re.split(ponc_re_pattern, text)\n",
    "result"
   ]
  },
  {
   "cell_type": "code",
   "execution_count": 13,
   "id": "197629eb-0a19-4d98-8611-b9b9e9d09265",
   "metadata": {
    "execution": {
     "iopub.execute_input": "2025-03-04T15:22:36.381866Z",
     "iopub.status.busy": "2025-03-04T15:22:36.381866Z",
     "iopub.status.idle": "2025-03-04T15:22:36.529050Z",
     "shell.execute_reply": "2025-03-04T15:22:36.528035Z",
     "shell.execute_reply.started": "2025-03-04T15:22:36.381866Z"
    }
   },
   "outputs": [
    {
     "name": "stdout",
     "output_type": "stream",
     "text": [
      "276215\n",
      "['The', 'Mathematical', 'Principles', 'of', 'Natural', 'Philosophy', '(', '1729', ')', 'Isaac', 'Newton', '1729', 'Exported', 'from', 'Wikisource', 'on', 'March', '3', ',', '2025', 'This', 'work', 'is', 'incomplete', '.', 'If', 'you', \"'\", 'd', 'like']\n",
      "8476\n"
     ]
    }
   ],
   "source": [
    "preprocessed = re.split(r'(\\'s|[,.:;?_!\"()\\']|--|\\s)', raw_text)\n",
    "preprocessed = [item.strip() for item in preprocessed if item.strip()]\n",
    "print(len(preprocessed))\n",
    "print(preprocessed[:30])\n",
    "all_words = sorted(set(preprocessed))\n",
    "vocab_size = len(all_words)\n",
    "print(vocab_size)"
   ]
  },
  {
   "cell_type": "code",
   "execution_count": 14,
   "id": "6f5af2a9-9781-412d-b0ca-6a335246e70d",
   "metadata": {
    "execution": {
     "iopub.execute_input": "2025-03-04T15:22:36.571051Z",
     "iopub.status.busy": "2025-03-04T15:22:36.570052Z",
     "iopub.status.idle": "2025-03-04T15:22:36.578312Z",
     "shell.execute_reply": "2025-03-04T15:22:36.577289Z",
     "shell.execute_reply.started": "2025-03-04T15:22:36.571051Z"
    }
   },
   "outputs": [
    {
     "data": {
      "text/plain": [
       "True"
      ]
     },
     "execution_count": 14,
     "metadata": {},
     "output_type": "execute_result"
    }
   ],
   "source": [
    "'\\'s' in all_words"
   ]
  },
  {
   "cell_type": "code",
   "execution_count": 15,
   "id": "df30cab6-705b-46e5-a15b-8605ed8bfd14",
   "metadata": {
    "execution": {
     "iopub.execute_input": "2025-03-04T15:22:36.760600Z",
     "iopub.status.busy": "2025-03-04T15:22:36.760600Z",
     "iopub.status.idle": "2025-03-04T15:22:36.767098Z",
     "shell.execute_reply": "2025-03-04T15:22:36.766102Z",
     "shell.execute_reply.started": "2025-03-04T15:22:36.760600Z"
    }
   },
   "outputs": [
    {
     "data": {
      "text/plain": [
       "7"
      ]
     },
     "execution_count": 15,
     "metadata": {},
     "output_type": "execute_result"
    }
   ],
   "source": [
    "all_words.index('\\'s')"
   ]
  },
  {
   "cell_type": "code",
   "execution_count": 16,
   "id": "ddbd35b1-1fae-4d34-9b6a-e9005a2ba0e8",
   "metadata": {
    "execution": {
     "iopub.execute_input": "2025-03-04T15:22:36.970088Z",
     "iopub.status.busy": "2025-03-04T15:22:36.969084Z",
     "iopub.status.idle": "2025-03-04T15:22:36.976023Z",
     "shell.execute_reply": "2025-03-04T15:22:36.976023Z",
     "shell.execute_reply.started": "2025-03-04T15:22:36.970088Z"
    }
   },
   "outputs": [
    {
     "data": {
      "text/plain": [
       "\"'s\""
      ]
     },
     "execution_count": 16,
     "metadata": {},
     "output_type": "execute_result"
    }
   ],
   "source": [
    "all_words[7]"
   ]
  },
  {
   "cell_type": "code",
   "execution_count": 17,
   "id": "8151c7ea-4910-4fbd-a727-6eb361d8eeab",
   "metadata": {
    "execution": {
     "iopub.execute_input": "2025-03-04T15:22:37.173036Z",
     "iopub.status.busy": "2025-03-04T15:22:37.173036Z",
     "iopub.status.idle": "2025-03-04T15:22:37.323246Z",
     "shell.execute_reply": "2025-03-04T15:22:37.322222Z",
     "shell.execute_reply.started": "2025-03-04T15:22:37.173036Z"
    }
   },
   "outputs": [
    {
     "name": "stdout",
     "output_type": "stream",
     "text": [
      "278791\n",
      "['The', 'Mathematical', 'Principles', 'of', 'Natural', 'Philosophy', '(', '1729', ')', 'Isaac', 'Newton', '1729', 'Exported', 'from', 'Wikisource', 'on', 'March', '3', ',', '2025', 'This', 'work', 'is', 'incomplete', '.', 'If', 'you', \"'\", 'd', 'like']\n",
      "8173\n"
     ]
    }
   ],
   "source": [
    "preprocessed_plus = re.split(ponc_re_pattern, raw_text)\n",
    "preprocessed_plus = [item.strip() for item in preprocessed_plus if item.strip()]\n",
    "print(len(preprocessed_plus))\n",
    "print(preprocessed_plus[:30])\n",
    "all_words_plus = sorted(set(preprocessed_plus))\n",
    "vocab_size = len(all_words_plus)\n",
    "print(vocab_size)"
   ]
  },
  {
   "cell_type": "code",
   "execution_count": 18,
   "id": "c34a8a30-eaf7-46b9-b5be-846130da00d9",
   "metadata": {
    "execution": {
     "iopub.execute_input": "2025-03-04T15:22:37.363234Z",
     "iopub.status.busy": "2025-03-04T15:22:37.362254Z",
     "iopub.status.idle": "2025-03-04T15:22:37.396609Z",
     "shell.execute_reply": "2025-03-04T15:22:37.395593Z",
     "shell.execute_reply.started": "2025-03-04T15:22:37.363234Z"
    }
   },
   "outputs": [
    {
     "data": {
      "text/plain": [
       "{'#',\n",
       " '#12',\n",
       " '%',\n",
       " '%PS*',\n",
       " '&c',\n",
       " \"'s\",\n",
       " '+/-',\n",
       " '+2',\n",
       " '+a',\n",
       " '--',\n",
       " '-1-r',\n",
       " '-2A',\n",
       " '-2aA-3',\n",
       " '-4-',\n",
       " '-4-¢',\n",
       " '-44-am',\n",
       " '-7',\n",
       " '-According',\n",
       " '-B',\n",
       " '-FF',\n",
       " '-I2',\n",
       " '-a',\n",
       " '-a/A²',\n",
       " '-a/e',\n",
       " '-aA-2',\n",
       " '-aa',\n",
       " '-and',\n",
       " '-as',\n",
       " '-gd',\n",
       " '-na/An+1',\n",
       " '-o',\n",
       " '-two',\n",
       " '-xx',\n",
       " '-½aA-3/2',\n",
       " '/-aa-|-zdxtis',\n",
       " '/-¢¢',\n",
       " '/-“',\n",
       " '/1',\n",
       " '/1€2',\n",
       " '/E',\n",
       " '/N',\n",
       " '/T',\n",
       " '/b',\n",
       " '/m',\n",
       " '/ms',\n",
       " '/n',\n",
       " '0—1',\n",
       " '1-',\n",
       " '1-½n',\n",
       " '1/10',\n",
       " '1/1067',\n",
       " '1/16',\n",
       " '1/169282',\n",
       " '1/2',\n",
       " '1/2000',\n",
       " '1/242',\n",
       " '1/2aA-3/2',\n",
       " '1/3',\n",
       " '1/3021',\n",
       " '1/3342',\n",
       " '1/3761/50',\n",
       " '1/3aA-2/3',\n",
       " '1/4',\n",
       " '1/656',\n",
       " '1/69',\n",
       " '1/78',\n",
       " '1/8',\n",
       " '1/A',\n",
       " '1/An',\n",
       " '1/GD',\n",
       " '1/SP',\n",
       " '1/√SP',\n",
       " '101',\n",
       " '101/2',\n",
       " '1067',\n",
       " '107/10',\n",
       " '10BV3',\n",
       " '11/2',\n",
       " '11/5',\n",
       " '111/3',\n",
       " '1113',\n",
       " '1113/16',\n",
       " '1195',\n",
       " '1195/29',\n",
       " '11AV',\n",
       " '11Aa',\n",
       " '11V',\n",
       " '121/12',\n",
       " '122',\n",
       " '122/3',\n",
       " '1242',\n",
       " '1242/31',\n",
       " '1243',\n",
       " '1243/31',\n",
       " '13/4',\n",
       " '131',\n",
       " '131/3',\n",
       " '132/3',\n",
       " '13219',\n",
       " '13219/40',\n",
       " '1343',\n",
       " '1343/8',\n",
       " '136/11',\n",
       " '136/11V',\n",
       " '1392',\n",
       " '1392/5',\n",
       " '145',\n",
       " '145/8',\n",
       " '15+1',\n",
       " '1541',\n",
       " '1541/8',\n",
       " '155',\n",
       " '155/9',\n",
       " '15613',\n",
       " '15613/38',\n",
       " '15h',\n",
       " '16+0',\n",
       " '16/85½',\n",
       " '161/15h',\n",
       " '1621',\n",
       " '1621/2',\n",
       " '16600/860',\n",
       " '1661',\n",
       " '1661/6',\n",
       " '167',\n",
       " '167/8',\n",
       " '169282',\n",
       " '17-1',\n",
       " '17/48',\n",
       " '18-2',\n",
       " '181/2',\n",
       " '181/8',\n",
       " '1831',\n",
       " '1831/3',\n",
       " '185/8',\n",
       " '187',\n",
       " '187/8',\n",
       " '19/20',\n",
       " '19/36',\n",
       " '1903',\n",
       " '1903/4',\n",
       " '191',\n",
       " '191/8',\n",
       " '193/10',\n",
       " '1931',\n",
       " '1931/3',\n",
       " '1Am',\n",
       " '1Bn',\n",
       " '1€2',\n",
       " '2-nv#-1-J-',\n",
       " '2/3',\n",
       " '2/35½',\n",
       " '2/3AS',\n",
       " '2/3Ba',\n",
       " '2/3aA-1/3',\n",
       " '2/5',\n",
       " '2/535',\n",
       " '2/5f',\n",
       " '2000',\n",
       " '21/40',\n",
       " '211',\n",
       " '211/8',\n",
       " '212',\n",
       " '212/5',\n",
       " '212/7',\n",
       " '2121',\n",
       " '2121/8',\n",
       " '215/8',\n",
       " '221',\n",
       " '221/8',\n",
       " '222',\n",
       " '222/3',\n",
       " '222/3h',\n",
       " '24/29',\n",
       " '242',\n",
       " '25-35',\n",
       " '2531',\n",
       " '2531/3',\n",
       " '261',\n",
       " '261/4',\n",
       " '28%',\n",
       " '29/60',\n",
       " '2933',\n",
       " '2933/8',\n",
       " '2A1',\n",
       " '2A1/2',\n",
       " '2Ba',\n",
       " '2NI',\n",
       " '2NI/t',\n",
       " '2P',\n",
       " '2P/G',\n",
       " '2aA1',\n",
       " '2bA³B',\n",
       " '2bA³B-3',\n",
       " '2e',\n",
       " '2e5',\n",
       " '2e³',\n",
       " '2t',\n",
       " '2tt',\n",
       " '3-éS',\n",
       " '3/10',\n",
       " '3/16',\n",
       " '3/2Ba',\n",
       " '3/2aA1/2',\n",
       " '3/4',\n",
       " '3/4Aa',\n",
       " '3/8',\n",
       " '3021',\n",
       " '31/18',\n",
       " '31/2',\n",
       " '31/4',\n",
       " '31/8',\n",
       " '329',\n",
       " '329/32',\n",
       " '33/60',\n",
       " '3342',\n",
       " '35/8',\n",
       " '351',\n",
       " '351/2',\n",
       " '3519',\n",
       " '3519/16',\n",
       " '35½',\n",
       " '36-37',\n",
       " '37/16',\n",
       " '3761',\n",
       " '3761/50',\n",
       " '391',\n",
       " '391/5',\n",
       " '3AS',\n",
       " '3Ba',\n",
       " '3D',\n",
       " '3aA',\n",
       " '3aA²B',\n",
       " '3aA²B-2',\n",
       " '3b',\n",
       " '4-',\n",
       " '4/',\n",
       " '4/3D',\n",
       " '4/71',\n",
       " '41-x',\n",
       " '412',\n",
       " '412/3',\n",
       " '43/8',\n",
       " '442',\n",
       " '443',\n",
       " '444',\n",
       " '445',\n",
       " '446',\n",
       " '447',\n",
       " '448',\n",
       " '449',\n",
       " '450',\n",
       " '451',\n",
       " '452',\n",
       " '454',\n",
       " '457',\n",
       " '458',\n",
       " '459',\n",
       " '460',\n",
       " '46]',\n",
       " '471',\n",
       " '471/4',\n",
       " '4715',\n",
       " '4715/64',\n",
       " '478',\n",
       " '479',\n",
       " '47]',\n",
       " '480',\n",
       " '481',\n",
       " '482',\n",
       " '484',\n",
       " '485',\n",
       " '486',\n",
       " '487',\n",
       " '488',\n",
       " '489',\n",
       " '489/56',\n",
       " '489/56V²',\n",
       " '490',\n",
       " '491',\n",
       " '492',\n",
       " '493',\n",
       " '495',\n",
       " '496',\n",
       " '497',\n",
       " '499',\n",
       " '4Aa',\n",
       " '4c',\n",
       " '4c/3b',\n",
       " '5-Q',\n",
       " '5/8',\n",
       " '5/9',\n",
       " '500',\n",
       " '501',\n",
       " '502',\n",
       " '5023',\n",
       " '5023/10',\n",
       " '503',\n",
       " '504',\n",
       " '505',\n",
       " '506',\n",
       " '507',\n",
       " '508',\n",
       " '509',\n",
       " '51/16',\n",
       " '51/3',\n",
       " '512',\n",
       " '513',\n",
       " '515',\n",
       " '516',\n",
       " '517',\n",
       " '526',\n",
       " '527',\n",
       " '528',\n",
       " '530',\n",
       " '56V²',\n",
       " '577',\n",
       " '577/22',\n",
       " '5]',\n",
       " '5f',\n",
       " '61/9',\n",
       " '6112',\n",
       " '6112/17',\n",
       " '62',\n",
       " '622',\n",
       " '622/5',\n",
       " '623',\n",
       " '623/62',\n",
       " '643',\n",
       " '643/14',\n",
       " '656',\n",
       " '67/8',\n",
       " '671',\n",
       " '671/8',\n",
       " '7/10BV3/2',\n",
       " '7/11',\n",
       " '7/11AV',\n",
       " '7/11Aa',\n",
       " '7/4',\n",
       " '7/8',\n",
       " '71/2',\n",
       " '71/3',\n",
       " '71/8',\n",
       " '761',\n",
       " '761/3',\n",
       " '765',\n",
       " '765/12',\n",
       " '7913',\n",
       " '7913/38',\n",
       " '8/',\n",
       " '8/3',\n",
       " '8/37',\n",
       " '8/3D',\n",
       " '82',\n",
       " '82/3',\n",
       " '831',\n",
       " '831/3',\n",
       " '8]',\n",
       " '92',\n",
       " '92/3',\n",
       " '979/9',\n",
       " '<2',\n",
       " '<unreadable',\n",
       " '===o======o===',\n",
       " '=»-fdd-~zdx—xx',\n",
       " '@',\n",
       " 'A+78B',\n",
       " 'A+B',\n",
       " 'A-1',\n",
       " 'A-1/2',\n",
       " 'A-2',\n",
       " 'A-B',\n",
       " 'A-n',\n",
       " 'A1',\n",
       " 'A1/2',\n",
       " 'A1/22',\n",
       " 'A1/3',\n",
       " 'A2',\n",
       " 'A2/3',\n",
       " 'A3',\n",
       " 'A3/2',\n",
       " 'AD11',\n",
       " 'AD11/4',\n",
       " 'AD11/5',\n",
       " 'AD13',\n",
       " 'AD13/6',\n",
       " 'AD17',\n",
       " 'AD17/6',\n",
       " 'AD3/2',\n",
       " 'AD4/3',\n",
       " 'AD5/2',\n",
       " 'AD5/4',\n",
       " 'AD6/5',\n",
       " 'AD7/3',\n",
       " 'AD7/6',\n",
       " 'AD8',\n",
       " 'AD8/3',\n",
       " 'AD9',\n",
       " 'AD9/4',\n",
       " 'AH/AB',\n",
       " 'AH/AS',\n",
       " 'AH/SA',\n",
       " 'AH/SA²',\n",
       " 'AH²',\n",
       " 'AH²/AI',\n",
       " 'AK/Ak',\n",
       " 'AS1',\n",
       " 'AS1/2',\n",
       " 'Aa-',\n",
       " 'Ak-',\n",
       " 'All-wise',\n",
       " 'Am/n',\n",
       " 'An/m',\n",
       " 'Attribution',\n",
       " 'Attribution-ShareAlike',\n",
       " 'A³/B²',\n",
       " 'B-2',\n",
       " 'B-C',\n",
       " 'BE²/CB',\n",
       " 'BG−FR',\n",
       " 'BI/BC',\n",
       " 'BI/BS',\n",
       " 'BI/SB',\n",
       " 'BI/SB²',\n",
       " 'BS1',\n",
       " 'BS1/2',\n",
       " 'BV3',\n",
       " 'BV3/2',\n",
       " 'Bul',\n",
       " 'Bul-',\n",
       " 'Bulli',\n",
       " 'Bulli-',\n",
       " 'B²',\n",
       " 'C-D',\n",
       " 'CDE-',\n",
       " 'CE+BG',\n",
       " 'CE+BG−FR',\n",
       " 'CK/CD',\n",
       " 'CK/CS',\n",
       " 'CK/SC',\n",
       " 'CK/SC⊃',\n",
       " 'CS1',\n",
       " 'CS1/2',\n",
       " 'D3',\n",
       " 'D3-',\n",
       " 'DA²/DE²',\n",
       " 'DD',\n",
       " 'DD-+SS',\n",
       " 'DE²',\n",
       " 'DV²/Vr',\n",
       " 'E3',\n",
       " 'E3-',\n",
       " 'En',\n",
       " 'En+2',\n",
       " 'F/amfed',\n",
       " 'GH/T',\n",
       " 'GTIE',\n",
       " 'GTIE/N',\n",
       " 'Gate',\n",
       " 'HI/t',\n",
       " 'I-III',\n",
       " 'I-IX',\n",
       " 'I/bac',\n",
       " 'I/imr',\n",
       " 'I2',\n",
       " 'IEF/OQ',\n",
       " 'IV-XI',\n",
       " 'LB/',\n",
       " 'LN/',\n",
       " 'Load',\n",
       " 'Load-stone',\n",
       " 'M/',\n",
       " 'M/DE²',\n",
       " 'Middle',\n",
       " 'Middle-',\n",
       " 'Moon-dancers',\n",
       " 'M²',\n",
       " 'M²/DE²',\n",
       " 'Ne',\n",
       " 'Ne=wton',\n",
       " 'OP/OQ',\n",
       " 'OR/OQ',\n",
       " 'OS/OP',\n",
       " 'OVx',\n",
       " 'OVx=',\n",
       " 'P/G',\n",
       " 'PIGR-Y',\n",
       " 'PM-C',\n",
       " 'PQ/PQ',\n",
       " 'Pro',\n",
       " 'Pro-',\n",
       " 'R4',\n",
       " 'RV-Vr',\n",
       " 'Re',\n",
       " 'Re-action',\n",
       " 'Rr/OQ',\n",
       " 'Rr/PQ²',\n",
       " 'S=30',\n",
       " 'SA4',\n",
       " 'SA4/SA³',\n",
       " 'SA4/SB³',\n",
       " 'SA4/SC³',\n",
       " 'SA²',\n",
       " 'SA³',\n",
       " 'SA³/SA²',\n",
       " 'SA³/SB²',\n",
       " 'SA³/SC²',\n",
       " 'SB-',\n",
       " 'SB²',\n",
       " 'SB³',\n",
       " 'SC²',\n",
       " 'SC³',\n",
       " 'SC⊃',\n",
       " 'SPn+1',\n",
       " 'SS',\n",
       " 'ShareAlike',\n",
       " 'S²',\n",
       " 'S²/R4-n',\n",
       " 'Temple',\n",
       " 'Temple-Gate',\n",
       " 'There-',\n",
       " 'V/',\n",
       " 'V1',\n",
       " 'V1/2',\n",
       " 'V3',\n",
       " 'V3/2',\n",
       " 'VQ',\n",
       " 'VQ/PQ',\n",
       " 'V²/AB',\n",
       " 'X-XXIV',\n",
       " 'XL-XLII',\n",
       " 'XXV-XXXIII',\n",
       " 'XXXVI-XXXVIII',\n",
       " '[2]',\n",
       " '[56',\n",
       " '[67]',\n",
       " '[The',\n",
       " '[This',\n",
       " '[spaces]',\n",
       " '[the',\n",
       " 'a-o',\n",
       " 'a/2A1/2',\n",
       " 'a/e',\n",
       " 'a/ne',\n",
       " 'a4',\n",
       " 'aa/ee',\n",
       " 'aaoo',\n",
       " 'aaoo/2e³',\n",
       " 'aazdd',\n",
       " 'aazdd-rr',\n",
       " 'above-determined',\n",
       " 'above-mentioned',\n",
       " 'accelerat',\n",
       " 'accelerat-',\n",
       " 'al',\n",
       " 'al-',\n",
       " 'all-performing',\n",
       " 'all-wise',\n",
       " 'alsoa',\n",
       " 'alsoa-|-¢',\n",
       " 'am-a&s',\n",
       " 'amfed',\n",
       " 'an-',\n",
       " 'ann',\n",
       " 'ann/2e5',\n",
       " 'anno³',\n",
       " 'anno³/2e5',\n",
       " 'ano',\n",
       " 'ano-',\n",
       " 'ao/e',\n",
       " 'ao³',\n",
       " 'ao³/2e³',\n",
       " 'ar-1',\n",
       " 'arm-chair',\n",
       " 'arm-chairs',\n",
       " 'au',\n",
       " 'au-',\n",
       " 'aways',\n",
       " 'b/2t',\n",
       " 'bac',\n",
       " 'bath',\n",
       " 'bath-rooms',\n",
       " 'bb/',\n",
       " 'bb/4',\n",
       " 'bb/a',\n",
       " 'bb/a4',\n",
       " 'bb/aa',\n",
       " 'bb/a³',\n",
       " 'be-',\n",
       " 'bean',\n",
       " 'bean-stalk',\n",
       " 'being=0—1',\n",
       " 'brac',\n",
       " 'breeding',\n",
       " 'bric',\n",
       " 'bric-a-brac',\n",
       " 'cc',\n",
       " 'cc/2tt',\n",
       " 'cen',\n",
       " 'cen-f',\n",
       " 'centri',\n",
       " 'centri-2',\n",
       " 'century',\n",
       " 'chairs',\n",
       " 'chimney',\n",
       " 'chimney-piece',\n",
       " 'circus',\n",
       " 'circus-clown',\n",
       " 'closets',\n",
       " 'clown',\n",
       " 'co-existent',\n",
       " 'co-inciding',\n",
       " 'co-ordinates',\n",
       " 'co-sine',\n",
       " 'comple',\n",
       " 'comple-',\n",
       " 'con',\n",
       " 'con#',\n",
       " 'con-',\n",
       " 'concavo',\n",
       " 'concavo-convex',\n",
       " 'contrary-wise',\n",
       " 'cotta',\n",
       " 'cubo',\n",
       " 'cubo-cubes',\n",
       " 'd-r',\n",
       " 'd/e',\n",
       " 'da',\n",
       " 'da-P',\n",
       " 'dancers',\n",
       " 'def',\n",
       " 'def@fiPIiQ11=',\n",
       " 'di-',\n",
       " 'diffe',\n",
       " 'diffe-',\n",
       " 'dining',\n",
       " 'dining-room',\n",
       " 'divi',\n",
       " 'divi-',\n",
       " 'djvu',\n",
       " 'djvu/442',\n",
       " 'djvu/443',\n",
       " 'djvu/444',\n",
       " 'djvu/445',\n",
       " 'djvu/446',\n",
       " 'djvu/447',\n",
       " 'djvu/448',\n",
       " 'djvu/449',\n",
       " 'djvu/450',\n",
       " 'djvu/451',\n",
       " 'djvu/452',\n",
       " 'djvu/453',\n",
       " 'djvu/454',\n",
       " 'djvu/457',\n",
       " 'djvu/458',\n",
       " 'djvu/459',\n",
       " 'djvu/460',\n",
       " 'djvu/478',\n",
       " 'djvu/479',\n",
       " 'djvu/480',\n",
       " 'djvu/481',\n",
       " 'djvu/482',\n",
       " 'djvu/483',\n",
       " 'djvu/484',\n",
       " 'djvu/485',\n",
       " 'djvu/486',\n",
       " 'djvu/487',\n",
       " 'djvu/488',\n",
       " 'djvu/489',\n",
       " 'djvu/490',\n",
       " 'djvu/491',\n",
       " 'djvu/492',\n",
       " 'djvu/493',\n",
       " 'djvu/494',\n",
       " 'djvu/495',\n",
       " 'djvu/496',\n",
       " 'djvu/497',\n",
       " 'djvu/499',\n",
       " 'djvu/500',\n",
       " 'djvu/501',\n",
       " 'djvu/502',\n",
       " 'djvu/503',\n",
       " 'djvu/504',\n",
       " 'djvu/505',\n",
       " 'djvu/506',\n",
       " 'djvu/507',\n",
       " 'djvu/508',\n",
       " 'djvu/509',\n",
       " 'djvu/512',\n",
       " 'djvu/513',\n",
       " 'djvu/514',\n",
       " 'djvu/515',\n",
       " 'djvu/516',\n",
       " 'djvu/517',\n",
       " 'djvu/518',\n",
       " 'djvu/526',\n",
       " 'djvu/527',\n",
       " 'djvu/528',\n",
       " 'djvu/529',\n",
       " 'djvu/530',\n",
       " 'drawing-room',\n",
       " 'drawing-rooms',\n",
       " 'dress',\n",
       " 'dress-closets',\n",
       " 'dupli',\n",
       " 'dupli-',\n",
       " 'd”',\n",
       " 'e-',\n",
       " 'e-book',\n",
       " 'e-books',\n",
       " 'ec-',\n",
       " 'edition]',\n",
       " 'eighteenth',\n",
       " 'eighteenth-century',\n",
       " 'el#',\n",
       " 'ele',\n",
       " 'ele-',\n",
       " 'ex-',\n",
       " 'f-',\n",
       " 'f1r',\n",
       " 'f1r{',\n",
       " 'famille',\n",
       " 'famille-verte',\n",
       " 'fdd',\n",
       " 'fiPIiQ11',\n",
       " 'find-',\n",
       " 'flu',\n",
       " 'flu-',\n",
       " 'foun',\n",
       " 'foun<1@d',\n",
       " 'gd',\n",
       " 'gi-',\n",
       " 'good-breeding',\n",
       " 'good-humoured',\n",
       " 'grains7',\n",
       " 'grains7/8',\n",
       " 'half-full',\n",
       " 'half-light',\n",
       " 'half-mechanically',\n",
       " 'hemi',\n",
       " 'hemi-sphæroid',\n",
       " 'hewn',\n",
       " 'hot-house',\n",
       " 'hour-hand',\n",
       " 'howing',\n",
       " 'humoured',\n",
       " 'il>',\n",
       " 'im#',\n",
       " 'imilar',\n",
       " 'imr',\n",
       " 'in-',\n",
       " 'inciding',\n",
       " 'inequali',\n",
       " 'inequali-',\n",
       " 'ix',\n",
       " 'ix-a',\n",
       " 'j*',\n",
       " 'lea',\n",
       " 'lea{',\n",
       " 'life-likeness',\n",
       " 'load',\n",
       " 'load-stone',\n",
       " 'ls',\n",
       " 'luncheon',\n",
       " 'luncheon-table',\n",
       " 'lv',\n",
       " 'lv]',\n",
       " 'm-n',\n",
       " 'm/AB',\n",
       " 'm/DE²',\n",
       " 'm/n',\n",
       " 'm/naA',\n",
       " 'mA',\n",
       " 'maA',\n",
       " 'maA-1',\n",
       " 'maAm',\n",
       " 'maAm-1',\n",
       " 'maAm-1Bn',\n",
       " 'mantel',\n",
       " 'mantel-piece',\n",
       " 'me-',\n",
       " 'mo',\n",
       " 'mo-',\n",
       " 'moon-like',\n",
       " 'm²',\n",
       " 'm²/n²',\n",
       " 'n+1',\n",
       " 'n+2',\n",
       " 'n-1',\n",
       " 'n-m',\n",
       " 'n/e',\n",
       " 'n/mA',\n",
       " 'n=1',\n",
       " 'na',\n",
       " 'naA',\n",
       " 'naA1',\n",
       " 'naA1/An-1',\n",
       " 'naAn',\n",
       " 'naAn-1',\n",
       " 'nbA',\n",
       " 'nbA-m/n',\n",
       " 'nbB',\n",
       " 'nbB-1',\n",
       " 'nbBn',\n",
       " 'nbBn-1',\n",
       " 'nbBn-1Am',\n",
       " 'ne',\n",
       " 'near-',\n",
       " 'nn/2e³',\n",
       " 'nnoo',\n",
       " 'nnoo/2e³',\n",
       " 'non',\n",
       " 'non-elastic',\n",
       " 'non-resisting',\n",
       " 'notice-',\n",
       " 'nv',\n",
       " 'n²',\n",
       " 'o/b',\n",
       " 'object-glasses',\n",
       " 'one-half',\n",
       " 'oo/2e',\n",
       " 'oo/b',\n",
       " 'out-side',\n",
       " 'over-against',\n",
       " 'o³/2',\n",
       " 'pal',\n",
       " 'palm',\n",
       " 'palm-trees',\n",
       " 'panelled',\n",
       " 'part>',\n",
       " 'periphery',\n",
       " 'phi',\n",
       " 'pla',\n",
       " 'pla-',\n",
       " 'ppears',\n",
       " 'pq/Ck',\n",
       " 'princ',\n",
       " 'princ[i]pal',\n",
       " 'pro-',\n",
       " 'propor',\n",
       " 'propor-',\n",
       " 'qua',\n",
       " 'qua-',\n",
       " 'quadrato',\n",
       " 'quadrato-cube',\n",
       " 'quadrato-cubes',\n",
       " 'quick-silver',\n",
       " 'ra',\n",
       " 'ra-',\n",
       " 'rain-water',\n",
       " 're-action',\n",
       " 'rea',\n",
       " 'rea-',\n",
       " 'recipro',\n",
       " 'recipro-',\n",
       " 'rectan',\n",
       " 'rectan-',\n",
       " 'refle',\n",
       " 'refle-',\n",
       " 'rooms',\n",
       " 'rr',\n",
       " 'self-confident',\n",
       " 'semi',\n",
       " 'semi-',\n",
       " 'semi-axe',\n",
       " 'semi-axes',\n",
       " 'semi-axis',\n",
       " 'semi-circle',\n",
       " 'semi-circumference',\n",
       " 'semi-conjugate',\n",
       " 'semi-cycloid',\n",
       " 'semi-cycloids',\n",
       " 'semi-diameter',\n",
       " 'semi-latus',\n",
       " 'semi-perimeter',\n",
       " 'semi-periphery',\n",
       " 'semi-trans-',\n",
       " 'semi-transverse',\n",
       " 'showing',\n",
       " 'side-aways',\n",
       " 'speaking-trumpets',\n",
       " 'speaking-tubes',\n",
       " 'spring-water',\n",
       " 'stalk',\n",
       " 'summer-sun',\n",
       " 'sun',\n",
       " 'super',\n",
       " 'super-added',\n",
       " 'supposing-',\n",
       " 't/T',\n",
       " 'tGT/N',\n",
       " 'tan',\n",
       " 'tan-',\n",
       " 'terra',\n",
       " 'terra-cotta',\n",
       " 'th/SA',\n",
       " 'th/SB',\n",
       " 'thq',\n",
       " 'thq/é',\n",
       " 'thro*',\n",
       " 'tra',\n",
       " 'tra&s',\n",
       " 'trans',\n",
       " 'tri',\n",
       " 'tri-',\n",
       " 'trouser',\n",
       " 'trouser-presses',\n",
       " 'trumpets',\n",
       " 'twenty-four',\n",
       " 'two-fold',\n",
       " 'ubject',\n",
       " 'ui/SB',\n",
       " 'undertaking',\n",
       " 'undertaking-was',\n",
       " 'unreadable',\n",
       " 'up-stream',\n",
       " 'upposed',\n",
       " 'usually[1]',\n",
       " 'verte',\n",
       " 'viol',\n",
       " 'viol-string',\n",
       " 'water-colour',\n",
       " 'well-known',\n",
       " 'where-ever',\n",
       " 'white-panelled',\n",
       " 'window-curtains',\n",
       " 'wton',\n",
       " 'x-',\n",
       " 'x-f-°i',\n",
       " 'xx',\n",
       " 'zdxtis',\n",
       " '{{ls]]imilar',\n",
       " '{{ls]]ine',\n",
       " '|',\n",
       " '}ppears',\n",
       " '~J',\n",
       " '~V',\n",
       " '¢-',\n",
       " '¢¢',\n",
       " '°i',\n",
       " '»',\n",
       " '½/121',\n",
       " '½OS/OP',\n",
       " '½VQ/PQ',\n",
       " '½aA',\n",
       " '½aA-1/2',\n",
       " 'éS',\n",
       " 'Ω&phi',\n",
       " '“+d”'}"
      ]
     },
     "execution_count": 18,
     "metadata": {},
     "output_type": "execute_result"
    }
   ],
   "source": [
    "set(preprocessed_plus) ^ set(preprocessed)"
   ]
  },
  {
   "cell_type": "code",
   "execution_count": 19,
   "id": "b9ea905f-693f-4ba6-8e54-bdee04d150b1",
   "metadata": {
    "execution": {
     "iopub.execute_input": "2025-03-04T15:22:37.574208Z",
     "iopub.status.busy": "2025-03-04T15:22:37.574208Z",
     "iopub.status.idle": "2025-03-04T15:22:37.585963Z",
     "shell.execute_reply": "2025-03-04T15:22:37.584937Z",
     "shell.execute_reply.started": "2025-03-04T15:22:37.574208Z"
    }
   },
   "outputs": [
    {
     "data": {
      "text/plain": [
       "{'#',\n",
       " '%',\n",
       " '0—1',\n",
       " '101',\n",
       " '1067',\n",
       " '10BV3',\n",
       " '1113',\n",
       " '1195',\n",
       " '11AV',\n",
       " '11Aa',\n",
       " '11V',\n",
       " '122',\n",
       " '1242',\n",
       " '1243',\n",
       " '131',\n",
       " '13219',\n",
       " '1343',\n",
       " '1392',\n",
       " '145',\n",
       " '1541',\n",
       " '155',\n",
       " '15613',\n",
       " '15h',\n",
       " '1621',\n",
       " '1661',\n",
       " '167',\n",
       " '169282',\n",
       " '1831',\n",
       " '187',\n",
       " '1903',\n",
       " '191',\n",
       " '1931',\n",
       " '1Am',\n",
       " '1Bn',\n",
       " '1€2',\n",
       " '2000',\n",
       " '211',\n",
       " '212',\n",
       " '2121',\n",
       " '221',\n",
       " '222',\n",
       " '242',\n",
       " '2531',\n",
       " '261',\n",
       " '2933',\n",
       " '2A1',\n",
       " '2Ba',\n",
       " '2NI',\n",
       " '2P',\n",
       " '2aA1',\n",
       " '2bA³B',\n",
       " '2e',\n",
       " '2e5',\n",
       " '2e³',\n",
       " '2t',\n",
       " '2tt',\n",
       " '3021',\n",
       " '329',\n",
       " '3342',\n",
       " '351',\n",
       " '3519',\n",
       " '35½',\n",
       " '3761',\n",
       " '391',\n",
       " '3AS',\n",
       " '3Ba',\n",
       " '3D',\n",
       " '3aA',\n",
       " '3aA²B',\n",
       " '3b',\n",
       " '412',\n",
       " '442',\n",
       " '443',\n",
       " '444',\n",
       " '445',\n",
       " '446',\n",
       " '447',\n",
       " '448',\n",
       " '449',\n",
       " '450',\n",
       " '451',\n",
       " '452',\n",
       " '454',\n",
       " '457',\n",
       " '458',\n",
       " '459',\n",
       " '460',\n",
       " '471',\n",
       " '4715',\n",
       " '478',\n",
       " '479',\n",
       " '480',\n",
       " '481',\n",
       " '482',\n",
       " '484',\n",
       " '485',\n",
       " '486',\n",
       " '487',\n",
       " '488',\n",
       " '489',\n",
       " '490',\n",
       " '491',\n",
       " '492',\n",
       " '493',\n",
       " '495',\n",
       " '496',\n",
       " '497',\n",
       " '499',\n",
       " '4Aa',\n",
       " '4c',\n",
       " '500',\n",
       " '501',\n",
       " '502',\n",
       " '5023',\n",
       " '503',\n",
       " '504',\n",
       " '505',\n",
       " '506',\n",
       " '507',\n",
       " '508',\n",
       " '509',\n",
       " '512',\n",
       " '513',\n",
       " '515',\n",
       " '516',\n",
       " '517',\n",
       " '526',\n",
       " '527',\n",
       " '528',\n",
       " '530',\n",
       " '56V²',\n",
       " '577',\n",
       " '5f',\n",
       " '6112',\n",
       " '62',\n",
       " '622',\n",
       " '623',\n",
       " '643',\n",
       " '656',\n",
       " '671',\n",
       " '761',\n",
       " '765',\n",
       " '7913',\n",
       " '82',\n",
       " '831',\n",
       " '92',\n",
       " '@',\n",
       " 'A1',\n",
       " 'A2',\n",
       " 'A3',\n",
       " 'AD11',\n",
       " 'AD13',\n",
       " 'AD17',\n",
       " 'AD8',\n",
       " 'AD9',\n",
       " 'AH²',\n",
       " 'AS1',\n",
       " 'Attribution',\n",
       " 'BG−FR',\n",
       " 'BS1',\n",
       " 'BV3',\n",
       " 'Bul',\n",
       " 'Bulli',\n",
       " 'B²',\n",
       " 'CS1',\n",
       " 'D3',\n",
       " 'DD',\n",
       " 'DE²',\n",
       " 'E3',\n",
       " 'En',\n",
       " 'GTIE',\n",
       " 'Gate',\n",
       " 'I2',\n",
       " 'Load',\n",
       " 'Middle',\n",
       " 'M²',\n",
       " 'Ne',\n",
       " 'OVx',\n",
       " 'Pro',\n",
       " 'R4',\n",
       " 'Re',\n",
       " 'SA4',\n",
       " 'SA²',\n",
       " 'SA³',\n",
       " 'SB²',\n",
       " 'SB³',\n",
       " 'SC²',\n",
       " 'SC³',\n",
       " 'SC⊃',\n",
       " 'SS',\n",
       " 'ShareAlike',\n",
       " 'S²',\n",
       " 'Temple',\n",
       " 'V1',\n",
       " 'V3',\n",
       " 'VQ',\n",
       " 'a4',\n",
       " 'aaoo',\n",
       " 'aazdd',\n",
       " 'accelerat',\n",
       " 'al',\n",
       " 'alsoa',\n",
       " 'amfed',\n",
       " 'ann',\n",
       " 'anno³',\n",
       " 'ano',\n",
       " 'ao³',\n",
       " 'au',\n",
       " 'aways',\n",
       " 'bac',\n",
       " 'bath',\n",
       " 'bean',\n",
       " 'brac',\n",
       " 'breeding',\n",
       " 'bric',\n",
       " 'cc',\n",
       " 'cen',\n",
       " 'centri',\n",
       " 'century',\n",
       " 'chairs',\n",
       " 'chimney',\n",
       " 'circus',\n",
       " 'closets',\n",
       " 'clown',\n",
       " 'comple',\n",
       " 'con',\n",
       " 'concavo',\n",
       " 'cotta',\n",
       " 'cubo',\n",
       " 'da',\n",
       " 'dancers',\n",
       " 'def',\n",
       " 'diffe',\n",
       " 'dining',\n",
       " 'divi',\n",
       " 'djvu',\n",
       " 'dress',\n",
       " 'dupli',\n",
       " 'd”',\n",
       " 'eighteenth',\n",
       " 'ele',\n",
       " 'f1r',\n",
       " 'famille',\n",
       " 'fdd',\n",
       " 'fiPIiQ11',\n",
       " 'flu',\n",
       " 'foun',\n",
       " 'gd',\n",
       " 'grains7',\n",
       " 'hemi',\n",
       " 'humoured',\n",
       " 'imilar',\n",
       " 'imr',\n",
       " 'inciding',\n",
       " 'inequali',\n",
       " 'ix',\n",
       " 'lea',\n",
       " 'load',\n",
       " 'ls',\n",
       " 'luncheon',\n",
       " 'lv',\n",
       " 'mA',\n",
       " 'maA',\n",
       " 'maAm',\n",
       " 'mantel',\n",
       " 'mo',\n",
       " 'm²',\n",
       " 'na',\n",
       " 'naA',\n",
       " 'naA1',\n",
       " 'naAn',\n",
       " 'nbA',\n",
       " 'nbB',\n",
       " 'nbBn',\n",
       " 'ne',\n",
       " 'nnoo',\n",
       " 'non',\n",
       " 'nv',\n",
       " 'n²',\n",
       " 'pal',\n",
       " 'palm',\n",
       " 'panelled',\n",
       " 'periphery',\n",
       " 'phi',\n",
       " 'pla',\n",
       " 'ppears',\n",
       " 'princ',\n",
       " 'propor',\n",
       " 'qua',\n",
       " 'quadrato',\n",
       " 'ra',\n",
       " 'rea',\n",
       " 'recipro',\n",
       " 'rectan',\n",
       " 'refle',\n",
       " 'rooms',\n",
       " 'rr',\n",
       " 'semi',\n",
       " 'showing',\n",
       " 'stalk',\n",
       " 'sun',\n",
       " 'super',\n",
       " 'tan',\n",
       " 'terra',\n",
       " 'thq',\n",
       " 'tra',\n",
       " 'trans',\n",
       " 'tri',\n",
       " 'trouser',\n",
       " 'trumpets',\n",
       " 'undertaking',\n",
       " 'unreadable',\n",
       " 'verte',\n",
       " 'viol',\n",
       " 'wton',\n",
       " 'xx',\n",
       " 'zdxtis',\n",
       " '|',\n",
       " '¢¢',\n",
       " '°i',\n",
       " '»',\n",
       " '½aA',\n",
       " 'éS'}"
      ]
     },
     "execution_count": 19,
     "metadata": {},
     "output_type": "execute_result"
    }
   ],
   "source": [
    "set(all_words_plus) - set(all_words)"
   ]
  },
  {
   "cell_type": "code",
   "execution_count": 20,
   "id": "93159796-af42-40d3-8850-8d4f9936cfd1",
   "metadata": {
    "execution": {
     "iopub.execute_input": "2025-03-04T15:22:37.790205Z",
     "iopub.status.busy": "2025-03-04T15:22:37.789203Z",
     "iopub.status.idle": "2025-03-04T15:22:37.794269Z",
     "shell.execute_reply": "2025-03-04T15:22:37.793245Z",
     "shell.execute_reply.started": "2025-03-04T15:22:37.790205Z"
    }
   },
   "outputs": [],
   "source": [
    "#preprocessed = preprocessed_plus"
   ]
  },
  {
   "cell_type": "code",
   "execution_count": 21,
   "id": "b7ab9e58-3ac9-492e-9d7d-8c4a8904fc26",
   "metadata": {
    "execution": {
     "iopub.execute_input": "2025-03-04T15:22:38.010087Z",
     "iopub.status.busy": "2025-03-04T15:22:38.010087Z",
     "iopub.status.idle": "2025-03-04T15:22:38.027652Z",
     "shell.execute_reply": "2025-03-04T15:22:38.027652Z",
     "shell.execute_reply.started": "2025-03-04T15:22:38.010087Z"
    }
   },
   "outputs": [
    {
     "name": "stdout",
     "output_type": "stream",
     "text": [
      "8476\n"
     ]
    }
   ],
   "source": [
    "all_words = sorted(set(preprocessed))\n",
    "vocab_size = len(all_words)\n",
    "print(vocab_size)"
   ]
  },
  {
   "cell_type": "code",
   "execution_count": 22,
   "id": "e687d48f-9132-4a7b-a8e1-1eda27d88f01",
   "metadata": {
    "execution": {
     "iopub.execute_input": "2025-03-04T15:22:38.241541Z",
     "iopub.status.busy": "2025-03-04T15:22:38.241541Z",
     "iopub.status.idle": "2025-03-04T15:22:38.246122Z",
     "shell.execute_reply": "2025-03-04T15:22:38.245607Z",
     "shell.execute_reply.started": "2025-03-04T15:22:38.241541Z"
    }
   },
   "outputs": [],
   "source": [
    "from collections import Counter"
   ]
  },
  {
   "cell_type": "code",
   "execution_count": 23,
   "id": "f887f312-1fbc-46e4-9374-4819922501bc",
   "metadata": {
    "execution": {
     "iopub.execute_input": "2025-03-04T15:22:38.452542Z",
     "iopub.status.busy": "2025-03-04T15:22:38.451531Z",
     "iopub.status.idle": "2025-03-04T15:22:38.518492Z",
     "shell.execute_reply": "2025-03-04T15:22:38.517471Z",
     "shell.execute_reply.started": "2025-03-04T15:22:38.452542Z"
    }
   },
   "outputs": [
    {
     "data": {
      "text/plain": [
       "8476"
      ]
     },
     "execution_count": 23,
     "metadata": {},
     "output_type": "execute_result"
    }
   ],
   "source": [
    "vocab_counts = Counter(preprocessed).most_common()\n",
    "len(vocab_counts)"
   ]
  },
  {
   "cell_type": "code",
   "execution_count": 24,
   "id": "9a4522af-4681-49ad-9a21-fed502f3f2a0",
   "metadata": {
    "execution": {
     "iopub.execute_input": "2025-03-04T15:22:38.658516Z",
     "iopub.status.busy": "2025-03-04T15:22:38.657526Z",
     "iopub.status.idle": "2025-03-04T15:22:38.665063Z",
     "shell.execute_reply": "2025-03-04T15:22:38.664061Z",
     "shell.execute_reply.started": "2025-03-04T15:22:38.658516Z"
    }
   },
   "outputs": [
    {
     "data": {
      "text/plain": [
       "[('the', 27165),\n",
       " (',', 17252),\n",
       " ('.', 12074),\n",
       " ('of', 10557),\n",
       " ('and', 7596),\n",
       " ('to', 6974),\n",
       " ('in', 5864),\n",
       " ('is', 4010),\n",
       " ('be', 4001),\n",
       " ('as', 3341)]"
      ]
     },
     "execution_count": 24,
     "metadata": {},
     "output_type": "execute_result"
    }
   ],
   "source": [
    "vocab_counts[:10]"
   ]
  },
  {
   "cell_type": "code",
   "execution_count": 25,
   "id": "7168c0b6-4a0f-4914-90f2-e31e17ec99cc",
   "metadata": {
    "execution": {
     "iopub.execute_input": "2025-03-04T15:22:38.869589Z",
     "iopub.status.busy": "2025-03-04T15:22:38.868601Z",
     "iopub.status.idle": "2025-03-04T15:22:38.876617Z",
     "shell.execute_reply": "2025-03-04T15:22:38.875612Z",
     "shell.execute_reply.started": "2025-03-04T15:22:38.869589Z"
    }
   },
   "outputs": [],
   "source": [
    "# I'll not use this approach\n",
    "# vocab = {token:integer for integer,token in enumerate(all_words)}\n",
    "\n",
    "class SimpleTokenizerV1:\n",
    "    def __init__(self, vocab_or_processed, order_by_most_common = True):\n",
    "        self.str_proc_re_pattern = r'(\\'s|[,.:;?_!\"()\\']|--|\\s)'\n",
    "        if order_by_most_common:\n",
    "            vocab_counts = Counter(vocab_or_processed).most_common()\n",
    "            vocab_or_processed = {token:1+integer for integer,(token, _) in enumerate(vocab_counts)}\n",
    "        self.str_to_int = vocab_or_processed\n",
    "        self.int_to_str = {i:s for s,i in vocab_or_processed.items()}\n",
    "\n",
    "    def encode(self, text):         #3\n",
    "        preprocessed = re.split(self.str_proc_re_pattern, text)\n",
    "        preprocessed = [\n",
    "            item.strip() for item in preprocessed if item.strip()\n",
    "        ]\n",
    "        ids = [self.str_to_int[s] for s in preprocessed]\n",
    "        return ids\n",
    "\n",
    "    def decode(self, ids):         #4\n",
    "        text = \" \".join([self.int_to_str[i] for i in ids]) \n",
    "\n",
    "        text = re.sub(self.str_proc_re_pattern, r'\\1', text)    #5\n",
    "        return text"
   ]
  },
  {
   "cell_type": "code",
   "execution_count": 26,
   "id": "14fc65cd-e779-40a2-84d7-098e0da037b7",
   "metadata": {
    "execution": {
     "iopub.execute_input": "2025-03-04T15:22:39.088999Z",
     "iopub.status.busy": "2025-03-04T15:22:39.088006Z",
     "iopub.status.idle": "2025-03-04T15:22:39.115879Z",
     "shell.execute_reply": "2025-03-04T15:22:39.115879Z",
     "shell.execute_reply.started": "2025-03-04T15:22:39.088999Z"
    }
   },
   "outputs": [
    {
     "name": "stdout",
     "output_type": "stream",
     "text": [
      "[140, 426, 124, 1, 257, 319, 2424, 2, 513, 773, 2, 140, 1041, 3, 1127, 494, 22, 8260, 5216, 3]\n"
     ]
    }
   ],
   "source": [
    "tokenizer = SimpleTokenizerV1(preprocessed)\n",
    "text = \"\"\"\"It's the last he painted, you know,\" \n",
    "       Mrs. Gisburn said with pardonable pride.\"\"\"\n",
    "ids = tokenizer.encode(text)\n",
    "print(ids)"
   ]
  },
  {
   "cell_type": "code",
   "execution_count": 27,
   "id": "dc9c6fc8-c110-4102-a787-f60a218e3a4d",
   "metadata": {
    "execution": {
     "iopub.execute_input": "2025-03-04T15:22:39.522753Z",
     "iopub.status.busy": "2025-03-04T15:22:39.521754Z",
     "iopub.status.idle": "2025-03-04T15:22:39.529190Z",
     "shell.execute_reply": "2025-03-04T15:22:39.528180Z",
     "shell.execute_reply.started": "2025-03-04T15:22:39.522753Z"
    }
   },
   "outputs": [
    {
     "name": "stdout",
     "output_type": "stream",
     "text": [
      "\" It 's the\n"
     ]
    }
   ],
   "source": [
    "print(tokenizer.decode(ids[0:4]))"
   ]
  },
  {
   "cell_type": "code",
   "execution_count": 28,
   "id": "a2e2da1e-716b-406e-a581-b98654df3a45",
   "metadata": {
    "execution": {
     "iopub.execute_input": "2025-03-04T15:22:39.788465Z",
     "iopub.status.busy": "2025-03-04T15:22:39.787471Z",
     "iopub.status.idle": "2025-03-04T15:22:40.242660Z",
     "shell.execute_reply": "2025-03-04T15:22:40.241634Z",
     "shell.execute_reply.started": "2025-03-04T15:22:39.788465Z"
    }
   },
   "outputs": [
    {
     "ename": "KeyError",
     "evalue": "'Hello'",
     "output_type": "error",
     "traceback": [
      "\u001b[1;31m---------------------------------------------------------------------------\u001b[0m",
      "\u001b[1;31mKeyError\u001b[0m                                  Traceback (most recent call last)",
      "Cell \u001b[1;32mIn[28], line 2\u001b[0m\n\u001b[0;32m      1\u001b[0m text \u001b[38;5;241m=\u001b[39m \u001b[38;5;124m\"\u001b[39m\u001b[38;5;124mHello, do you like tea?\u001b[39m\u001b[38;5;124m\"\u001b[39m\n\u001b[1;32m----> 2\u001b[0m \u001b[38;5;28mprint\u001b[39m(\u001b[43mtokenizer\u001b[49m\u001b[38;5;241;43m.\u001b[39;49m\u001b[43mencode\u001b[49m\u001b[43m(\u001b[49m\u001b[43mtext\u001b[49m\u001b[43m)\u001b[49m)\n",
      "Cell \u001b[1;32mIn[25], line 18\u001b[0m, in \u001b[0;36mSimpleTokenizerV1.encode\u001b[1;34m(self, text)\u001b[0m\n\u001b[0;32m     14\u001b[0m preprocessed \u001b[38;5;241m=\u001b[39m re\u001b[38;5;241m.\u001b[39msplit(\u001b[38;5;28mself\u001b[39m\u001b[38;5;241m.\u001b[39mstr_proc_re_pattern, text)\n\u001b[0;32m     15\u001b[0m preprocessed \u001b[38;5;241m=\u001b[39m [\n\u001b[0;32m     16\u001b[0m     item\u001b[38;5;241m.\u001b[39mstrip() \u001b[38;5;28;01mfor\u001b[39;00m item \u001b[38;5;129;01min\u001b[39;00m preprocessed \u001b[38;5;28;01mif\u001b[39;00m item\u001b[38;5;241m.\u001b[39mstrip()\n\u001b[0;32m     17\u001b[0m ]\n\u001b[1;32m---> 18\u001b[0m ids \u001b[38;5;241m=\u001b[39m \u001b[43m[\u001b[49m\u001b[38;5;28;43mself\u001b[39;49m\u001b[38;5;241;43m.\u001b[39;49m\u001b[43mstr_to_int\u001b[49m\u001b[43m[\u001b[49m\u001b[43ms\u001b[49m\u001b[43m]\u001b[49m\u001b[43m \u001b[49m\u001b[38;5;28;43;01mfor\u001b[39;49;00m\u001b[43m \u001b[49m\u001b[43ms\u001b[49m\u001b[43m \u001b[49m\u001b[38;5;129;43;01min\u001b[39;49;00m\u001b[43m \u001b[49m\u001b[43mpreprocessed\u001b[49m\u001b[43m]\u001b[49m\n\u001b[0;32m     19\u001b[0m \u001b[38;5;28;01mreturn\u001b[39;00m ids\n",
      "Cell \u001b[1;32mIn[25], line 18\u001b[0m, in \u001b[0;36m<listcomp>\u001b[1;34m(.0)\u001b[0m\n\u001b[0;32m     14\u001b[0m preprocessed \u001b[38;5;241m=\u001b[39m re\u001b[38;5;241m.\u001b[39msplit(\u001b[38;5;28mself\u001b[39m\u001b[38;5;241m.\u001b[39mstr_proc_re_pattern, text)\n\u001b[0;32m     15\u001b[0m preprocessed \u001b[38;5;241m=\u001b[39m [\n\u001b[0;32m     16\u001b[0m     item\u001b[38;5;241m.\u001b[39mstrip() \u001b[38;5;28;01mfor\u001b[39;00m item \u001b[38;5;129;01min\u001b[39;00m preprocessed \u001b[38;5;28;01mif\u001b[39;00m item\u001b[38;5;241m.\u001b[39mstrip()\n\u001b[0;32m     17\u001b[0m ]\n\u001b[1;32m---> 18\u001b[0m ids \u001b[38;5;241m=\u001b[39m [\u001b[38;5;28;43mself\u001b[39;49m\u001b[38;5;241;43m.\u001b[39;49m\u001b[43mstr_to_int\u001b[49m\u001b[43m[\u001b[49m\u001b[43ms\u001b[49m\u001b[43m]\u001b[49m \u001b[38;5;28;01mfor\u001b[39;00m s \u001b[38;5;129;01min\u001b[39;00m preprocessed]\n\u001b[0;32m     19\u001b[0m \u001b[38;5;28;01mreturn\u001b[39;00m ids\n",
      "\u001b[1;31mKeyError\u001b[0m: 'Hello'"
     ]
    }
   ],
   "source": [
    "text = \"Hello, do you like tea?\"\n",
    "print(tokenizer.encode(text))"
   ]
  },
  {
   "cell_type": "code",
   "execution_count": null,
   "id": "8407a87b-cb10-483a-b281-c6500ac955ac",
   "metadata": {
    "execution": {
     "iopub.status.busy": "2025-03-04T15:22:40.242660Z",
     "iopub.status.idle": "2025-03-04T15:22:40.243675Z",
     "shell.execute_reply": "2025-03-04T15:22:40.242660Z",
     "shell.execute_reply.started": "2025-03-04T15:22:40.242660Z"
    }
   },
   "outputs": [],
   "source": [
    "all_tokens = sorted(list(set(preprocessed)))\n",
    "all_tokens.extend([\"<|endoftext|>\", \"<|unk|>\"])\n",
    "vocab = {token:integer for integer,token in enumerate(all_tokens)}\n",
    "\n",
    "print(len(vocab.items()))"
   ]
  },
  {
   "cell_type": "code",
   "execution_count": 29,
   "id": "15457caf-ac70-4f65-8b0b-063dc064be47",
   "metadata": {
    "execution": {
     "iopub.execute_input": "2025-03-04T15:22:40.464582Z",
     "iopub.status.busy": "2025-03-04T15:22:40.463584Z",
     "iopub.status.idle": "2025-03-04T15:22:40.472716Z",
     "shell.execute_reply": "2025-03-04T15:22:40.471713Z",
     "shell.execute_reply.started": "2025-03-04T15:22:40.464582Z"
    }
   },
   "outputs": [],
   "source": [
    "class SimpleTokenizerV2:\n",
    "    def __init__(self, vocab_or_processed, order_by_most_common = True):\n",
    "        reserved_tokens = [\"<|endoftext|>\", \"<|unk|>\"]\n",
    "        self.unk = reserved_tokens[1]\n",
    "        self.eot = reserved_tokens[0]\n",
    "        shift_iteger = len(reserved_tokens)\n",
    "        self.str_to_int = {token: i+1 for i, token in enumerate(reserved_tokens)}\n",
    "        self.str_proc_re_pattern = r'(\\'s|[,.:;?_!\"()\\']|--|\\s)'\n",
    "        if order_by_most_common:\n",
    "            vocab_counts = Counter(vocab_or_processed).most_common()\n",
    "            vocab_or_processed = {token:1+integer+shift_iteger for integer,(token, _) in enumerate(vocab_counts)}\n",
    "        self.str_to_int.update(vocab_or_processed)\n",
    "        self.int_to_str = {i:s for s,i in self.str_to_int.items()}\n",
    "\n",
    "    def encode(self, text):\n",
    "        preprocessed = re.split(self.str_proc_re_pattern, text)\n",
    "        preprocessed = [\n",
    "            item.strip() for item in preprocessed if item.strip()\n",
    "        ]\n",
    "        preprocessed = [item if item in self.str_to_int            #1\n",
    "                        else self.unk for item in preprocessed]\n",
    "        ids = [self.str_to_int[s] for s in preprocessed]\n",
    "        return ids\n",
    "\n",
    "    def decode(self, ids):\n",
    "        text = \" \".join([self.int_to_str[i] for i in ids])\n",
    "        text = re.sub(self.str_proc_re_pattern, r'\\1', text)   #2\n",
    "        return text"
   ]
  },
  {
   "cell_type": "code",
   "execution_count": 30,
   "id": "6be0c53a-43ab-4095-9dff-933b35b1a4c5",
   "metadata": {
    "execution": {
     "iopub.execute_input": "2025-03-04T15:22:40.790705Z",
     "iopub.status.busy": "2025-03-04T15:22:40.789705Z",
     "iopub.status.idle": "2025-03-04T15:22:40.822208Z",
     "shell.execute_reply": "2025-03-04T15:22:40.821190Z",
     "shell.execute_reply.started": "2025-03-04T15:22:40.790705Z"
    }
   },
   "outputs": [
    {
     "name": "stdout",
     "output_type": "stream",
     "text": [
      "[142, 428, 126, 3, 259, 321, 2426, 4, 515, 775, 4, 142, 1043, 5, 1129, 496, 24, 8262, 5218, 5]\n"
     ]
    }
   ],
   "source": [
    "tokenizer = SimpleTokenizerV2(preprocessed)\n",
    "text = \"\"\"\"It's the last he painted, you know,\" \n",
    "       Mrs. Gisburn said with pardonable pride.\"\"\"\n",
    "ids = tokenizer.encode(text)\n",
    "print(ids)"
   ]
  },
  {
   "cell_type": "code",
   "execution_count": 31,
   "id": "ec884e89-78be-4ad5-aa6c-fc74d7fc7253",
   "metadata": {
    "execution": {
     "iopub.execute_input": "2025-03-04T15:22:41.074310Z",
     "iopub.status.busy": "2025-03-04T15:22:41.074310Z",
     "iopub.status.idle": "2025-03-04T15:22:41.080262Z",
     "shell.execute_reply": "2025-03-04T15:22:41.079259Z",
     "shell.execute_reply.started": "2025-03-04T15:22:41.074310Z"
    }
   },
   "outputs": [
    {
     "name": "stdout",
     "output_type": "stream",
     "text": [
      "\" It 's the last he painted , you know , \" Mrs . Gisburn said with pardonable pride .\n"
     ]
    }
   ],
   "source": [
    "print(tokenizer.decode(ids))"
   ]
  },
  {
   "cell_type": "code",
   "execution_count": 32,
   "id": "dda1be28-96f5-4950-bf25-4bf39201669c",
   "metadata": {
    "execution": {
     "iopub.execute_input": "2025-03-04T15:22:41.357930Z",
     "iopub.status.busy": "2025-03-04T15:22:41.356926Z",
     "iopub.status.idle": "2025-03-04T15:22:41.363082Z",
     "shell.execute_reply": "2025-03-04T15:22:41.362049Z",
     "shell.execute_reply.started": "2025-03-04T15:22:41.357930Z"
    }
   },
   "outputs": [
    {
     "name": "stdout",
     "output_type": "stream",
     "text": [
      "Hello, do you like tea? <|endoftext|> In the sunlit terraces of the palace.\n"
     ]
    }
   ],
   "source": [
    "text1 = \"Hello, do you like tea?\"\n",
    "text2 = \"In the sunlit terraces of the palace.\"\n",
    "text = \" <|endoftext|> \".join((text1, text2))\n",
    "print(text)"
   ]
  },
  {
   "cell_type": "code",
   "execution_count": 33,
   "id": "d477e2d2-6fc7-4878-9320-f48efa79b134",
   "metadata": {
    "execution": {
     "iopub.execute_input": "2025-03-04T15:22:41.650339Z",
     "iopub.status.busy": "2025-03-04T15:22:41.649346Z",
     "iopub.status.idle": "2025-03-04T15:22:41.653927Z",
     "shell.execute_reply": "2025-03-04T15:22:41.653927Z",
     "shell.execute_reply.started": "2025-03-04T15:22:41.650339Z"
    }
   },
   "outputs": [
    {
     "name": "stdout",
     "output_type": "stream",
     "text": [
      "[2, 4, 353, 515, 181, 8088, 649, 1, 221, 3, 8154, 8084, 6, 3, 2, 5]\n"
     ]
    }
   ],
   "source": [
    "print(tokenizer.encode(text))"
   ]
  },
  {
   "cell_type": "code",
   "execution_count": 34,
   "id": "8e2ba62a-b7a0-4234-95c6-53266a3912e0",
   "metadata": {
    "execution": {
     "iopub.execute_input": "2025-03-04T15:22:41.919217Z",
     "iopub.status.busy": "2025-03-04T15:22:41.919217Z",
     "iopub.status.idle": "2025-03-04T15:22:41.924703Z",
     "shell.execute_reply": "2025-03-04T15:22:41.923681Z",
     "shell.execute_reply.started": "2025-03-04T15:22:41.919217Z"
    }
   },
   "outputs": [
    {
     "name": "stdout",
     "output_type": "stream",
     "text": [
      "<|unk|> , do you like tea ? <|endoftext|> In the sunlit terraces of the <|unk|> .\n"
     ]
    }
   ],
   "source": [
    "print(tokenizer.decode(tokenizer.encode(text)))"
   ]
  },
  {
   "cell_type": "code",
   "execution_count": 35,
   "id": "138f7a16-28ff-45e0-b3a2-c4a0773271be",
   "metadata": {
    "execution": {
     "iopub.execute_input": "2025-03-04T15:22:42.196654Z",
     "iopub.status.busy": "2025-03-04T15:22:42.195656Z",
     "iopub.status.idle": "2025-03-04T15:22:42.255205Z",
     "shell.execute_reply": "2025-03-04T15:22:42.254185Z",
     "shell.execute_reply.started": "2025-03-04T15:22:42.196654Z"
    }
   },
   "outputs": [
    {
     "name": "stdout",
     "output_type": "stream",
     "text": [
      "tiktoken version: 0.9.0\n"
     ]
    }
   ],
   "source": [
    "from importlib.metadata import version\n",
    "import tiktoken\n",
    "print(\"tiktoken version:\", version(\"tiktoken\"))"
   ]
  },
  {
   "cell_type": "code",
   "execution_count": 36,
   "id": "2e0008cc-df06-4c86-85e9-04b748f64d57",
   "metadata": {
    "execution": {
     "iopub.execute_input": "2025-03-04T15:22:42.629122Z",
     "iopub.status.busy": "2025-03-04T15:22:42.629122Z",
     "iopub.status.idle": "2025-03-04T15:22:42.887930Z",
     "shell.execute_reply": "2025-03-04T15:22:42.887930Z",
     "shell.execute_reply.started": "2025-03-04T15:22:42.629122Z"
    }
   },
   "outputs": [],
   "source": [
    "tokenizer = tiktoken.get_encoding(\"gpt2\")"
   ]
  },
  {
   "cell_type": "code",
   "execution_count": 37,
   "id": "c902aaa7-13b1-464f-8c8f-54c5d9635532",
   "metadata": {
    "execution": {
     "iopub.execute_input": "2025-03-04T15:22:42.970125Z",
     "iopub.status.busy": "2025-03-04T15:22:42.969144Z",
     "iopub.status.idle": "2025-03-04T15:22:42.976586Z",
     "shell.execute_reply": "2025-03-04T15:22:42.975576Z",
     "shell.execute_reply.started": "2025-03-04T15:22:42.970125Z"
    }
   },
   "outputs": [
    {
     "name": "stdout",
     "output_type": "stream",
     "text": [
      "[15496, 11, 466, 345, 588, 8887, 30, 220, 50256, 554, 262, 4252, 18250, 8812, 2114, 1659, 617, 34680, 27271, 13]\n"
     ]
    }
   ],
   "source": [
    "text = (\n",
    "    \"Hello, do you like tea? <|endoftext|> In the sunlit terraces\"\n",
    "     \"of someunknownPlace.\"\n",
    ")\n",
    "integers = tokenizer.encode(text, allowed_special={\"<|endoftext|>\"})\n",
    "print(integers)"
   ]
  },
  {
   "cell_type": "code",
   "execution_count": 38,
   "id": "750873f1-ca74-44cd-98d3-2f12e8e5478e",
   "metadata": {
    "execution": {
     "iopub.execute_input": "2025-03-04T15:22:43.395784Z",
     "iopub.status.busy": "2025-03-04T15:22:43.394773Z",
     "iopub.status.idle": "2025-03-04T15:22:43.573733Z",
     "shell.execute_reply": "2025-03-04T15:22:43.572701Z",
     "shell.execute_reply.started": "2025-03-04T15:22:43.395784Z"
    }
   },
   "outputs": [
    {
     "name": "stdout",
     "output_type": "stream",
     "text": [
      "310267\n"
     ]
    }
   ],
   "source": [
    "enc_text = tokenizer.encode(raw_text)\n",
    "print(len(enc_text))"
   ]
  },
  {
   "cell_type": "code",
   "execution_count": 39,
   "id": "04deeec6-6e4b-40f6-9583-500252465065",
   "metadata": {
    "execution": {
     "iopub.execute_input": "2025-03-04T15:22:43.684130Z",
     "iopub.status.busy": "2025-03-04T15:22:43.683121Z",
     "iopub.status.idle": "2025-03-04T15:22:43.690738Z",
     "shell.execute_reply": "2025-03-04T15:22:43.689744Z",
     "shell.execute_reply.started": "2025-03-04T15:22:43.684130Z"
    }
   },
   "outputs": [],
   "source": [
    "enc_sample = enc_text[50:]\n",
    "#enc_sample"
   ]
  },
  {
   "cell_type": "code",
   "execution_count": 40,
   "id": "bdb2fff1-bfbc-43cf-81f3-5804e0eed553",
   "metadata": {
    "execution": {
     "iopub.execute_input": "2025-03-04T15:22:43.959038Z",
     "iopub.status.busy": "2025-03-04T15:22:43.958038Z",
     "iopub.status.idle": "2025-03-04T15:22:43.965023Z",
     "shell.execute_reply": "2025-03-04T15:22:43.964028Z",
     "shell.execute_reply.started": "2025-03-04T15:22:43.959038Z"
    }
   },
   "outputs": [
    {
     "name": "stdout",
     "output_type": "stream",
     "text": [
      "x: [13, 1002, 345, 1549]\n",
      "y:      [1002, 345, 1549, 588]\n"
     ]
    }
   ],
   "source": [
    "context_size = 4         #1\n",
    "x = enc_sample[:context_size]\n",
    "y = enc_sample[1:context_size+1]\n",
    "print(f\"x: {x}\")\n",
    "print(f\"y:      {y}\")"
   ]
  },
  {
   "cell_type": "code",
   "execution_count": 41,
   "id": "3bfcf29d-f00f-4938-a0a2-908f487f2683",
   "metadata": {
    "execution": {
     "iopub.execute_input": "2025-03-04T15:22:44.326978Z",
     "iopub.status.busy": "2025-03-04T15:22:44.326978Z",
     "iopub.status.idle": "2025-03-04T15:22:44.332409Z",
     "shell.execute_reply": "2025-03-04T15:22:44.331388Z",
     "shell.execute_reply.started": "2025-03-04T15:22:44.326978Z"
    }
   },
   "outputs": [
    {
     "name": "stdout",
     "output_type": "stream",
     "text": [
      "[13] ----> 1002\n",
      "[13, 1002] ----> 345\n",
      "[13, 1002, 345] ----> 1549\n",
      "[13, 1002, 345, 1549] ----> 588\n"
     ]
    }
   ],
   "source": [
    "for i in range(1, context_size+1):\n",
    "    context = enc_sample[:i]\n",
    "    desired = enc_sample[i]\n",
    "    print(context, \"---->\", desired)"
   ]
  },
  {
   "cell_type": "code",
   "execution_count": 42,
   "id": "12844460-cd5e-44ad-96ce-a26adad6d214",
   "metadata": {
    "execution": {
     "iopub.execute_input": "2025-03-04T15:22:44.863300Z",
     "iopub.status.busy": "2025-03-04T15:22:44.862303Z",
     "iopub.status.idle": "2025-03-04T15:22:44.867594Z",
     "shell.execute_reply": "2025-03-04T15:22:44.867594Z",
     "shell.execute_reply.started": "2025-03-04T15:22:44.863300Z"
    }
   },
   "outputs": [
    {
     "name": "stdout",
     "output_type": "stream",
     "text": [
      ". ---->  If\n",
      ". If ---->  you\n",
      ". If you ----> 'd\n",
      ". If you'd ---->  like\n"
     ]
    }
   ],
   "source": [
    "for i in range(1, context_size+1):\n",
    "    context = enc_sample[:i]\n",
    "    desired = enc_sample[i]\n",
    "    print(tokenizer.decode(context), \"---->\", tokenizer.decode([desired]))"
   ]
  },
  {
   "cell_type": "code",
   "execution_count": 43,
   "id": "263a554a-d8c8-4eca-bb25-4be0ae9a0598",
   "metadata": {
    "execution": {
     "iopub.execute_input": "2025-03-04T15:24:54.998616Z",
     "iopub.status.busy": "2025-03-04T15:24:54.998616Z",
     "iopub.status.idle": "2025-03-04T15:24:58.752183Z",
     "shell.execute_reply": "2025-03-04T15:24:58.752183Z",
     "shell.execute_reply.started": "2025-03-04T15:24:54.998616Z"
    }
   },
   "outputs": [],
   "source": [
    "import torch\n",
    "from torch.utils.data import Dataset, DataLoader\n",
    "\n",
    "\n",
    "class GPTDatasetV1(Dataset):\n",
    "    def __init__(self, txt, tokenizer, max_length, stride):\n",
    "        self.input_ids = []\n",
    "        self.target_ids = []\n",
    "\n",
    "        token_ids = tokenizer.encode(txt)    #1\n",
    "\n",
    "        for i in range(0, len(token_ids) - max_length, stride):     #2\n",
    "            input_chunk = token_ids[i:i + max_length]\n",
    "            target_chunk = token_ids[i + 1: i + max_length + 1]\n",
    "            self.input_ids.append(torch.tensor(input_chunk))\n",
    "            self.target_ids.append(torch.tensor(target_chunk))\n",
    "\n",
    "    def __len__(self):    #3\n",
    "        return len(self.input_ids)\n",
    "\n",
    "    def __getitem__(self, idx):         #4\n",
    "        return self.input_ids[idx], self.target_ids[idx]"
   ]
  },
  {
   "cell_type": "code",
   "execution_count": 53,
   "id": "30d310f5-f65a-48f1-8559-b3dc74ffc9b5",
   "metadata": {
    "execution": {
     "iopub.execute_input": "2025-03-04T15:34:51.785522Z",
     "iopub.status.busy": "2025-03-04T15:34:51.784524Z",
     "iopub.status.idle": "2025-03-04T15:34:51.790395Z",
     "shell.execute_reply": "2025-03-04T15:34:51.790395Z",
     "shell.execute_reply.started": "2025-03-04T15:34:51.785522Z"
    }
   },
   "outputs": [],
   "source": [
    "import torch\n",
    "from torch.utils.data import Dataset, DataLoader\n",
    "\n",
    "# The author's approach stores repeated values massivelly. \n",
    "class GPTDatasetLightStorev1(Dataset):\n",
    "    def __init__(self, txt, tokenizer, max_length, stride):\n",
    "        self.ids = []\n",
    "\n",
    "        token_ids = tokenizer.encode(txt)    #1\n",
    "\n",
    "        for i in range(0, len(token_ids) - max_length, stride):     #2\n",
    "            chunk = token_ids[i:i + max_length + 1]\n",
    "            self.ids.append(torch.tensor(chunk))\n",
    "\n",
    "    def __len__(self):    #3\n",
    "        return len(self.ids)\n",
    "\n",
    "    def __getitem__(self, idx):         #4\n",
    "        return self.ids[idx][:-1], self.ids[idx][1:]"
   ]
  },
  {
   "cell_type": "code",
   "execution_count": 54,
   "id": "1c1b1916-7273-4086-ab7e-746b95abc870",
   "metadata": {
    "execution": {
     "iopub.execute_input": "2025-03-04T15:42:01.556352Z",
     "iopub.status.busy": "2025-03-04T15:42:01.555339Z",
     "iopub.status.idle": "2025-03-04T15:42:01.563339Z",
     "shell.execute_reply": "2025-03-04T15:42:01.562342Z",
     "shell.execute_reply.started": "2025-03-04T15:42:01.556352Z"
    }
   },
   "outputs": [],
   "source": [
    "def create_dataloader_v1(txt, batch_size=4, max_length=256, stride=128, shuffle=True, drop_last=True, num_workers=0):\n",
    "    tokenizer = tiktoken.get_encoding(\"gpt2\")                         #1\n",
    "    #dataset = GPTDatasetV1(txt, tokenizer, max_length, stride)   #2\n",
    "    dataset = GPTDatasetLightStorev1(txt, tokenizer, max_length, stride)   #2\n",
    "    dataloader = DataLoader(\n",
    "        dataset,\n",
    "        batch_size=batch_size,\n",
    "        shuffle=shuffle,\n",
    "        drop_last=drop_last,     #3\n",
    "        num_workers=num_workers     #4\n",
    "    )\n",
    "\n",
    "    return dataloader"
   ]
  },
  {
   "cell_type": "code",
   "execution_count": 55,
   "id": "28b59dbb-4d74-47e7-b1b4-080259a5dae3",
   "metadata": {
    "execution": {
     "iopub.execute_input": "2025-03-04T15:47:09.600005Z",
     "iopub.status.busy": "2025-03-04T15:47:09.598931Z",
     "iopub.status.idle": "2025-03-04T15:47:11.896431Z",
     "shell.execute_reply": "2025-03-04T15:47:11.896431Z",
     "shell.execute_reply.started": "2025-03-04T15:47:09.599938Z"
    }
   },
   "outputs": [
    {
     "name": "stdout",
     "output_type": "stream",
     "text": [
      "[tensor([[  464, 30535,   605, 34200]]), tensor([[30535,   605, 34200,   286]])]\n"
     ]
    }
   ],
   "source": [
    "dataloader = create_dataloader_v1(raw_text, batch_size=1, max_length=4, stride=1, shuffle=False)\n",
    "data_iter = iter(dataloader)      #1\n",
    "first_batch = next(data_iter)\n",
    "print(first_batch)"
   ]
  },
  {
   "cell_type": "code",
   "execution_count": 56,
   "id": "d3c0d570-1ee1-477f-b13f-bbc06c02625f",
   "metadata": {
    "execution": {
     "iopub.execute_input": "2025-03-04T15:47:48.321807Z",
     "iopub.status.busy": "2025-03-04T15:47:48.320804Z",
     "iopub.status.idle": "2025-03-04T15:47:48.327507Z",
     "shell.execute_reply": "2025-03-04T15:47:48.326484Z",
     "shell.execute_reply.started": "2025-03-04T15:47:48.321807Z"
    }
   },
   "outputs": [
    {
     "name": "stdout",
     "output_type": "stream",
     "text": [
      "[tensor([[30535,   605, 34200,   286]]), tensor([[  605, 34200,   286, 12068]])]\n"
     ]
    }
   ],
   "source": [
    "second_batch = next(data_iter)\n",
    "print(second_batch)"
   ]
  },
  {
   "cell_type": "code",
   "execution_count": 61,
   "id": "135319ef-d8c5-4ba1-8a7a-40ccb8599937",
   "metadata": {
    "execution": {
     "iopub.execute_input": "2025-03-04T15:51:07.553971Z",
     "iopub.status.busy": "2025-03-04T15:51:07.553971Z",
     "iopub.status.idle": "2025-03-04T15:51:08.589184Z",
     "shell.execute_reply": "2025-03-04T15:51:08.588163Z",
     "shell.execute_reply.started": "2025-03-04T15:51:07.553971Z"
    }
   },
   "outputs": [
    {
     "name": "stdout",
     "output_type": "stream",
     "text": [
      "Inputs:\n",
      " tensor([[  464, 30535,   605, 34200],\n",
      "        [  286, 12068, 26099,   357],\n",
      "        [ 1558,  1959,     8,   628],\n",
      "        [  198,   197,   197,   197],\n",
      "        [  197,   197, 39443,   330],\n",
      "        [17321,   628,   628,   198],\n",
      "        [  198,  1558,  1959,   628],\n",
      "        [  628,   198,   198,  3109]])\n",
      "\n",
      "Targets:\n",
      " tensor([[30535,   605, 34200,   286],\n",
      "        [12068, 26099,   357,  1558],\n",
      "        [ 1959,     8,   628,   198],\n",
      "        [  197,   197,   197,   197],\n",
      "        [  197, 39443,   330, 17321],\n",
      "        [  628,   628,   198,   198],\n",
      "        [ 1558,  1959,   628,   628],\n",
      "        [  198,   198,  3109,  9213]])\n"
     ]
    }
   ],
   "source": [
    "dataloader = create_dataloader_v1(\n",
    "    raw_text, batch_size=8, max_length=4, stride=4,\n",
    "    shuffle=False\n",
    ")\n",
    "\n",
    "data_iter = iter(dataloader)\n",
    "inputs, targets = next(data_iter)\n",
    "print(\"Inputs:\\n\", inputs)\n",
    "print(\"\\nTargets:\\n\", targets)"
   ]
  },
  {
   "cell_type": "code",
   "execution_count": 62,
   "id": "35b56a1e-3362-4fed-8c0d-3cd8b74c6b26",
   "metadata": {
    "execution": {
     "iopub.execute_input": "2025-03-04T15:59:12.454300Z",
     "iopub.status.busy": "2025-03-04T15:59:12.454300Z",
     "iopub.status.idle": "2025-03-04T15:59:12.526833Z",
     "shell.execute_reply": "2025-03-04T15:59:12.525811Z",
     "shell.execute_reply.started": "2025-03-04T15:59:12.454300Z"
    }
   },
   "outputs": [
    {
     "name": "stdout",
     "output_type": "stream",
     "text": [
      "Parameter containing:\n",
      "tensor([[ 0.3374, -0.1778, -0.1690],\n",
      "        [ 0.9178,  1.5810,  1.3010],\n",
      "        [ 1.2753, -0.2010, -0.1606],\n",
      "        [-0.4015,  0.9666, -1.1481],\n",
      "        [-1.1589,  0.3255, -0.6315],\n",
      "        [-2.8400, -0.7849, -1.4096]], requires_grad=True)\n"
     ]
    }
   ],
   "source": [
    "input_ids = torch.tensor([2, 3, 5, 1])\n",
    "vocab_size = 6\n",
    "output_dim = 3\n",
    "torch.manual_seed(123)\n",
    "embedding_layer = torch.nn.Embedding(vocab_size, output_dim)\n",
    "print(embedding_layer.weight)"
   ]
  },
  {
   "cell_type": "code",
   "execution_count": 72,
   "id": "896edeea-6023-4be7-8de0-3650324e7c0e",
   "metadata": {
    "execution": {
     "iopub.execute_input": "2025-03-04T16:07:24.217164Z",
     "iopub.status.busy": "2025-03-04T16:07:24.216158Z",
     "iopub.status.idle": "2025-03-04T16:07:24.223693Z",
     "shell.execute_reply": "2025-03-04T16:07:24.222673Z",
     "shell.execute_reply.started": "2025-03-04T16:07:24.217164Z"
    }
   },
   "outputs": [
    {
     "name": "stdout",
     "output_type": "stream",
     "text": [
      "tensor([[-0.4015,  0.9666, -1.1481]], grad_fn=<EmbeddingBackward0>)\n"
     ]
    }
   ],
   "source": [
    "print(embedding_layer(torch.tensor([3])))"
   ]
  },
  {
   "cell_type": "code",
   "execution_count": 77,
   "id": "8bbad424-d008-4f21-8f80-d2d7891961c9",
   "metadata": {
    "execution": {
     "iopub.execute_input": "2025-03-04T16:08:02.787226Z",
     "iopub.status.busy": "2025-03-04T16:08:02.786233Z",
     "iopub.status.idle": "2025-03-04T16:08:02.793572Z",
     "shell.execute_reply": "2025-03-04T16:08:02.793572Z",
     "shell.execute_reply.started": "2025-03-04T16:08:02.787226Z"
    }
   },
   "outputs": [
    {
     "data": {
      "text/plain": [
       "tensor([-5.6097,  5.1283, -6.6531], grad_fn=<AddBackward0>)"
      ]
     },
     "execution_count": 77,
     "metadata": {},
     "output_type": "execute_result"
    }
   ],
   "source": [
    "sum(torch.tensor([3])*embedding_layer.weight)"
   ]
  },
  {
   "cell_type": "code",
   "execution_count": 65,
   "id": "e7286602-f376-4455-8367-fda0236f0b10",
   "metadata": {
    "execution": {
     "iopub.execute_input": "2025-03-04T16:02:33.364658Z",
     "iopub.status.busy": "2025-03-04T16:02:33.363658Z",
     "iopub.status.idle": "2025-03-04T16:02:33.371661Z",
     "shell.execute_reply": "2025-03-04T16:02:33.370654Z",
     "shell.execute_reply.started": "2025-03-04T16:02:33.364658Z"
    }
   },
   "outputs": [
    {
     "data": {
      "text/plain": [
       "torch.Size([4])"
      ]
     },
     "execution_count": 65,
     "metadata": {},
     "output_type": "execute_result"
    }
   ],
   "source": [
    "input_ids.shape"
   ]
  },
  {
   "cell_type": "code",
   "execution_count": 64,
   "id": "787fd155-c38b-4ec4-8771-4804a3076287",
   "metadata": {
    "execution": {
     "iopub.execute_input": "2025-03-04T16:02:24.044728Z",
     "iopub.status.busy": "2025-03-04T16:02:24.043725Z",
     "iopub.status.idle": "2025-03-04T16:02:24.050743Z",
     "shell.execute_reply": "2025-03-04T16:02:24.049723Z",
     "shell.execute_reply.started": "2025-03-04T16:02:24.044728Z"
    }
   },
   "outputs": [
    {
     "name": "stdout",
     "output_type": "stream",
     "text": [
      "tensor([[ 1.2753, -0.2010, -0.1606],\n",
      "        [-0.4015,  0.9666, -1.1481],\n",
      "        [-2.8400, -0.7849, -1.4096],\n",
      "        [ 0.9178,  1.5810,  1.3010]], grad_fn=<EmbeddingBackward0>)\n"
     ]
    }
   ],
   "source": [
    "print(embedding_layer(input_ids))"
   ]
  },
  {
   "cell_type": "code",
   "execution_count": 78,
   "id": "2e3e3b63-1c2f-466e-bee8-4940e70ea0d7",
   "metadata": {
    "execution": {
     "iopub.execute_input": "2025-03-04T18:49:33.805546Z",
     "iopub.status.busy": "2025-03-04T18:49:33.803558Z",
     "iopub.status.idle": "2025-03-04T18:49:34.136824Z",
     "shell.execute_reply": "2025-03-04T18:49:34.135825Z",
     "shell.execute_reply.started": "2025-03-04T18:49:33.805546Z"
    }
   },
   "outputs": [],
   "source": [
    "vocab_size = 50257\n",
    "output_dim = 1024\n",
    "token_embedding_layer = torch.nn.Embedding(vocab_size, output_dim)"
   ]
  },
  {
   "cell_type": "code",
   "execution_count": 80,
   "id": "48ade984-8551-486e-b985-2f1b40b6774e",
   "metadata": {
    "execution": {
     "iopub.execute_input": "2025-03-04T18:56:13.849451Z",
     "iopub.status.busy": "2025-03-04T18:56:13.849451Z",
     "iopub.status.idle": "2025-03-04T18:56:14.304654Z",
     "shell.execute_reply": "2025-03-04T18:56:14.303638Z",
     "shell.execute_reply.started": "2025-03-04T18:56:13.849451Z"
    }
   },
   "outputs": [
    {
     "name": "stdout",
     "output_type": "stream",
     "text": [
      "Token IDs:\n",
      " tensor([[  464, 30535,   605, 34200,   286, 12068, 26099,   357],\n",
      "        [ 1558,  1959,     8,   628,   198,   197,   197,   197],\n",
      "        [  197,   197, 39443,   330, 17321,   628,   628,   198],\n",
      "        [  198,  1558,  1959,   628,   628,   198,   198,  3109],\n",
      "        [ 9213,   422, 11145,   271,  1668,   319,  2805,   513],\n",
      "        [   11, 32190,   628,   628,   198,   198,  1212,   670],\n",
      "        [  318, 17503,    13,  1002,   345,  1549,   588,   284],\n",
      "        [ 1037,  4292,   340,    11,   766,   262,  1037,  5468],\n",
      "        [  290,   262,  3918,  5698,    11,   393,  2666,   257],\n",
      "        [ 2912,   319,   262,  1561,  2443,    13,   628,   198],\n",
      "        [  198, 10970,   198,   198,    44, 12599,  3620,  1404],\n",
      "        [20151,   198,   198,    47,   371,   314,   399,   327],\n",
      "        [  314,   350,   406,   412,   311,   198,   198, 19238],\n",
      "        [  198,   198, 35364, 26099,    13,   628,   628,   198],\n",
      "        [  198,     9,  1635,  1635,   628,   198,   198,  3886],\n",
      "        [ 7361,  3180,    32,  2246, 12682, 11357,    13,   628]])\n",
      "\n",
      "Inputs shape:\n",
      " torch.Size([16, 8])\n"
     ]
    }
   ],
   "source": [
    "max_length = 8\n",
    "batch_size = 16\n",
    "dataloader = create_dataloader_v1(\n",
    "    raw_text, batch_size=batch_size, max_length=max_length,\n",
    "   stride=max_length, shuffle=False\n",
    ")\n",
    "data_iter = iter(dataloader)\n",
    "inputs, targets = next(data_iter)\n",
    "print(\"Token IDs:\\n\", inputs)\n",
    "print(\"\\nInputs shape:\\n\", inputs.shape)"
   ]
  },
  {
   "cell_type": "code",
   "execution_count": 81,
   "id": "af18deec-a830-4dfe-ae48-a354f69a3f43",
   "metadata": {
    "execution": {
     "iopub.execute_input": "2025-03-04T18:56:31.196847Z",
     "iopub.status.busy": "2025-03-04T18:56:31.195851Z",
     "iopub.status.idle": "2025-03-04T18:56:31.203109Z",
     "shell.execute_reply": "2025-03-04T18:56:31.202092Z",
     "shell.execute_reply.started": "2025-03-04T18:56:31.196847Z"
    }
   },
   "outputs": [
    {
     "name": "stdout",
     "output_type": "stream",
     "text": [
      "torch.Size([16, 8, 1024])\n"
     ]
    }
   ],
   "source": [
    "token_embeddings = token_embedding_layer(inputs)\n",
    "print(token_embeddings.shape)"
   ]
  },
  {
   "cell_type": "code",
   "execution_count": 82,
   "id": "ba90aee3-342a-4e17-9e84-1cfdcdd20242",
   "metadata": {
    "execution": {
     "iopub.execute_input": "2025-03-04T18:57:06.600378Z",
     "iopub.status.busy": "2025-03-04T18:57:06.599370Z",
     "iopub.status.idle": "2025-03-04T18:57:06.610931Z",
     "shell.execute_reply": "2025-03-04T18:57:06.610931Z",
     "shell.execute_reply.started": "2025-03-04T18:57:06.600378Z"
    }
   },
   "outputs": [
    {
     "name": "stdout",
     "output_type": "stream",
     "text": [
      "torch.Size([8, 1024])\n"
     ]
    }
   ],
   "source": [
    "context_length = max_length\n",
    "pos_embedding_layer = torch.nn.Embedding(context_length, output_dim)\n",
    "pos_embeddings = pos_embedding_layer(torch.arange(context_length))\n",
    "print(pos_embeddings.shape)"
   ]
  },
  {
   "cell_type": "code",
   "execution_count": 83,
   "id": "50d137f3-99d1-4b90-a1c6-7398edba6b52",
   "metadata": {
    "execution": {
     "iopub.execute_input": "2025-03-04T18:58:18.466563Z",
     "iopub.status.busy": "2025-03-04T18:58:18.466563Z",
     "iopub.status.idle": "2025-03-04T18:58:18.473945Z",
     "shell.execute_reply": "2025-03-04T18:58:18.472920Z",
     "shell.execute_reply.started": "2025-03-04T18:58:18.466563Z"
    }
   },
   "outputs": [
    {
     "name": "stdout",
     "output_type": "stream",
     "text": [
      "torch.Size([16, 8, 1024])\n"
     ]
    }
   ],
   "source": [
    "input_embeddings = token_embeddings + pos_embeddings\n",
    "print(input_embeddings.shape)"
   ]
  },
  {
   "cell_type": "code",
   "execution_count": 86,
   "id": "851cc39f-187d-4573-bdfc-a0a8f05c3a14",
   "metadata": {
    "execution": {
     "iopub.execute_input": "2025-03-04T19:02:56.270584Z",
     "iopub.status.busy": "2025-03-04T19:02:56.270584Z",
     "iopub.status.idle": "2025-03-04T19:02:56.277567Z",
     "shell.execute_reply": "2025-03-04T19:02:56.276566Z",
     "shell.execute_reply.started": "2025-03-04T19:02:56.270584Z"
    }
   },
   "outputs": [
    {
     "data": {
      "text/plain": [
       "(torch.Size([16, 8, 1024]), torch.Size([8, 1024]))"
      ]
     },
     "execution_count": 86,
     "metadata": {},
     "output_type": "execute_result"
    }
   ],
   "source": [
    "token_embeddings.shape, pos_embeddings.shape"
   ]
  },
  {
   "cell_type": "code",
   "execution_count": 85,
   "id": "4a5467bb-60fb-4835-892c-9838dfff015d",
   "metadata": {
    "execution": {
     "iopub.execute_input": "2025-03-04T19:02:39.604210Z",
     "iopub.status.busy": "2025-03-04T19:02:39.604210Z",
     "iopub.status.idle": "2025-03-04T19:02:39.614978Z",
     "shell.execute_reply": "2025-03-04T19:02:39.613982Z",
     "shell.execute_reply.started": "2025-03-04T19:02:39.604210Z"
    }
   },
   "outputs": [
    {
     "data": {
      "text/plain": [
       "tensor([[[ 8.2776e-01,  1.7748e+00,  1.0542e+00,  ...,  1.1336e+00,\n",
       "          -7.7212e-01, -9.9534e-01],\n",
       "         [-3.0045e+00,  1.2972e+00,  5.7636e-01,  ..., -7.0133e-01,\n",
       "           2.8031e-01, -1.0529e-04],\n",
       "         [ 9.7853e-01, -7.5373e-01,  2.0931e+00,  ..., -3.1714e-01,\n",
       "          -1.1022e+00,  1.3077e+00],\n",
       "         ...,\n",
       "         [-8.4415e-01,  2.0000e+00,  6.8594e-01,  ...,  2.1394e+00,\n",
       "           8.9069e-02,  4.2503e-01],\n",
       "         [-4.3007e-01,  1.4692e+00, -1.3435e+00,  ..., -4.4656e-03,\n",
       "          -7.2063e-01,  5.4790e-02],\n",
       "         [ 2.5309e+00, -4.2481e-01, -1.1157e-03,  ...,  1.6933e+00,\n",
       "          -1.6742e-01, -3.6619e-01]],\n",
       "\n",
       "        [[ 5.8507e-01, -3.2071e-01, -2.2728e-01,  ...,  1.5466e+00,\n",
       "          -9.1473e-01, -1.2528e-01],\n",
       "         [ 7.9293e-01,  1.5560e-01,  9.3074e-02,  ...,  5.7123e-01,\n",
       "           6.6955e-01, -8.0380e-01],\n",
       "         [ 3.0769e-02, -4.3874e-01, -1.0033e+00,  ...,  1.3091e+00,\n",
       "           8.8275e-02, -2.1600e+00],\n",
       "         ...,\n",
       "         [-7.5418e-01, -1.2168e+00, -4.2045e-01,  ..., -1.4825e+00,\n",
       "          -8.0115e-02, -9.8073e-01],\n",
       "         [-7.5418e-01, -1.2168e+00, -4.2045e-01,  ..., -1.4825e+00,\n",
       "          -8.0115e-02, -9.8073e-01],\n",
       "         [-7.5418e-01, -1.2168e+00, -4.2045e-01,  ..., -1.4825e+00,\n",
       "          -8.0115e-02, -9.8073e-01]],\n",
       "\n",
       "        [[-7.5418e-01, -1.2168e+00, -4.2045e-01,  ..., -1.4825e+00,\n",
       "          -8.0115e-02, -9.8073e-01],\n",
       "         [-7.5418e-01, -1.2168e+00, -4.2045e-01,  ..., -1.4825e+00,\n",
       "          -8.0115e-02, -9.8073e-01],\n",
       "         [ 1.1795e-01, -8.4665e-01,  1.9048e-01,  ...,  4.2173e-01,\n",
       "           1.5226e+00,  1.2502e-01],\n",
       "         ...,\n",
       "         [-8.4798e-01,  3.0154e-01, -6.4559e-01,  ...,  1.4812e+00,\n",
       "           2.4615e-01, -7.8654e-01],\n",
       "         [-8.4798e-01,  3.0154e-01, -6.4559e-01,  ...,  1.4812e+00,\n",
       "           2.4615e-01, -7.8654e-01],\n",
       "         [ 2.6299e-01,  4.3573e-01,  2.8653e-01,  ..., -8.0518e-01,\n",
       "           1.6022e+00, -2.1253e-01]],\n",
       "\n",
       "        ...,\n",
       "\n",
       "        [[ 2.6299e-01,  4.3573e-01,  2.8653e-01,  ..., -8.0518e-01,\n",
       "           1.6022e+00, -2.1253e-01],\n",
       "         [ 2.6299e-01,  4.3573e-01,  2.8653e-01,  ..., -8.0518e-01,\n",
       "           1.6022e+00, -2.1253e-01],\n",
       "         [ 1.8353e+00, -3.2165e-01,  3.2581e-01,  ...,  8.9756e-01,\n",
       "           6.7315e-02,  1.8781e+00],\n",
       "         ...,\n",
       "         [-8.4798e-01,  3.0154e-01, -6.4559e-01,  ...,  1.4812e+00,\n",
       "           2.4615e-01, -7.8654e-01],\n",
       "         [-8.4798e-01,  3.0154e-01, -6.4559e-01,  ...,  1.4812e+00,\n",
       "           2.4615e-01, -7.8654e-01],\n",
       "         [ 2.6299e-01,  4.3573e-01,  2.8653e-01,  ..., -8.0518e-01,\n",
       "           1.6022e+00, -2.1253e-01]],\n",
       "\n",
       "        [[ 2.6299e-01,  4.3573e-01,  2.8653e-01,  ..., -8.0518e-01,\n",
       "           1.6022e+00, -2.1253e-01],\n",
       "         [-8.2894e-01,  8.7675e-01,  1.2278e+00,  ..., -7.7677e-01,\n",
       "          -1.5741e+00, -2.3430e-01],\n",
       "         [ 1.8021e+00,  8.7491e-02, -1.6921e-01,  ...,  5.0702e-01,\n",
       "          -5.4425e-01,  1.0551e+00],\n",
       "         ...,\n",
       "         [ 2.6299e-01,  4.3573e-01,  2.8653e-01,  ..., -8.0518e-01,\n",
       "           1.6022e+00, -2.1253e-01],\n",
       "         [ 2.6299e-01,  4.3573e-01,  2.8653e-01,  ..., -8.0518e-01,\n",
       "           1.6022e+00, -2.1253e-01],\n",
       "         [ 4.3716e-01, -1.4460e+00,  6.4668e-01,  ..., -5.8543e-01,\n",
       "          -1.8211e+00,  1.1106e+00]],\n",
       "\n",
       "        [[ 3.8241e-01,  1.3231e+00,  7.9339e-01,  ...,  4.3871e-01,\n",
       "           1.8559e+00, -4.3570e-01],\n",
       "         [-1.0658e+00,  1.1540e+00, -1.6401e+00,  ..., -1.5286e+00,\n",
       "          -2.6754e-01, -2.2609e+00],\n",
       "         [ 1.4489e-01,  9.6244e-01,  4.1668e-02,  ..., -2.2241e+00,\n",
       "          -8.5837e-02,  5.5520e-01],\n",
       "         ...,\n",
       "         [-4.7310e-01, -1.1119e+00,  7.9176e-01,  ...,  2.3899e-01,\n",
       "          -1.8742e-01, -2.2496e+00],\n",
       "         [-8.1086e-01, -6.2725e-01, -4.2275e-01,  ...,  1.0165e+00,\n",
       "           6.5982e-01, -2.1907e-01],\n",
       "         [-8.4798e-01,  3.0154e-01, -6.4559e-01,  ...,  1.4812e+00,\n",
       "           2.4615e-01, -7.8654e-01]]], grad_fn=<EmbeddingBackward0>)"
      ]
     },
     "execution_count": 85,
     "metadata": {},
     "output_type": "execute_result"
    }
   ],
   "source": [
    "token_embeddings"
   ]
  },
  {
   "cell_type": "code",
   "execution_count": null,
   "id": "88d7d6c1-9900-4324-aee7-881545bade27",
   "metadata": {},
   "outputs": [],
   "source": []
  }
 ],
 "metadata": {
  "kernelspec": {
   "display_name": "Python 3 (ipykernel)",
   "language": "python",
   "name": "python3"
  },
  "language_info": {
   "codemirror_mode": {
    "name": "ipython",
    "version": 3
   },
   "file_extension": ".py",
   "mimetype": "text/x-python",
   "name": "python",
   "nbconvert_exporter": "python",
   "pygments_lexer": "ipython3",
   "version": "3.11.9"
  }
 },
 "nbformat": 4,
 "nbformat_minor": 5
}
