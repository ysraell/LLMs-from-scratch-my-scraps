{
 "cells": [
  {
   "cell_type": "code",
   "execution_count": 30,
   "id": "2061971a-a474-4fb0-b82f-44958f13c40c",
   "metadata": {
    "execution": {
     "iopub.execute_input": "2025-03-03T13:44:06.017404Z",
     "iopub.status.busy": "2025-03-03T13:44:06.016406Z",
     "iopub.status.idle": "2025-03-03T13:44:06.021436Z",
     "shell.execute_reply": "2025-03-03T13:44:06.020417Z",
     "shell.execute_reply.started": "2025-03-03T13:44:06.017404Z"
    }
   },
   "outputs": [],
   "source": [
    "import torch.nn.functional as F\n",
    "import torch"
   ]
  },
  {
   "cell_type": "code",
   "execution_count": 31,
   "id": "cfc9082c-75a8-4c7c-b0c8-210be39b2c18",
   "metadata": {
    "execution": {
     "iopub.execute_input": "2025-03-03T13:44:06.196895Z",
     "iopub.status.busy": "2025-03-03T13:44:06.196895Z",
     "iopub.status.idle": "2025-03-03T13:44:06.206960Z",
     "shell.execute_reply": "2025-03-03T13:44:06.206960Z",
     "shell.execute_reply.started": "2025-03-03T13:44:06.196895Z"
    }
   },
   "outputs": [],
   "source": [
    "y = torch.tensor([1.0])          #2\n",
    "x1 = torch.tensor([1.1])    #3\n",
    "w1 = torch.tensor([2.2])    #4\n",
    "b = torch.tensor([0.0])            #5\n",
    "z = x1 * w1 + b                 #6\n",
    "a = torch.sigmoid(z)               #7\n",
    "loss = F.binary_cross_entropy(a, y)"
   ]
  },
  {
   "cell_type": "code",
   "execution_count": 32,
   "id": "44cbad4e-595d-433d-bfd4-2d4eed7eb7ba",
   "metadata": {
    "execution": {
     "iopub.execute_input": "2025-03-03T13:44:06.388715Z",
     "iopub.status.busy": "2025-03-03T13:44:06.387715Z",
     "iopub.status.idle": "2025-03-03T13:44:06.397210Z",
     "shell.execute_reply": "2025-03-03T13:44:06.396196Z",
     "shell.execute_reply.started": "2025-03-03T13:44:06.388715Z"
    }
   },
   "outputs": [
    {
     "data": {
      "text/plain": [
       "tensor(0.0852)"
      ]
     },
     "execution_count": 32,
     "metadata": {},
     "output_type": "execute_result"
    }
   ],
   "source": [
    "loss"
   ]
  },
  {
   "cell_type": "code",
   "execution_count": 33,
   "id": "8ce06878-5235-4e5c-9ddd-b05996576e6d",
   "metadata": {
    "execution": {
     "iopub.execute_input": "2025-03-03T13:44:06.581658Z",
     "iopub.status.busy": "2025-03-03T13:44:06.580670Z",
     "iopub.status.idle": "2025-03-03T13:44:06.590651Z",
     "shell.execute_reply": "2025-03-03T13:44:06.589633Z",
     "shell.execute_reply.started": "2025-03-03T13:44:06.581658Z"
    }
   },
   "outputs": [
    {
     "data": {
      "text/plain": [
       "False"
      ]
     },
     "execution_count": 33,
     "metadata": {},
     "output_type": "execute_result"
    }
   ],
   "source": [
    "w1.requires_grad"
   ]
  },
  {
   "cell_type": "code",
   "execution_count": 34,
   "id": "dd45bd0e-8d47-4889-840f-ac0da1eab992",
   "metadata": {
    "execution": {
     "iopub.execute_input": "2025-03-03T13:44:06.787285Z",
     "iopub.status.busy": "2025-03-03T13:44:06.787285Z",
     "iopub.status.idle": "2025-03-03T13:44:06.795140Z",
     "shell.execute_reply": "2025-03-03T13:44:06.794123Z",
     "shell.execute_reply.started": "2025-03-03T13:44:06.787285Z"
    }
   },
   "outputs": [],
   "source": [
    "import torch.nn.functional as F\n",
    "from torch.autograd import grad\n",
    "\n",
    "y = torch.tensor([1.0])\n",
    "x1 = torch.tensor([1.1])\n",
    "w1 = torch.tensor([2.2], requires_grad=True)\n",
    "b = torch.tensor([0.0], requires_grad=True)\n",
    "\n",
    "z = x1 * w1 + b \n",
    "a = torch.sigmoid(z)\n",
    "\n",
    "loss = F.binary_cross_entropy(a, y)\n",
    "\n",
    "grad_L_w1 = grad(loss, w1, retain_graph=True)   #1\n",
    "grad_L_b = grad(loss, b, retain_graph=True)"
   ]
  },
  {
   "cell_type": "code",
   "execution_count": 35,
   "id": "b9de17a9-3e26-4a2a-8193-3119945c38f0",
   "metadata": {
    "execution": {
     "iopub.execute_input": "2025-03-03T13:44:07.012097Z",
     "iopub.status.busy": "2025-03-03T13:44:07.012097Z",
     "iopub.status.idle": "2025-03-03T13:44:07.027589Z",
     "shell.execute_reply": "2025-03-03T13:44:07.026571Z",
     "shell.execute_reply.started": "2025-03-03T13:44:07.012097Z"
    }
   },
   "outputs": [
    {
     "data": {
      "text/plain": [
       "(tensor([-0.0898]),)"
      ]
     },
     "execution_count": 35,
     "metadata": {},
     "output_type": "execute_result"
    }
   ],
   "source": [
    "grad_L_w1"
   ]
  },
  {
   "cell_type": "code",
   "execution_count": 36,
   "id": "c74da320-66db-4f0b-b5c2-3f0654f0b2c7",
   "metadata": {
    "execution": {
     "iopub.execute_input": "2025-03-03T13:44:07.212608Z",
     "iopub.status.busy": "2025-03-03T13:44:07.211615Z",
     "iopub.status.idle": "2025-03-03T13:44:07.220177Z",
     "shell.execute_reply": "2025-03-03T13:44:07.219155Z",
     "shell.execute_reply.started": "2025-03-03T13:44:07.212608Z"
    }
   },
   "outputs": [
    {
     "data": {
      "text/plain": [
       "(tensor([-0.0817]),)"
      ]
     },
     "execution_count": 36,
     "metadata": {},
     "output_type": "execute_result"
    }
   ],
   "source": [
    "grad_L_b"
   ]
  },
  {
   "cell_type": "code",
   "execution_count": 37,
   "id": "452f954f-24e8-434d-b28c-bc73118164ee",
   "metadata": {
    "execution": {
     "iopub.execute_input": "2025-03-03T13:44:07.412836Z",
     "iopub.status.busy": "2025-03-03T13:44:07.412836Z",
     "iopub.status.idle": "2025-03-03T13:44:07.420419Z",
     "shell.execute_reply": "2025-03-03T13:44:07.419403Z",
     "shell.execute_reply.started": "2025-03-03T13:44:07.412836Z"
    }
   },
   "outputs": [
    {
     "name": "stdout",
     "output_type": "stream",
     "text": [
      "(tensor([-0.0898]),)\n",
      "(tensor([-0.0817]),)\n"
     ]
    }
   ],
   "source": [
    "print(grad_L_w1)\n",
    "print(grad_L_b)"
   ]
  },
  {
   "cell_type": "code",
   "execution_count": 38,
   "id": "cde0afb7-5d0b-49bd-a0f1-80b6a8e86479",
   "metadata": {
    "execution": {
     "iopub.execute_input": "2025-03-03T13:44:07.611175Z",
     "iopub.status.busy": "2025-03-03T13:44:07.611175Z",
     "iopub.status.idle": "2025-03-03T13:44:07.628730Z",
     "shell.execute_reply": "2025-03-03T13:44:07.627714Z",
     "shell.execute_reply.started": "2025-03-03T13:44:07.611175Z"
    }
   },
   "outputs": [
    {
     "name": "stdout",
     "output_type": "stream",
     "text": [
      "tensor([-0.0898])\n",
      "tensor([-0.0817])\n"
     ]
    }
   ],
   "source": [
    "loss.backward()\n",
    "print(w1.grad)\n",
    "print(b.grad)"
   ]
  },
  {
   "cell_type": "code",
   "execution_count": 39,
   "id": "ad02bde0-3fe9-4e33-ad16-1480607fc707",
   "metadata": {
    "execution": {
     "iopub.execute_input": "2025-03-03T13:44:07.811976Z",
     "iopub.status.busy": "2025-03-03T13:44:07.811976Z",
     "iopub.status.idle": "2025-03-03T13:44:07.817788Z",
     "shell.execute_reply": "2025-03-03T13:44:07.817788Z",
     "shell.execute_reply.started": "2025-03-03T13:44:07.811976Z"
    }
   },
   "outputs": [],
   "source": [
    "m = torch.nn.Linear(1, 2)"
   ]
  },
  {
   "cell_type": "code",
   "execution_count": 40,
   "id": "d2d918fb-4fee-4f8f-b9a6-77d342389233",
   "metadata": {
    "execution": {
     "iopub.execute_input": "2025-03-03T13:44:07.994903Z",
     "iopub.status.busy": "2025-03-03T13:44:07.994903Z",
     "iopub.status.idle": "2025-03-03T13:44:08.011508Z",
     "shell.execute_reply": "2025-03-03T13:44:08.010492Z",
     "shell.execute_reply.started": "2025-03-03T13:44:07.994903Z"
    }
   },
   "outputs": [
    {
     "data": {
      "text/plain": [
       "(torch.Size([2, 1]), torch.Size([2]))"
      ]
     },
     "execution_count": 40,
     "metadata": {},
     "output_type": "execute_result"
    }
   ],
   "source": [
    "m.weight.shape, m.bias.shape"
   ]
  },
  {
   "cell_type": "code",
   "execution_count": 41,
   "id": "13ed42e6-d5f7-403f-b346-2f42c6e5259d",
   "metadata": {
    "execution": {
     "iopub.execute_input": "2025-03-03T13:44:08.191950Z",
     "iopub.status.busy": "2025-03-03T13:44:08.191950Z",
     "iopub.status.idle": "2025-03-03T13:44:08.213826Z",
     "shell.execute_reply": "2025-03-03T13:44:08.213826Z",
     "shell.execute_reply.started": "2025-03-03T13:44:08.191950Z"
    }
   },
   "outputs": [
    {
     "data": {
      "text/plain": [
       "Parameter containing:\n",
       "tensor([[ 0.7512],\n",
       "        [-0.2546]], requires_grad=True)"
      ]
     },
     "execution_count": 41,
     "metadata": {},
     "output_type": "execute_result"
    }
   ],
   "source": [
    "m.weight"
   ]
  },
  {
   "cell_type": "code",
   "execution_count": 42,
   "id": "aa72531d-e726-43a4-8295-8c474d487f72",
   "metadata": {
    "execution": {
     "iopub.execute_input": "2025-03-03T13:44:08.374845Z",
     "iopub.status.busy": "2025-03-03T13:44:08.374845Z",
     "iopub.status.idle": "2025-03-03T13:44:08.398094Z",
     "shell.execute_reply": "2025-03-03T13:44:08.398094Z",
     "shell.execute_reply.started": "2025-03-03T13:44:08.374845Z"
    }
   },
   "outputs": [
    {
     "data": {
      "text/plain": [
       "Parameter containing:\n",
       "tensor([0.4412, 0.5694], requires_grad=True)"
      ]
     },
     "execution_count": 42,
     "metadata": {},
     "output_type": "execute_result"
    }
   ],
   "source": [
    "m.bias"
   ]
  },
  {
   "cell_type": "code",
   "execution_count": 43,
   "id": "8fbdaad1-5f74-4a0c-9eb9-169a933bb9ff",
   "metadata": {
    "execution": {
     "iopub.execute_input": "2025-03-03T13:44:08.575768Z",
     "iopub.status.busy": "2025-03-03T13:44:08.575768Z",
     "iopub.status.idle": "2025-03-03T13:44:08.595317Z",
     "shell.execute_reply": "2025-03-03T13:44:08.595317Z",
     "shell.execute_reply.started": "2025-03-03T13:44:08.575768Z"
    }
   },
   "outputs": [
    {
     "data": {
      "text/plain": [
       "torch.Size([1, 1])"
      ]
     },
     "execution_count": 43,
     "metadata": {},
     "output_type": "execute_result"
    }
   ],
   "source": [
    "x = torch.randn(1, 1)\n",
    "x.shape"
   ]
  },
  {
   "cell_type": "code",
   "execution_count": 44,
   "id": "5a9d8ae7-84f2-4b64-80a7-3ad1ee2bd5a1",
   "metadata": {
    "execution": {
     "iopub.execute_input": "2025-03-03T13:44:08.759054Z",
     "iopub.status.busy": "2025-03-03T13:44:08.759054Z",
     "iopub.status.idle": "2025-03-03T13:44:08.774482Z",
     "shell.execute_reply": "2025-03-03T13:44:08.774482Z",
     "shell.execute_reply.started": "2025-03-03T13:44:08.759054Z"
    }
   },
   "outputs": [
    {
     "data": {
      "text/plain": [
       "tensor([[-0.6764]])"
      ]
     },
     "execution_count": 44,
     "metadata": {},
     "output_type": "execute_result"
    }
   ],
   "source": [
    "x"
   ]
  },
  {
   "cell_type": "code",
   "execution_count": 45,
   "id": "5c6eefcd-065d-4d42-9726-7bdd7f4f3e7b",
   "metadata": {
    "execution": {
     "iopub.execute_input": "2025-03-03T13:44:08.941988Z",
     "iopub.status.busy": "2025-03-03T13:44:08.941988Z",
     "iopub.status.idle": "2025-03-03T13:44:08.957664Z",
     "shell.execute_reply": "2025-03-03T13:44:08.956469Z",
     "shell.execute_reply.started": "2025-03-03T13:44:08.941988Z"
    }
   },
   "outputs": [
    {
     "data": {
      "text/plain": [
       "tensor([[-0.0669,  0.7416]], grad_fn=<AddmmBackward0>)"
      ]
     },
     "execution_count": 45,
     "metadata": {},
     "output_type": "execute_result"
    }
   ],
   "source": [
    "m(x)"
   ]
  },
  {
   "cell_type": "code",
   "execution_count": 46,
   "id": "b15db39a-2d83-47d1-97d5-0492d3131934",
   "metadata": {
    "execution": {
     "iopub.execute_input": "2025-03-03T13:44:09.128307Z",
     "iopub.status.busy": "2025-03-03T13:44:09.128307Z",
     "iopub.status.idle": "2025-03-03T13:44:09.137390Z",
     "shell.execute_reply": "2025-03-03T13:44:09.137390Z",
     "shell.execute_reply.started": "2025-03-03T13:44:09.128307Z"
    }
   },
   "outputs": [
    {
     "data": {
      "text/plain": [
       "(-0.23480020000000001, -0.10197044)"
      ]
     },
     "execution_count": 46,
     "metadata": {},
     "output_type": "execute_result"
    }
   ],
   "source": [
    "0.8755*(-1.3004)+0.9037, 0.6011*(-1.3004)+0.6797"
   ]
  },
  {
   "cell_type": "code",
   "execution_count": 47,
   "id": "411f8faf-37d0-4db1-9c6b-5ecc3e1072ab",
   "metadata": {
    "execution": {
     "iopub.execute_input": "2025-03-03T13:44:09.358056Z",
     "iopub.status.busy": "2025-03-03T13:44:09.358056Z",
     "iopub.status.idle": "2025-03-03T13:44:09.379222Z",
     "shell.execute_reply": "2025-03-03T13:44:09.379222Z",
     "shell.execute_reply.started": "2025-03-03T13:44:09.358056Z"
    }
   },
   "outputs": [],
   "source": [
    "class NeuralNetwork(torch.nn.Module):\n",
    "    def __init__(self, num_inputs, num_outputs, size_hidden_1 = 30, size_hidden_2 = 20):    #1\n",
    "        super().__init__()\n",
    "\n",
    "        self.layers = torch.nn.Sequential(\n",
    "\n",
    "            # 1st hidden layer\n",
    "            torch.nn.Linear(num_inputs, size_hidden_1),    #2\n",
    "            torch.nn.ReLU(),               #3\n",
    "\n",
    "            # 2nd hidden layer\n",
    "            torch.nn.Linear(size_hidden_1, size_hidden_2),    #4\n",
    "            torch.nn.ReLU(),\n",
    "\n",
    "            # output layer\n",
    "            torch.nn.Linear(size_hidden_2, num_outputs),\n",
    "        )\n",
    "\n",
    "    def forward(self, x):\n",
    "        logits = self.layers(x)\n",
    "        return logits           #5"
   ]
  },
  {
   "cell_type": "code",
   "execution_count": 48,
   "id": "c8ea2b4d-0728-4893-8071-850214da92b9",
   "metadata": {
    "execution": {
     "iopub.execute_input": "2025-03-03T13:44:09.810474Z",
     "iopub.status.busy": "2025-03-03T13:44:09.810474Z",
     "iopub.status.idle": "2025-03-03T13:44:09.819686Z",
     "shell.execute_reply": "2025-03-03T13:44:09.819686Z",
     "shell.execute_reply.started": "2025-03-03T13:44:09.810474Z"
    }
   },
   "outputs": [],
   "source": [
    "model = NeuralNetwork(50, 3)"
   ]
  },
  {
   "cell_type": "code",
   "execution_count": 49,
   "id": "dabd31e6-118c-4ab5-8413-c4842b5ca8db",
   "metadata": {
    "execution": {
     "iopub.execute_input": "2025-03-03T13:44:10.091572Z",
     "iopub.status.busy": "2025-03-03T13:44:10.091572Z",
     "iopub.status.idle": "2025-03-03T13:44:10.098702Z",
     "shell.execute_reply": "2025-03-03T13:44:10.097689Z",
     "shell.execute_reply.started": "2025-03-03T13:44:10.091572Z"
    }
   },
   "outputs": [
    {
     "data": {
      "text/plain": [
       "NeuralNetwork(\n",
       "  (layers): Sequential(\n",
       "    (0): Linear(in_features=50, out_features=30, bias=True)\n",
       "    (1): ReLU()\n",
       "    (2): Linear(in_features=30, out_features=20, bias=True)\n",
       "    (3): ReLU()\n",
       "    (4): Linear(in_features=20, out_features=3, bias=True)\n",
       "  )\n",
       ")"
      ]
     },
     "execution_count": 49,
     "metadata": {},
     "output_type": "execute_result"
    }
   ],
   "source": [
    "model"
   ]
  },
  {
   "cell_type": "code",
   "execution_count": 50,
   "id": "a850e5bc-3361-474f-a487-e9f0c509e80a",
   "metadata": {
    "execution": {
     "iopub.execute_input": "2025-03-03T13:44:10.263616Z",
     "iopub.status.busy": "2025-03-03T13:44:10.262604Z",
     "iopub.status.idle": "2025-03-03T13:44:10.271026Z",
     "shell.execute_reply": "2025-03-03T13:44:10.269994Z",
     "shell.execute_reply.started": "2025-03-03T13:44:10.263616Z"
    }
   },
   "outputs": [
    {
     "data": {
      "text/plain": [
       "<generator object Module.parameters at 0x000001BA6CAF6CE0>"
      ]
     },
     "execution_count": 50,
     "metadata": {},
     "output_type": "execute_result"
    }
   ],
   "source": [
    "model.parameters()"
   ]
  },
  {
   "cell_type": "code",
   "execution_count": 51,
   "id": "c3a0c1f8-898e-49eb-934a-84b7e74ce899",
   "metadata": {
    "execution": {
     "iopub.execute_input": "2025-03-03T13:44:10.509511Z",
     "iopub.status.busy": "2025-03-03T13:44:10.509511Z",
     "iopub.status.idle": "2025-03-03T13:44:10.520019Z",
     "shell.execute_reply": "2025-03-03T13:44:10.520019Z",
     "shell.execute_reply.started": "2025-03-03T13:44:10.509511Z"
    }
   },
   "outputs": [
    {
     "name": "stdout",
     "output_type": "stream",
     "text": [
      "Total number of trainable model parameters: 2213\n"
     ]
    }
   ],
   "source": [
    "num_params = sum(p.numel() for p in model.parameters() if p.requires_grad)\n",
    "print(\"Total number of trainable model parameters:\", num_params)"
   ]
  },
  {
   "cell_type": "code",
   "execution_count": 52,
   "id": "dff0a7a9-3f74-4ab2-b516-21d74679521d",
   "metadata": {
    "execution": {
     "iopub.execute_input": "2025-03-03T13:44:10.766724Z",
     "iopub.status.busy": "2025-03-03T13:44:10.765731Z",
     "iopub.status.idle": "2025-03-03T13:44:10.771092Z",
     "shell.execute_reply": "2025-03-03T13:44:10.770076Z",
     "shell.execute_reply.started": "2025-03-03T13:44:10.765731Z"
    }
   },
   "outputs": [
    {
     "name": "stdout",
     "output_type": "stream",
     "text": [
      "torch.Size([30, 50])\n"
     ]
    }
   ],
   "source": [
    "print(model.layers[0].weight.shape)"
   ]
  },
  {
   "cell_type": "code",
   "execution_count": 53,
   "id": "2ec3e5c6-e4c5-470a-86ca-64473eaf11bb",
   "metadata": {
    "execution": {
     "iopub.execute_input": "2025-03-03T13:44:11.060522Z",
     "iopub.status.busy": "2025-03-03T13:44:11.060522Z",
     "iopub.status.idle": "2025-03-03T13:44:11.073720Z",
     "shell.execute_reply": "2025-03-03T13:44:11.073720Z",
     "shell.execute_reply.started": "2025-03-03T13:44:11.060522Z"
    }
   },
   "outputs": [
    {
     "data": {
      "text/plain": [
       "torch.Size([50])"
      ]
     },
     "execution_count": 53,
     "metadata": {},
     "output_type": "execute_result"
    }
   ],
   "source": [
    "model.layers[0].weight[1].shape"
   ]
  },
  {
   "cell_type": "code",
   "execution_count": 54,
   "id": "adcec49f-edc6-48e9-8024-de6df9033336",
   "metadata": {
    "execution": {
     "iopub.execute_input": "2025-03-03T13:44:11.389970Z",
     "iopub.status.busy": "2025-03-03T13:44:11.389970Z",
     "iopub.status.idle": "2025-03-03T13:44:11.410302Z",
     "shell.execute_reply": "2025-03-03T13:44:11.410302Z",
     "shell.execute_reply.started": "2025-03-03T13:44:11.389970Z"
    }
   },
   "outputs": [
    {
     "name": "stdout",
     "output_type": "stream",
     "text": [
      "tensor([[-0.0281, -0.1572,  0.1557]], grad_fn=<AddmmBackward0>)\n"
     ]
    }
   ],
   "source": [
    "torch.manual_seed(123)\n",
    "X = torch.rand((1, 50))\n",
    "out = model(X)\n",
    "print(out)"
   ]
  },
  {
   "cell_type": "code",
   "execution_count": 55,
   "id": "3b8125e2-1904-4cf8-961c-68fc2b31e0d8",
   "metadata": {
    "execution": {
     "iopub.execute_input": "2025-03-03T13:44:11.625261Z",
     "iopub.status.busy": "2025-03-03T13:44:11.625261Z",
     "iopub.status.idle": "2025-03-03T13:44:11.641952Z",
     "shell.execute_reply": "2025-03-03T13:44:11.640933Z",
     "shell.execute_reply.started": "2025-03-03T13:44:11.625261Z"
    }
   },
   "outputs": [],
   "source": [
    "m = torch.nn.Softmax(dim=1)\n",
    "x = abs(torch.randn(2, 3))\n",
    "y = m(x)"
   ]
  },
  {
   "cell_type": "code",
   "execution_count": 56,
   "id": "94c3cfea-e31e-470d-95cd-c4714f9826bd",
   "metadata": {
    "execution": {
     "iopub.execute_input": "2025-03-03T13:44:11.900518Z",
     "iopub.status.busy": "2025-03-03T13:44:11.900518Z",
     "iopub.status.idle": "2025-03-03T13:44:11.909594Z",
     "shell.execute_reply": "2025-03-03T13:44:11.908567Z",
     "shell.execute_reply.started": "2025-03-03T13:44:11.900518Z"
    }
   },
   "outputs": [
    {
     "data": {
      "text/plain": [
       "tensor([[0.5543, 0.2162, 0.2295],\n",
       "        [0.1798, 0.1740, 0.6462]])"
      ]
     },
     "execution_count": 56,
     "metadata": {},
     "output_type": "execute_result"
    }
   ],
   "source": [
    "y"
   ]
  },
  {
   "cell_type": "code",
   "execution_count": 57,
   "id": "f6937c35-cda2-4430-a35c-86165e5c1221",
   "metadata": {
    "execution": {
     "iopub.execute_input": "2025-03-03T13:44:12.122588Z",
     "iopub.status.busy": "2025-03-03T13:44:12.122588Z",
     "iopub.status.idle": "2025-03-03T13:44:12.140160Z",
     "shell.execute_reply": "2025-03-03T13:44:12.139151Z",
     "shell.execute_reply.started": "2025-03-03T13:44:12.122588Z"
    }
   },
   "outputs": [
    {
     "data": {
      "text/plain": [
       "tensor([[2.0975, 1.1558, 1.2157],\n",
       "        [0.1295, 0.0967, 1.4086]])"
      ]
     },
     "execution_count": 57,
     "metadata": {},
     "output_type": "execute_result"
    }
   ],
   "source": [
    "x"
   ]
  },
  {
   "cell_type": "code",
   "execution_count": 58,
   "id": "d33c2593-7a2c-4443-b4d5-d252b6c58016",
   "metadata": {
    "execution": {
     "iopub.execute_input": "2025-03-03T13:44:12.459853Z",
     "iopub.status.busy": "2025-03-03T13:44:12.459853Z",
     "iopub.status.idle": "2025-03-03T13:44:12.465599Z",
     "shell.execute_reply": "2025-03-03T13:44:12.464584Z",
     "shell.execute_reply.started": "2025-03-03T13:44:12.459853Z"
    }
   },
   "outputs": [],
   "source": [
    "X_train = torch.tensor([\n",
    "    [-1.2, 3.1],\n",
    "    [-0.9, 2.9],\n",
    "    [-0.5, 2.6],\n",
    "    [2.3, -1.1],\n",
    "    [2.7, -1.5]\n",
    "])\n",
    "y_train = torch.tensor([0, 0, 0, 1, 1])\n",
    "\n",
    "X_test = torch.tensor([\n",
    "    [-0.8, 2.8],\n",
    "    [2.6, -1.6],\n",
    "])\n",
    "y_test = torch.tensor([0, 1])"
   ]
  },
  {
   "cell_type": "code",
   "execution_count": 59,
   "id": "de188209-d70c-450d-a762-5aef29bec0f8",
   "metadata": {
    "execution": {
     "iopub.execute_input": "2025-03-03T13:44:12.895758Z",
     "iopub.status.busy": "2025-03-03T13:44:12.894746Z",
     "iopub.status.idle": "2025-03-03T13:44:12.901771Z",
     "shell.execute_reply": "2025-03-03T13:44:12.900750Z",
     "shell.execute_reply.started": "2025-03-03T13:44:12.895758Z"
    }
   },
   "outputs": [],
   "source": [
    "from torch.utils.data import Dataset\n",
    "\n",
    "class ToyDataset(Dataset):\n",
    "    def __init__(self, X, y):\n",
    "        self.features = X\n",
    "        self.labels = y\n",
    "\n",
    "    def __getitem__(self, index):        #1\n",
    "        one_x = self.features[index]     #1\n",
    "        one_y = self.labels[index]       #1\n",
    "        return one_x, one_y              #1\n",
    "\n",
    "    def __len__(self):\n",
    "        return self.labels.shape[0]      #2\n",
    "\n",
    "train_ds = ToyDataset(X_train, y_train)\n",
    "test_ds = ToyDataset(X_test, y_test)"
   ]
  },
  {
   "cell_type": "code",
   "execution_count": 60,
   "id": "45781018-e76a-44b1-8a00-897f55e62fcd",
   "metadata": {
    "execution": {
     "iopub.execute_input": "2025-03-03T13:44:13.221524Z",
     "iopub.status.busy": "2025-03-03T13:44:13.220531Z",
     "iopub.status.idle": "2025-03-03T13:44:13.229826Z",
     "shell.execute_reply": "2025-03-03T13:44:13.228812Z",
     "shell.execute_reply.started": "2025-03-03T13:44:13.221524Z"
    }
   },
   "outputs": [
    {
     "data": {
      "text/plain": [
       "(tensor([ 2.7000, -1.5000]), tensor(1))"
      ]
     },
     "execution_count": 60,
     "metadata": {},
     "output_type": "execute_result"
    }
   ],
   "source": [
    "train_ds[-1]"
   ]
  },
  {
   "cell_type": "code",
   "execution_count": 61,
   "id": "44c85b12-17bd-43e6-87f0-69637eeb8aa5",
   "metadata": {
    "execution": {
     "iopub.execute_input": "2025-03-03T13:44:13.492902Z",
     "iopub.status.busy": "2025-03-03T13:44:13.492902Z",
     "iopub.status.idle": "2025-03-03T13:44:13.499194Z",
     "shell.execute_reply": "2025-03-03T13:44:13.498173Z",
     "shell.execute_reply.started": "2025-03-03T13:44:13.492902Z"
    }
   },
   "outputs": [],
   "source": [
    "from torch.utils.data import DataLoader\n",
    "\n",
    "train_loader = DataLoader(\n",
    "    dataset=train_ds,     #1\n",
    "    batch_size=2,\n",
    "    shuffle=True,          #2\n",
    "    num_workers=0,     #3\n",
    "    drop_last=True\n",
    ")\n",
    "\n",
    "test_loader = DataLoader(\n",
    "    dataset=test_ds,\n",
    "    batch_size=2,\n",
    "    shuffle=False,     #4\n",
    "    num_workers=0\n",
    ")"
   ]
  },
  {
   "cell_type": "code",
   "execution_count": 62,
   "id": "6e880867-5e53-422e-8e6f-1b9eed48b5db",
   "metadata": {
    "execution": {
     "iopub.execute_input": "2025-03-03T13:44:13.805379Z",
     "iopub.status.busy": "2025-03-03T13:44:13.804405Z",
     "iopub.status.idle": "2025-03-03T13:44:13.833902Z",
     "shell.execute_reply": "2025-03-03T13:44:13.833902Z",
     "shell.execute_reply.started": "2025-03-03T13:44:13.805379Z"
    }
   },
   "outputs": [
    {
     "name": "stdout",
     "output_type": "stream",
     "text": [
      "Batch 1: tensor([[ 2.3000, -1.1000],\n",
      "        [-0.9000,  2.9000]]) tensor([1, 0])\n",
      "Batch 2: tensor([[ 2.7000, -1.5000],\n",
      "        [-1.2000,  3.1000]]) tensor([1, 0])\n"
     ]
    }
   ],
   "source": [
    "for idx, (x, y) in enumerate(train_loader):\n",
    "    print(f\"Batch {idx+1}:\", x, y)"
   ]
  },
  {
   "cell_type": "code",
   "execution_count": 63,
   "id": "8f98ee03-f927-45a1-bdaf-2927303b7a34",
   "metadata": {
    "execution": {
     "iopub.execute_input": "2025-03-03T13:44:14.099247Z",
     "iopub.status.busy": "2025-03-03T13:44:14.099247Z",
     "iopub.status.idle": "2025-03-03T13:44:14.137999Z",
     "shell.execute_reply": "2025-03-03T13:44:14.136973Z",
     "shell.execute_reply.started": "2025-03-03T13:44:14.099247Z"
    }
   },
   "outputs": [
    {
     "name": "stdout",
     "output_type": "stream",
     "text": [
      "Epoch: 001/003 | Batch 000/002 | Train Loss: 0.78\n",
      "Epoch: 001/003 | Batch 001/002 | Train Loss: 1.29\n",
      "Epoch: 002/003 | Batch 000/002 | Train Loss: 0.30\n",
      "Epoch: 002/003 | Batch 001/002 | Train Loss: 0.00\n",
      "Epoch: 003/003 | Batch 000/002 | Train Loss: 0.00\n",
      "Epoch: 003/003 | Batch 001/002 | Train Loss: 0.00\n"
     ]
    }
   ],
   "source": [
    "import torch.nn.functional as F\n",
    "\n",
    "model = NeuralNetwork(num_inputs=2, num_outputs=2)    #1\n",
    "optimizer = torch.optim.SGD(model.parameters(), lr=0.5)            #2\n",
    "\n",
    "num_epochs = 3\n",
    "for epoch in range(num_epochs): \n",
    "\n",
    "    model.train()\n",
    "    for batch_idx, (features, labels) in enumerate(train_loader):\n",
    "        logits = model(features)\n",
    "\n",
    "        loss = F.cross_entropy(logits, labels)\n",
    "\n",
    "        optimizer.zero_grad()            #3\n",
    "        loss.backward()         #4\n",
    "        optimizer.step()        #5\n",
    "\n",
    "        ### LOGGING\n",
    "        print(f\"Epoch: {epoch+1:03d}/{num_epochs:03d}\"\n",
    "              f\" | Batch {batch_idx:03d}/{len(train_loader):03d}\"\n",
    "              f\" | Train Loss: {loss:.2f}\")\n",
    "\n",
    "    model.eval()\n",
    "    # Insert optional model evaluation code"
   ]
  },
  {
   "cell_type": "code",
   "execution_count": 64,
   "id": "1331dfd0-dd7c-465a-8fde-981f07f20887",
   "metadata": {
    "execution": {
     "iopub.execute_input": "2025-03-03T13:59:40.742657Z",
     "iopub.status.busy": "2025-03-03T13:59:40.741659Z",
     "iopub.status.idle": "2025-03-03T13:59:40.748755Z",
     "shell.execute_reply": "2025-03-03T13:59:40.747753Z",
     "shell.execute_reply.started": "2025-03-03T13:59:40.742657Z"
    }
   },
   "outputs": [],
   "source": [
    "def compute_accuracy(model, dataloader):\n",
    "\n",
    "    model = model.eval()\n",
    "    correct = 0.0\n",
    "    total_examples = 0\n",
    "\n",
    "    for idx, (features, labels) in enumerate(dataloader):\n",
    "\n",
    "        with torch.no_grad():\n",
    "            logits = model(features)\n",
    "\n",
    "        predictions = torch.argmax(logits, dim=1)\n",
    "        compare = labels == predictions       #1\n",
    "        correct += torch.sum(compare)      #2\n",
    "        total_examples += len(compare)\n",
    "\n",
    "    return (correct / total_examples).item()    #3"
   ]
  },
  {
   "cell_type": "code",
   "execution_count": 65,
   "id": "e7e85963-9ee7-4781-9291-9e45197b33c0",
   "metadata": {
    "execution": {
     "iopub.execute_input": "2025-03-03T13:59:52.996055Z",
     "iopub.status.busy": "2025-03-03T13:59:52.996055Z",
     "iopub.status.idle": "2025-03-03T13:59:53.009674Z",
     "shell.execute_reply": "2025-03-03T13:59:53.008662Z",
     "shell.execute_reply.started": "2025-03-03T13:59:52.996055Z"
    }
   },
   "outputs": [
    {
     "data": {
      "text/plain": [
       "1.0"
      ]
     },
     "execution_count": 65,
     "metadata": {},
     "output_type": "execute_result"
    }
   ],
   "source": [
    "compute_accuracy(model, train_loader)"
   ]
  },
  {
   "cell_type": "code",
   "execution_count": 66,
   "id": "ad269212-84dd-475a-a634-f3f9e9a072b5",
   "metadata": {
    "execution": {
     "iopub.execute_input": "2025-03-03T14:00:00.961934Z",
     "iopub.status.busy": "2025-03-03T14:00:00.960939Z",
     "iopub.status.idle": "2025-03-03T14:00:00.969494Z",
     "shell.execute_reply": "2025-03-03T14:00:00.968471Z",
     "shell.execute_reply.started": "2025-03-03T14:00:00.961934Z"
    }
   },
   "outputs": [
    {
     "data": {
      "text/plain": [
       "1.0"
      ]
     },
     "execution_count": 66,
     "metadata": {},
     "output_type": "execute_result"
    }
   ],
   "source": [
    "compute_accuracy(model, test_loader)"
   ]
  },
  {
   "cell_type": "code",
   "execution_count": 68,
   "id": "235302ce-f1b7-46cb-8316-675c9cf7491e",
   "metadata": {
    "execution": {
     "iopub.execute_input": "2025-03-03T14:04:50.415226Z",
     "iopub.status.busy": "2025-03-03T14:04:50.414228Z",
     "iopub.status.idle": "2025-03-03T14:04:50.420097Z",
     "shell.execute_reply": "2025-03-03T14:04:50.419078Z",
     "shell.execute_reply.started": "2025-03-03T14:04:50.415226Z"
    }
   },
   "outputs": [
    {
     "name": "stdout",
     "output_type": "stream",
     "text": [
      "False\n"
     ]
    }
   ],
   "source": [
    "print(torch.cuda.is_available())"
   ]
  },
  {
   "cell_type": "code",
   "execution_count": 70,
   "id": "7d480e05-e969-4f3f-b56c-a8ac4e64839c",
   "metadata": {
    "execution": {
     "iopub.execute_input": "2025-03-03T14:10:13.174383Z",
     "iopub.status.busy": "2025-03-03T14:10:13.173376Z",
     "iopub.status.idle": "2025-03-03T14:10:13.181301Z",
     "shell.execute_reply": "2025-03-03T14:10:13.180273Z",
     "shell.execute_reply.started": "2025-03-03T14:10:13.174383Z"
    }
   },
   "outputs": [
    {
     "data": {
      "text/plain": [
       "(2.5, 2.5)"
      ]
     },
     "execution_count": 70,
     "metadata": {},
     "output_type": "execute_result"
    }
   ],
   "source": [
    "(1+2+10-3)/4, (1+2)/4 +(10-3)/4"
   ]
  },
  {
   "cell_type": "code",
   "execution_count": null,
   "id": "fafcfb4d-488e-48a3-ae01-1fdf96f06d3b",
   "metadata": {},
   "outputs": [],
   "source": []
  }
 ],
 "metadata": {
  "kernelspec": {
   "display_name": "Python 3 (ipykernel)",
   "language": "python",
   "name": "python3"
  },
  "language_info": {
   "codemirror_mode": {
    "name": "ipython",
    "version": 3
   },
   "file_extension": ".py",
   "mimetype": "text/x-python",
   "name": "python",
   "nbconvert_exporter": "python",
   "pygments_lexer": "ipython3",
   "version": "3.11.9"
  }
 },
 "nbformat": 4,
 "nbformat_minor": 5
}
