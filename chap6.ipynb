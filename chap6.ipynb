{
 "cells": [
  {
   "cell_type": "code",
   "execution_count": 1,
   "id": "2daade69-bb67-4014-ae09-6d2f62a506cd",
   "metadata": {
    "execution": {
     "iopub.execute_input": "2025-03-25T19:53:14.897101Z",
     "iopub.status.busy": "2025-03-25T19:53:14.896372Z",
     "iopub.status.idle": "2025-03-25T19:53:14.909424Z",
     "shell.execute_reply": "2025-03-25T19:53:14.907914Z",
     "shell.execute_reply.started": "2025-03-25T19:53:14.897041Z"
    }
   },
   "outputs": [],
   "source": [
    "base_path = '/work/tmp'"
   ]
  },
  {
   "cell_type": "markdown",
   "id": "be1e13bc-f58b-43a7-b0ba-db423409b1f3",
   "metadata": {},
   "source": [
    "# Stage 1, steps 1 and 2: \n",
    "`Run once`"
   ]
  },
  {
   "cell_type": "code",
   "execution_count": null,
   "id": "896404e0-b8b4-4d7d-9d4c-831606f5f3f2",
   "metadata": {},
   "outputs": [],
   "source": [
    "import urllib.request\n",
    "import zipfile\n",
    "import os\n",
    "from pathlib import Path\n",
    "\n",
    "url = \"https://archive.ics.uci.edu/static/public/228/sms+spam+collection.zip\"\n",
    "zip_path = \"sms_spam_collection.zip\"\n",
    "extracted_path = f\"{base_path}/sms_spam_collection\"\n",
    "data_file_path = Path(extracted_path) / \"SMSSpamCollection.tsv\"\n",
    "\n",
    "\n",
    "def download_and_unzip_spam_data(\n",
    "        url, zip_path, extracted_path, data_file_path):\n",
    "    if data_file_path.exists():\n",
    "        print(f\"{data_file_path} already exists. Skipping download \"\n",
    "              \"and extraction.\"\n",
    "        )\n",
    "        return\n",
    "\n",
    "    with urllib.request.urlopen(url) as response:    #1\n",
    "        with open(zip_path, \"wb\") as out_file:\n",
    "            out_file.write(response.read())\n",
    "\n",
    "    with zipfile.ZipFile(zip_path, \"r\") as zip_ref:    #2\n",
    "        zip_ref.extractall(extracted_path)\n",
    "\n",
    "    original_file_path = Path(extracted_path) / \"SMSSpamCollection\"\n",
    "    os.rename(original_file_path, data_file_path)               #3\n",
    "    print(f\"File downloaded and saved as {data_file_path}\")\n",
    "\n",
    "download_and_unzip_spam_data(url, zip_path, extracted_path, data_file_path)"
   ]
  },
  {
   "cell_type": "code",
   "execution_count": null,
   "id": "de628de4-9c2e-43c3-88ed-1cbeb8f69b74",
   "metadata": {},
   "outputs": [],
   "source": [
    "import pandas as pd\n",
    "df = pd.read_csv(data_file_path, sep=\"\\t\", header=None, names=[\"Label\", \"Text\"])\n",
    "df"
   ]
  },
  {
   "cell_type": "code",
   "execution_count": null,
   "id": "0da50f93-63db-4ff2-a20e-44c7f2c89608",
   "metadata": {},
   "outputs": [],
   "source": [
    "print(df[\"Label\"].value_counts())"
   ]
  },
  {
   "cell_type": "markdown",
   "id": "079b8b54-d333-46cb-9ab4-a69207fd6c4e",
   "metadata": {},
   "source": [
    "### Undersampling:"
   ]
  },
  {
   "cell_type": "code",
   "execution_count": null,
   "id": "c5197f8f-86da-49b1-9ef2-720217c330d8",
   "metadata": {},
   "outputs": [],
   "source": [
    "def create_balanced_dataset(df):\n",
    "    num_spam = df[df[\"Label\"] == \"spam\"].shape[0]     #1\n",
    "    ham_subset = df[df[\"Label\"] == \"ham\"].sample(\n",
    "        num_spam, random_state=123\n",
    "    )                                         #2\n",
    "    balanced_df = pd.concat([\n",
    "        ham_subset, df[df[\"Label\"] == \"spam\"]\n",
    "    ])                               #3\n",
    "    return balanced_df\n",
    "\n",
    "balanced_df = create_balanced_dataset(df)\n",
    "print(balanced_df[\"Label\"].value_counts())"
   ]
  },
  {
   "cell_type": "code",
   "execution_count": null,
   "id": "ccf939b2-114d-4537-97f7-5cad14d0642c",
   "metadata": {},
   "outputs": [],
   "source": [
    "balanced_df[\"Label\"] = balanced_df[\"Label\"].map({\"ham\": 0, \"spam\": 1})"
   ]
  },
  {
   "cell_type": "code",
   "execution_count": null,
   "id": "6f7be240-f4f2-4606-9aa1-564e81fadcb0",
   "metadata": {},
   "outputs": [],
   "source": [
    "def random_split(df, train_frac, validation_frac):\n",
    "    df = df.sample(frac=1, random_state=123).reset_index(drop=True)               #1\n",
    "    train_end = int(len(df) * train_frac)          #2\n",
    "    validation_end = train_end + int(len(df) * validation_frac)\n",
    "    train_df = df[:train_end]\n",
    "    validation_df = df[train_end:validation_end]\n",
    "    test_df = df[validation_end:]\n",
    "    return train_df, validation_df, test_df\n",
    "\n",
    "train_df, validation_df, test_df = random_split(balanced_df, 0.7, 0.1)"
   ]
  },
  {
   "cell_type": "code",
   "execution_count": null,
   "id": "23a3caa8-d8d9-4344-9b8b-36ce3271d0fe",
   "metadata": {},
   "outputs": [],
   "source": [
    "train_df.to_csv(\"train.csv\", index=None)\n",
    "validation_df.to_csv(\"validation.csv\", index=None)\n",
    "test_df.to_csv(\"test.csv\", index=None)"
   ]
  },
  {
   "cell_type": "markdown",
   "id": "7aed7b97-713f-4124-8d68-3f7e333eba95",
   "metadata": {},
   "source": [
    "# Stage 1, steps 3:\n",
    "`Run for training`"
   ]
  },
  {
   "cell_type": "code",
   "execution_count": 2,
   "id": "01cdf359-1748-48f2-857e-2461dabb70e3",
   "metadata": {
    "execution": {
     "iopub.execute_input": "2025-03-25T19:53:19.188609Z",
     "iopub.status.busy": "2025-03-25T19:53:19.188074Z",
     "iopub.status.idle": "2025-03-25T19:53:19.378690Z",
     "shell.execute_reply": "2025-03-25T19:53:19.378195Z",
     "shell.execute_reply.started": "2025-03-25T19:53:19.188562Z"
    }
   },
   "outputs": [
    {
     "name": "stdout",
     "output_type": "stream",
     "text": [
      "[50256]\n"
     ]
    }
   ],
   "source": [
    "import tiktoken\n",
    "tokenizer = tiktoken.get_encoding(\"gpt2\")\n",
    "print(tokenizer.encode(\"<|endoftext|>\", allowed_special={\"<|endoftext|>\"}))"
   ]
  },
  {
   "cell_type": "code",
   "execution_count": 3,
   "id": "b53fbc0a-bf25-422f-81e8-5c5c53355089",
   "metadata": {
    "execution": {
     "iopub.execute_input": "2025-03-25T19:53:19.562359Z",
     "iopub.status.busy": "2025-03-25T19:53:19.561833Z",
     "iopub.status.idle": "2025-03-25T19:53:22.870980Z",
     "shell.execute_reply": "2025-03-25T19:53:22.870375Z",
     "shell.execute_reply.started": "2025-03-25T19:53:19.562316Z"
    }
   },
   "outputs": [],
   "source": [
    "import torch\n",
    "from torch.utils.data import Dataset\n",
    "import pandas as pd\n",
    "\n",
    "class SpamDataset(Dataset):\n",
    "    def __init__(self, csv_file, tokenizer, max_length=None, pad_token_id=50256):\n",
    "        max_length = min(max_length, 1024) if max_length is not None else None\n",
    "        self.data = pd.read_csv(csv_file)\n",
    "        self.encoded_texts = [tokenizer.encode(text) for text in self.data[\"Text\"]]\n",
    "        if max_length is None:\n",
    "            self.max_length = self._longest_encoded_length()\n",
    "        else:\n",
    "            self.max_length = max_length\n",
    "            self.encoded_texts = [encoded_text[:self.max_length] for encoded_text in self.encoded_texts]\n",
    "        self.encoded_texts = [\n",
    "            encoded_text + [pad_token_id] * (self.max_length - len(encoded_text))\n",
    "            for encoded_text in self.encoded_texts\n",
    "        ]\n",
    "\n",
    "    def __getitem__(self, index):\n",
    "        encoded = self.encoded_texts[index]\n",
    "        label = self.data.iloc[index][\"Label\"]\n",
    "        return (\n",
    "            torch.tensor(encoded, dtype=torch.long),\n",
    "            torch.tensor(label, dtype=torch.long)\n",
    "        )\n",
    "\n",
    "    def __len__(self):\n",
    "        return len(self.data)\n",
    "\n",
    "    def _longest_encoded_length(self):\n",
    "        max_length = 0\n",
    "        for encoded_text in self.encoded_texts:\n",
    "            encoded_length = len(encoded_text)\n",
    "            if encoded_length > max_length:\n",
    "                max_length = encoded_length\n",
    "        return max_length"
   ]
  },
  {
   "cell_type": "code",
   "execution_count": 4,
   "id": "6438fe39-25ab-4183-a876-0d07b4a1107b",
   "metadata": {
    "execution": {
     "iopub.execute_input": "2025-03-25T19:53:22.871793Z",
     "iopub.status.busy": "2025-03-25T19:53:22.871580Z",
     "iopub.status.idle": "2025-03-25T19:53:22.908448Z",
     "shell.execute_reply": "2025-03-25T19:53:22.907925Z",
     "shell.execute_reply.started": "2025-03-25T19:53:22.871777Z"
    }
   },
   "outputs": [],
   "source": [
    "train_dataset = SpamDataset(\n",
    "    csv_file=f\"{base_path}/train.csv\",\n",
    "    max_length=None,\n",
    "    tokenizer=tokenizer\n",
    ")"
   ]
  },
  {
   "cell_type": "code",
   "execution_count": 5,
   "id": "06ad29b9-4f77-42c6-b7f8-e020b910936e",
   "metadata": {
    "execution": {
     "iopub.execute_input": "2025-03-25T19:53:22.908855Z",
     "iopub.status.busy": "2025-03-25T19:53:22.908776Z",
     "iopub.status.idle": "2025-03-25T19:53:22.910902Z",
     "shell.execute_reply": "2025-03-25T19:53:22.910585Z",
     "shell.execute_reply.started": "2025-03-25T19:53:22.908848Z"
    }
   },
   "outputs": [
    {
     "name": "stdout",
     "output_type": "stream",
     "text": [
      "120\n"
     ]
    }
   ],
   "source": [
    "print(train_dataset.max_length)"
   ]
  },
  {
   "cell_type": "code",
   "execution_count": 6,
   "id": "78c05115-aa84-4faf-90e4-8d33815043f0",
   "metadata": {
    "execution": {
     "iopub.execute_input": "2025-03-25T19:53:23.537210Z",
     "iopub.status.busy": "2025-03-25T19:53:23.536668Z",
     "iopub.status.idle": "2025-03-25T19:53:23.564472Z",
     "shell.execute_reply": "2025-03-25T19:53:23.563879Z",
     "shell.execute_reply.started": "2025-03-25T19:53:23.537167Z"
    }
   },
   "outputs": [],
   "source": [
    "val_dataset = SpamDataset(\n",
    "    csv_file=f\"{base_path}/validation.csv\",\n",
    "    max_length=train_dataset.max_length,\n",
    "    tokenizer=tokenizer\n",
    ")\n",
    "test_dataset = SpamDataset(\n",
    "    csv_file=f\"{base_path}/test.csv\",\n",
    "    max_length=train_dataset.max_length,\n",
    "    tokenizer=tokenizer\n",
    ")"
   ]
  },
  {
   "cell_type": "code",
   "execution_count": 7,
   "id": "4fb497e4-b865-4a75-9a9e-1696f94413d0",
   "metadata": {
    "execution": {
     "iopub.execute_input": "2025-03-25T19:53:24.064220Z",
     "iopub.status.busy": "2025-03-25T19:53:24.063694Z",
     "iopub.status.idle": "2025-03-25T19:53:24.086775Z",
     "shell.execute_reply": "2025-03-25T19:53:24.085020Z",
     "shell.execute_reply.started": "2025-03-25T19:53:24.064179Z"
    }
   },
   "outputs": [],
   "source": [
    "from torch.utils.data import DataLoader\n",
    "\n",
    "num_workers = 0      #1\n",
    "batch_size = 8\n",
    "torch.manual_seed(123)\n",
    "\n",
    "train_loader = DataLoader(\n",
    "    dataset=train_dataset,\n",
    "    batch_size=batch_size,\n",
    "    shuffle=True,\n",
    "    num_workers=num_workers,\n",
    "    drop_last=True,\n",
    ")\n",
    "val_loader = DataLoader(\n",
    "    dataset=val_dataset,\n",
    "    batch_size=batch_size,\n",
    "    num_workers=num_workers,\n",
    "    drop_last=False,\n",
    ")\n",
    "test_loader = DataLoader(\n",
    "    dataset=test_dataset,\n",
    "    batch_size=batch_size,\n",
    "    num_workers=num_workers,\n",
    "    drop_last=False,\n",
    ")"
   ]
  },
  {
   "cell_type": "code",
   "execution_count": 8,
   "id": "479c886c-ceb4-4de3-8ccd-b55224ed1108",
   "metadata": {
    "execution": {
     "iopub.execute_input": "2025-03-25T19:53:24.920879Z",
     "iopub.status.busy": "2025-03-25T19:53:24.920342Z",
     "iopub.status.idle": "2025-03-25T19:53:25.023444Z",
     "shell.execute_reply": "2025-03-25T19:53:25.023206Z",
     "shell.execute_reply.started": "2025-03-25T19:53:24.920833Z"
    }
   },
   "outputs": [
    {
     "name": "stdout",
     "output_type": "stream",
     "text": [
      "Input batch dimensions: torch.Size([8, 120])\n",
      "Label batch dimensions torch.Size([8])\n"
     ]
    }
   ],
   "source": [
    "for input_batch, target_batch in train_loader:\n",
    "    pass\n",
    "print(\"Input batch dimensions:\", input_batch.shape)\n",
    "print(\"Label batch dimensions\", target_batch.shape)"
   ]
  },
  {
   "cell_type": "code",
   "execution_count": 9,
   "id": "118fae53-ac66-4e14-9dc3-78f16c69abfe",
   "metadata": {
    "execution": {
     "iopub.execute_input": "2025-03-25T19:53:25.458122Z",
     "iopub.status.busy": "2025-03-25T19:53:25.457611Z",
     "iopub.status.idle": "2025-03-25T19:53:25.464354Z",
     "shell.execute_reply": "2025-03-25T19:53:25.462805Z",
     "shell.execute_reply.started": "2025-03-25T19:53:25.458081Z"
    }
   },
   "outputs": [
    {
     "name": "stdout",
     "output_type": "stream",
     "text": [
      "130 training batches\n",
      "19 validation batches\n",
      "38 test batches\n"
     ]
    }
   ],
   "source": [
    "print(f\"{len(train_loader)} training batches\")\n",
    "print(f\"{len(val_loader)} validation batches\")\n",
    "print(f\"{len(test_loader)} test batches\")"
   ]
  },
  {
   "cell_type": "markdown",
   "id": "0896e3ec-6738-458e-9dad-e9e600fdbab5",
   "metadata": {},
   "source": [
    "# Stage 2, steps 4 and 5:\n",
    "`Run for training`"
   ]
  },
  {
   "cell_type": "code",
   "execution_count": 10,
   "id": "8015a4e4-6fc6-484f-8339-b8e60a69dc4d",
   "metadata": {
    "execution": {
     "iopub.execute_input": "2025-03-25T19:53:27.263413Z",
     "iopub.status.busy": "2025-03-25T19:53:27.262888Z",
     "iopub.status.idle": "2025-03-25T19:53:27.271263Z",
     "shell.execute_reply": "2025-03-25T19:53:27.269204Z",
     "shell.execute_reply.started": "2025-03-25T19:53:27.263372Z"
    }
   },
   "outputs": [],
   "source": [
    "CHOOSE_MODEL = \"gpt2-small (124M)\"\n",
    "INPUT_PROMPT = \"Every effort moves\"\n",
    "BASE_CONFIG = {\n",
    "    \"vocab_size\": 50257,          #1\n",
    "    \"context_length\": 1024,       #2\n",
    "    \"drop_rate\": 0.0,             #3\n",
    "    \"qkv_bias\": True              #4\n",
    "}\n",
    "model_configs = {\n",
    "    \"gpt2-small (124M)\": {\"emb_dim\": 768, \"n_layers\": 12, \"n_heads\": 12},\n",
    "    \"gpt2-medium (355M)\": {\"emb_dim\": 1024, \"n_layers\": 24, \"n_heads\": 16},\n",
    "    \"gpt2-large (774M)\": {\"emb_dim\": 1280, \"n_layers\": 36, \"n_heads\": 20},\n",
    "    \"gpt2-xl (1558M)\": {\"emb_dim\": 1600, \"n_layers\": 48, \"n_heads\": 25},\n",
    "}\n",
    "BASE_CONFIG.update(model_configs[CHOOSE_MODEL])"
   ]
  },
  {
   "cell_type": "code",
   "execution_count": 11,
   "id": "0863260b-6504-4b02-8966-7eb9cfc7fff5",
   "metadata": {
    "execution": {
     "iopub.execute_input": "2025-03-25T19:53:27.721480Z",
     "iopub.status.busy": "2025-03-25T19:53:27.720964Z",
     "iopub.status.idle": "2025-03-25T19:53:42.927556Z",
     "shell.execute_reply": "2025-03-25T19:53:42.926950Z",
     "shell.execute_reply.started": "2025-03-25T19:53:27.721442Z"
    }
   },
   "outputs": [
    {
     "name": "stderr",
     "output_type": "stream",
     "text": [
      "2025-03-25 19:53:28.901553: I tensorflow/core/util/port.cc:153] oneDNN custom operations are on. You may see slightly different numerical results due to floating-point round-off errors from different computation orders. To turn them off, set the environment variable `TF_ENABLE_ONEDNN_OPTS=0`.\n",
      "2025-03-25 19:53:29.388123: E external/local_xla/xla/stream_executor/cuda/cuda_fft.cc:467] Unable to register cuFFT factory: Attempting to register factory for plugin cuFFT when one has already been registered\n",
      "WARNING: All log messages before absl::InitializeLog() is called are written to STDERR\n",
      "E0000 00:00:1742932409.561811     107 cuda_dnn.cc:8579] Unable to register cuDNN factory: Attempting to register factory for plugin cuDNN when one has already been registered\n",
      "E0000 00:00:1742932409.612126     107 cuda_blas.cc:1407] Unable to register cuBLAS factory: Attempting to register factory for plugin cuBLAS when one has already been registered\n",
      "W0000 00:00:1742932410.007976     107 computation_placer.cc:177] computation placer already registered. Please check linkage and avoid linking the same target more than once.\n",
      "W0000 00:00:1742932410.008024     107 computation_placer.cc:177] computation placer already registered. Please check linkage and avoid linking the same target more than once.\n",
      "W0000 00:00:1742932410.008032     107 computation_placer.cc:177] computation placer already registered. Please check linkage and avoid linking the same target more than once.\n",
      "W0000 00:00:1742932410.008036     107 computation_placer.cc:177] computation placer already registered. Please check linkage and avoid linking the same target more than once.\n",
      "2025-03-25 19:53:30.057907: I tensorflow/core/platform/cpu_feature_guard.cc:210] This TensorFlow binary is optimized to use available CPU instructions in performance-critical operations.\n",
      "To enable the following instructions: AVX2 AVX_VNNI FMA, in other operations, rebuild TensorFlow with the appropriate compiler flags.\n"
     ]
    },
    {
     "name": "stdout",
     "output_type": "stream",
     "text": [
      "File already exists and is up-to-date: /work/tmp/gpt2/124M/checkpoint\n",
      "File already exists and is up-to-date: /work/tmp/gpt2/124M/encoder.json\n",
      "File already exists and is up-to-date: /work/tmp/gpt2/124M/hparams.json\n",
      "File already exists and is up-to-date: /work/tmp/gpt2/124M/model.ckpt.data-00000-of-00001\n",
      "File already exists and is up-to-date: /work/tmp/gpt2/124M/model.ckpt.index\n",
      "File already exists and is up-to-date: /work/tmp/gpt2/124M/model.ckpt.meta\n",
      "File already exists and is up-to-date: /work/tmp/gpt2/124M/vocab.bpe\n"
     ]
    },
    {
     "data": {
      "text/plain": [
       "GPTModel(\n",
       "  (tok_emb): Embedding(50257, 768)\n",
       "  (pos_emb): Embedding(1024, 768)\n",
       "  (drop_emb): Dropout(p=0.0, inplace=False)\n",
       "  (trf_blocks): Sequential(\n",
       "    (0): TransformerBlock(\n",
       "      (att): MultiHeadAttention(\n",
       "        (W_query): Linear(in_features=768, out_features=768, bias=True)\n",
       "        (W_key): Linear(in_features=768, out_features=768, bias=True)\n",
       "        (W_value): Linear(in_features=768, out_features=768, bias=True)\n",
       "        (out_proj): Linear(in_features=768, out_features=768, bias=True)\n",
       "        (dropout): Dropout(p=0.0, inplace=False)\n",
       "      )\n",
       "      (ff): FeedForward(\n",
       "        (layers): Sequential(\n",
       "          (0): Linear(in_features=768, out_features=3072, bias=True)\n",
       "          (1): GELU(approximate='tanh')\n",
       "          (2): Linear(in_features=3072, out_features=768, bias=True)\n",
       "        )\n",
       "      )\n",
       "      (norm1): LayerNorm()\n",
       "      (norm2): LayerNorm()\n",
       "      (drop_shortcut): Dropout(p=0.0, inplace=False)\n",
       "    )\n",
       "    (1): TransformerBlock(\n",
       "      (att): MultiHeadAttention(\n",
       "        (W_query): Linear(in_features=768, out_features=768, bias=True)\n",
       "        (W_key): Linear(in_features=768, out_features=768, bias=True)\n",
       "        (W_value): Linear(in_features=768, out_features=768, bias=True)\n",
       "        (out_proj): Linear(in_features=768, out_features=768, bias=True)\n",
       "        (dropout): Dropout(p=0.0, inplace=False)\n",
       "      )\n",
       "      (ff): FeedForward(\n",
       "        (layers): Sequential(\n",
       "          (0): Linear(in_features=768, out_features=3072, bias=True)\n",
       "          (1): GELU(approximate='tanh')\n",
       "          (2): Linear(in_features=3072, out_features=768, bias=True)\n",
       "        )\n",
       "      )\n",
       "      (norm1): LayerNorm()\n",
       "      (norm2): LayerNorm()\n",
       "      (drop_shortcut): Dropout(p=0.0, inplace=False)\n",
       "    )\n",
       "    (2): TransformerBlock(\n",
       "      (att): MultiHeadAttention(\n",
       "        (W_query): Linear(in_features=768, out_features=768, bias=True)\n",
       "        (W_key): Linear(in_features=768, out_features=768, bias=True)\n",
       "        (W_value): Linear(in_features=768, out_features=768, bias=True)\n",
       "        (out_proj): Linear(in_features=768, out_features=768, bias=True)\n",
       "        (dropout): Dropout(p=0.0, inplace=False)\n",
       "      )\n",
       "      (ff): FeedForward(\n",
       "        (layers): Sequential(\n",
       "          (0): Linear(in_features=768, out_features=3072, bias=True)\n",
       "          (1): GELU(approximate='tanh')\n",
       "          (2): Linear(in_features=3072, out_features=768, bias=True)\n",
       "        )\n",
       "      )\n",
       "      (norm1): LayerNorm()\n",
       "      (norm2): LayerNorm()\n",
       "      (drop_shortcut): Dropout(p=0.0, inplace=False)\n",
       "    )\n",
       "    (3): TransformerBlock(\n",
       "      (att): MultiHeadAttention(\n",
       "        (W_query): Linear(in_features=768, out_features=768, bias=True)\n",
       "        (W_key): Linear(in_features=768, out_features=768, bias=True)\n",
       "        (W_value): Linear(in_features=768, out_features=768, bias=True)\n",
       "        (out_proj): Linear(in_features=768, out_features=768, bias=True)\n",
       "        (dropout): Dropout(p=0.0, inplace=False)\n",
       "      )\n",
       "      (ff): FeedForward(\n",
       "        (layers): Sequential(\n",
       "          (0): Linear(in_features=768, out_features=3072, bias=True)\n",
       "          (1): GELU(approximate='tanh')\n",
       "          (2): Linear(in_features=3072, out_features=768, bias=True)\n",
       "        )\n",
       "      )\n",
       "      (norm1): LayerNorm()\n",
       "      (norm2): LayerNorm()\n",
       "      (drop_shortcut): Dropout(p=0.0, inplace=False)\n",
       "    )\n",
       "    (4): TransformerBlock(\n",
       "      (att): MultiHeadAttention(\n",
       "        (W_query): Linear(in_features=768, out_features=768, bias=True)\n",
       "        (W_key): Linear(in_features=768, out_features=768, bias=True)\n",
       "        (W_value): Linear(in_features=768, out_features=768, bias=True)\n",
       "        (out_proj): Linear(in_features=768, out_features=768, bias=True)\n",
       "        (dropout): Dropout(p=0.0, inplace=False)\n",
       "      )\n",
       "      (ff): FeedForward(\n",
       "        (layers): Sequential(\n",
       "          (0): Linear(in_features=768, out_features=3072, bias=True)\n",
       "          (1): GELU(approximate='tanh')\n",
       "          (2): Linear(in_features=3072, out_features=768, bias=True)\n",
       "        )\n",
       "      )\n",
       "      (norm1): LayerNorm()\n",
       "      (norm2): LayerNorm()\n",
       "      (drop_shortcut): Dropout(p=0.0, inplace=False)\n",
       "    )\n",
       "    (5): TransformerBlock(\n",
       "      (att): MultiHeadAttention(\n",
       "        (W_query): Linear(in_features=768, out_features=768, bias=True)\n",
       "        (W_key): Linear(in_features=768, out_features=768, bias=True)\n",
       "        (W_value): Linear(in_features=768, out_features=768, bias=True)\n",
       "        (out_proj): Linear(in_features=768, out_features=768, bias=True)\n",
       "        (dropout): Dropout(p=0.0, inplace=False)\n",
       "      )\n",
       "      (ff): FeedForward(\n",
       "        (layers): Sequential(\n",
       "          (0): Linear(in_features=768, out_features=3072, bias=True)\n",
       "          (1): GELU(approximate='tanh')\n",
       "          (2): Linear(in_features=3072, out_features=768, bias=True)\n",
       "        )\n",
       "      )\n",
       "      (norm1): LayerNorm()\n",
       "      (norm2): LayerNorm()\n",
       "      (drop_shortcut): Dropout(p=0.0, inplace=False)\n",
       "    )\n",
       "    (6): TransformerBlock(\n",
       "      (att): MultiHeadAttention(\n",
       "        (W_query): Linear(in_features=768, out_features=768, bias=True)\n",
       "        (W_key): Linear(in_features=768, out_features=768, bias=True)\n",
       "        (W_value): Linear(in_features=768, out_features=768, bias=True)\n",
       "        (out_proj): Linear(in_features=768, out_features=768, bias=True)\n",
       "        (dropout): Dropout(p=0.0, inplace=False)\n",
       "      )\n",
       "      (ff): FeedForward(\n",
       "        (layers): Sequential(\n",
       "          (0): Linear(in_features=768, out_features=3072, bias=True)\n",
       "          (1): GELU(approximate='tanh')\n",
       "          (2): Linear(in_features=3072, out_features=768, bias=True)\n",
       "        )\n",
       "      )\n",
       "      (norm1): LayerNorm()\n",
       "      (norm2): LayerNorm()\n",
       "      (drop_shortcut): Dropout(p=0.0, inplace=False)\n",
       "    )\n",
       "    (7): TransformerBlock(\n",
       "      (att): MultiHeadAttention(\n",
       "        (W_query): Linear(in_features=768, out_features=768, bias=True)\n",
       "        (W_key): Linear(in_features=768, out_features=768, bias=True)\n",
       "        (W_value): Linear(in_features=768, out_features=768, bias=True)\n",
       "        (out_proj): Linear(in_features=768, out_features=768, bias=True)\n",
       "        (dropout): Dropout(p=0.0, inplace=False)\n",
       "      )\n",
       "      (ff): FeedForward(\n",
       "        (layers): Sequential(\n",
       "          (0): Linear(in_features=768, out_features=3072, bias=True)\n",
       "          (1): GELU(approximate='tanh')\n",
       "          (2): Linear(in_features=3072, out_features=768, bias=True)\n",
       "        )\n",
       "      )\n",
       "      (norm1): LayerNorm()\n",
       "      (norm2): LayerNorm()\n",
       "      (drop_shortcut): Dropout(p=0.0, inplace=False)\n",
       "    )\n",
       "    (8): TransformerBlock(\n",
       "      (att): MultiHeadAttention(\n",
       "        (W_query): Linear(in_features=768, out_features=768, bias=True)\n",
       "        (W_key): Linear(in_features=768, out_features=768, bias=True)\n",
       "        (W_value): Linear(in_features=768, out_features=768, bias=True)\n",
       "        (out_proj): Linear(in_features=768, out_features=768, bias=True)\n",
       "        (dropout): Dropout(p=0.0, inplace=False)\n",
       "      )\n",
       "      (ff): FeedForward(\n",
       "        (layers): Sequential(\n",
       "          (0): Linear(in_features=768, out_features=3072, bias=True)\n",
       "          (1): GELU(approximate='tanh')\n",
       "          (2): Linear(in_features=3072, out_features=768, bias=True)\n",
       "        )\n",
       "      )\n",
       "      (norm1): LayerNorm()\n",
       "      (norm2): LayerNorm()\n",
       "      (drop_shortcut): Dropout(p=0.0, inplace=False)\n",
       "    )\n",
       "    (9): TransformerBlock(\n",
       "      (att): MultiHeadAttention(\n",
       "        (W_query): Linear(in_features=768, out_features=768, bias=True)\n",
       "        (W_key): Linear(in_features=768, out_features=768, bias=True)\n",
       "        (W_value): Linear(in_features=768, out_features=768, bias=True)\n",
       "        (out_proj): Linear(in_features=768, out_features=768, bias=True)\n",
       "        (dropout): Dropout(p=0.0, inplace=False)\n",
       "      )\n",
       "      (ff): FeedForward(\n",
       "        (layers): Sequential(\n",
       "          (0): Linear(in_features=768, out_features=3072, bias=True)\n",
       "          (1): GELU(approximate='tanh')\n",
       "          (2): Linear(in_features=3072, out_features=768, bias=True)\n",
       "        )\n",
       "      )\n",
       "      (norm1): LayerNorm()\n",
       "      (norm2): LayerNorm()\n",
       "      (drop_shortcut): Dropout(p=0.0, inplace=False)\n",
       "    )\n",
       "    (10): TransformerBlock(\n",
       "      (att): MultiHeadAttention(\n",
       "        (W_query): Linear(in_features=768, out_features=768, bias=True)\n",
       "        (W_key): Linear(in_features=768, out_features=768, bias=True)\n",
       "        (W_value): Linear(in_features=768, out_features=768, bias=True)\n",
       "        (out_proj): Linear(in_features=768, out_features=768, bias=True)\n",
       "        (dropout): Dropout(p=0.0, inplace=False)\n",
       "      )\n",
       "      (ff): FeedForward(\n",
       "        (layers): Sequential(\n",
       "          (0): Linear(in_features=768, out_features=3072, bias=True)\n",
       "          (1): GELU(approximate='tanh')\n",
       "          (2): Linear(in_features=3072, out_features=768, bias=True)\n",
       "        )\n",
       "      )\n",
       "      (norm1): LayerNorm()\n",
       "      (norm2): LayerNorm()\n",
       "      (drop_shortcut): Dropout(p=0.0, inplace=False)\n",
       "    )\n",
       "    (11): TransformerBlock(\n",
       "      (att): MultiHeadAttention(\n",
       "        (W_query): Linear(in_features=768, out_features=768, bias=True)\n",
       "        (W_key): Linear(in_features=768, out_features=768, bias=True)\n",
       "        (W_value): Linear(in_features=768, out_features=768, bias=True)\n",
       "        (out_proj): Linear(in_features=768, out_features=768, bias=True)\n",
       "        (dropout): Dropout(p=0.0, inplace=False)\n",
       "      )\n",
       "      (ff): FeedForward(\n",
       "        (layers): Sequential(\n",
       "          (0): Linear(in_features=768, out_features=3072, bias=True)\n",
       "          (1): GELU(approximate='tanh')\n",
       "          (2): Linear(in_features=3072, out_features=768, bias=True)\n",
       "        )\n",
       "      )\n",
       "      (norm1): LayerNorm()\n",
       "      (norm2): LayerNorm()\n",
       "      (drop_shortcut): Dropout(p=0.0, inplace=False)\n",
       "    )\n",
       "  )\n",
       "  (final_norm): LayerNorm()\n",
       "  (out_head): Linear(in_features=768, out_features=50257, bias=False)\n",
       ")"
      ]
     },
     "execution_count": 11,
     "metadata": {},
     "output_type": "execute_result"
    }
   ],
   "source": [
    "from gpt_download import download_and_load_gpt2\n",
    "from chap4 import GPTModel\n",
    "from chap5 import load_weights_into_gpt\n",
    "\n",
    "model_size = CHOOSE_MODEL.split(\" \")[-1].lstrip(\"(\").rstrip(\")\")\n",
    "settings, params = download_and_load_gpt2(\n",
    "    model_size=model_size, models_dir=f\"{base_path}/gpt2\"\n",
    ")\n",
    "\n",
    "model = GPTModel(BASE_CONFIG)\n",
    "load_weights_into_gpt(model, params)\n",
    "model.eval()"
   ]
  },
  {
   "cell_type": "code",
   "execution_count": 12,
   "id": "0f44674a-ab97-4320-a3d3-75b523af10af",
   "metadata": {
    "execution": {
     "iopub.execute_input": "2025-03-25T19:53:42.928614Z",
     "iopub.status.busy": "2025-03-25T19:53:42.928294Z",
     "iopub.status.idle": "2025-03-25T19:53:43.524557Z",
     "shell.execute_reply": "2025-03-25T19:53:43.524214Z",
     "shell.execute_reply.started": "2025-03-25T19:53:42.928599Z"
    }
   },
   "outputs": [
    {
     "name": "stdout",
     "output_type": "stream",
     "text": [
      "Every effort moves you forward.\n",
      "\n",
      "The first step is to understand the importance of your work\n"
     ]
    }
   ],
   "source": [
    "from chap4 import generate_text_simple\n",
    "from chap5 import text_to_token_ids, token_ids_to_text\n",
    "\n",
    "text_1 = \"Every effort moves you\"\n",
    "token_ids = generate_text_simple(\n",
    "    model=model,\n",
    "    idx=text_to_token_ids(text_1, tokenizer),\n",
    "    max_new_tokens=15,\n",
    "    context_size=BASE_CONFIG[\"context_length\"]\n",
    ")\n",
    "print(token_ids_to_text(token_ids, tokenizer))"
   ]
  },
  {
   "cell_type": "code",
   "execution_count": 13,
   "id": "96d8d257-133c-43d1-b60d-539d40369c04",
   "metadata": {
    "execution": {
     "iopub.execute_input": "2025-03-25T19:53:43.525066Z",
     "iopub.status.busy": "2025-03-25T19:53:43.524932Z",
     "iopub.status.idle": "2025-03-25T19:53:44.963028Z",
     "shell.execute_reply": "2025-03-25T19:53:44.962477Z",
     "shell.execute_reply.started": "2025-03-25T19:53:43.525055Z"
    }
   },
   "outputs": [
    {
     "name": "stdout",
     "output_type": "stream",
     "text": [
      "Is the following text 'spam'? Answer with 'yes' or 'no': 'You are a winner you have been specially selected to receive $1000 cash or a $2000 award.'\n",
      "\n",
      "The following text 'spam'? Answer with 'yes' or 'no': 'You are a winner\n"
     ]
    }
   ],
   "source": [
    "text_2 = (\n",
    "    \"Is the following text 'spam'? Answer with 'yes' or 'no':\"\n",
    "    \" 'You are a winner you have been specially\"\n",
    "    \" selected to receive $1000 cash or a $2000 award.'\"\n",
    ")\n",
    "token_ids = generate_text_simple(\n",
    "    model=model,\n",
    "    idx=text_to_token_ids(text_2, tokenizer),\n",
    "    max_new_tokens=23,\n",
    "    context_size=BASE_CONFIG[\"context_length\"]\n",
    ")\n",
    "print(token_ids_to_text(token_ids, tokenizer))"
   ]
  },
  {
   "cell_type": "code",
   "execution_count": 14,
   "id": "f8b64ade-3dbe-4fa6-9826-db4f06ca66e8",
   "metadata": {
    "execution": {
     "iopub.execute_input": "2025-03-25T19:53:44.964361Z",
     "iopub.status.busy": "2025-03-25T19:53:44.963915Z",
     "iopub.status.idle": "2025-03-25T19:53:45.483016Z",
     "shell.execute_reply": "2025-03-25T19:53:45.482546Z",
     "shell.execute_reply.started": "2025-03-25T19:53:44.964347Z"
    }
   },
   "outputs": [],
   "source": [
    "device = torch.device(\"cuda\" if torch.cuda.is_available() else \"cpu\")\n",
    "model = model.to(device)"
   ]
  },
  {
   "cell_type": "code",
   "execution_count": 15,
   "id": "a1018e1b-8e5e-4da0-94d5-d00ff8100487",
   "metadata": {
    "execution": {
     "iopub.execute_input": "2025-03-25T19:53:45.483362Z",
     "iopub.status.busy": "2025-03-25T19:53:45.483254Z",
     "iopub.status.idle": "2025-03-25T19:53:46.538986Z",
     "shell.execute_reply": "2025-03-25T19:53:46.538622Z",
     "shell.execute_reply.started": "2025-03-25T19:53:45.483350Z"
    }
   },
   "outputs": [
    {
     "name": "stdout",
     "output_type": "stream",
     "text": [
      "Is the following text 'spam'? Answer with 'yes' or 'no': 'You are a winner you have been specially selected to receive $1000 cash or a $2000 award.'\n",
      "\n",
      "The following text 'spam'? Answer with 'yes' or 'no': 'You are a winner\n"
     ]
    }
   ],
   "source": [
    "text_2 = (\n",
    "    \"Is the following text 'spam'? Answer with 'yes' or 'no':\"\n",
    "    \" 'You are a winner you have been specially\"\n",
    "    \" selected to receive $1000 cash or a $2000 award.'\"\n",
    ")\n",
    "token_ids = generate_text_simple(\n",
    "    model=model,\n",
    "    idx=text_to_token_ids(text_2, tokenizer).to(device),\n",
    "    max_new_tokens=23,\n",
    "    context_size=BASE_CONFIG[\"context_length\"]\n",
    ")\n",
    "print(token_ids_to_text(token_ids, tokenizer))"
   ]
  },
  {
   "cell_type": "markdown",
   "id": "e8cbaa1e-d6b5-4b1e-b4dc-b064f33f43ac",
   "metadata": {
    "execution": {
     "iopub.execute_input": "2025-03-23T14:43:21.365051Z",
     "iopub.status.busy": "2025-03-23T14:43:21.364544Z",
     "iopub.status.idle": "2025-03-23T14:43:21.368322Z",
     "shell.execute_reply": "2025-03-23T14:43:21.367286Z",
     "shell.execute_reply.started": "2025-03-23T14:43:21.365009Z"
    }
   },
   "source": [
    "### Adding a classification head"
   ]
  },
  {
   "cell_type": "code",
   "execution_count": 16,
   "id": "52cd7830-a75a-4b50-bbda-05eeaf4b4d77",
   "metadata": {
    "execution": {
     "iopub.execute_input": "2025-03-25T20:06:00.130843Z",
     "iopub.status.busy": "2025-03-25T20:06:00.130338Z",
     "iopub.status.idle": "2025-03-25T20:06:00.136127Z",
     "shell.execute_reply": "2025-03-25T20:06:00.135851Z",
     "shell.execute_reply.started": "2025-03-25T20:06:00.130804Z"
    }
   },
   "outputs": [],
   "source": [
    "for param in model.parameters():\n",
    "    param.requires_grad = False"
   ]
  },
  {
   "cell_type": "code",
   "execution_count": 17,
   "id": "c6210349-89a3-498e-9014-0e980ec9817a",
   "metadata": {
    "execution": {
     "iopub.execute_input": "2025-03-25T20:06:27.044662Z",
     "iopub.status.busy": "2025-03-25T20:06:27.043380Z",
     "iopub.status.idle": "2025-03-25T20:06:27.053299Z",
     "shell.execute_reply": "2025-03-25T20:06:27.051899Z",
     "shell.execute_reply.started": "2025-03-25T20:06:27.044608Z"
    }
   },
   "outputs": [
    {
     "data": {
      "text/plain": [
       "Linear(in_features=768, out_features=50257, bias=False)"
      ]
     },
     "execution_count": 17,
     "metadata": {},
     "output_type": "execute_result"
    }
   ],
   "source": [
    "model.out_head"
   ]
  },
  {
   "cell_type": "code",
   "execution_count": 18,
   "id": "9ec724a6-6a46-4aea-bc8b-9cdc10e3dde3",
   "metadata": {
    "execution": {
     "iopub.execute_input": "2025-03-25T20:06:31.903287Z",
     "iopub.status.busy": "2025-03-25T20:06:31.903099Z",
     "iopub.status.idle": "2025-03-25T20:06:31.907063Z",
     "shell.execute_reply": "2025-03-25T20:06:31.906721Z",
     "shell.execute_reply.started": "2025-03-25T20:06:31.903279Z"
    }
   },
   "outputs": [
    {
     "data": {
      "text/plain": [
       "Linear(in_features=768, out_features=2, bias=True)"
      ]
     },
     "execution_count": 18,
     "metadata": {},
     "output_type": "execute_result"
    }
   ],
   "source": [
    "torch.manual_seed(123)\n",
    "num_classes = 2\n",
    "model.out_head = torch.nn.Linear(\n",
    "    in_features=BASE_CONFIG[\"emb_dim\"], \n",
    "    out_features=num_classes\n",
    ")\n",
    "model.out_head"
   ]
  },
  {
   "cell_type": "code",
   "execution_count": 20,
   "id": "b90a01cd-e6dd-4ba9-b4e4-af8d906ea38a",
   "metadata": {
    "execution": {
     "iopub.execute_input": "2025-03-25T20:09:40.277907Z",
     "iopub.status.busy": "2025-03-25T20:09:40.277392Z",
     "iopub.status.idle": "2025-03-25T20:09:40.286038Z",
     "shell.execute_reply": "2025-03-25T20:09:40.284690Z",
     "shell.execute_reply.started": "2025-03-25T20:09:40.277869Z"
    }
   },
   "outputs": [],
   "source": [
    "for param in model.trf_blocks[-1].parameters():\n",
    "    param.requires_grad = True\n",
    "for param in model.final_norm.parameters():\n",
    "    param.requires_grad = True"
   ]
  },
  {
   "cell_type": "code",
   "execution_count": 21,
   "id": "347b3011-707d-4c10-a6ef-e702c9ae305d",
   "metadata": {
    "execution": {
     "iopub.execute_input": "2025-03-25T20:10:26.601666Z",
     "iopub.status.busy": "2025-03-25T20:10:26.601167Z",
     "iopub.status.idle": "2025-03-25T20:10:26.618468Z",
     "shell.execute_reply": "2025-03-25T20:10:26.616818Z",
     "shell.execute_reply.started": "2025-03-25T20:10:26.601626Z"
    }
   },
   "outputs": [
    {
     "name": "stdout",
     "output_type": "stream",
     "text": [
      "Inputs: tensor([[5211,  345,  423,  640]])\n",
      "Inputs dimensions: torch.Size([1, 4])\n"
     ]
    }
   ],
   "source": [
    "inputs = tokenizer.encode(\"Do you have time\")\n",
    "inputs = torch.tensor(inputs).unsqueeze(0)\n",
    "print(\"Inputs:\", inputs)\n",
    "print(\"Inputs dimensions:\", inputs.shape)    #1"
   ]
  },
  {
   "cell_type": "code",
   "execution_count": 24,
   "id": "99ed069b-ba80-4427-95d2-1300f410445b",
   "metadata": {
    "execution": {
     "iopub.execute_input": "2025-03-25T20:11:37.779359Z",
     "iopub.status.busy": "2025-03-25T20:11:37.778837Z",
     "iopub.status.idle": "2025-03-25T20:11:37.956337Z",
     "shell.execute_reply": "2025-03-25T20:11:37.955930Z",
     "shell.execute_reply.started": "2025-03-25T20:11:37.779321Z"
    }
   },
   "outputs": [
    {
     "name": "stdout",
     "output_type": "stream",
     "text": [
      "Outputs:\n",
      " tensor([[[-1.5854,  0.9904],\n",
      "         [-3.7235,  7.4548],\n",
      "         [-2.2661,  6.6049],\n",
      "         [-3.5983,  3.9902]]], device='cuda:0')\n",
      "Outputs dimensions: torch.Size([1, 4, 2])\n"
     ]
    }
   ],
   "source": [
    "model = model.to(device)\n",
    "with torch.no_grad():\n",
    "    outputs = model(inputs.to(device))\n",
    "print(\"Outputs:\\n\", outputs)\n",
    "print(\"Outputs dimensions:\", outputs.shape)"
   ]
  },
  {
   "cell_type": "code",
   "execution_count": 25,
   "id": "8ddd44af-92d7-4ec8-8e3c-53722b970fb3",
   "metadata": {
    "execution": {
     "iopub.execute_input": "2025-03-25T20:13:08.421346Z",
     "iopub.status.busy": "2025-03-25T20:13:08.420824Z",
     "iopub.status.idle": "2025-03-25T20:13:08.440876Z",
     "shell.execute_reply": "2025-03-25T20:13:08.440395Z",
     "shell.execute_reply.started": "2025-03-25T20:13:08.421309Z"
    }
   },
   "outputs": [
    {
     "name": "stdout",
     "output_type": "stream",
     "text": [
      "Last output token: tensor([[-3.5983,  3.9902]], device='cuda:0')\n"
     ]
    }
   ],
   "source": [
    "print(\"Last output token:\", outputs[:, -1, :])"
   ]
  },
  {
   "cell_type": "code",
   "execution_count": 26,
   "id": "f9111f26-046c-4ce3-9f45-0d21075a9fe3",
   "metadata": {
    "execution": {
     "iopub.execute_input": "2025-03-25T20:25:33.566841Z",
     "iopub.status.busy": "2025-03-25T20:25:33.566336Z",
     "iopub.status.idle": "2025-03-25T20:25:33.585884Z",
     "shell.execute_reply": "2025-03-25T20:25:33.585634Z",
     "shell.execute_reply.started": "2025-03-25T20:25:33.566800Z"
    }
   },
   "outputs": [
    {
     "name": "stdout",
     "output_type": "stream",
     "text": [
      "Class label: 1\n"
     ]
    }
   ],
   "source": [
    "probas = torch.softmax(outputs[:, -1, :], dim=-1)\n",
    "label = torch.argmax(probas)\n",
    "print(\"Class label:\", label.item())"
   ]
  },
  {
   "cell_type": "code",
   "execution_count": 27,
   "id": "3ad7a034-b53b-41a3-b233-7c457a738b4e",
   "metadata": {
    "execution": {
     "iopub.execute_input": "2025-03-25T20:25:47.039431Z",
     "iopub.status.busy": "2025-03-25T20:25:47.038916Z",
     "iopub.status.idle": "2025-03-25T20:25:47.047135Z",
     "shell.execute_reply": "2025-03-25T20:25:47.046058Z",
     "shell.execute_reply.started": "2025-03-25T20:25:47.039392Z"
    }
   },
   "outputs": [
    {
     "name": "stdout",
     "output_type": "stream",
     "text": [
      "Class label: 1\n"
     ]
    }
   ],
   "source": [
    "logits = outputs[:, -1, :]\n",
    "label = torch.argmax(logits)\n",
    "print(\"Class label:\", label.item())"
   ]
  },
  {
   "cell_type": "code",
   "execution_count": 28,
   "id": "dbca65ef-b523-4227-ba62-36056a9b808b",
   "metadata": {
    "execution": {
     "iopub.execute_input": "2025-03-25T20:26:27.460882Z",
     "iopub.status.busy": "2025-03-25T20:26:27.460376Z",
     "iopub.status.idle": "2025-03-25T20:26:27.469541Z",
     "shell.execute_reply": "2025-03-25T20:26:27.467767Z",
     "shell.execute_reply.started": "2025-03-25T20:26:27.460843Z"
    }
   },
   "outputs": [],
   "source": [
    "def calc_accuracy_loader(data_loader, model, device, num_batches=None):\n",
    "    model.eval()\n",
    "    correct_predictions, num_examples = 0, 0\n",
    "\n",
    "    if num_batches is None:\n",
    "        num_batches = len(data_loader)\n",
    "    else:\n",
    "        num_batches = min(num_batches, len(data_loader))\n",
    "    for i, (input_batch, target_batch) in enumerate(data_loader):\n",
    "        if i < num_batches:\n",
    "            input_batch = input_batch.to(device)\n",
    "            target_batch = target_batch.to(device)\n",
    "\n",
    "            with torch.no_grad():\n",
    "                logits = model(input_batch)[:, -1, :]     #1\n",
    "            predicted_labels = torch.argmax(logits, dim=-1)\n",
    "\n",
    "            num_examples += predicted_labels.shape[0]\n",
    "            correct_predictions += (\n",
    "                (predicted_labels == target_batch).sum().item()\n",
    "            )\n",
    "\n",
    "        else:\n",
    "            break\n",
    "    return correct_predictions / num_examples"
   ]
  },
  {
   "cell_type": "code",
   "execution_count": 29,
   "id": "a05e3c28-ac70-4854-af29-631fa714c434",
   "metadata": {
    "execution": {
     "iopub.execute_input": "2025-03-25T20:26:44.768540Z",
     "iopub.status.busy": "2025-03-25T20:26:44.768038Z",
     "iopub.status.idle": "2025-03-25T20:26:54.873747Z",
     "shell.execute_reply": "2025-03-25T20:26:54.873468Z",
     "shell.execute_reply.started": "2025-03-25T20:26:44.768500Z"
    }
   },
   "outputs": [
    {
     "name": "stdout",
     "output_type": "stream",
     "text": [
      "Training accuracy: 46.25%\n",
      "Validation accuracy: 45.00%\n",
      "Test accuracy: 48.75%\n"
     ]
    }
   ],
   "source": [
    "device = torch.device(\"cuda\" if torch.cuda.is_available() else \"cpu\")\n",
    "model.to(device)\n",
    "\n",
    "torch.manual_seed(123)\n",
    "train_accuracy = calc_accuracy_loader(\n",
    "    train_loader, model, device, num_batches=10\n",
    ")\n",
    "val_accuracy = calc_accuracy_loader(\n",
    "    val_loader, model, device, num_batches=10\n",
    ")\n",
    "test_accuracy = calc_accuracy_loader(\n",
    "    test_loader, model, device, num_batches=10\n",
    ")\n",
    "\n",
    "print(f\"Training accuracy: {train_accuracy*100:.2f}%\")\n",
    "print(f\"Validation accuracy: {val_accuracy*100:.2f}%\")\n",
    "print(f\"Test accuracy: {test_accuracy*100:.2f}%\")"
   ]
  },
  {
   "cell_type": "code",
   "execution_count": 30,
   "id": "f2da8636-eef3-46ce-b7e0-ad0ea250c656",
   "metadata": {
    "execution": {
     "iopub.execute_input": "2025-03-25T20:28:43.233543Z",
     "iopub.status.busy": "2025-03-25T20:28:43.233030Z",
     "iopub.status.idle": "2025-03-25T20:28:43.238541Z",
     "shell.execute_reply": "2025-03-25T20:28:43.237931Z",
     "shell.execute_reply.started": "2025-03-25T20:28:43.233503Z"
    }
   },
   "outputs": [],
   "source": [
    "def calc_loss_batch(input_batch, target_batch, model, device):\n",
    "    input_batch = input_batch.to(device)\n",
    "    target_batch = target_batch.to(device)\n",
    "    logits = model(input_batch)[:, -1, :]     #1\n",
    "    loss = torch.nn.functional.cross_entropy(logits, target_batch)\n",
    "    return loss"
   ]
  },
  {
   "cell_type": "code",
   "execution_count": 31,
   "id": "8d39fd38-3361-4a09-8658-d361e6425b4a",
   "metadata": {
    "execution": {
     "iopub.execute_input": "2025-03-25T20:29:08.429468Z",
     "iopub.status.busy": "2025-03-25T20:29:08.428805Z",
     "iopub.status.idle": "2025-03-25T20:29:08.439919Z",
     "shell.execute_reply": "2025-03-25T20:29:08.438444Z",
     "shell.execute_reply.started": "2025-03-25T20:29:08.429422Z"
    }
   },
   "outputs": [],
   "source": [
    "def calc_loss_loader(data_loader, model, device, num_batches=None):\n",
    "    total_loss = 0.\n",
    "    if len(data_loader) == 0:\n",
    "        return float(\"nan\")\n",
    "    elif num_batches is None:\n",
    "        num_batches = len(data_loader)\n",
    "    else:                                        #1\n",
    "        num_batches = min(num_batches, len(data_loader))\n",
    "    for i, (input_batch, target_batch) in enumerate(data_loader):\n",
    "        if i < num_batches:\n",
    "            loss = calc_loss_batch(\n",
    "                input_batch, target_batch, model, device\n",
    "            )\n",
    "            total_loss += loss.item()\n",
    "        else:\n",
    "            break\n",
    "    return total_loss / num_batches"
   ]
  },
  {
   "cell_type": "code",
   "execution_count": 32,
   "id": "733a2fc4-d7da-4fdb-98bb-5f1c75532f57",
   "metadata": {
    "execution": {
     "iopub.execute_input": "2025-03-25T20:29:22.688607Z",
     "iopub.status.busy": "2025-03-25T20:29:22.688111Z",
     "iopub.status.idle": "2025-03-25T20:29:27.852402Z",
     "shell.execute_reply": "2025-03-25T20:29:27.852039Z",
     "shell.execute_reply.started": "2025-03-25T20:29:22.688567Z"
    }
   },
   "outputs": [
    {
     "name": "stdout",
     "output_type": "stream",
     "text": [
      "Training loss: 2.453\n",
      "Validation loss: 2.583\n",
      "Test loss: 2.322\n"
     ]
    }
   ],
   "source": [
    "with torch.no_grad():                 #1\n",
    "    train_loss = calc_loss_loader(\n",
    "        train_loader, model, device, num_batches=5\n",
    "    )\n",
    "    val_loss = calc_loss_loader(val_loader, model, device, num_batches=5)\n",
    "    test_loss = calc_loss_loader(test_loader, model, device, num_batches=5)\n",
    "print(f\"Training loss: {train_loss:.3f}\")\n",
    "print(f\"Validation loss: {val_loss:.3f}\")\n",
    "print(f\"Test loss: {test_loss:.3f}\")"
   ]
  },
  {
   "cell_type": "code",
   "execution_count": 34,
   "id": "f7890cc5-3463-4b8b-b034-b4373607df66",
   "metadata": {
    "execution": {
     "iopub.execute_input": "2025-03-25T20:30:35.731354Z",
     "iopub.status.busy": "2025-03-25T20:30:35.730833Z",
     "iopub.status.idle": "2025-03-25T20:30:35.739493Z",
     "shell.execute_reply": "2025-03-25T20:30:35.737673Z",
     "shell.execute_reply.started": "2025-03-25T20:30:35.731315Z"
    }
   },
   "outputs": [],
   "source": [
    "def evaluate_model(model, train_loader, val_loader, device, eval_iter):\n",
    "    model.eval()\n",
    "    with torch.no_grad():\n",
    "        train_loss = calc_loss_loader(\n",
    "            train_loader, model, device, num_batches=eval_iter\n",
    "        )\n",
    "        val_loss = calc_loss_loader(\n",
    "            val_loader, model, device, num_batches=eval_iter\n",
    "        )\n",
    "    model.train()\n",
    "    return train_loss, val_loss\n",
    "\n",
    "def train_classifier_simple(\n",
    "        model, train_loader, val_loader, optimizer, device,\n",
    "        num_epochs, eval_freq, eval_iter):\n",
    "    train_losses, val_losses, train_accs, val_accs = [], [], [], []   #1\n",
    "    examples_seen, global_step = 0, -1\n",
    "\n",
    "    for epoch in range(num_epochs):    #2\n",
    "        model.train()             #3\n",
    "\n",
    "        for input_batch, target_batch in train_loader:\n",
    "            optimizer.zero_grad()                      #4\n",
    "            loss = calc_loss_batch(\n",
    "                input_batch, target_batch, model, device\n",
    "            )\n",
    "            loss.backward()                          #5\n",
    "            optimizer.step()                          #6\n",
    "            examples_seen += input_batch.shape[0]    #7\n",
    "            global_step += 1\n",
    "\n",
    " #8\n",
    "            if global_step % eval_freq == 0:\n",
    "                train_loss, val_loss = evaluate_model(\n",
    "                    model, train_loader, val_loader, device, eval_iter)\n",
    "                train_losses.append(train_loss)\n",
    "                val_losses.append(val_loss)\n",
    "                print(f\"Ep {epoch+1} (Step {global_step:06d}): \"\n",
    "                      f\"Train loss {train_loss:.3f}, \"\n",
    "                      f\"Val loss {val_loss:.3f}\"\n",
    "                )\n",
    "\n",
    " #9\n",
    "        train_accuracy = calc_accuracy_loader(\n",
    "            train_loader, model, device, num_batches=eval_iter\n",
    "        )\n",
    "        val_accuracy = calc_accuracy_loader(\n",
    "            val_loader, model, device, num_batches=eval_iter\n",
    "        )\n",
    "\n",
    "        print(f\"Training accuracy: {train_accuracy*100:.2f}% | \", end=\"\")\n",
    "        print(f\"Validation accuracy: {val_accuracy*100:.2f}%\")\n",
    "        train_accs.append(train_accuracy)\n",
    "        val_accs.append(val_accuracy)\n",
    "\n",
    "    return train_losses, val_losses, train_accs, val_accs, examples_seen"
   ]
  },
  {
   "cell_type": "code",
   "execution_count": 35,
   "id": "2ee6fce5-9eba-4cf5-85c8-d75863a4692d",
   "metadata": {
    "execution": {
     "iopub.execute_input": "2025-03-25T20:31:11.892574Z",
     "iopub.status.busy": "2025-03-25T20:31:11.892072Z",
     "iopub.status.idle": "2025-03-25T20:36:19.162953Z",
     "shell.execute_reply": "2025-03-25T20:36:19.162424Z",
     "shell.execute_reply.started": "2025-03-25T20:31:11.892536Z"
    }
   },
   "outputs": [
    {
     "name": "stdout",
     "output_type": "stream",
     "text": [
      "Ep 1 (Step 000000): Train loss 2.153, Val loss 2.392\n",
      "Ep 1 (Step 000050): Train loss 0.617, Val loss 0.637\n",
      "Ep 1 (Step 000100): Train loss 0.523, Val loss 0.557\n",
      "Training accuracy: 70.00% | Validation accuracy: 72.50%\n",
      "Ep 2 (Step 000150): Train loss 0.561, Val loss 0.489\n",
      "Ep 2 (Step 000200): Train loss 0.419, Val loss 0.397\n",
      "Ep 2 (Step 000250): Train loss 0.409, Val loss 0.353\n",
      "Training accuracy: 82.50% | Validation accuracy: 85.00%\n",
      "Ep 3 (Step 000300): Train loss 0.333, Val loss 0.320\n",
      "Ep 3 (Step 000350): Train loss 0.340, Val loss 0.306\n",
      "Training accuracy: 90.00% | Validation accuracy: 90.00%\n",
      "Ep 4 (Step 000400): Train loss 0.136, Val loss 0.200\n",
      "Ep 4 (Step 000450): Train loss 0.153, Val loss 0.132\n",
      "Ep 4 (Step 000500): Train loss 0.222, Val loss 0.137\n",
      "Training accuracy: 100.00% | Validation accuracy: 97.50%\n",
      "Ep 5 (Step 000550): Train loss 0.207, Val loss 0.143\n",
      "Ep 5 (Step 000600): Train loss 0.083, Val loss 0.074\n",
      "Training accuracy: 100.00% | Validation accuracy: 97.50%\n",
      "Training completed in 5.12 minutes.\n"
     ]
    }
   ],
   "source": [
    "import time\n",
    "\n",
    "start_time = time.time()\n",
    "torch.manual_seed(123)\n",
    "optimizer = torch.optim.AdamW(model.parameters(), lr=5e-5, weight_decay=0.1)\n",
    "num_epochs = 5\n",
    "\n",
    "\n",
    "train_losses, val_losses, train_accs, val_accs, examples_seen = \\\n",
    "    train_classifier_simple(\n",
    "        model, train_loader, val_loader, optimizer, device,\n",
    "        num_epochs=num_epochs, eval_freq=50,\n",
    "        eval_iter=5\n",
    "    )\n",
    "\n",
    "end_time = time.time()\n",
    "execution_time_minutes = (end_time - start_time) / 60\n",
    "print(f\"Training completed in {execution_time_minutes:.2f} minutes.\")"
   ]
  },
  {
   "cell_type": "code",
   "execution_count": 36,
   "id": "8e6b35ed-2404-4d7c-a29a-ee37a8157824",
   "metadata": {
    "execution": {
     "iopub.execute_input": "2025-03-25T20:37:44.444693Z",
     "iopub.status.busy": "2025-03-25T20:37:44.443868Z",
     "iopub.status.idle": "2025-03-25T20:37:44.934129Z",
     "shell.execute_reply": "2025-03-25T20:37:44.933749Z",
     "shell.execute_reply.started": "2025-03-25T20:37:44.444649Z"
    }
   },
   "outputs": [
    {
     "data": {
      "image/png": "[encoded data removed]",
      "text/plain": [
       "<Figure size 500x300 with 2 Axes>"
      ]
     },
     "metadata": {},
     "output_type": "display_data"
    }
   ],
   "source": [
    "import matplotlib.pyplot as plt\n",
    "\n",
    "def plot_values(\n",
    "        epochs_seen, examples_seen, train_values, val_values,\n",
    "        label=\"loss\"):\n",
    "    fig, ax1 = plt.subplots(figsize=(5, 3))\n",
    "\n",
    " #1\n",
    "    ax1.plot(epochs_seen, train_values, label=f\"Training {label}\")\n",
    "    ax1.plot(\n",
    "        epochs_seen, val_values, linestyle=\"-.\",\n",
    "        label=f\"Validation {label}\"\n",
    "    )\n",
    "    ax1.set_xlabel(\"Epochs\")\n",
    "    ax1.set_ylabel(label.capitalize())\n",
    "    ax1.legend()\n",
    "\n",
    " #2\n",
    "    ax2 = ax1.twiny()\n",
    "    ax2.plot(examples_seen, train_values, alpha=0)    #3\n",
    "    ax2.set_xlabel(\"Examples seen\")\n",
    "\n",
    "    fig.tight_layout()             #4\n",
    "    plt.savefig(f\"{label}-plot.pdf\")\n",
    "    plt.show()\n",
    "\n",
    "epochs_tensor = torch.linspace(0, num_epochs, len(train_losses))\n",
    "examples_seen_tensor = torch.linspace(0, examples_seen, len(train_losses))\n",
    "\n",
    "plot_values(epochs_tensor, examples_seen_tensor, train_losses, val_losses)"
   ]
  },
  {
   "cell_type": "code",
   "execution_count": 37,
   "id": "5f8d77a8-6a14-4718-9b09-397785c22182",
   "metadata": {
    "execution": {
     "iopub.execute_input": "2025-03-25T21:15:26.001977Z",
     "iopub.status.busy": "2025-03-25T21:15:26.001036Z",
     "iopub.status.idle": "2025-03-25T21:15:26.211457Z",
     "shell.execute_reply": "2025-03-25T21:15:26.210964Z",
     "shell.execute_reply.started": "2025-03-25T21:15:26.001932Z"
    }
   },
   "outputs": [
    {
     "data": {
      "image/png": "[encoded data removed]",
      "text/plain": [
       "<Figure size 500x300 with 2 Axes>"
      ]
     },
     "metadata": {},
     "output_type": "display_data"
    }
   ],
   "source": [
    "epochs_tensor = torch.linspace(0, num_epochs, len(train_accs))\n",
    "examples_seen_tensor = torch.linspace(0, examples_seen, len(train_accs))\n",
    "\n",
    "plot_values(\n",
    "    epochs_tensor, examples_seen_tensor, train_accs, val_accs,\n",
    "    label=\"accuracy\"\n",
    ")"
   ]
  },
  {
   "cell_type": "code",
   "execution_count": 38,
   "id": "f20b2c6f-cb66-4aea-bfb8-7f2851dd5853",
   "metadata": {
    "execution": {
     "iopub.execute_input": "2025-03-25T21:21:30.419786Z",
     "iopub.status.busy": "2025-03-25T21:21:30.419276Z",
     "iopub.status.idle": "2025-03-25T21:22:32.007264Z",
     "shell.execute_reply": "2025-03-25T21:22:32.006756Z",
     "shell.execute_reply.started": "2025-03-25T21:21:30.419746Z"
    }
   },
   "outputs": [
    {
     "name": "stdout",
     "output_type": "stream",
     "text": [
      "Training accuracy: 97.21%\n",
      "Validation accuracy: 97.32%\n",
      "Test accuracy: 95.67%\n"
     ]
    }
   ],
   "source": [
    "train_accuracy = calc_accuracy_loader(train_loader, model, device)\n",
    "val_accuracy = calc_accuracy_loader(val_loader, model, device)\n",
    "test_accuracy = calc_accuracy_loader(test_loader, model, device)\n",
    "\n",
    "print(f\"Training accuracy: {train_accuracy*100:.2f}%\")\n",
    "print(f\"Validation accuracy: {val_accuracy*100:.2f}%\")\n",
    "print(f\"Test accuracy: {test_accuracy*100:.2f}%\")"
   ]
  },
  {
   "cell_type": "code",
   "execution_count": 39,
   "id": "c034ef67-442f-45c3-8e5b-c5188018707c",
   "metadata": {
    "execution": {
     "iopub.execute_input": "2025-03-25T21:24:44.890902Z",
     "iopub.status.busy": "2025-03-25T21:24:44.889920Z",
     "iopub.status.idle": "2025-03-25T21:24:44.902337Z",
     "shell.execute_reply": "2025-03-25T21:24:44.900928Z",
     "shell.execute_reply.started": "2025-03-25T21:24:44.890846Z"
    }
   },
   "outputs": [],
   "source": [
    "def classify_review(\n",
    "        text, model, tokenizer, device, max_length=None,\n",
    "        pad_token_id=50256):\n",
    "    model.eval()\n",
    "    input_ids = tokenizer.encode(text)          #1\n",
    "    supported_context_length = model.pos_emb.weight.shape[0]\n",
    "    input_ids = input_ids[:min(              #2\n",
    "        max_length, supported_context_length\n",
    "    )]\n",
    "    input_ids += [pad_token_id] * (max_length - len(input_ids))    #3\n",
    "    input_tensor = torch.tensor(\n",
    "        input_ids, device=device\n",
    "    ).unsqueeze(0)              #4\n",
    "    with torch.no_grad():                                #5\n",
    "        logits = model(input_tensor)[:, -1, :]     #6\n",
    "    predicted_label = torch.argmax(logits, dim=-1).item()\n",
    "    return \"spam\" if predicted_label == 1 else \"not spam\"     #7"
   ]
  },
  {
   "cell_type": "code",
   "execution_count": 40,
   "id": "de6942cc-0709-4678-89c5-8dd3ec86abb7",
   "metadata": {
    "execution": {
     "iopub.execute_input": "2025-03-25T21:24:57.569961Z",
     "iopub.status.busy": "2025-03-25T21:24:57.569447Z",
     "iopub.status.idle": "2025-03-25T21:24:57.699302Z",
     "shell.execute_reply": "2025-03-25T21:24:57.698857Z",
     "shell.execute_reply.started": "2025-03-25T21:24:57.569920Z"
    }
   },
   "outputs": [
    {
     "name": "stdout",
     "output_type": "stream",
     "text": [
      "spam\n"
     ]
    }
   ],
   "source": [
    "text_1 = (\n",
    "    \"You are a winner you have been specially\"\n",
    "    \" selected to receive $1000 cash or a $2000 award.\"\n",
    ")\n",
    "\n",
    "print(classify_review(\n",
    "    text_1, model, tokenizer, device, max_length=train_dataset.max_length\n",
    "))"
   ]
  },
  {
   "cell_type": "code",
   "execution_count": 41,
   "id": "395736ca-cfc7-42e6-a843-b39d3c81b6e1",
   "metadata": {
    "execution": {
     "iopub.execute_input": "2025-03-25T21:25:08.287193Z",
     "iopub.status.busy": "2025-03-25T21:25:08.286673Z",
     "iopub.status.idle": "2025-03-25T21:25:08.407994Z",
     "shell.execute_reply": "2025-03-25T21:25:08.407473Z",
     "shell.execute_reply.started": "2025-03-25T21:25:08.287153Z"
    }
   },
   "outputs": [
    {
     "name": "stdout",
     "output_type": "stream",
     "text": [
      "not spam\n"
     ]
    }
   ],
   "source": [
    "text_2 = (\n",
    "    \"Hey, just wanted to check if we're still on\"\n",
    "    \" for dinner tonight? Let me know!\"\n",
    ")\n",
    "\n",
    "print(classify_review(\n",
    "    text_2, model, tokenizer, device, max_length=train_dataset.max_length\n",
    "))"
   ]
  },
  {
   "cell_type": "code",
   "execution_count": 42,
   "id": "2a1d40bd-372a-49a4-97b4-6285c6550e32",
   "metadata": {
    "execution": {
     "iopub.execute_input": "2025-03-25T21:25:26.782425Z",
     "iopub.status.busy": "2025-03-25T21:25:26.781909Z",
     "iopub.status.idle": "2025-03-25T21:25:27.151582Z",
     "shell.execute_reply": "2025-03-25T21:25:27.151019Z",
     "shell.execute_reply.started": "2025-03-25T21:25:26.782384Z"
    }
   },
   "outputs": [],
   "source": [
    "torch.save(model.state_dict(), \"review_classifier.pth\")"
   ]
  },
  {
   "cell_type": "code",
   "execution_count": 44,
   "id": "64da7bb8-4aba-4247-a1ca-3fd6eaf0118e",
   "metadata": {
    "execution": {
     "iopub.execute_input": "2025-03-25T21:26:01.074122Z",
     "iopub.status.busy": "2025-03-25T21:26:01.073605Z",
     "iopub.status.idle": "2025-03-25T21:26:01.342919Z",
     "shell.execute_reply": "2025-03-25T21:26:01.342541Z",
     "shell.execute_reply.started": "2025-03-25T21:26:01.074083Z"
    }
   },
   "outputs": [
    {
     "data": {
      "text/plain": [
       "<All keys matched successfully>"
      ]
     },
     "execution_count": 44,
     "metadata": {},
     "output_type": "execute_result"
    }
   ],
   "source": [
    "model_state_dict = torch.load(\"review_classifier.pth\", map_location=device)\n",
    "model.load_state_dict(model_state_dict)"
   ]
  },
  {
   "cell_type": "code",
   "execution_count": null,
   "id": "9a07f035-face-4fee-8295-d2da94be488b",
   "metadata": {},
   "outputs": [],
   "source": []
  }
 ],
 "metadata": {
  "kernelspec": {
   "display_name": "Python 3 (ipykernel)",
   "language": "python",
   "name": "python3"
  },
  "language_info": {
   "codemirror_mode": {
    "name": "ipython",
    "version": 3
   },
   "file_extension": ".py",
   "mimetype": "text/x-python",
   "name": "python",
   "nbconvert_exporter": "python",
   "pygments_lexer": "ipython3",
   "version": "3.11.11"
  }
 },
 "nbformat": 4,
 "nbformat_minor": 5
}
